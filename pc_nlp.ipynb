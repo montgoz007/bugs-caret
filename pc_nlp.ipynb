{
 "cells": [
  {
   "cell_type": "markdown",
   "metadata": {},
   "source": [
    "# Natural Language Processing Tutorial (NLP101) - Level Beginner"
   ]
  },
  {
   "cell_type": "markdown",
   "metadata": {},
   "source": [
    "## Getting the Data"
   ]
  },
  {
   "cell_type": "code",
   "execution_count": 1,
   "metadata": {},
   "outputs": [
    {
     "data": {
      "text/html": [
       "<div>\n",
       "<style scoped>\n",
       "    .dataframe tbody tr th:only-of-type {\n",
       "        vertical-align: middle;\n",
       "    }\n",
       "\n",
       "    .dataframe tbody tr th {\n",
       "        vertical-align: top;\n",
       "    }\n",
       "\n",
       "    .dataframe thead th {\n",
       "        text-align: right;\n",
       "    }\n",
       "</style>\n",
       "<table border=\"1\" class=\"dataframe\">\n",
       "  <thead>\n",
       "    <tr style=\"text-align: right;\">\n",
       "      <th></th>\n",
       "      <th>country</th>\n",
       "      <th>en</th>\n",
       "      <th>gender</th>\n",
       "      <th>loan_amount</th>\n",
       "      <th>nonpayment</th>\n",
       "      <th>sector</th>\n",
       "      <th>status</th>\n",
       "    </tr>\n",
       "  </thead>\n",
       "  <tbody>\n",
       "    <tr>\n",
       "      <th>0</th>\n",
       "      <td>Dominican Republic</td>\n",
       "      <td>\"Banco Esperanza\" is a group of 10 women looki...</td>\n",
       "      <td>F</td>\n",
       "      <td>1225</td>\n",
       "      <td>partner</td>\n",
       "      <td>Retail</td>\n",
       "      <td>0</td>\n",
       "    </tr>\n",
       "    <tr>\n",
       "      <th>1</th>\n",
       "      <td>Dominican Republic</td>\n",
       "      <td>\"Caminemos Hacia Adelante\" or \"Walking Forward...</td>\n",
       "      <td>F</td>\n",
       "      <td>1975</td>\n",
       "      <td>lender</td>\n",
       "      <td>Clothing</td>\n",
       "      <td>0</td>\n",
       "    </tr>\n",
       "    <tr>\n",
       "      <th>2</th>\n",
       "      <td>Dominican Republic</td>\n",
       "      <td>\"Creciendo Por La Union\" is a group of 10 peop...</td>\n",
       "      <td>F</td>\n",
       "      <td>2175</td>\n",
       "      <td>partner</td>\n",
       "      <td>Clothing</td>\n",
       "      <td>0</td>\n",
       "    </tr>\n",
       "    <tr>\n",
       "      <th>3</th>\n",
       "      <td>Dominican Republic</td>\n",
       "      <td>\"Cristo Vive\" (\"Christ lives\" is a group of 10...</td>\n",
       "      <td>F</td>\n",
       "      <td>1425</td>\n",
       "      <td>partner</td>\n",
       "      <td>Clothing</td>\n",
       "      <td>0</td>\n",
       "    </tr>\n",
       "    <tr>\n",
       "      <th>4</th>\n",
       "      <td>Dominican Republic</td>\n",
       "      <td>\"Cristo Vive\" is a large group of 35 people, 2...</td>\n",
       "      <td>F</td>\n",
       "      <td>4025</td>\n",
       "      <td>partner</td>\n",
       "      <td>Food</td>\n",
       "      <td>0</td>\n",
       "    </tr>\n",
       "  </tbody>\n",
       "</table>\n",
       "</div>"
      ],
      "text/plain": [
       "              country                                                 en  \\\n",
       "0  Dominican Republic  \"Banco Esperanza\" is a group of 10 women looki...   \n",
       "1  Dominican Republic  \"Caminemos Hacia Adelante\" or \"Walking Forward...   \n",
       "2  Dominican Republic  \"Creciendo Por La Union\" is a group of 10 peop...   \n",
       "3  Dominican Republic  \"Cristo Vive\" (\"Christ lives\" is a group of 10...   \n",
       "4  Dominican Republic  \"Cristo Vive\" is a large group of 35 people, 2...   \n",
       "\n",
       "  gender  loan_amount nonpayment    sector  status  \n",
       "0      F         1225    partner    Retail       0  \n",
       "1      F         1975     lender  Clothing       0  \n",
       "2      F         2175    partner  Clothing       0  \n",
       "3      F         1425    partner  Clothing       0  \n",
       "4      F         4025    partner      Food       0  "
      ]
     },
     "metadata": {},
     "output_type": "display_data"
    }
   ],
   "source": [
    "from pycaret.datasets import get_data\n",
    "data = get_data('kiva')"
   ]
  },
  {
   "cell_type": "code",
   "execution_count": 2,
   "metadata": {},
   "outputs": [
    {
     "data": {
      "text/plain": [
       "(6818, 7)"
      ]
     },
     "execution_count": 2,
     "metadata": {},
     "output_type": "execute_result"
    }
   ],
   "source": [
    "#check the shape of data\n",
    "data.shape"
   ]
  },
  {
   "cell_type": "code",
   "execution_count": 3,
   "metadata": {},
   "outputs": [
    {
     "data": {
      "text/plain": [
       "(1000, 7)"
      ]
     },
     "execution_count": 3,
     "metadata": {},
     "output_type": "execute_result"
    }
   ],
   "source": [
    "# sampling the data to select only 1000 documents\n",
    "data = data.sample(1000, random_state=786).reset_index(drop=True)\n",
    "data.shape"
   ]
  },
  {
   "cell_type": "markdown",
   "metadata": {},
   "source": [
    "## Setting up Environment in PyCaret"
   ]
  },
  {
   "cell_type": "code",
   "execution_count": 4,
   "metadata": {},
   "outputs": [
    {
     "data": {
      "text/html": [
       "<style  type=\"text/css\" >\n",
       "</style><table id=\"T_c2305_\" ><thead>    <tr>        <th class=\"col_heading level0 col0\" >Description</th>        <th class=\"col_heading level0 col1\" >Value</th>    </tr></thead><tbody>\n",
       "                <tr>\n",
       "                                <td id=\"T_c2305_row0_col0\" class=\"data row0 col0\" >session_id</td>\n",
       "                        <td id=\"T_c2305_row0_col1\" class=\"data row0 col1\" >123</td>\n",
       "            </tr>\n",
       "            <tr>\n",
       "                                <td id=\"T_c2305_row1_col0\" class=\"data row1 col0\" >Documents</td>\n",
       "                        <td id=\"T_c2305_row1_col1\" class=\"data row1 col1\" >1000</td>\n",
       "            </tr>\n",
       "            <tr>\n",
       "                                <td id=\"T_c2305_row2_col0\" class=\"data row2 col0\" >Vocab Size</td>\n",
       "                        <td id=\"T_c2305_row2_col1\" class=\"data row2 col1\" >4615</td>\n",
       "            </tr>\n",
       "            <tr>\n",
       "                                <td id=\"T_c2305_row3_col0\" class=\"data row3 col0\" >Custom Stopwords</td>\n",
       "                        <td id=\"T_c2305_row3_col1\" class=\"data row3 col1\" >False</td>\n",
       "            </tr>\n",
       "    </tbody></table>"
      ],
      "text/plain": [
       "<pandas.io.formats.style.Styler at 0x1f6f1159488>"
      ]
     },
     "metadata": {},
     "output_type": "display_data"
    }
   ],
   "source": [
    "from pycaret.nlp import *\n",
    "exp_nlp101 = setup(data = data, target = 'en', session_id = 123)"
   ]
  },
  {
   "cell_type": "markdown",
   "metadata": {},
   "source": [
    "## Create a Topic Model"
   ]
  },
  {
   "cell_type": "code",
   "execution_count": 6,
   "metadata": {},
   "outputs": [
    {
     "name": "stdout",
     "output_type": "stream",
     "text": [
      "LdaModel(num_terms=4615, num_topics=4, decay=0.5, chunksize=100)\n"
     ]
    }
   ],
   "source": [
    "lda = create_model('lda')\n",
    "print(lda)"
   ]
  },
  {
   "cell_type": "markdown",
   "metadata": {},
   "source": [
    "## Assign a Model"
   ]
  },
  {
   "cell_type": "code",
   "execution_count": 7,
   "metadata": {},
   "outputs": [
    {
     "data": {
      "text/html": [
       "<div>\n",
       "<style scoped>\n",
       "    .dataframe tbody tr th:only-of-type {\n",
       "        vertical-align: middle;\n",
       "    }\n",
       "\n",
       "    .dataframe tbody tr th {\n",
       "        vertical-align: top;\n",
       "    }\n",
       "\n",
       "    .dataframe thead th {\n",
       "        text-align: right;\n",
       "    }\n",
       "</style>\n",
       "<table border=\"1\" class=\"dataframe\">\n",
       "  <thead>\n",
       "    <tr style=\"text-align: right;\">\n",
       "      <th></th>\n",
       "      <th>country</th>\n",
       "      <th>en</th>\n",
       "      <th>gender</th>\n",
       "      <th>loan_amount</th>\n",
       "      <th>nonpayment</th>\n",
       "      <th>sector</th>\n",
       "      <th>status</th>\n",
       "      <th>Topic_0</th>\n",
       "      <th>Topic_1</th>\n",
       "      <th>Topic_2</th>\n",
       "      <th>Topic_3</th>\n",
       "      <th>Dominant_Topic</th>\n",
       "      <th>Perc_Dominant_Topic</th>\n",
       "    </tr>\n",
       "  </thead>\n",
       "  <tbody>\n",
       "    <tr>\n",
       "      <th>0</th>\n",
       "      <td>Kenya</td>\n",
       "      <td>praxide marry child primary school train tailo...</td>\n",
       "      <td>F</td>\n",
       "      <td>75</td>\n",
       "      <td>partner</td>\n",
       "      <td>Services</td>\n",
       "      <td>0</td>\n",
       "      <td>0.169807</td>\n",
       "      <td>0.007742</td>\n",
       "      <td>0.821979</td>\n",
       "      <td>0.000473</td>\n",
       "      <td>Topic 2</td>\n",
       "      <td>0.82</td>\n",
       "    </tr>\n",
       "    <tr>\n",
       "      <th>1</th>\n",
       "      <td>Kenya</td>\n",
       "      <td>gynaecology practitioner run year old life wif...</td>\n",
       "      <td>M</td>\n",
       "      <td>1200</td>\n",
       "      <td>partner</td>\n",
       "      <td>Health</td>\n",
       "      <td>0</td>\n",
       "      <td>0.004903</td>\n",
       "      <td>0.335249</td>\n",
       "      <td>0.659392</td>\n",
       "      <td>0.000456</td>\n",
       "      <td>Topic 2</td>\n",
       "      <td>0.66</td>\n",
       "    </tr>\n",
       "    <tr>\n",
       "      <th>2</th>\n",
       "      <td>Dominican Republic</td>\n",
       "      <td>live child boy girl range year old sell new us...</td>\n",
       "      <td>F</td>\n",
       "      <td>150</td>\n",
       "      <td>partner</td>\n",
       "      <td>Clothing</td>\n",
       "      <td>0</td>\n",
       "      <td>0.522154</td>\n",
       "      <td>0.099909</td>\n",
       "      <td>0.377378</td>\n",
       "      <td>0.000559</td>\n",
       "      <td>Topic 0</td>\n",
       "      <td>0.52</td>\n",
       "    </tr>\n",
       "    <tr>\n",
       "      <th>3</th>\n",
       "      <td>Kenya</td>\n",
       "      <td>phanice marry child daughter secondary school ...</td>\n",
       "      <td>F</td>\n",
       "      <td>150</td>\n",
       "      <td>lender</td>\n",
       "      <td>Services</td>\n",
       "      <td>1</td>\n",
       "      <td>0.051998</td>\n",
       "      <td>0.105731</td>\n",
       "      <td>0.841687</td>\n",
       "      <td>0.000585</td>\n",
       "      <td>Topic 2</td>\n",
       "      <td>0.84</td>\n",
       "    </tr>\n",
       "    <tr>\n",
       "      <th>4</th>\n",
       "      <td>Kenya</td>\n",
       "      <td>year old hotel last year get good return compe...</td>\n",
       "      <td>F</td>\n",
       "      <td>300</td>\n",
       "      <td>lender</td>\n",
       "      <td>Food</td>\n",
       "      <td>1</td>\n",
       "      <td>0.199125</td>\n",
       "      <td>0.007041</td>\n",
       "      <td>0.793332</td>\n",
       "      <td>0.000501</td>\n",
       "      <td>Topic 2</td>\n",
       "      <td>0.79</td>\n",
       "    </tr>\n",
       "  </tbody>\n",
       "</table>\n",
       "</div>"
      ],
      "text/plain": [
       "              country                                                 en  \\\n",
       "0               Kenya  praxide marry child primary school train tailo...   \n",
       "1               Kenya  gynaecology practitioner run year old life wif...   \n",
       "2  Dominican Republic  live child boy girl range year old sell new us...   \n",
       "3               Kenya  phanice marry child daughter secondary school ...   \n",
       "4               Kenya  year old hotel last year get good return compe...   \n",
       "\n",
       "  gender  loan_amount nonpayment    sector  status   Topic_0   Topic_1  \\\n",
       "0      F           75    partner  Services       0  0.169807  0.007742   \n",
       "1      M         1200    partner    Health       0  0.004903  0.335249   \n",
       "2      F          150    partner  Clothing       0  0.522154  0.099909   \n",
       "3      F          150     lender  Services       1  0.051998  0.105731   \n",
       "4      F          300     lender      Food       1  0.199125  0.007041   \n",
       "\n",
       "    Topic_2   Topic_3 Dominant_Topic  Perc_Dominant_Topic  \n",
       "0  0.821979  0.000473        Topic 2                 0.82  \n",
       "1  0.659392  0.000456        Topic 2                 0.66  \n",
       "2  0.377378  0.000559        Topic 0                 0.52  \n",
       "3  0.841687  0.000585        Topic 2                 0.84  \n",
       "4  0.793332  0.000501        Topic 2                 0.79  "
      ]
     },
     "execution_count": 7,
     "metadata": {},
     "output_type": "execute_result"
    }
   ],
   "source": [
    "lda_results = assign_model(lda)\n",
    "lda_results.head()"
   ]
  },
  {
   "cell_type": "markdown",
   "metadata": {},
   "source": [
    "## Plot a Model"
   ]
  },
  {
   "cell_type": "markdown",
   "metadata": {},
   "source": [
    "### Frequency Distribution of Entire Corpus"
   ]
  },
  {
   "cell_type": "code",
   "execution_count": 8,
   "metadata": {},
   "outputs": [
    {
     "data": {
      "text/html": [
       "        <script type=\"text/javascript\">\n",
       "        window.PlotlyConfig = {MathJaxConfig: 'local'};\n",
       "        if (window.MathJax) {MathJax.Hub.Config({SVG: {font: \"STIX-Web\"}});}\n",
       "        if (typeof require !== 'undefined') {\n",
       "        require.undef(\"plotly\");\n",
       "        requirejs.config({\n",
       "            paths: {\n",
       "                'plotly': ['https://cdn.plot.ly/plotly-2.4.2.min']\n",
       "            }\n",
       "        });\n",
       "        require(['plotly'], function(Plotly) {\n",
       "            window._Plotly = Plotly;\n",
       "        });\n",
       "        }\n",
       "        </script>\n",
       "        "
      ]
     },
     "metadata": {},
     "output_type": "display_data"
    },
    {
     "data": {
      "application/vnd.plotly.v1+json": {
       "config": {
        "linkText": "Export to plot.ly",
        "plotlyServerURL": "https://plot.ly",
        "showLink": true
       },
       "data": [
        {
         "marker": {
          "color": "rgba(255, 153, 51, 0.6)",
          "line": {
           "color": "rgba(255, 153, 51, 1.0)",
           "width": 1
          }
         },
         "name": "count",
         "orientation": "v",
         "text": "",
         "type": "bar",
         "x": [
          "business",
          "loan",
          "child",
          "year",
          "sell",
          "buy",
          "school",
          "also",
          "work",
          "use",
          "old",
          "family",
          "make",
          "able",
          "start",
          "small",
          "help",
          "group",
          "husband",
          "live",
          "product",
          "purchase",
          "well",
          "income",
          "increase",
          "woman",
          "home",
          "customer",
          "good",
          "community",
          "need",
          "order",
          "member",
          "request",
          "pay",
          "expand",
          "hope",
          "stock",
          "grow",
          "want",
          "new",
          "time",
          "people",
          "provide",
          "farmer",
          "store",
          "marry",
          "many",
          "client",
          "area",
          "money",
          "go",
          "get",
          "entrepreneur",
          "rice",
          "support",
          "improve",
          "give",
          "market",
          "life",
          "hard",
          "sale",
          "clothing",
          "repay",
          "mother",
          "food",
          "ago",
          "shop",
          "run",
          "profit",
          "take",
          "plan",
          "clothe",
          "invest",
          "capital",
          "service",
          "first",
          "high",
          "continue",
          "farm",
          "education",
          "local",
          "young",
          "item",
          "house",
          "fee",
          "demand",
          "married",
          "large",
          "enable",
          "operate",
          "meet",
          "wife",
          "say",
          "receive",
          "day",
          "month",
          "age",
          "still",
          "offer"
         ],
         "y": [
          1913,
          1781,
          1201,
          1169,
          1078,
          780,
          647,
          646,
          605,
          604,
          583,
          560,
          530,
          523,
          486,
          469,
          467,
          462,
          418,
          411,
          390,
          375,
          361,
          360,
          351,
          329,
          320,
          316,
          312,
          305,
          298,
          285,
          269,
          268,
          264,
          260,
          259,
          255,
          247,
          246,
          244,
          238,
          235,
          234,
          232,
          232,
          221,
          217,
          215,
          212,
          212,
          212,
          209,
          208,
          204,
          203,
          202,
          200,
          200,
          196,
          191,
          187,
          186,
          185,
          183,
          181,
          181,
          177,
          175,
          171,
          171,
          168,
          165,
          164,
          163,
          162,
          161,
          159,
          158,
          156,
          156,
          146,
          142,
          142,
          140,
          139,
          139,
          138,
          136,
          133,
          133,
          133,
          133,
          132,
          132,
          131,
          128,
          127,
          126,
          125
         ]
        }
       ],
       "layout": {
        "legend": {
         "bgcolor": "#F5F6F9",
         "font": {
          "color": "#4D5663"
         }
        },
        "paper_bgcolor": "#F5F6F9",
        "plot_bgcolor": "#F5F6F9",
        "template": {
         "data": {
          "bar": [
           {
            "error_x": {
             "color": "#2a3f5f"
            },
            "error_y": {
             "color": "#2a3f5f"
            },
            "marker": {
             "line": {
              "color": "#E5ECF6",
              "width": 0.5
             },
             "pattern": {
              "fillmode": "overlay",
              "size": 10,
              "solidity": 0.2
             }
            },
            "type": "bar"
           }
          ],
          "barpolar": [
           {
            "marker": {
             "line": {
              "color": "#E5ECF6",
              "width": 0.5
             },
             "pattern": {
              "fillmode": "overlay",
              "size": 10,
              "solidity": 0.2
             }
            },
            "type": "barpolar"
           }
          ],
          "carpet": [
           {
            "aaxis": {
             "endlinecolor": "#2a3f5f",
             "gridcolor": "white",
             "linecolor": "white",
             "minorgridcolor": "white",
             "startlinecolor": "#2a3f5f"
            },
            "baxis": {
             "endlinecolor": "#2a3f5f",
             "gridcolor": "white",
             "linecolor": "white",
             "minorgridcolor": "white",
             "startlinecolor": "#2a3f5f"
            },
            "type": "carpet"
           }
          ],
          "choropleth": [
           {
            "colorbar": {
             "outlinewidth": 0,
             "ticks": ""
            },
            "type": "choropleth"
           }
          ],
          "contour": [
           {
            "colorbar": {
             "outlinewidth": 0,
             "ticks": ""
            },
            "colorscale": [
             [
              0,
              "#0d0887"
             ],
             [
              0.1111111111111111,
              "#46039f"
             ],
             [
              0.2222222222222222,
              "#7201a8"
             ],
             [
              0.3333333333333333,
              "#9c179e"
             ],
             [
              0.4444444444444444,
              "#bd3786"
             ],
             [
              0.5555555555555556,
              "#d8576b"
             ],
             [
              0.6666666666666666,
              "#ed7953"
             ],
             [
              0.7777777777777778,
              "#fb9f3a"
             ],
             [
              0.8888888888888888,
              "#fdca26"
             ],
             [
              1,
              "#f0f921"
             ]
            ],
            "type": "contour"
           }
          ],
          "contourcarpet": [
           {
            "colorbar": {
             "outlinewidth": 0,
             "ticks": ""
            },
            "type": "contourcarpet"
           }
          ],
          "heatmap": [
           {
            "colorbar": {
             "outlinewidth": 0,
             "ticks": ""
            },
            "colorscale": [
             [
              0,
              "#0d0887"
             ],
             [
              0.1111111111111111,
              "#46039f"
             ],
             [
              0.2222222222222222,
              "#7201a8"
             ],
             [
              0.3333333333333333,
              "#9c179e"
             ],
             [
              0.4444444444444444,
              "#bd3786"
             ],
             [
              0.5555555555555556,
              "#d8576b"
             ],
             [
              0.6666666666666666,
              "#ed7953"
             ],
             [
              0.7777777777777778,
              "#fb9f3a"
             ],
             [
              0.8888888888888888,
              "#fdca26"
             ],
             [
              1,
              "#f0f921"
             ]
            ],
            "type": "heatmap"
           }
          ],
          "heatmapgl": [
           {
            "colorbar": {
             "outlinewidth": 0,
             "ticks": ""
            },
            "colorscale": [
             [
              0,
              "#0d0887"
             ],
             [
              0.1111111111111111,
              "#46039f"
             ],
             [
              0.2222222222222222,
              "#7201a8"
             ],
             [
              0.3333333333333333,
              "#9c179e"
             ],
             [
              0.4444444444444444,
              "#bd3786"
             ],
             [
              0.5555555555555556,
              "#d8576b"
             ],
             [
              0.6666666666666666,
              "#ed7953"
             ],
             [
              0.7777777777777778,
              "#fb9f3a"
             ],
             [
              0.8888888888888888,
              "#fdca26"
             ],
             [
              1,
              "#f0f921"
             ]
            ],
            "type": "heatmapgl"
           }
          ],
          "histogram": [
           {
            "marker": {
             "pattern": {
              "fillmode": "overlay",
              "size": 10,
              "solidity": 0.2
             }
            },
            "type": "histogram"
           }
          ],
          "histogram2d": [
           {
            "colorbar": {
             "outlinewidth": 0,
             "ticks": ""
            },
            "colorscale": [
             [
              0,
              "#0d0887"
             ],
             [
              0.1111111111111111,
              "#46039f"
             ],
             [
              0.2222222222222222,
              "#7201a8"
             ],
             [
              0.3333333333333333,
              "#9c179e"
             ],
             [
              0.4444444444444444,
              "#bd3786"
             ],
             [
              0.5555555555555556,
              "#d8576b"
             ],
             [
              0.6666666666666666,
              "#ed7953"
             ],
             [
              0.7777777777777778,
              "#fb9f3a"
             ],
             [
              0.8888888888888888,
              "#fdca26"
             ],
             [
              1,
              "#f0f921"
             ]
            ],
            "type": "histogram2d"
           }
          ],
          "histogram2dcontour": [
           {
            "colorbar": {
             "outlinewidth": 0,
             "ticks": ""
            },
            "colorscale": [
             [
              0,
              "#0d0887"
             ],
             [
              0.1111111111111111,
              "#46039f"
             ],
             [
              0.2222222222222222,
              "#7201a8"
             ],
             [
              0.3333333333333333,
              "#9c179e"
             ],
             [
              0.4444444444444444,
              "#bd3786"
             ],
             [
              0.5555555555555556,
              "#d8576b"
             ],
             [
              0.6666666666666666,
              "#ed7953"
             ],
             [
              0.7777777777777778,
              "#fb9f3a"
             ],
             [
              0.8888888888888888,
              "#fdca26"
             ],
             [
              1,
              "#f0f921"
             ]
            ],
            "type": "histogram2dcontour"
           }
          ],
          "mesh3d": [
           {
            "colorbar": {
             "outlinewidth": 0,
             "ticks": ""
            },
            "type": "mesh3d"
           }
          ],
          "parcoords": [
           {
            "line": {
             "colorbar": {
              "outlinewidth": 0,
              "ticks": ""
             }
            },
            "type": "parcoords"
           }
          ],
          "pie": [
           {
            "automargin": true,
            "type": "pie"
           }
          ],
          "scatter": [
           {
            "marker": {
             "colorbar": {
              "outlinewidth": 0,
              "ticks": ""
             }
            },
            "type": "scatter"
           }
          ],
          "scatter3d": [
           {
            "line": {
             "colorbar": {
              "outlinewidth": 0,
              "ticks": ""
             }
            },
            "marker": {
             "colorbar": {
              "outlinewidth": 0,
              "ticks": ""
             }
            },
            "type": "scatter3d"
           }
          ],
          "scattercarpet": [
           {
            "marker": {
             "colorbar": {
              "outlinewidth": 0,
              "ticks": ""
             }
            },
            "type": "scattercarpet"
           }
          ],
          "scattergeo": [
           {
            "marker": {
             "colorbar": {
              "outlinewidth": 0,
              "ticks": ""
             }
            },
            "type": "scattergeo"
           }
          ],
          "scattergl": [
           {
            "marker": {
             "colorbar": {
              "outlinewidth": 0,
              "ticks": ""
             }
            },
            "type": "scattergl"
           }
          ],
          "scattermapbox": [
           {
            "marker": {
             "colorbar": {
              "outlinewidth": 0,
              "ticks": ""
             }
            },
            "type": "scattermapbox"
           }
          ],
          "scatterpolar": [
           {
            "marker": {
             "colorbar": {
              "outlinewidth": 0,
              "ticks": ""
             }
            },
            "type": "scatterpolar"
           }
          ],
          "scatterpolargl": [
           {
            "marker": {
             "colorbar": {
              "outlinewidth": 0,
              "ticks": ""
             }
            },
            "type": "scatterpolargl"
           }
          ],
          "scatterternary": [
           {
            "marker": {
             "colorbar": {
              "outlinewidth": 0,
              "ticks": ""
             }
            },
            "type": "scatterternary"
           }
          ],
          "surface": [
           {
            "colorbar": {
             "outlinewidth": 0,
             "ticks": ""
            },
            "colorscale": [
             [
              0,
              "#0d0887"
             ],
             [
              0.1111111111111111,
              "#46039f"
             ],
             [
              0.2222222222222222,
              "#7201a8"
             ],
             [
              0.3333333333333333,
              "#9c179e"
             ],
             [
              0.4444444444444444,
              "#bd3786"
             ],
             [
              0.5555555555555556,
              "#d8576b"
             ],
             [
              0.6666666666666666,
              "#ed7953"
             ],
             [
              0.7777777777777778,
              "#fb9f3a"
             ],
             [
              0.8888888888888888,
              "#fdca26"
             ],
             [
              1,
              "#f0f921"
             ]
            ],
            "type": "surface"
           }
          ],
          "table": [
           {
            "cells": {
             "fill": {
              "color": "#EBF0F8"
             },
             "line": {
              "color": "white"
             }
            },
            "header": {
             "fill": {
              "color": "#C8D4E3"
             },
             "line": {
              "color": "white"
             }
            },
            "type": "table"
           }
          ]
         },
         "layout": {
          "annotationdefaults": {
           "arrowcolor": "#2a3f5f",
           "arrowhead": 0,
           "arrowwidth": 1
          },
          "autotypenumbers": "strict",
          "coloraxis": {
           "colorbar": {
            "outlinewidth": 0,
            "ticks": ""
           }
          },
          "colorscale": {
           "diverging": [
            [
             0,
             "#8e0152"
            ],
            [
             0.1,
             "#c51b7d"
            ],
            [
             0.2,
             "#de77ae"
            ],
            [
             0.3,
             "#f1b6da"
            ],
            [
             0.4,
             "#fde0ef"
            ],
            [
             0.5,
             "#f7f7f7"
            ],
            [
             0.6,
             "#e6f5d0"
            ],
            [
             0.7,
             "#b8e186"
            ],
            [
             0.8,
             "#7fbc41"
            ],
            [
             0.9,
             "#4d9221"
            ],
            [
             1,
             "#276419"
            ]
           ],
           "sequential": [
            [
             0,
             "#0d0887"
            ],
            [
             0.1111111111111111,
             "#46039f"
            ],
            [
             0.2222222222222222,
             "#7201a8"
            ],
            [
             0.3333333333333333,
             "#9c179e"
            ],
            [
             0.4444444444444444,
             "#bd3786"
            ],
            [
             0.5555555555555556,
             "#d8576b"
            ],
            [
             0.6666666666666666,
             "#ed7953"
            ],
            [
             0.7777777777777778,
             "#fb9f3a"
            ],
            [
             0.8888888888888888,
             "#fdca26"
            ],
            [
             1,
             "#f0f921"
            ]
           ],
           "sequentialminus": [
            [
             0,
             "#0d0887"
            ],
            [
             0.1111111111111111,
             "#46039f"
            ],
            [
             0.2222222222222222,
             "#7201a8"
            ],
            [
             0.3333333333333333,
             "#9c179e"
            ],
            [
             0.4444444444444444,
             "#bd3786"
            ],
            [
             0.5555555555555556,
             "#d8576b"
            ],
            [
             0.6666666666666666,
             "#ed7953"
            ],
            [
             0.7777777777777778,
             "#fb9f3a"
            ],
            [
             0.8888888888888888,
             "#fdca26"
            ],
            [
             1,
             "#f0f921"
            ]
           ]
          },
          "colorway": [
           "#636efa",
           "#EF553B",
           "#00cc96",
           "#ab63fa",
           "#FFA15A",
           "#19d3f3",
           "#FF6692",
           "#B6E880",
           "#FF97FF",
           "#FECB52"
          ],
          "font": {
           "color": "#2a3f5f"
          },
          "geo": {
           "bgcolor": "white",
           "lakecolor": "white",
           "landcolor": "#E5ECF6",
           "showlakes": true,
           "showland": true,
           "subunitcolor": "white"
          },
          "hoverlabel": {
           "align": "left"
          },
          "hovermode": "closest",
          "mapbox": {
           "style": "light"
          },
          "paper_bgcolor": "white",
          "plot_bgcolor": "#E5ECF6",
          "polar": {
           "angularaxis": {
            "gridcolor": "white",
            "linecolor": "white",
            "ticks": ""
           },
           "bgcolor": "#E5ECF6",
           "radialaxis": {
            "gridcolor": "white",
            "linecolor": "white",
            "ticks": ""
           }
          },
          "scene": {
           "xaxis": {
            "backgroundcolor": "#E5ECF6",
            "gridcolor": "white",
            "gridwidth": 2,
            "linecolor": "white",
            "showbackground": true,
            "ticks": "",
            "zerolinecolor": "white"
           },
           "yaxis": {
            "backgroundcolor": "#E5ECF6",
            "gridcolor": "white",
            "gridwidth": 2,
            "linecolor": "white",
            "showbackground": true,
            "ticks": "",
            "zerolinecolor": "white"
           },
           "zaxis": {
            "backgroundcolor": "#E5ECF6",
            "gridcolor": "white",
            "gridwidth": 2,
            "linecolor": "white",
            "showbackground": true,
            "ticks": "",
            "zerolinecolor": "white"
           }
          },
          "shapedefaults": {
           "line": {
            "color": "#2a3f5f"
           }
          },
          "ternary": {
           "aaxis": {
            "gridcolor": "white",
            "linecolor": "white",
            "ticks": ""
           },
           "baxis": {
            "gridcolor": "white",
            "linecolor": "white",
            "ticks": ""
           },
           "bgcolor": "#E5ECF6",
           "caxis": {
            "gridcolor": "white",
            "linecolor": "white",
            "ticks": ""
           }
          },
          "title": {
           "x": 0.05
          },
          "xaxis": {
           "automargin": true,
           "gridcolor": "white",
           "linecolor": "white",
           "ticks": "",
           "title": {
            "standoff": 15
           },
           "zerolinecolor": "white",
           "zerolinewidth": 2
          },
          "yaxis": {
           "automargin": true,
           "gridcolor": "white",
           "linecolor": "white",
           "ticks": "",
           "title": {
            "standoff": 15
           },
           "zerolinecolor": "white",
           "zerolinewidth": 2
          }
         }
        },
        "title": {
         "font": {
          "color": "#4D5663"
         },
         "text": "Top 100 words after removing stop words"
        },
        "xaxis": {
         "gridcolor": "#E1E5ED",
         "linecolor": "black",
         "showgrid": true,
         "tickfont": {
          "color": "#4D5663"
         },
         "title": {
          "font": {
           "color": "#4D5663"
          },
          "text": ""
         },
         "zerolinecolor": "#E1E5ED"
        },
        "yaxis": {
         "gridcolor": "#E1E5ED",
         "linecolor": "black",
         "showgrid": true,
         "tickfont": {
          "color": "#4D5663"
         },
         "title": {
          "font": {
           "color": "#4D5663"
          },
          "text": "Count"
         },
         "zerolinecolor": "#E1E5ED"
        }
       }
      },
      "text/html": [
       "<div>                            <div id=\"a5872161-e365-4b72-95bd-31381282c74c\" class=\"plotly-graph-div\" style=\"height:525px; width:100%;\"></div>            <script type=\"text/javascript\">                require([\"plotly\"], function(Plotly) {                    window.PLOTLYENV=window.PLOTLYENV || {};\n",
       "                    window.PLOTLYENV.BASE_URL='https://plot.ly';                                    if (document.getElementById(\"a5872161-e365-4b72-95bd-31381282c74c\")) {                    Plotly.newPlot(                        \"a5872161-e365-4b72-95bd-31381282c74c\",                        [{\"marker\":{\"color\":\"rgba(255, 153, 51, 0.6)\",\"line\":{\"color\":\"rgba(255, 153, 51, 1.0)\",\"width\":1}},\"name\":\"count\",\"orientation\":\"v\",\"text\":\"\",\"type\":\"bar\",\"x\":[\"business\",\"loan\",\"child\",\"year\",\"sell\",\"buy\",\"school\",\"also\",\"work\",\"use\",\"old\",\"family\",\"make\",\"able\",\"start\",\"small\",\"help\",\"group\",\"husband\",\"live\",\"product\",\"purchase\",\"well\",\"income\",\"increase\",\"woman\",\"home\",\"customer\",\"good\",\"community\",\"need\",\"order\",\"member\",\"request\",\"pay\",\"expand\",\"hope\",\"stock\",\"grow\",\"want\",\"new\",\"time\",\"people\",\"provide\",\"farmer\",\"store\",\"marry\",\"many\",\"client\",\"area\",\"money\",\"go\",\"get\",\"entrepreneur\",\"rice\",\"support\",\"improve\",\"give\",\"market\",\"life\",\"hard\",\"sale\",\"clothing\",\"repay\",\"mother\",\"food\",\"ago\",\"shop\",\"run\",\"profit\",\"take\",\"plan\",\"clothe\",\"invest\",\"capital\",\"service\",\"first\",\"high\",\"continue\",\"farm\",\"education\",\"local\",\"young\",\"item\",\"house\",\"fee\",\"demand\",\"married\",\"large\",\"enable\",\"operate\",\"meet\",\"wife\",\"say\",\"receive\",\"day\",\"month\",\"age\",\"still\",\"offer\"],\"y\":[1913,1781,1201,1169,1078,780,647,646,605,604,583,560,530,523,486,469,467,462,418,411,390,375,361,360,351,329,320,316,312,305,298,285,269,268,264,260,259,255,247,246,244,238,235,234,232,232,221,217,215,212,212,212,209,208,204,203,202,200,200,196,191,187,186,185,183,181,181,177,175,171,171,168,165,164,163,162,161,159,158,156,156,146,142,142,140,139,139,138,136,133,133,133,133,132,132,131,128,127,126,125]}],                        {\"legend\":{\"bgcolor\":\"#F5F6F9\",\"font\":{\"color\":\"#4D5663\"}},\"paper_bgcolor\":\"#F5F6F9\",\"plot_bgcolor\":\"#F5F6F9\",\"template\":{\"data\":{\"bar\":[{\"error_x\":{\"color\":\"#2a3f5f\"},\"error_y\":{\"color\":\"#2a3f5f\"},\"marker\":{\"line\":{\"color\":\"#E5ECF6\",\"width\":0.5},\"pattern\":{\"fillmode\":\"overlay\",\"size\":10,\"solidity\":0.2}},\"type\":\"bar\"}],\"barpolar\":[{\"marker\":{\"line\":{\"color\":\"#E5ECF6\",\"width\":0.5},\"pattern\":{\"fillmode\":\"overlay\",\"size\":10,\"solidity\":0.2}},\"type\":\"barpolar\"}],\"carpet\":[{\"aaxis\":{\"endlinecolor\":\"#2a3f5f\",\"gridcolor\":\"white\",\"linecolor\":\"white\",\"minorgridcolor\":\"white\",\"startlinecolor\":\"#2a3f5f\"},\"baxis\":{\"endlinecolor\":\"#2a3f5f\",\"gridcolor\":\"white\",\"linecolor\":\"white\",\"minorgridcolor\":\"white\",\"startlinecolor\":\"#2a3f5f\"},\"type\":\"carpet\"}],\"choropleth\":[{\"colorbar\":{\"outlinewidth\":0,\"ticks\":\"\"},\"type\":\"choropleth\"}],\"contour\":[{\"colorbar\":{\"outlinewidth\":0,\"ticks\":\"\"},\"colorscale\":[[0.0,\"#0d0887\"],[0.1111111111111111,\"#46039f\"],[0.2222222222222222,\"#7201a8\"],[0.3333333333333333,\"#9c179e\"],[0.4444444444444444,\"#bd3786\"],[0.5555555555555556,\"#d8576b\"],[0.6666666666666666,\"#ed7953\"],[0.7777777777777778,\"#fb9f3a\"],[0.8888888888888888,\"#fdca26\"],[1.0,\"#f0f921\"]],\"type\":\"contour\"}],\"contourcarpet\":[{\"colorbar\":{\"outlinewidth\":0,\"ticks\":\"\"},\"type\":\"contourcarpet\"}],\"heatmap\":[{\"colorbar\":{\"outlinewidth\":0,\"ticks\":\"\"},\"colorscale\":[[0.0,\"#0d0887\"],[0.1111111111111111,\"#46039f\"],[0.2222222222222222,\"#7201a8\"],[0.3333333333333333,\"#9c179e\"],[0.4444444444444444,\"#bd3786\"],[0.5555555555555556,\"#d8576b\"],[0.6666666666666666,\"#ed7953\"],[0.7777777777777778,\"#fb9f3a\"],[0.8888888888888888,\"#fdca26\"],[1.0,\"#f0f921\"]],\"type\":\"heatmap\"}],\"heatmapgl\":[{\"colorbar\":{\"outlinewidth\":0,\"ticks\":\"\"},\"colorscale\":[[0.0,\"#0d0887\"],[0.1111111111111111,\"#46039f\"],[0.2222222222222222,\"#7201a8\"],[0.3333333333333333,\"#9c179e\"],[0.4444444444444444,\"#bd3786\"],[0.5555555555555556,\"#d8576b\"],[0.6666666666666666,\"#ed7953\"],[0.7777777777777778,\"#fb9f3a\"],[0.8888888888888888,\"#fdca26\"],[1.0,\"#f0f921\"]],\"type\":\"heatmapgl\"}],\"histogram\":[{\"marker\":{\"pattern\":{\"fillmode\":\"overlay\",\"size\":10,\"solidity\":0.2}},\"type\":\"histogram\"}],\"histogram2d\":[{\"colorbar\":{\"outlinewidth\":0,\"ticks\":\"\"},\"colorscale\":[[0.0,\"#0d0887\"],[0.1111111111111111,\"#46039f\"],[0.2222222222222222,\"#7201a8\"],[0.3333333333333333,\"#9c179e\"],[0.4444444444444444,\"#bd3786\"],[0.5555555555555556,\"#d8576b\"],[0.6666666666666666,\"#ed7953\"],[0.7777777777777778,\"#fb9f3a\"],[0.8888888888888888,\"#fdca26\"],[1.0,\"#f0f921\"]],\"type\":\"histogram2d\"}],\"histogram2dcontour\":[{\"colorbar\":{\"outlinewidth\":0,\"ticks\":\"\"},\"colorscale\":[[0.0,\"#0d0887\"],[0.1111111111111111,\"#46039f\"],[0.2222222222222222,\"#7201a8\"],[0.3333333333333333,\"#9c179e\"],[0.4444444444444444,\"#bd3786\"],[0.5555555555555556,\"#d8576b\"],[0.6666666666666666,\"#ed7953\"],[0.7777777777777778,\"#fb9f3a\"],[0.8888888888888888,\"#fdca26\"],[1.0,\"#f0f921\"]],\"type\":\"histogram2dcontour\"}],\"mesh3d\":[{\"colorbar\":{\"outlinewidth\":0,\"ticks\":\"\"},\"type\":\"mesh3d\"}],\"parcoords\":[{\"line\":{\"colorbar\":{\"outlinewidth\":0,\"ticks\":\"\"}},\"type\":\"parcoords\"}],\"pie\":[{\"automargin\":true,\"type\":\"pie\"}],\"scatter\":[{\"marker\":{\"colorbar\":{\"outlinewidth\":0,\"ticks\":\"\"}},\"type\":\"scatter\"}],\"scatter3d\":[{\"line\":{\"colorbar\":{\"outlinewidth\":0,\"ticks\":\"\"}},\"marker\":{\"colorbar\":{\"outlinewidth\":0,\"ticks\":\"\"}},\"type\":\"scatter3d\"}],\"scattercarpet\":[{\"marker\":{\"colorbar\":{\"outlinewidth\":0,\"ticks\":\"\"}},\"type\":\"scattercarpet\"}],\"scattergeo\":[{\"marker\":{\"colorbar\":{\"outlinewidth\":0,\"ticks\":\"\"}},\"type\":\"scattergeo\"}],\"scattergl\":[{\"marker\":{\"colorbar\":{\"outlinewidth\":0,\"ticks\":\"\"}},\"type\":\"scattergl\"}],\"scattermapbox\":[{\"marker\":{\"colorbar\":{\"outlinewidth\":0,\"ticks\":\"\"}},\"type\":\"scattermapbox\"}],\"scatterpolar\":[{\"marker\":{\"colorbar\":{\"outlinewidth\":0,\"ticks\":\"\"}},\"type\":\"scatterpolar\"}],\"scatterpolargl\":[{\"marker\":{\"colorbar\":{\"outlinewidth\":0,\"ticks\":\"\"}},\"type\":\"scatterpolargl\"}],\"scatterternary\":[{\"marker\":{\"colorbar\":{\"outlinewidth\":0,\"ticks\":\"\"}},\"type\":\"scatterternary\"}],\"surface\":[{\"colorbar\":{\"outlinewidth\":0,\"ticks\":\"\"},\"colorscale\":[[0.0,\"#0d0887\"],[0.1111111111111111,\"#46039f\"],[0.2222222222222222,\"#7201a8\"],[0.3333333333333333,\"#9c179e\"],[0.4444444444444444,\"#bd3786\"],[0.5555555555555556,\"#d8576b\"],[0.6666666666666666,\"#ed7953\"],[0.7777777777777778,\"#fb9f3a\"],[0.8888888888888888,\"#fdca26\"],[1.0,\"#f0f921\"]],\"type\":\"surface\"}],\"table\":[{\"cells\":{\"fill\":{\"color\":\"#EBF0F8\"},\"line\":{\"color\":\"white\"}},\"header\":{\"fill\":{\"color\":\"#C8D4E3\"},\"line\":{\"color\":\"white\"}},\"type\":\"table\"}]},\"layout\":{\"annotationdefaults\":{\"arrowcolor\":\"#2a3f5f\",\"arrowhead\":0,\"arrowwidth\":1},\"autotypenumbers\":\"strict\",\"coloraxis\":{\"colorbar\":{\"outlinewidth\":0,\"ticks\":\"\"}},\"colorscale\":{\"diverging\":[[0,\"#8e0152\"],[0.1,\"#c51b7d\"],[0.2,\"#de77ae\"],[0.3,\"#f1b6da\"],[0.4,\"#fde0ef\"],[0.5,\"#f7f7f7\"],[0.6,\"#e6f5d0\"],[0.7,\"#b8e186\"],[0.8,\"#7fbc41\"],[0.9,\"#4d9221\"],[1,\"#276419\"]],\"sequential\":[[0.0,\"#0d0887\"],[0.1111111111111111,\"#46039f\"],[0.2222222222222222,\"#7201a8\"],[0.3333333333333333,\"#9c179e\"],[0.4444444444444444,\"#bd3786\"],[0.5555555555555556,\"#d8576b\"],[0.6666666666666666,\"#ed7953\"],[0.7777777777777778,\"#fb9f3a\"],[0.8888888888888888,\"#fdca26\"],[1.0,\"#f0f921\"]],\"sequentialminus\":[[0.0,\"#0d0887\"],[0.1111111111111111,\"#46039f\"],[0.2222222222222222,\"#7201a8\"],[0.3333333333333333,\"#9c179e\"],[0.4444444444444444,\"#bd3786\"],[0.5555555555555556,\"#d8576b\"],[0.6666666666666666,\"#ed7953\"],[0.7777777777777778,\"#fb9f3a\"],[0.8888888888888888,\"#fdca26\"],[1.0,\"#f0f921\"]]},\"colorway\":[\"#636efa\",\"#EF553B\",\"#00cc96\",\"#ab63fa\",\"#FFA15A\",\"#19d3f3\",\"#FF6692\",\"#B6E880\",\"#FF97FF\",\"#FECB52\"],\"font\":{\"color\":\"#2a3f5f\"},\"geo\":{\"bgcolor\":\"white\",\"lakecolor\":\"white\",\"landcolor\":\"#E5ECF6\",\"showlakes\":true,\"showland\":true,\"subunitcolor\":\"white\"},\"hoverlabel\":{\"align\":\"left\"},\"hovermode\":\"closest\",\"mapbox\":{\"style\":\"light\"},\"paper_bgcolor\":\"white\",\"plot_bgcolor\":\"#E5ECF6\",\"polar\":{\"angularaxis\":{\"gridcolor\":\"white\",\"linecolor\":\"white\",\"ticks\":\"\"},\"bgcolor\":\"#E5ECF6\",\"radialaxis\":{\"gridcolor\":\"white\",\"linecolor\":\"white\",\"ticks\":\"\"}},\"scene\":{\"xaxis\":{\"backgroundcolor\":\"#E5ECF6\",\"gridcolor\":\"white\",\"gridwidth\":2,\"linecolor\":\"white\",\"showbackground\":true,\"ticks\":\"\",\"zerolinecolor\":\"white\"},\"yaxis\":{\"backgroundcolor\":\"#E5ECF6\",\"gridcolor\":\"white\",\"gridwidth\":2,\"linecolor\":\"white\",\"showbackground\":true,\"ticks\":\"\",\"zerolinecolor\":\"white\"},\"zaxis\":{\"backgroundcolor\":\"#E5ECF6\",\"gridcolor\":\"white\",\"gridwidth\":2,\"linecolor\":\"white\",\"showbackground\":true,\"ticks\":\"\",\"zerolinecolor\":\"white\"}},\"shapedefaults\":{\"line\":{\"color\":\"#2a3f5f\"}},\"ternary\":{\"aaxis\":{\"gridcolor\":\"white\",\"linecolor\":\"white\",\"ticks\":\"\"},\"baxis\":{\"gridcolor\":\"white\",\"linecolor\":\"white\",\"ticks\":\"\"},\"bgcolor\":\"#E5ECF6\",\"caxis\":{\"gridcolor\":\"white\",\"linecolor\":\"white\",\"ticks\":\"\"}},\"title\":{\"x\":0.05},\"xaxis\":{\"automargin\":true,\"gridcolor\":\"white\",\"linecolor\":\"white\",\"ticks\":\"\",\"title\":{\"standoff\":15},\"zerolinecolor\":\"white\",\"zerolinewidth\":2},\"yaxis\":{\"automargin\":true,\"gridcolor\":\"white\",\"linecolor\":\"white\",\"ticks\":\"\",\"title\":{\"standoff\":15},\"zerolinecolor\":\"white\",\"zerolinewidth\":2}}},\"title\":{\"font\":{\"color\":\"#4D5663\"},\"text\":\"Top 100 words after removing stop words\"},\"xaxis\":{\"gridcolor\":\"#E1E5ED\",\"linecolor\":\"black\",\"showgrid\":true,\"tickfont\":{\"color\":\"#4D5663\"},\"title\":{\"font\":{\"color\":\"#4D5663\"},\"text\":\"\"},\"zerolinecolor\":\"#E1E5ED\"},\"yaxis\":{\"gridcolor\":\"#E1E5ED\",\"linecolor\":\"black\",\"showgrid\":true,\"tickfont\":{\"color\":\"#4D5663\"},\"title\":{\"font\":{\"color\":\"#4D5663\"},\"text\":\"Count\"},\"zerolinecolor\":\"#E1E5ED\"}},                        {\"showLink\": true, \"linkText\": \"Export to plot.ly\", \"plotlyServerURL\": \"https://plot.ly\", \"responsive\": true}                    ).then(function(){\n",
       "                            \n",
       "var gd = document.getElementById('a5872161-e365-4b72-95bd-31381282c74c');\n",
       "var x = new MutationObserver(function (mutations, observer) {{\n",
       "        var display = window.getComputedStyle(gd).display;\n",
       "        if (!display || display === 'none') {{\n",
       "            console.log([gd, 'removed!']);\n",
       "            Plotly.purge(gd);\n",
       "            observer.disconnect();\n",
       "        }}\n",
       "}});\n",
       "\n",
       "// Listen for the removal of the full notebook cells\n",
       "var notebookContainer = gd.closest('#notebook-container');\n",
       "if (notebookContainer) {{\n",
       "    x.observe(notebookContainer, {childList: true});\n",
       "}}\n",
       "\n",
       "// Listen for the clearing of the current output cell\n",
       "var outputEl = gd.closest('.output');\n",
       "if (outputEl) {{\n",
       "    x.observe(outputEl, {childList: true});\n",
       "}}\n",
       "\n",
       "                        })                };                });            </script>        </div>"
      ]
     },
     "metadata": {},
     "output_type": "display_data"
    }
   ],
   "source": [
    "plot_model()"
   ]
  },
  {
   "cell_type": "markdown",
   "metadata": {},
   "source": [
    "### Top 100 Bigrams on Entire Corpus"
   ]
  },
  {
   "cell_type": "code",
   "execution_count": 9,
   "metadata": {},
   "outputs": [
    {
     "data": {
      "text/html": [
       "        <script type=\"text/javascript\">\n",
       "        window.PlotlyConfig = {MathJaxConfig: 'local'};\n",
       "        if (window.MathJax) {MathJax.Hub.Config({SVG: {font: \"STIX-Web\"}});}\n",
       "        if (typeof require !== 'undefined') {\n",
       "        require.undef(\"plotly\");\n",
       "        requirejs.config({\n",
       "            paths: {\n",
       "                'plotly': ['https://cdn.plot.ly/plotly-2.4.2.min']\n",
       "            }\n",
       "        });\n",
       "        require(['plotly'], function(Plotly) {\n",
       "            window._Plotly = Plotly;\n",
       "        });\n",
       "        }\n",
       "        </script>\n",
       "        "
      ]
     },
     "metadata": {},
     "output_type": "display_data"
    },
    {
     "data": {
      "application/vnd.plotly.v1+json": {
       "config": {
        "linkText": "Export to plot.ly",
        "plotlyServerURL": "https://plot.ly",
        "showLink": true
       },
       "data": [
        {
         "marker": {
          "color": "rgba(255, 153, 51, 0.6)",
          "line": {
           "color": "rgba(255, 153, 51, 1.0)",
           "width": 1
          }
         },
         "name": "count",
         "orientation": "v",
         "text": "",
         "type": "bar",
         "x": [
          "year old",
          "request loan",
          "start business",
          "year ago",
          "loan buy",
          "marry child",
          "expand business",
          "use loan",
          "repay loan",
          "business year",
          "school fee",
          "child school",
          "loan use",
          "business sell",
          "old married",
          "old child",
          "second loan",
          "work hard",
          "married child",
          "loan purchase",
          "first loan",
          "primary school",
          "mother child",
          "small business",
          "hard work",
          "educate child",
          "business able",
          "pay school",
          "use buy",
          "old marry",
          "increase stock",
          "secondary school",
          "increase income",
          "loan able",
          "child live",
          "loan order",
          "last year",
          "business grow",
          "need loan",
          "start small",
          "training_educational_programs_information microfinance_ecuador_services_please",
          "husband work",
          "business training_educational_programs_information",
          "woman group",
          "support family",
          "help business",
          "mifex_org_www_mifex org",
          "microfinance_ecuador_services_please mifex_org_www_mifex",
          "year experience",
          "group member",
          "start sell",
          "able buy",
          "husband child",
          "run business",
          "farmer also",
          "operate business",
          "also sell",
          "sell product",
          "child age",
          "able repay",
          "business help",
          "sell clothing",
          "child child",
          "begin business",
          "provide family",
          "loan usd",
          "live husband",
          "high school",
          "give loan",
          "loan help",
          "apply loan",
          "receive loan",
          "go school",
          "loan intend",
          "member group",
          "rice farmer",
          "loan risk_willing_accept_additional",
          "communities_remains_unsettled_affecte many",
          "kenya_security_situation_many communities_remains_unsettled_affecte",
          "risk_making loan",
          "attend school",
          "person group",
          "many local_businesses_lender",
          "local_businesses_lender loan",
          "risk_willing_accept_additional risk_making",
          "fee child",
          "child primary",
          "able provide",
          "business well",
          "loan invest",
          "loan month",
          "run small",
          "old mother",
          "grow business",
          "child also",
          "well life",
          "high demand",
          "business loan",
          "plan use",
          "loan together"
         ],
         "y": [
          491,
          182,
          171,
          160,
          150,
          148,
          148,
          140,
          123,
          112,
          105,
          99,
          95,
          93,
          93,
          92,
          74,
          70,
          70,
          69,
          68,
          66,
          65,
          63,
          60,
          60,
          59,
          58,
          56,
          54,
          53,
          52,
          52,
          51,
          51,
          50,
          47,
          47,
          47,
          46,
          46,
          46,
          46,
          46,
          45,
          44,
          44,
          44,
          44,
          44,
          44,
          43,
          43,
          42,
          42,
          42,
          41,
          41,
          40,
          40,
          40,
          40,
          39,
          38,
          37,
          37,
          37,
          36,
          36,
          36,
          35,
          35,
          35,
          34,
          34,
          33,
          32,
          32,
          32,
          32,
          32,
          32,
          32,
          32,
          32,
          31,
          31,
          31,
          30,
          30,
          30,
          29,
          29,
          29,
          28,
          28,
          28,
          27,
          27,
          27
         ]
        }
       ],
       "layout": {
        "legend": {
         "bgcolor": "#F5F6F9",
         "font": {
          "color": "#4D5663"
         }
        },
        "paper_bgcolor": "#F5F6F9",
        "plot_bgcolor": "#F5F6F9",
        "template": {
         "data": {
          "bar": [
           {
            "error_x": {
             "color": "#2a3f5f"
            },
            "error_y": {
             "color": "#2a3f5f"
            },
            "marker": {
             "line": {
              "color": "#E5ECF6",
              "width": 0.5
             },
             "pattern": {
              "fillmode": "overlay",
              "size": 10,
              "solidity": 0.2
             }
            },
            "type": "bar"
           }
          ],
          "barpolar": [
           {
            "marker": {
             "line": {
              "color": "#E5ECF6",
              "width": 0.5
             },
             "pattern": {
              "fillmode": "overlay",
              "size": 10,
              "solidity": 0.2
             }
            },
            "type": "barpolar"
           }
          ],
          "carpet": [
           {
            "aaxis": {
             "endlinecolor": "#2a3f5f",
             "gridcolor": "white",
             "linecolor": "white",
             "minorgridcolor": "white",
             "startlinecolor": "#2a3f5f"
            },
            "baxis": {
             "endlinecolor": "#2a3f5f",
             "gridcolor": "white",
             "linecolor": "white",
             "minorgridcolor": "white",
             "startlinecolor": "#2a3f5f"
            },
            "type": "carpet"
           }
          ],
          "choropleth": [
           {
            "colorbar": {
             "outlinewidth": 0,
             "ticks": ""
            },
            "type": "choropleth"
           }
          ],
          "contour": [
           {
            "colorbar": {
             "outlinewidth": 0,
             "ticks": ""
            },
            "colorscale": [
             [
              0,
              "#0d0887"
             ],
             [
              0.1111111111111111,
              "#46039f"
             ],
             [
              0.2222222222222222,
              "#7201a8"
             ],
             [
              0.3333333333333333,
              "#9c179e"
             ],
             [
              0.4444444444444444,
              "#bd3786"
             ],
             [
              0.5555555555555556,
              "#d8576b"
             ],
             [
              0.6666666666666666,
              "#ed7953"
             ],
             [
              0.7777777777777778,
              "#fb9f3a"
             ],
             [
              0.8888888888888888,
              "#fdca26"
             ],
             [
              1,
              "#f0f921"
             ]
            ],
            "type": "contour"
           }
          ],
          "contourcarpet": [
           {
            "colorbar": {
             "outlinewidth": 0,
             "ticks": ""
            },
            "type": "contourcarpet"
           }
          ],
          "heatmap": [
           {
            "colorbar": {
             "outlinewidth": 0,
             "ticks": ""
            },
            "colorscale": [
             [
              0,
              "#0d0887"
             ],
             [
              0.1111111111111111,
              "#46039f"
             ],
             [
              0.2222222222222222,
              "#7201a8"
             ],
             [
              0.3333333333333333,
              "#9c179e"
             ],
             [
              0.4444444444444444,
              "#bd3786"
             ],
             [
              0.5555555555555556,
              "#d8576b"
             ],
             [
              0.6666666666666666,
              "#ed7953"
             ],
             [
              0.7777777777777778,
              "#fb9f3a"
             ],
             [
              0.8888888888888888,
              "#fdca26"
             ],
             [
              1,
              "#f0f921"
             ]
            ],
            "type": "heatmap"
           }
          ],
          "heatmapgl": [
           {
            "colorbar": {
             "outlinewidth": 0,
             "ticks": ""
            },
            "colorscale": [
             [
              0,
              "#0d0887"
             ],
             [
              0.1111111111111111,
              "#46039f"
             ],
             [
              0.2222222222222222,
              "#7201a8"
             ],
             [
              0.3333333333333333,
              "#9c179e"
             ],
             [
              0.4444444444444444,
              "#bd3786"
             ],
             [
              0.5555555555555556,
              "#d8576b"
             ],
             [
              0.6666666666666666,
              "#ed7953"
             ],
             [
              0.7777777777777778,
              "#fb9f3a"
             ],
             [
              0.8888888888888888,
              "#fdca26"
             ],
             [
              1,
              "#f0f921"
             ]
            ],
            "type": "heatmapgl"
           }
          ],
          "histogram": [
           {
            "marker": {
             "pattern": {
              "fillmode": "overlay",
              "size": 10,
              "solidity": 0.2
             }
            },
            "type": "histogram"
           }
          ],
          "histogram2d": [
           {
            "colorbar": {
             "outlinewidth": 0,
             "ticks": ""
            },
            "colorscale": [
             [
              0,
              "#0d0887"
             ],
             [
              0.1111111111111111,
              "#46039f"
             ],
             [
              0.2222222222222222,
              "#7201a8"
             ],
             [
              0.3333333333333333,
              "#9c179e"
             ],
             [
              0.4444444444444444,
              "#bd3786"
             ],
             [
              0.5555555555555556,
              "#d8576b"
             ],
             [
              0.6666666666666666,
              "#ed7953"
             ],
             [
              0.7777777777777778,
              "#fb9f3a"
             ],
             [
              0.8888888888888888,
              "#fdca26"
             ],
             [
              1,
              "#f0f921"
             ]
            ],
            "type": "histogram2d"
           }
          ],
          "histogram2dcontour": [
           {
            "colorbar": {
             "outlinewidth": 0,
             "ticks": ""
            },
            "colorscale": [
             [
              0,
              "#0d0887"
             ],
             [
              0.1111111111111111,
              "#46039f"
             ],
             [
              0.2222222222222222,
              "#7201a8"
             ],
             [
              0.3333333333333333,
              "#9c179e"
             ],
             [
              0.4444444444444444,
              "#bd3786"
             ],
             [
              0.5555555555555556,
              "#d8576b"
             ],
             [
              0.6666666666666666,
              "#ed7953"
             ],
             [
              0.7777777777777778,
              "#fb9f3a"
             ],
             [
              0.8888888888888888,
              "#fdca26"
             ],
             [
              1,
              "#f0f921"
             ]
            ],
            "type": "histogram2dcontour"
           }
          ],
          "mesh3d": [
           {
            "colorbar": {
             "outlinewidth": 0,
             "ticks": ""
            },
            "type": "mesh3d"
           }
          ],
          "parcoords": [
           {
            "line": {
             "colorbar": {
              "outlinewidth": 0,
              "ticks": ""
             }
            },
            "type": "parcoords"
           }
          ],
          "pie": [
           {
            "automargin": true,
            "type": "pie"
           }
          ],
          "scatter": [
           {
            "marker": {
             "colorbar": {
              "outlinewidth": 0,
              "ticks": ""
             }
            },
            "type": "scatter"
           }
          ],
          "scatter3d": [
           {
            "line": {
             "colorbar": {
              "outlinewidth": 0,
              "ticks": ""
             }
            },
            "marker": {
             "colorbar": {
              "outlinewidth": 0,
              "ticks": ""
             }
            },
            "type": "scatter3d"
           }
          ],
          "scattercarpet": [
           {
            "marker": {
             "colorbar": {
              "outlinewidth": 0,
              "ticks": ""
             }
            },
            "type": "scattercarpet"
           }
          ],
          "scattergeo": [
           {
            "marker": {
             "colorbar": {
              "outlinewidth": 0,
              "ticks": ""
             }
            },
            "type": "scattergeo"
           }
          ],
          "scattergl": [
           {
            "marker": {
             "colorbar": {
              "outlinewidth": 0,
              "ticks": ""
             }
            },
            "type": "scattergl"
           }
          ],
          "scattermapbox": [
           {
            "marker": {
             "colorbar": {
              "outlinewidth": 0,
              "ticks": ""
             }
            },
            "type": "scattermapbox"
           }
          ],
          "scatterpolar": [
           {
            "marker": {
             "colorbar": {
              "outlinewidth": 0,
              "ticks": ""
             }
            },
            "type": "scatterpolar"
           }
          ],
          "scatterpolargl": [
           {
            "marker": {
             "colorbar": {
              "outlinewidth": 0,
              "ticks": ""
             }
            },
            "type": "scatterpolargl"
           }
          ],
          "scatterternary": [
           {
            "marker": {
             "colorbar": {
              "outlinewidth": 0,
              "ticks": ""
             }
            },
            "type": "scatterternary"
           }
          ],
          "surface": [
           {
            "colorbar": {
             "outlinewidth": 0,
             "ticks": ""
            },
            "colorscale": [
             [
              0,
              "#0d0887"
             ],
             [
              0.1111111111111111,
              "#46039f"
             ],
             [
              0.2222222222222222,
              "#7201a8"
             ],
             [
              0.3333333333333333,
              "#9c179e"
             ],
             [
              0.4444444444444444,
              "#bd3786"
             ],
             [
              0.5555555555555556,
              "#d8576b"
             ],
             [
              0.6666666666666666,
              "#ed7953"
             ],
             [
              0.7777777777777778,
              "#fb9f3a"
             ],
             [
              0.8888888888888888,
              "#fdca26"
             ],
             [
              1,
              "#f0f921"
             ]
            ],
            "type": "surface"
           }
          ],
          "table": [
           {
            "cells": {
             "fill": {
              "color": "#EBF0F8"
             },
             "line": {
              "color": "white"
             }
            },
            "header": {
             "fill": {
              "color": "#C8D4E3"
             },
             "line": {
              "color": "white"
             }
            },
            "type": "table"
           }
          ]
         },
         "layout": {
          "annotationdefaults": {
           "arrowcolor": "#2a3f5f",
           "arrowhead": 0,
           "arrowwidth": 1
          },
          "autotypenumbers": "strict",
          "coloraxis": {
           "colorbar": {
            "outlinewidth": 0,
            "ticks": ""
           }
          },
          "colorscale": {
           "diverging": [
            [
             0,
             "#8e0152"
            ],
            [
             0.1,
             "#c51b7d"
            ],
            [
             0.2,
             "#de77ae"
            ],
            [
             0.3,
             "#f1b6da"
            ],
            [
             0.4,
             "#fde0ef"
            ],
            [
             0.5,
             "#f7f7f7"
            ],
            [
             0.6,
             "#e6f5d0"
            ],
            [
             0.7,
             "#b8e186"
            ],
            [
             0.8,
             "#7fbc41"
            ],
            [
             0.9,
             "#4d9221"
            ],
            [
             1,
             "#276419"
            ]
           ],
           "sequential": [
            [
             0,
             "#0d0887"
            ],
            [
             0.1111111111111111,
             "#46039f"
            ],
            [
             0.2222222222222222,
             "#7201a8"
            ],
            [
             0.3333333333333333,
             "#9c179e"
            ],
            [
             0.4444444444444444,
             "#bd3786"
            ],
            [
             0.5555555555555556,
             "#d8576b"
            ],
            [
             0.6666666666666666,
             "#ed7953"
            ],
            [
             0.7777777777777778,
             "#fb9f3a"
            ],
            [
             0.8888888888888888,
             "#fdca26"
            ],
            [
             1,
             "#f0f921"
            ]
           ],
           "sequentialminus": [
            [
             0,
             "#0d0887"
            ],
            [
             0.1111111111111111,
             "#46039f"
            ],
            [
             0.2222222222222222,
             "#7201a8"
            ],
            [
             0.3333333333333333,
             "#9c179e"
            ],
            [
             0.4444444444444444,
             "#bd3786"
            ],
            [
             0.5555555555555556,
             "#d8576b"
            ],
            [
             0.6666666666666666,
             "#ed7953"
            ],
            [
             0.7777777777777778,
             "#fb9f3a"
            ],
            [
             0.8888888888888888,
             "#fdca26"
            ],
            [
             1,
             "#f0f921"
            ]
           ]
          },
          "colorway": [
           "#636efa",
           "#EF553B",
           "#00cc96",
           "#ab63fa",
           "#FFA15A",
           "#19d3f3",
           "#FF6692",
           "#B6E880",
           "#FF97FF",
           "#FECB52"
          ],
          "font": {
           "color": "#2a3f5f"
          },
          "geo": {
           "bgcolor": "white",
           "lakecolor": "white",
           "landcolor": "#E5ECF6",
           "showlakes": true,
           "showland": true,
           "subunitcolor": "white"
          },
          "hoverlabel": {
           "align": "left"
          },
          "hovermode": "closest",
          "mapbox": {
           "style": "light"
          },
          "paper_bgcolor": "white",
          "plot_bgcolor": "#E5ECF6",
          "polar": {
           "angularaxis": {
            "gridcolor": "white",
            "linecolor": "white",
            "ticks": ""
           },
           "bgcolor": "#E5ECF6",
           "radialaxis": {
            "gridcolor": "white",
            "linecolor": "white",
            "ticks": ""
           }
          },
          "scene": {
           "xaxis": {
            "backgroundcolor": "#E5ECF6",
            "gridcolor": "white",
            "gridwidth": 2,
            "linecolor": "white",
            "showbackground": true,
            "ticks": "",
            "zerolinecolor": "white"
           },
           "yaxis": {
            "backgroundcolor": "#E5ECF6",
            "gridcolor": "white",
            "gridwidth": 2,
            "linecolor": "white",
            "showbackground": true,
            "ticks": "",
            "zerolinecolor": "white"
           },
           "zaxis": {
            "backgroundcolor": "#E5ECF6",
            "gridcolor": "white",
            "gridwidth": 2,
            "linecolor": "white",
            "showbackground": true,
            "ticks": "",
            "zerolinecolor": "white"
           }
          },
          "shapedefaults": {
           "line": {
            "color": "#2a3f5f"
           }
          },
          "ternary": {
           "aaxis": {
            "gridcolor": "white",
            "linecolor": "white",
            "ticks": ""
           },
           "baxis": {
            "gridcolor": "white",
            "linecolor": "white",
            "ticks": ""
           },
           "bgcolor": "#E5ECF6",
           "caxis": {
            "gridcolor": "white",
            "linecolor": "white",
            "ticks": ""
           }
          },
          "title": {
           "x": 0.05
          },
          "xaxis": {
           "automargin": true,
           "gridcolor": "white",
           "linecolor": "white",
           "ticks": "",
           "title": {
            "standoff": 15
           },
           "zerolinecolor": "white",
           "zerolinewidth": 2
          },
          "yaxis": {
           "automargin": true,
           "gridcolor": "white",
           "linecolor": "white",
           "ticks": "",
           "title": {
            "standoff": 15
           },
           "zerolinecolor": "white",
           "zerolinewidth": 2
          }
         }
        },
        "title": {
         "font": {
          "color": "#4D5663"
         },
         "text": "Top 100 bigrams after removing stop words"
        },
        "xaxis": {
         "gridcolor": "#E1E5ED",
         "linecolor": "black",
         "showgrid": true,
         "tickfont": {
          "color": "#4D5663"
         },
         "title": {
          "font": {
           "color": "#4D5663"
          },
          "text": ""
         },
         "zerolinecolor": "#E1E5ED"
        },
        "yaxis": {
         "gridcolor": "#E1E5ED",
         "linecolor": "black",
         "showgrid": true,
         "tickfont": {
          "color": "#4D5663"
         },
         "title": {
          "font": {
           "color": "#4D5663"
          },
          "text": "Count"
         },
         "zerolinecolor": "#E1E5ED"
        }
       }
      },
      "text/html": [
       "<div>                            <div id=\"d3c67122-7ddd-4aa8-b08e-0310dfe86f62\" class=\"plotly-graph-div\" style=\"height:525px; width:100%;\"></div>            <script type=\"text/javascript\">                require([\"plotly\"], function(Plotly) {                    window.PLOTLYENV=window.PLOTLYENV || {};\n",
       "                    window.PLOTLYENV.BASE_URL='https://plot.ly';                                    if (document.getElementById(\"d3c67122-7ddd-4aa8-b08e-0310dfe86f62\")) {                    Plotly.newPlot(                        \"d3c67122-7ddd-4aa8-b08e-0310dfe86f62\",                        [{\"marker\":{\"color\":\"rgba(255, 153, 51, 0.6)\",\"line\":{\"color\":\"rgba(255, 153, 51, 1.0)\",\"width\":1}},\"name\":\"count\",\"orientation\":\"v\",\"text\":\"\",\"type\":\"bar\",\"x\":[\"year old\",\"request loan\",\"start business\",\"year ago\",\"loan buy\",\"marry child\",\"expand business\",\"use loan\",\"repay loan\",\"business year\",\"school fee\",\"child school\",\"loan use\",\"business sell\",\"old married\",\"old child\",\"second loan\",\"work hard\",\"married child\",\"loan purchase\",\"first loan\",\"primary school\",\"mother child\",\"small business\",\"hard work\",\"educate child\",\"business able\",\"pay school\",\"use buy\",\"old marry\",\"increase stock\",\"secondary school\",\"increase income\",\"loan able\",\"child live\",\"loan order\",\"last year\",\"business grow\",\"need loan\",\"start small\",\"training_educational_programs_information microfinance_ecuador_services_please\",\"husband work\",\"business training_educational_programs_information\",\"woman group\",\"support family\",\"help business\",\"mifex_org_www_mifex org\",\"microfinance_ecuador_services_please mifex_org_www_mifex\",\"year experience\",\"group member\",\"start sell\",\"able buy\",\"husband child\",\"run business\",\"farmer also\",\"operate business\",\"also sell\",\"sell product\",\"child age\",\"able repay\",\"business help\",\"sell clothing\",\"child child\",\"begin business\",\"provide family\",\"loan usd\",\"live husband\",\"high school\",\"give loan\",\"loan help\",\"apply loan\",\"receive loan\",\"go school\",\"loan intend\",\"member group\",\"rice farmer\",\"loan risk_willing_accept_additional\",\"communities_remains_unsettled_affecte many\",\"kenya_security_situation_many communities_remains_unsettled_affecte\",\"risk_making loan\",\"attend school\",\"person group\",\"many local_businesses_lender\",\"local_businesses_lender loan\",\"risk_willing_accept_additional risk_making\",\"fee child\",\"child primary\",\"able provide\",\"business well\",\"loan invest\",\"loan month\",\"run small\",\"old mother\",\"grow business\",\"child also\",\"well life\",\"high demand\",\"business loan\",\"plan use\",\"loan together\"],\"y\":[491,182,171,160,150,148,148,140,123,112,105,99,95,93,93,92,74,70,70,69,68,66,65,63,60,60,59,58,56,54,53,52,52,51,51,50,47,47,47,46,46,46,46,46,45,44,44,44,44,44,44,43,43,42,42,42,41,41,40,40,40,40,39,38,37,37,37,36,36,36,35,35,35,34,34,33,32,32,32,32,32,32,32,32,32,31,31,31,30,30,30,29,29,29,28,28,28,27,27,27]}],                        {\"legend\":{\"bgcolor\":\"#F5F6F9\",\"font\":{\"color\":\"#4D5663\"}},\"paper_bgcolor\":\"#F5F6F9\",\"plot_bgcolor\":\"#F5F6F9\",\"template\":{\"data\":{\"bar\":[{\"error_x\":{\"color\":\"#2a3f5f\"},\"error_y\":{\"color\":\"#2a3f5f\"},\"marker\":{\"line\":{\"color\":\"#E5ECF6\",\"width\":0.5},\"pattern\":{\"fillmode\":\"overlay\",\"size\":10,\"solidity\":0.2}},\"type\":\"bar\"}],\"barpolar\":[{\"marker\":{\"line\":{\"color\":\"#E5ECF6\",\"width\":0.5},\"pattern\":{\"fillmode\":\"overlay\",\"size\":10,\"solidity\":0.2}},\"type\":\"barpolar\"}],\"carpet\":[{\"aaxis\":{\"endlinecolor\":\"#2a3f5f\",\"gridcolor\":\"white\",\"linecolor\":\"white\",\"minorgridcolor\":\"white\",\"startlinecolor\":\"#2a3f5f\"},\"baxis\":{\"endlinecolor\":\"#2a3f5f\",\"gridcolor\":\"white\",\"linecolor\":\"white\",\"minorgridcolor\":\"white\",\"startlinecolor\":\"#2a3f5f\"},\"type\":\"carpet\"}],\"choropleth\":[{\"colorbar\":{\"outlinewidth\":0,\"ticks\":\"\"},\"type\":\"choropleth\"}],\"contour\":[{\"colorbar\":{\"outlinewidth\":0,\"ticks\":\"\"},\"colorscale\":[[0.0,\"#0d0887\"],[0.1111111111111111,\"#46039f\"],[0.2222222222222222,\"#7201a8\"],[0.3333333333333333,\"#9c179e\"],[0.4444444444444444,\"#bd3786\"],[0.5555555555555556,\"#d8576b\"],[0.6666666666666666,\"#ed7953\"],[0.7777777777777778,\"#fb9f3a\"],[0.8888888888888888,\"#fdca26\"],[1.0,\"#f0f921\"]],\"type\":\"contour\"}],\"contourcarpet\":[{\"colorbar\":{\"outlinewidth\":0,\"ticks\":\"\"},\"type\":\"contourcarpet\"}],\"heatmap\":[{\"colorbar\":{\"outlinewidth\":0,\"ticks\":\"\"},\"colorscale\":[[0.0,\"#0d0887\"],[0.1111111111111111,\"#46039f\"],[0.2222222222222222,\"#7201a8\"],[0.3333333333333333,\"#9c179e\"],[0.4444444444444444,\"#bd3786\"],[0.5555555555555556,\"#d8576b\"],[0.6666666666666666,\"#ed7953\"],[0.7777777777777778,\"#fb9f3a\"],[0.8888888888888888,\"#fdca26\"],[1.0,\"#f0f921\"]],\"type\":\"heatmap\"}],\"heatmapgl\":[{\"colorbar\":{\"outlinewidth\":0,\"ticks\":\"\"},\"colorscale\":[[0.0,\"#0d0887\"],[0.1111111111111111,\"#46039f\"],[0.2222222222222222,\"#7201a8\"],[0.3333333333333333,\"#9c179e\"],[0.4444444444444444,\"#bd3786\"],[0.5555555555555556,\"#d8576b\"],[0.6666666666666666,\"#ed7953\"],[0.7777777777777778,\"#fb9f3a\"],[0.8888888888888888,\"#fdca26\"],[1.0,\"#f0f921\"]],\"type\":\"heatmapgl\"}],\"histogram\":[{\"marker\":{\"pattern\":{\"fillmode\":\"overlay\",\"size\":10,\"solidity\":0.2}},\"type\":\"histogram\"}],\"histogram2d\":[{\"colorbar\":{\"outlinewidth\":0,\"ticks\":\"\"},\"colorscale\":[[0.0,\"#0d0887\"],[0.1111111111111111,\"#46039f\"],[0.2222222222222222,\"#7201a8\"],[0.3333333333333333,\"#9c179e\"],[0.4444444444444444,\"#bd3786\"],[0.5555555555555556,\"#d8576b\"],[0.6666666666666666,\"#ed7953\"],[0.7777777777777778,\"#fb9f3a\"],[0.8888888888888888,\"#fdca26\"],[1.0,\"#f0f921\"]],\"type\":\"histogram2d\"}],\"histogram2dcontour\":[{\"colorbar\":{\"outlinewidth\":0,\"ticks\":\"\"},\"colorscale\":[[0.0,\"#0d0887\"],[0.1111111111111111,\"#46039f\"],[0.2222222222222222,\"#7201a8\"],[0.3333333333333333,\"#9c179e\"],[0.4444444444444444,\"#bd3786\"],[0.5555555555555556,\"#d8576b\"],[0.6666666666666666,\"#ed7953\"],[0.7777777777777778,\"#fb9f3a\"],[0.8888888888888888,\"#fdca26\"],[1.0,\"#f0f921\"]],\"type\":\"histogram2dcontour\"}],\"mesh3d\":[{\"colorbar\":{\"outlinewidth\":0,\"ticks\":\"\"},\"type\":\"mesh3d\"}],\"parcoords\":[{\"line\":{\"colorbar\":{\"outlinewidth\":0,\"ticks\":\"\"}},\"type\":\"parcoords\"}],\"pie\":[{\"automargin\":true,\"type\":\"pie\"}],\"scatter\":[{\"marker\":{\"colorbar\":{\"outlinewidth\":0,\"ticks\":\"\"}},\"type\":\"scatter\"}],\"scatter3d\":[{\"line\":{\"colorbar\":{\"outlinewidth\":0,\"ticks\":\"\"}},\"marker\":{\"colorbar\":{\"outlinewidth\":0,\"ticks\":\"\"}},\"type\":\"scatter3d\"}],\"scattercarpet\":[{\"marker\":{\"colorbar\":{\"outlinewidth\":0,\"ticks\":\"\"}},\"type\":\"scattercarpet\"}],\"scattergeo\":[{\"marker\":{\"colorbar\":{\"outlinewidth\":0,\"ticks\":\"\"}},\"type\":\"scattergeo\"}],\"scattergl\":[{\"marker\":{\"colorbar\":{\"outlinewidth\":0,\"ticks\":\"\"}},\"type\":\"scattergl\"}],\"scattermapbox\":[{\"marker\":{\"colorbar\":{\"outlinewidth\":0,\"ticks\":\"\"}},\"type\":\"scattermapbox\"}],\"scatterpolar\":[{\"marker\":{\"colorbar\":{\"outlinewidth\":0,\"ticks\":\"\"}},\"type\":\"scatterpolar\"}],\"scatterpolargl\":[{\"marker\":{\"colorbar\":{\"outlinewidth\":0,\"ticks\":\"\"}},\"type\":\"scatterpolargl\"}],\"scatterternary\":[{\"marker\":{\"colorbar\":{\"outlinewidth\":0,\"ticks\":\"\"}},\"type\":\"scatterternary\"}],\"surface\":[{\"colorbar\":{\"outlinewidth\":0,\"ticks\":\"\"},\"colorscale\":[[0.0,\"#0d0887\"],[0.1111111111111111,\"#46039f\"],[0.2222222222222222,\"#7201a8\"],[0.3333333333333333,\"#9c179e\"],[0.4444444444444444,\"#bd3786\"],[0.5555555555555556,\"#d8576b\"],[0.6666666666666666,\"#ed7953\"],[0.7777777777777778,\"#fb9f3a\"],[0.8888888888888888,\"#fdca26\"],[1.0,\"#f0f921\"]],\"type\":\"surface\"}],\"table\":[{\"cells\":{\"fill\":{\"color\":\"#EBF0F8\"},\"line\":{\"color\":\"white\"}},\"header\":{\"fill\":{\"color\":\"#C8D4E3\"},\"line\":{\"color\":\"white\"}},\"type\":\"table\"}]},\"layout\":{\"annotationdefaults\":{\"arrowcolor\":\"#2a3f5f\",\"arrowhead\":0,\"arrowwidth\":1},\"autotypenumbers\":\"strict\",\"coloraxis\":{\"colorbar\":{\"outlinewidth\":0,\"ticks\":\"\"}},\"colorscale\":{\"diverging\":[[0,\"#8e0152\"],[0.1,\"#c51b7d\"],[0.2,\"#de77ae\"],[0.3,\"#f1b6da\"],[0.4,\"#fde0ef\"],[0.5,\"#f7f7f7\"],[0.6,\"#e6f5d0\"],[0.7,\"#b8e186\"],[0.8,\"#7fbc41\"],[0.9,\"#4d9221\"],[1,\"#276419\"]],\"sequential\":[[0.0,\"#0d0887\"],[0.1111111111111111,\"#46039f\"],[0.2222222222222222,\"#7201a8\"],[0.3333333333333333,\"#9c179e\"],[0.4444444444444444,\"#bd3786\"],[0.5555555555555556,\"#d8576b\"],[0.6666666666666666,\"#ed7953\"],[0.7777777777777778,\"#fb9f3a\"],[0.8888888888888888,\"#fdca26\"],[1.0,\"#f0f921\"]],\"sequentialminus\":[[0.0,\"#0d0887\"],[0.1111111111111111,\"#46039f\"],[0.2222222222222222,\"#7201a8\"],[0.3333333333333333,\"#9c179e\"],[0.4444444444444444,\"#bd3786\"],[0.5555555555555556,\"#d8576b\"],[0.6666666666666666,\"#ed7953\"],[0.7777777777777778,\"#fb9f3a\"],[0.8888888888888888,\"#fdca26\"],[1.0,\"#f0f921\"]]},\"colorway\":[\"#636efa\",\"#EF553B\",\"#00cc96\",\"#ab63fa\",\"#FFA15A\",\"#19d3f3\",\"#FF6692\",\"#B6E880\",\"#FF97FF\",\"#FECB52\"],\"font\":{\"color\":\"#2a3f5f\"},\"geo\":{\"bgcolor\":\"white\",\"lakecolor\":\"white\",\"landcolor\":\"#E5ECF6\",\"showlakes\":true,\"showland\":true,\"subunitcolor\":\"white\"},\"hoverlabel\":{\"align\":\"left\"},\"hovermode\":\"closest\",\"mapbox\":{\"style\":\"light\"},\"paper_bgcolor\":\"white\",\"plot_bgcolor\":\"#E5ECF6\",\"polar\":{\"angularaxis\":{\"gridcolor\":\"white\",\"linecolor\":\"white\",\"ticks\":\"\"},\"bgcolor\":\"#E5ECF6\",\"radialaxis\":{\"gridcolor\":\"white\",\"linecolor\":\"white\",\"ticks\":\"\"}},\"scene\":{\"xaxis\":{\"backgroundcolor\":\"#E5ECF6\",\"gridcolor\":\"white\",\"gridwidth\":2,\"linecolor\":\"white\",\"showbackground\":true,\"ticks\":\"\",\"zerolinecolor\":\"white\"},\"yaxis\":{\"backgroundcolor\":\"#E5ECF6\",\"gridcolor\":\"white\",\"gridwidth\":2,\"linecolor\":\"white\",\"showbackground\":true,\"ticks\":\"\",\"zerolinecolor\":\"white\"},\"zaxis\":{\"backgroundcolor\":\"#E5ECF6\",\"gridcolor\":\"white\",\"gridwidth\":2,\"linecolor\":\"white\",\"showbackground\":true,\"ticks\":\"\",\"zerolinecolor\":\"white\"}},\"shapedefaults\":{\"line\":{\"color\":\"#2a3f5f\"}},\"ternary\":{\"aaxis\":{\"gridcolor\":\"white\",\"linecolor\":\"white\",\"ticks\":\"\"},\"baxis\":{\"gridcolor\":\"white\",\"linecolor\":\"white\",\"ticks\":\"\"},\"bgcolor\":\"#E5ECF6\",\"caxis\":{\"gridcolor\":\"white\",\"linecolor\":\"white\",\"ticks\":\"\"}},\"title\":{\"x\":0.05},\"xaxis\":{\"automargin\":true,\"gridcolor\":\"white\",\"linecolor\":\"white\",\"ticks\":\"\",\"title\":{\"standoff\":15},\"zerolinecolor\":\"white\",\"zerolinewidth\":2},\"yaxis\":{\"automargin\":true,\"gridcolor\":\"white\",\"linecolor\":\"white\",\"ticks\":\"\",\"title\":{\"standoff\":15},\"zerolinecolor\":\"white\",\"zerolinewidth\":2}}},\"title\":{\"font\":{\"color\":\"#4D5663\"},\"text\":\"Top 100 bigrams after removing stop words\"},\"xaxis\":{\"gridcolor\":\"#E1E5ED\",\"linecolor\":\"black\",\"showgrid\":true,\"tickfont\":{\"color\":\"#4D5663\"},\"title\":{\"font\":{\"color\":\"#4D5663\"},\"text\":\"\"},\"zerolinecolor\":\"#E1E5ED\"},\"yaxis\":{\"gridcolor\":\"#E1E5ED\",\"linecolor\":\"black\",\"showgrid\":true,\"tickfont\":{\"color\":\"#4D5663\"},\"title\":{\"font\":{\"color\":\"#4D5663\"},\"text\":\"Count\"},\"zerolinecolor\":\"#E1E5ED\"}},                        {\"showLink\": true, \"linkText\": \"Export to plot.ly\", \"plotlyServerURL\": \"https://plot.ly\", \"responsive\": true}                    ).then(function(){\n",
       "                            \n",
       "var gd = document.getElementById('d3c67122-7ddd-4aa8-b08e-0310dfe86f62');\n",
       "var x = new MutationObserver(function (mutations, observer) {{\n",
       "        var display = window.getComputedStyle(gd).display;\n",
       "        if (!display || display === 'none') {{\n",
       "            console.log([gd, 'removed!']);\n",
       "            Plotly.purge(gd);\n",
       "            observer.disconnect();\n",
       "        }}\n",
       "}});\n",
       "\n",
       "// Listen for the removal of the full notebook cells\n",
       "var notebookContainer = gd.closest('#notebook-container');\n",
       "if (notebookContainer) {{\n",
       "    x.observe(notebookContainer, {childList: true});\n",
       "}}\n",
       "\n",
       "// Listen for the clearing of the current output cell\n",
       "var outputEl = gd.closest('.output');\n",
       "if (outputEl) {{\n",
       "    x.observe(outputEl, {childList: true});\n",
       "}}\n",
       "\n",
       "                        })                };                });            </script>        </div>"
      ]
     },
     "metadata": {},
     "output_type": "display_data"
    }
   ],
   "source": [
    "plot_model(plot = 'bigram')"
   ]
  },
  {
   "cell_type": "markdown",
   "metadata": {},
   "source": [
    "### Frequency Distribution of Topic 1"
   ]
  },
  {
   "cell_type": "code",
   "execution_count": 10,
   "metadata": {},
   "outputs": [
    {
     "data": {
      "text/html": [
       "        <script type=\"text/javascript\">\n",
       "        window.PlotlyConfig = {MathJaxConfig: 'local'};\n",
       "        if (window.MathJax) {MathJax.Hub.Config({SVG: {font: \"STIX-Web\"}});}\n",
       "        if (typeof require !== 'undefined') {\n",
       "        require.undef(\"plotly\");\n",
       "        requirejs.config({\n",
       "            paths: {\n",
       "                'plotly': ['https://cdn.plot.ly/plotly-2.4.2.min']\n",
       "            }\n",
       "        });\n",
       "        require(['plotly'], function(Plotly) {\n",
       "            window._Plotly = Plotly;\n",
       "        });\n",
       "        }\n",
       "        </script>\n",
       "        "
      ]
     },
     "metadata": {},
     "output_type": "display_data"
    },
    {
     "data": {
      "application/vnd.plotly.v1+json": {
       "config": {
        "linkText": "Export to plot.ly",
        "plotlyServerURL": "https://plot.ly",
        "showLink": true
       },
       "data": [
        {
         "marker": {
          "color": "rgba(255, 153, 51, 0.6)",
          "line": {
           "color": "rgba(255, 153, 51, 1.0)",
           "width": 1
          }
         },
         "name": "count",
         "orientation": "v",
         "text": "",
         "type": "bar",
         "x": [
          "business",
          "loan",
          "sell",
          "year",
          "child",
          "work",
          "buy",
          "product",
          "make",
          "help",
          "home",
          "use",
          "old",
          "start",
          "husband",
          "also",
          "able",
          "well",
          "store",
          "family",
          "order",
          "hope",
          "small",
          "live",
          "purchase",
          "customer",
          "school",
          "client",
          "want",
          "need",
          "provide",
          "increase",
          "invest",
          "sale",
          "grow",
          "new",
          "first",
          "continue",
          "life",
          "item",
          "good",
          "merchandise",
          "improve",
          "time",
          "ago",
          "group",
          "money",
          "begin",
          "take",
          "day",
          "income",
          "house",
          "clothing",
          "wife",
          "offer",
          "clothe",
          "second",
          "food",
          "give",
          "people",
          "open",
          "son",
          "go",
          "expand",
          "experience",
          "receive",
          "community",
          "capital",
          "member",
          "request",
          "run",
          "goal",
          "woman",
          "mother",
          "profit",
          "large",
          "area",
          "support",
          "education",
          "marry",
          "currently",
          "daughter",
          "allow",
          "save",
          "service",
          "hard",
          "mifex_offers_client",
          "microfinance_ecuador_services_please",
          "training_educational_programs_information",
          "market",
          "org",
          "build",
          "mifex_org_www_mifex",
          "investment",
          "would",
          "shop",
          "thank",
          "study",
          "come",
          "quality"
         ],
         "y": [
          781,
          557,
          472,
          432,
          336,
          300,
          253,
          243,
          238,
          235,
          230,
          229,
          207,
          196,
          187,
          185,
          179,
          178,
          168,
          166,
          135,
          131,
          127,
          124,
          114,
          111,
          107,
          107,
          107,
          105,
          103,
          103,
          103,
          101,
          97,
          97,
          95,
          91,
          91,
          89,
          87,
          86,
          86,
          84,
          82,
          80,
          76,
          75,
          75,
          74,
          73,
          73,
          72,
          72,
          71,
          69,
          68,
          65,
          65,
          65,
          65,
          63,
          62,
          62,
          61,
          61,
          59,
          58,
          58,
          54,
          54,
          54,
          53,
          53,
          53,
          53,
          52,
          51,
          51,
          51,
          50,
          50,
          49,
          49,
          48,
          47,
          45,
          45,
          45,
          45,
          45,
          45,
          44,
          44,
          44,
          44,
          42,
          42,
          41,
          41
         ]
        }
       ],
       "layout": {
        "legend": {
         "bgcolor": "#F5F6F9",
         "font": {
          "color": "#4D5663"
         }
        },
        "paper_bgcolor": "#F5F6F9",
        "plot_bgcolor": "#F5F6F9",
        "template": {
         "data": {
          "bar": [
           {
            "error_x": {
             "color": "#2a3f5f"
            },
            "error_y": {
             "color": "#2a3f5f"
            },
            "marker": {
             "line": {
              "color": "#E5ECF6",
              "width": 0.5
             },
             "pattern": {
              "fillmode": "overlay",
              "size": 10,
              "solidity": 0.2
             }
            },
            "type": "bar"
           }
          ],
          "barpolar": [
           {
            "marker": {
             "line": {
              "color": "#E5ECF6",
              "width": 0.5
             },
             "pattern": {
              "fillmode": "overlay",
              "size": 10,
              "solidity": 0.2
             }
            },
            "type": "barpolar"
           }
          ],
          "carpet": [
           {
            "aaxis": {
             "endlinecolor": "#2a3f5f",
             "gridcolor": "white",
             "linecolor": "white",
             "minorgridcolor": "white",
             "startlinecolor": "#2a3f5f"
            },
            "baxis": {
             "endlinecolor": "#2a3f5f",
             "gridcolor": "white",
             "linecolor": "white",
             "minorgridcolor": "white",
             "startlinecolor": "#2a3f5f"
            },
            "type": "carpet"
           }
          ],
          "choropleth": [
           {
            "colorbar": {
             "outlinewidth": 0,
             "ticks": ""
            },
            "type": "choropleth"
           }
          ],
          "contour": [
           {
            "colorbar": {
             "outlinewidth": 0,
             "ticks": ""
            },
            "colorscale": [
             [
              0,
              "#0d0887"
             ],
             [
              0.1111111111111111,
              "#46039f"
             ],
             [
              0.2222222222222222,
              "#7201a8"
             ],
             [
              0.3333333333333333,
              "#9c179e"
             ],
             [
              0.4444444444444444,
              "#bd3786"
             ],
             [
              0.5555555555555556,
              "#d8576b"
             ],
             [
              0.6666666666666666,
              "#ed7953"
             ],
             [
              0.7777777777777778,
              "#fb9f3a"
             ],
             [
              0.8888888888888888,
              "#fdca26"
             ],
             [
              1,
              "#f0f921"
             ]
            ],
            "type": "contour"
           }
          ],
          "contourcarpet": [
           {
            "colorbar": {
             "outlinewidth": 0,
             "ticks": ""
            },
            "type": "contourcarpet"
           }
          ],
          "heatmap": [
           {
            "colorbar": {
             "outlinewidth": 0,
             "ticks": ""
            },
            "colorscale": [
             [
              0,
              "#0d0887"
             ],
             [
              0.1111111111111111,
              "#46039f"
             ],
             [
              0.2222222222222222,
              "#7201a8"
             ],
             [
              0.3333333333333333,
              "#9c179e"
             ],
             [
              0.4444444444444444,
              "#bd3786"
             ],
             [
              0.5555555555555556,
              "#d8576b"
             ],
             [
              0.6666666666666666,
              "#ed7953"
             ],
             [
              0.7777777777777778,
              "#fb9f3a"
             ],
             [
              0.8888888888888888,
              "#fdca26"
             ],
             [
              1,
              "#f0f921"
             ]
            ],
            "type": "heatmap"
           }
          ],
          "heatmapgl": [
           {
            "colorbar": {
             "outlinewidth": 0,
             "ticks": ""
            },
            "colorscale": [
             [
              0,
              "#0d0887"
             ],
             [
              0.1111111111111111,
              "#46039f"
             ],
             [
              0.2222222222222222,
              "#7201a8"
             ],
             [
              0.3333333333333333,
              "#9c179e"
             ],
             [
              0.4444444444444444,
              "#bd3786"
             ],
             [
              0.5555555555555556,
              "#d8576b"
             ],
             [
              0.6666666666666666,
              "#ed7953"
             ],
             [
              0.7777777777777778,
              "#fb9f3a"
             ],
             [
              0.8888888888888888,
              "#fdca26"
             ],
             [
              1,
              "#f0f921"
             ]
            ],
            "type": "heatmapgl"
           }
          ],
          "histogram": [
           {
            "marker": {
             "pattern": {
              "fillmode": "overlay",
              "size": 10,
              "solidity": 0.2
             }
            },
            "type": "histogram"
           }
          ],
          "histogram2d": [
           {
            "colorbar": {
             "outlinewidth": 0,
             "ticks": ""
            },
            "colorscale": [
             [
              0,
              "#0d0887"
             ],
             [
              0.1111111111111111,
              "#46039f"
             ],
             [
              0.2222222222222222,
              "#7201a8"
             ],
             [
              0.3333333333333333,
              "#9c179e"
             ],
             [
              0.4444444444444444,
              "#bd3786"
             ],
             [
              0.5555555555555556,
              "#d8576b"
             ],
             [
              0.6666666666666666,
              "#ed7953"
             ],
             [
              0.7777777777777778,
              "#fb9f3a"
             ],
             [
              0.8888888888888888,
              "#fdca26"
             ],
             [
              1,
              "#f0f921"
             ]
            ],
            "type": "histogram2d"
           }
          ],
          "histogram2dcontour": [
           {
            "colorbar": {
             "outlinewidth": 0,
             "ticks": ""
            },
            "colorscale": [
             [
              0,
              "#0d0887"
             ],
             [
              0.1111111111111111,
              "#46039f"
             ],
             [
              0.2222222222222222,
              "#7201a8"
             ],
             [
              0.3333333333333333,
              "#9c179e"
             ],
             [
              0.4444444444444444,
              "#bd3786"
             ],
             [
              0.5555555555555556,
              "#d8576b"
             ],
             [
              0.6666666666666666,
              "#ed7953"
             ],
             [
              0.7777777777777778,
              "#fb9f3a"
             ],
             [
              0.8888888888888888,
              "#fdca26"
             ],
             [
              1,
              "#f0f921"
             ]
            ],
            "type": "histogram2dcontour"
           }
          ],
          "mesh3d": [
           {
            "colorbar": {
             "outlinewidth": 0,
             "ticks": ""
            },
            "type": "mesh3d"
           }
          ],
          "parcoords": [
           {
            "line": {
             "colorbar": {
              "outlinewidth": 0,
              "ticks": ""
             }
            },
            "type": "parcoords"
           }
          ],
          "pie": [
           {
            "automargin": true,
            "type": "pie"
           }
          ],
          "scatter": [
           {
            "marker": {
             "colorbar": {
              "outlinewidth": 0,
              "ticks": ""
             }
            },
            "type": "scatter"
           }
          ],
          "scatter3d": [
           {
            "line": {
             "colorbar": {
              "outlinewidth": 0,
              "ticks": ""
             }
            },
            "marker": {
             "colorbar": {
              "outlinewidth": 0,
              "ticks": ""
             }
            },
            "type": "scatter3d"
           }
          ],
          "scattercarpet": [
           {
            "marker": {
             "colorbar": {
              "outlinewidth": 0,
              "ticks": ""
             }
            },
            "type": "scattercarpet"
           }
          ],
          "scattergeo": [
           {
            "marker": {
             "colorbar": {
              "outlinewidth": 0,
              "ticks": ""
             }
            },
            "type": "scattergeo"
           }
          ],
          "scattergl": [
           {
            "marker": {
             "colorbar": {
              "outlinewidth": 0,
              "ticks": ""
             }
            },
            "type": "scattergl"
           }
          ],
          "scattermapbox": [
           {
            "marker": {
             "colorbar": {
              "outlinewidth": 0,
              "ticks": ""
             }
            },
            "type": "scattermapbox"
           }
          ],
          "scatterpolar": [
           {
            "marker": {
             "colorbar": {
              "outlinewidth": 0,
              "ticks": ""
             }
            },
            "type": "scatterpolar"
           }
          ],
          "scatterpolargl": [
           {
            "marker": {
             "colorbar": {
              "outlinewidth": 0,
              "ticks": ""
             }
            },
            "type": "scatterpolargl"
           }
          ],
          "scatterternary": [
           {
            "marker": {
             "colorbar": {
              "outlinewidth": 0,
              "ticks": ""
             }
            },
            "type": "scatterternary"
           }
          ],
          "surface": [
           {
            "colorbar": {
             "outlinewidth": 0,
             "ticks": ""
            },
            "colorscale": [
             [
              0,
              "#0d0887"
             ],
             [
              0.1111111111111111,
              "#46039f"
             ],
             [
              0.2222222222222222,
              "#7201a8"
             ],
             [
              0.3333333333333333,
              "#9c179e"
             ],
             [
              0.4444444444444444,
              "#bd3786"
             ],
             [
              0.5555555555555556,
              "#d8576b"
             ],
             [
              0.6666666666666666,
              "#ed7953"
             ],
             [
              0.7777777777777778,
              "#fb9f3a"
             ],
             [
              0.8888888888888888,
              "#fdca26"
             ],
             [
              1,
              "#f0f921"
             ]
            ],
            "type": "surface"
           }
          ],
          "table": [
           {
            "cells": {
             "fill": {
              "color": "#EBF0F8"
             },
             "line": {
              "color": "white"
             }
            },
            "header": {
             "fill": {
              "color": "#C8D4E3"
             },
             "line": {
              "color": "white"
             }
            },
            "type": "table"
           }
          ]
         },
         "layout": {
          "annotationdefaults": {
           "arrowcolor": "#2a3f5f",
           "arrowhead": 0,
           "arrowwidth": 1
          },
          "autotypenumbers": "strict",
          "coloraxis": {
           "colorbar": {
            "outlinewidth": 0,
            "ticks": ""
           }
          },
          "colorscale": {
           "diverging": [
            [
             0,
             "#8e0152"
            ],
            [
             0.1,
             "#c51b7d"
            ],
            [
             0.2,
             "#de77ae"
            ],
            [
             0.3,
             "#f1b6da"
            ],
            [
             0.4,
             "#fde0ef"
            ],
            [
             0.5,
             "#f7f7f7"
            ],
            [
             0.6,
             "#e6f5d0"
            ],
            [
             0.7,
             "#b8e186"
            ],
            [
             0.8,
             "#7fbc41"
            ],
            [
             0.9,
             "#4d9221"
            ],
            [
             1,
             "#276419"
            ]
           ],
           "sequential": [
            [
             0,
             "#0d0887"
            ],
            [
             0.1111111111111111,
             "#46039f"
            ],
            [
             0.2222222222222222,
             "#7201a8"
            ],
            [
             0.3333333333333333,
             "#9c179e"
            ],
            [
             0.4444444444444444,
             "#bd3786"
            ],
            [
             0.5555555555555556,
             "#d8576b"
            ],
            [
             0.6666666666666666,
             "#ed7953"
            ],
            [
             0.7777777777777778,
             "#fb9f3a"
            ],
            [
             0.8888888888888888,
             "#fdca26"
            ],
            [
             1,
             "#f0f921"
            ]
           ],
           "sequentialminus": [
            [
             0,
             "#0d0887"
            ],
            [
             0.1111111111111111,
             "#46039f"
            ],
            [
             0.2222222222222222,
             "#7201a8"
            ],
            [
             0.3333333333333333,
             "#9c179e"
            ],
            [
             0.4444444444444444,
             "#bd3786"
            ],
            [
             0.5555555555555556,
             "#d8576b"
            ],
            [
             0.6666666666666666,
             "#ed7953"
            ],
            [
             0.7777777777777778,
             "#fb9f3a"
            ],
            [
             0.8888888888888888,
             "#fdca26"
            ],
            [
             1,
             "#f0f921"
            ]
           ]
          },
          "colorway": [
           "#636efa",
           "#EF553B",
           "#00cc96",
           "#ab63fa",
           "#FFA15A",
           "#19d3f3",
           "#FF6692",
           "#B6E880",
           "#FF97FF",
           "#FECB52"
          ],
          "font": {
           "color": "#2a3f5f"
          },
          "geo": {
           "bgcolor": "white",
           "lakecolor": "white",
           "landcolor": "#E5ECF6",
           "showlakes": true,
           "showland": true,
           "subunitcolor": "white"
          },
          "hoverlabel": {
           "align": "left"
          },
          "hovermode": "closest",
          "mapbox": {
           "style": "light"
          },
          "paper_bgcolor": "white",
          "plot_bgcolor": "#E5ECF6",
          "polar": {
           "angularaxis": {
            "gridcolor": "white",
            "linecolor": "white",
            "ticks": ""
           },
           "bgcolor": "#E5ECF6",
           "radialaxis": {
            "gridcolor": "white",
            "linecolor": "white",
            "ticks": ""
           }
          },
          "scene": {
           "xaxis": {
            "backgroundcolor": "#E5ECF6",
            "gridcolor": "white",
            "gridwidth": 2,
            "linecolor": "white",
            "showbackground": true,
            "ticks": "",
            "zerolinecolor": "white"
           },
           "yaxis": {
            "backgroundcolor": "#E5ECF6",
            "gridcolor": "white",
            "gridwidth": 2,
            "linecolor": "white",
            "showbackground": true,
            "ticks": "",
            "zerolinecolor": "white"
           },
           "zaxis": {
            "backgroundcolor": "#E5ECF6",
            "gridcolor": "white",
            "gridwidth": 2,
            "linecolor": "white",
            "showbackground": true,
            "ticks": "",
            "zerolinecolor": "white"
           }
          },
          "shapedefaults": {
           "line": {
            "color": "#2a3f5f"
           }
          },
          "ternary": {
           "aaxis": {
            "gridcolor": "white",
            "linecolor": "white",
            "ticks": ""
           },
           "baxis": {
            "gridcolor": "white",
            "linecolor": "white",
            "ticks": ""
           },
           "bgcolor": "#E5ECF6",
           "caxis": {
            "gridcolor": "white",
            "linecolor": "white",
            "ticks": ""
           }
          },
          "title": {
           "x": 0.05
          },
          "xaxis": {
           "automargin": true,
           "gridcolor": "white",
           "linecolor": "white",
           "ticks": "",
           "title": {
            "standoff": 15
           },
           "zerolinecolor": "white",
           "zerolinewidth": 2
          },
          "yaxis": {
           "automargin": true,
           "gridcolor": "white",
           "linecolor": "white",
           "ticks": "",
           "title": {
            "standoff": 15
           },
           "zerolinecolor": "white",
           "zerolinewidth": 2
          }
         }
        },
        "title": {
         "font": {
          "color": "#4D5663"
         },
         "text": "Topic 1: Top 100 words after removing stop words"
        },
        "xaxis": {
         "gridcolor": "#E1E5ED",
         "linecolor": "black",
         "showgrid": true,
         "tickfont": {
          "color": "#4D5663"
         },
         "title": {
          "font": {
           "color": "#4D5663"
          },
          "text": ""
         },
         "zerolinecolor": "#E1E5ED"
        },
        "yaxis": {
         "gridcolor": "#E1E5ED",
         "linecolor": "black",
         "showgrid": true,
         "tickfont": {
          "color": "#4D5663"
         },
         "title": {
          "font": {
           "color": "#4D5663"
          },
          "text": "Count"
         },
         "zerolinecolor": "#E1E5ED"
        }
       }
      },
      "text/html": [
       "<div>                            <div id=\"820ec1a8-7555-49fe-a6f0-f4c98dda8490\" class=\"plotly-graph-div\" style=\"height:525px; width:100%;\"></div>            <script type=\"text/javascript\">                require([\"plotly\"], function(Plotly) {                    window.PLOTLYENV=window.PLOTLYENV || {};\n",
       "                    window.PLOTLYENV.BASE_URL='https://plot.ly';                                    if (document.getElementById(\"820ec1a8-7555-49fe-a6f0-f4c98dda8490\")) {                    Plotly.newPlot(                        \"820ec1a8-7555-49fe-a6f0-f4c98dda8490\",                        [{\"marker\":{\"color\":\"rgba(255, 153, 51, 0.6)\",\"line\":{\"color\":\"rgba(255, 153, 51, 1.0)\",\"width\":1}},\"name\":\"count\",\"orientation\":\"v\",\"text\":\"\",\"type\":\"bar\",\"x\":[\"business\",\"loan\",\"sell\",\"year\",\"child\",\"work\",\"buy\",\"product\",\"make\",\"help\",\"home\",\"use\",\"old\",\"start\",\"husband\",\"also\",\"able\",\"well\",\"store\",\"family\",\"order\",\"hope\",\"small\",\"live\",\"purchase\",\"customer\",\"school\",\"client\",\"want\",\"need\",\"provide\",\"increase\",\"invest\",\"sale\",\"grow\",\"new\",\"first\",\"continue\",\"life\",\"item\",\"good\",\"merchandise\",\"improve\",\"time\",\"ago\",\"group\",\"money\",\"begin\",\"take\",\"day\",\"income\",\"house\",\"clothing\",\"wife\",\"offer\",\"clothe\",\"second\",\"food\",\"give\",\"people\",\"open\",\"son\",\"go\",\"expand\",\"experience\",\"receive\",\"community\",\"capital\",\"member\",\"request\",\"run\",\"goal\",\"woman\",\"mother\",\"profit\",\"large\",\"area\",\"support\",\"education\",\"marry\",\"currently\",\"daughter\",\"allow\",\"save\",\"service\",\"hard\",\"mifex_offers_client\",\"microfinance_ecuador_services_please\",\"training_educational_programs_information\",\"market\",\"org\",\"build\",\"mifex_org_www_mifex\",\"investment\",\"would\",\"shop\",\"thank\",\"study\",\"come\",\"quality\"],\"y\":[781,557,472,432,336,300,253,243,238,235,230,229,207,196,187,185,179,178,168,166,135,131,127,124,114,111,107,107,107,105,103,103,103,101,97,97,95,91,91,89,87,86,86,84,82,80,76,75,75,74,73,73,72,72,71,69,68,65,65,65,65,63,62,62,61,61,59,58,58,54,54,54,53,53,53,53,52,51,51,51,50,50,49,49,48,47,45,45,45,45,45,45,44,44,44,44,42,42,41,41]}],                        {\"legend\":{\"bgcolor\":\"#F5F6F9\",\"font\":{\"color\":\"#4D5663\"}},\"paper_bgcolor\":\"#F5F6F9\",\"plot_bgcolor\":\"#F5F6F9\",\"template\":{\"data\":{\"bar\":[{\"error_x\":{\"color\":\"#2a3f5f\"},\"error_y\":{\"color\":\"#2a3f5f\"},\"marker\":{\"line\":{\"color\":\"#E5ECF6\",\"width\":0.5},\"pattern\":{\"fillmode\":\"overlay\",\"size\":10,\"solidity\":0.2}},\"type\":\"bar\"}],\"barpolar\":[{\"marker\":{\"line\":{\"color\":\"#E5ECF6\",\"width\":0.5},\"pattern\":{\"fillmode\":\"overlay\",\"size\":10,\"solidity\":0.2}},\"type\":\"barpolar\"}],\"carpet\":[{\"aaxis\":{\"endlinecolor\":\"#2a3f5f\",\"gridcolor\":\"white\",\"linecolor\":\"white\",\"minorgridcolor\":\"white\",\"startlinecolor\":\"#2a3f5f\"},\"baxis\":{\"endlinecolor\":\"#2a3f5f\",\"gridcolor\":\"white\",\"linecolor\":\"white\",\"minorgridcolor\":\"white\",\"startlinecolor\":\"#2a3f5f\"},\"type\":\"carpet\"}],\"choropleth\":[{\"colorbar\":{\"outlinewidth\":0,\"ticks\":\"\"},\"type\":\"choropleth\"}],\"contour\":[{\"colorbar\":{\"outlinewidth\":0,\"ticks\":\"\"},\"colorscale\":[[0.0,\"#0d0887\"],[0.1111111111111111,\"#46039f\"],[0.2222222222222222,\"#7201a8\"],[0.3333333333333333,\"#9c179e\"],[0.4444444444444444,\"#bd3786\"],[0.5555555555555556,\"#d8576b\"],[0.6666666666666666,\"#ed7953\"],[0.7777777777777778,\"#fb9f3a\"],[0.8888888888888888,\"#fdca26\"],[1.0,\"#f0f921\"]],\"type\":\"contour\"}],\"contourcarpet\":[{\"colorbar\":{\"outlinewidth\":0,\"ticks\":\"\"},\"type\":\"contourcarpet\"}],\"heatmap\":[{\"colorbar\":{\"outlinewidth\":0,\"ticks\":\"\"},\"colorscale\":[[0.0,\"#0d0887\"],[0.1111111111111111,\"#46039f\"],[0.2222222222222222,\"#7201a8\"],[0.3333333333333333,\"#9c179e\"],[0.4444444444444444,\"#bd3786\"],[0.5555555555555556,\"#d8576b\"],[0.6666666666666666,\"#ed7953\"],[0.7777777777777778,\"#fb9f3a\"],[0.8888888888888888,\"#fdca26\"],[1.0,\"#f0f921\"]],\"type\":\"heatmap\"}],\"heatmapgl\":[{\"colorbar\":{\"outlinewidth\":0,\"ticks\":\"\"},\"colorscale\":[[0.0,\"#0d0887\"],[0.1111111111111111,\"#46039f\"],[0.2222222222222222,\"#7201a8\"],[0.3333333333333333,\"#9c179e\"],[0.4444444444444444,\"#bd3786\"],[0.5555555555555556,\"#d8576b\"],[0.6666666666666666,\"#ed7953\"],[0.7777777777777778,\"#fb9f3a\"],[0.8888888888888888,\"#fdca26\"],[1.0,\"#f0f921\"]],\"type\":\"heatmapgl\"}],\"histogram\":[{\"marker\":{\"pattern\":{\"fillmode\":\"overlay\",\"size\":10,\"solidity\":0.2}},\"type\":\"histogram\"}],\"histogram2d\":[{\"colorbar\":{\"outlinewidth\":0,\"ticks\":\"\"},\"colorscale\":[[0.0,\"#0d0887\"],[0.1111111111111111,\"#46039f\"],[0.2222222222222222,\"#7201a8\"],[0.3333333333333333,\"#9c179e\"],[0.4444444444444444,\"#bd3786\"],[0.5555555555555556,\"#d8576b\"],[0.6666666666666666,\"#ed7953\"],[0.7777777777777778,\"#fb9f3a\"],[0.8888888888888888,\"#fdca26\"],[1.0,\"#f0f921\"]],\"type\":\"histogram2d\"}],\"histogram2dcontour\":[{\"colorbar\":{\"outlinewidth\":0,\"ticks\":\"\"},\"colorscale\":[[0.0,\"#0d0887\"],[0.1111111111111111,\"#46039f\"],[0.2222222222222222,\"#7201a8\"],[0.3333333333333333,\"#9c179e\"],[0.4444444444444444,\"#bd3786\"],[0.5555555555555556,\"#d8576b\"],[0.6666666666666666,\"#ed7953\"],[0.7777777777777778,\"#fb9f3a\"],[0.8888888888888888,\"#fdca26\"],[1.0,\"#f0f921\"]],\"type\":\"histogram2dcontour\"}],\"mesh3d\":[{\"colorbar\":{\"outlinewidth\":0,\"ticks\":\"\"},\"type\":\"mesh3d\"}],\"parcoords\":[{\"line\":{\"colorbar\":{\"outlinewidth\":0,\"ticks\":\"\"}},\"type\":\"parcoords\"}],\"pie\":[{\"automargin\":true,\"type\":\"pie\"}],\"scatter\":[{\"marker\":{\"colorbar\":{\"outlinewidth\":0,\"ticks\":\"\"}},\"type\":\"scatter\"}],\"scatter3d\":[{\"line\":{\"colorbar\":{\"outlinewidth\":0,\"ticks\":\"\"}},\"marker\":{\"colorbar\":{\"outlinewidth\":0,\"ticks\":\"\"}},\"type\":\"scatter3d\"}],\"scattercarpet\":[{\"marker\":{\"colorbar\":{\"outlinewidth\":0,\"ticks\":\"\"}},\"type\":\"scattercarpet\"}],\"scattergeo\":[{\"marker\":{\"colorbar\":{\"outlinewidth\":0,\"ticks\":\"\"}},\"type\":\"scattergeo\"}],\"scattergl\":[{\"marker\":{\"colorbar\":{\"outlinewidth\":0,\"ticks\":\"\"}},\"type\":\"scattergl\"}],\"scattermapbox\":[{\"marker\":{\"colorbar\":{\"outlinewidth\":0,\"ticks\":\"\"}},\"type\":\"scattermapbox\"}],\"scatterpolar\":[{\"marker\":{\"colorbar\":{\"outlinewidth\":0,\"ticks\":\"\"}},\"type\":\"scatterpolar\"}],\"scatterpolargl\":[{\"marker\":{\"colorbar\":{\"outlinewidth\":0,\"ticks\":\"\"}},\"type\":\"scatterpolargl\"}],\"scatterternary\":[{\"marker\":{\"colorbar\":{\"outlinewidth\":0,\"ticks\":\"\"}},\"type\":\"scatterternary\"}],\"surface\":[{\"colorbar\":{\"outlinewidth\":0,\"ticks\":\"\"},\"colorscale\":[[0.0,\"#0d0887\"],[0.1111111111111111,\"#46039f\"],[0.2222222222222222,\"#7201a8\"],[0.3333333333333333,\"#9c179e\"],[0.4444444444444444,\"#bd3786\"],[0.5555555555555556,\"#d8576b\"],[0.6666666666666666,\"#ed7953\"],[0.7777777777777778,\"#fb9f3a\"],[0.8888888888888888,\"#fdca26\"],[1.0,\"#f0f921\"]],\"type\":\"surface\"}],\"table\":[{\"cells\":{\"fill\":{\"color\":\"#EBF0F8\"},\"line\":{\"color\":\"white\"}},\"header\":{\"fill\":{\"color\":\"#C8D4E3\"},\"line\":{\"color\":\"white\"}},\"type\":\"table\"}]},\"layout\":{\"annotationdefaults\":{\"arrowcolor\":\"#2a3f5f\",\"arrowhead\":0,\"arrowwidth\":1},\"autotypenumbers\":\"strict\",\"coloraxis\":{\"colorbar\":{\"outlinewidth\":0,\"ticks\":\"\"}},\"colorscale\":{\"diverging\":[[0,\"#8e0152\"],[0.1,\"#c51b7d\"],[0.2,\"#de77ae\"],[0.3,\"#f1b6da\"],[0.4,\"#fde0ef\"],[0.5,\"#f7f7f7\"],[0.6,\"#e6f5d0\"],[0.7,\"#b8e186\"],[0.8,\"#7fbc41\"],[0.9,\"#4d9221\"],[1,\"#276419\"]],\"sequential\":[[0.0,\"#0d0887\"],[0.1111111111111111,\"#46039f\"],[0.2222222222222222,\"#7201a8\"],[0.3333333333333333,\"#9c179e\"],[0.4444444444444444,\"#bd3786\"],[0.5555555555555556,\"#d8576b\"],[0.6666666666666666,\"#ed7953\"],[0.7777777777777778,\"#fb9f3a\"],[0.8888888888888888,\"#fdca26\"],[1.0,\"#f0f921\"]],\"sequentialminus\":[[0.0,\"#0d0887\"],[0.1111111111111111,\"#46039f\"],[0.2222222222222222,\"#7201a8\"],[0.3333333333333333,\"#9c179e\"],[0.4444444444444444,\"#bd3786\"],[0.5555555555555556,\"#d8576b\"],[0.6666666666666666,\"#ed7953\"],[0.7777777777777778,\"#fb9f3a\"],[0.8888888888888888,\"#fdca26\"],[1.0,\"#f0f921\"]]},\"colorway\":[\"#636efa\",\"#EF553B\",\"#00cc96\",\"#ab63fa\",\"#FFA15A\",\"#19d3f3\",\"#FF6692\",\"#B6E880\",\"#FF97FF\",\"#FECB52\"],\"font\":{\"color\":\"#2a3f5f\"},\"geo\":{\"bgcolor\":\"white\",\"lakecolor\":\"white\",\"landcolor\":\"#E5ECF6\",\"showlakes\":true,\"showland\":true,\"subunitcolor\":\"white\"},\"hoverlabel\":{\"align\":\"left\"},\"hovermode\":\"closest\",\"mapbox\":{\"style\":\"light\"},\"paper_bgcolor\":\"white\",\"plot_bgcolor\":\"#E5ECF6\",\"polar\":{\"angularaxis\":{\"gridcolor\":\"white\",\"linecolor\":\"white\",\"ticks\":\"\"},\"bgcolor\":\"#E5ECF6\",\"radialaxis\":{\"gridcolor\":\"white\",\"linecolor\":\"white\",\"ticks\":\"\"}},\"scene\":{\"xaxis\":{\"backgroundcolor\":\"#E5ECF6\",\"gridcolor\":\"white\",\"gridwidth\":2,\"linecolor\":\"white\",\"showbackground\":true,\"ticks\":\"\",\"zerolinecolor\":\"white\"},\"yaxis\":{\"backgroundcolor\":\"#E5ECF6\",\"gridcolor\":\"white\",\"gridwidth\":2,\"linecolor\":\"white\",\"showbackground\":true,\"ticks\":\"\",\"zerolinecolor\":\"white\"},\"zaxis\":{\"backgroundcolor\":\"#E5ECF6\",\"gridcolor\":\"white\",\"gridwidth\":2,\"linecolor\":\"white\",\"showbackground\":true,\"ticks\":\"\",\"zerolinecolor\":\"white\"}},\"shapedefaults\":{\"line\":{\"color\":\"#2a3f5f\"}},\"ternary\":{\"aaxis\":{\"gridcolor\":\"white\",\"linecolor\":\"white\",\"ticks\":\"\"},\"baxis\":{\"gridcolor\":\"white\",\"linecolor\":\"white\",\"ticks\":\"\"},\"bgcolor\":\"#E5ECF6\",\"caxis\":{\"gridcolor\":\"white\",\"linecolor\":\"white\",\"ticks\":\"\"}},\"title\":{\"x\":0.05},\"xaxis\":{\"automargin\":true,\"gridcolor\":\"white\",\"linecolor\":\"white\",\"ticks\":\"\",\"title\":{\"standoff\":15},\"zerolinecolor\":\"white\",\"zerolinewidth\":2},\"yaxis\":{\"automargin\":true,\"gridcolor\":\"white\",\"linecolor\":\"white\",\"ticks\":\"\",\"title\":{\"standoff\":15},\"zerolinecolor\":\"white\",\"zerolinewidth\":2}}},\"title\":{\"font\":{\"color\":\"#4D5663\"},\"text\":\"Topic 1: Top 100 words after removing stop words\"},\"xaxis\":{\"gridcolor\":\"#E1E5ED\",\"linecolor\":\"black\",\"showgrid\":true,\"tickfont\":{\"color\":\"#4D5663\"},\"title\":{\"font\":{\"color\":\"#4D5663\"},\"text\":\"\"},\"zerolinecolor\":\"#E1E5ED\"},\"yaxis\":{\"gridcolor\":\"#E1E5ED\",\"linecolor\":\"black\",\"showgrid\":true,\"tickfont\":{\"color\":\"#4D5663\"},\"title\":{\"font\":{\"color\":\"#4D5663\"},\"text\":\"Count\"},\"zerolinecolor\":\"#E1E5ED\"}},                        {\"showLink\": true, \"linkText\": \"Export to plot.ly\", \"plotlyServerURL\": \"https://plot.ly\", \"responsive\": true}                    ).then(function(){\n",
       "                            \n",
       "var gd = document.getElementById('820ec1a8-7555-49fe-a6f0-f4c98dda8490');\n",
       "var x = new MutationObserver(function (mutations, observer) {{\n",
       "        var display = window.getComputedStyle(gd).display;\n",
       "        if (!display || display === 'none') {{\n",
       "            console.log([gd, 'removed!']);\n",
       "            Plotly.purge(gd);\n",
       "            observer.disconnect();\n",
       "        }}\n",
       "}});\n",
       "\n",
       "// Listen for the removal of the full notebook cells\n",
       "var notebookContainer = gd.closest('#notebook-container');\n",
       "if (notebookContainer) {{\n",
       "    x.observe(notebookContainer, {childList: true});\n",
       "}}\n",
       "\n",
       "// Listen for the clearing of the current output cell\n",
       "var outputEl = gd.closest('.output');\n",
       "if (outputEl) {{\n",
       "    x.observe(outputEl, {childList: true});\n",
       "}}\n",
       "\n",
       "                        })                };                });            </script>        </div>"
      ]
     },
     "metadata": {},
     "output_type": "display_data"
    }
   ],
   "source": [
    "plot_model(lda, plot = 'frequency', topic_num = 'Topic 1')"
   ]
  },
  {
   "cell_type": "markdown",
   "metadata": {},
   "source": [
    "### Topic Distribution"
   ]
  },
  {
   "cell_type": "code",
   "execution_count": 11,
   "metadata": {},
   "outputs": [
    {
     "data": {
      "text/html": [
       "        <script type=\"text/javascript\">\n",
       "        window.PlotlyConfig = {MathJaxConfig: 'local'};\n",
       "        if (window.MathJax) {MathJax.Hub.Config({SVG: {font: \"STIX-Web\"}});}\n",
       "        if (typeof require !== 'undefined') {\n",
       "        require.undef(\"plotly\");\n",
       "        requirejs.config({\n",
       "            paths: {\n",
       "                'plotly': ['https://cdn.plot.ly/plotly-2.4.2.min']\n",
       "            }\n",
       "        });\n",
       "        require(['plotly'], function(Plotly) {\n",
       "            window._Plotly = Plotly;\n",
       "        });\n",
       "        }\n",
       "        </script>\n",
       "        "
      ]
     },
     "metadata": {},
     "output_type": "display_data"
    },
    {
     "data": {
      "application/vnd.plotly.v1+json": {
       "config": {
        "plotlyServerURL": "https://plot.ly"
       },
       "data": [
        {
         "alignmentgroup": "True",
         "customdata": [
          [
           "business, sell, community, loan, child, year, woman, small, entrepreneur, buy"
          ],
          [
           "business, loan, sell, year, work, product, child, home, make, help"
          ],
          [
           "loan, business, child, school, year, buy, able, group, sell, family"
          ],
          [
           "rice, loan, farmer, also, use, land, small, area, sector, many"
          ]
         ],
         "hovertemplate": "Topic=%{x}<br>Documents=%{y}<br>Keyword=%{customdata[0]}<extra></extra>",
         "legendgroup": "",
         "marker": {
          "color": "#636efa",
          "pattern": {
           "shape": ""
          }
         },
         "name": "",
         "offsetgroup": "",
         "orientation": "v",
         "showlegend": false,
         "textposition": "auto",
         "type": "bar",
         "x": [
          "Topic 0",
          "Topic 1",
          "Topic 2",
          "Topic 3"
         ],
         "xaxis": "x",
         "y": [
          204,
          311,
          457,
          28
         ],
         "yaxis": "y"
        }
       ],
       "layout": {
        "barmode": "relative",
        "legend": {
         "tracegroupgap": 0
        },
        "template": {
         "data": {
          "bar": [
           {
            "error_x": {
             "color": "#2a3f5f"
            },
            "error_y": {
             "color": "#2a3f5f"
            },
            "marker": {
             "line": {
              "color": "#E5ECF6",
              "width": 0.5
             },
             "pattern": {
              "fillmode": "overlay",
              "size": 10,
              "solidity": 0.2
             }
            },
            "type": "bar"
           }
          ],
          "barpolar": [
           {
            "marker": {
             "line": {
              "color": "#E5ECF6",
              "width": 0.5
             },
             "pattern": {
              "fillmode": "overlay",
              "size": 10,
              "solidity": 0.2
             }
            },
            "type": "barpolar"
           }
          ],
          "carpet": [
           {
            "aaxis": {
             "endlinecolor": "#2a3f5f",
             "gridcolor": "white",
             "linecolor": "white",
             "minorgridcolor": "white",
             "startlinecolor": "#2a3f5f"
            },
            "baxis": {
             "endlinecolor": "#2a3f5f",
             "gridcolor": "white",
             "linecolor": "white",
             "minorgridcolor": "white",
             "startlinecolor": "#2a3f5f"
            },
            "type": "carpet"
           }
          ],
          "choropleth": [
           {
            "colorbar": {
             "outlinewidth": 0,
             "ticks": ""
            },
            "type": "choropleth"
           }
          ],
          "contour": [
           {
            "colorbar": {
             "outlinewidth": 0,
             "ticks": ""
            },
            "colorscale": [
             [
              0,
              "#0d0887"
             ],
             [
              0.1111111111111111,
              "#46039f"
             ],
             [
              0.2222222222222222,
              "#7201a8"
             ],
             [
              0.3333333333333333,
              "#9c179e"
             ],
             [
              0.4444444444444444,
              "#bd3786"
             ],
             [
              0.5555555555555556,
              "#d8576b"
             ],
             [
              0.6666666666666666,
              "#ed7953"
             ],
             [
              0.7777777777777778,
              "#fb9f3a"
             ],
             [
              0.8888888888888888,
              "#fdca26"
             ],
             [
              1,
              "#f0f921"
             ]
            ],
            "type": "contour"
           }
          ],
          "contourcarpet": [
           {
            "colorbar": {
             "outlinewidth": 0,
             "ticks": ""
            },
            "type": "contourcarpet"
           }
          ],
          "heatmap": [
           {
            "colorbar": {
             "outlinewidth": 0,
             "ticks": ""
            },
            "colorscale": [
             [
              0,
              "#0d0887"
             ],
             [
              0.1111111111111111,
              "#46039f"
             ],
             [
              0.2222222222222222,
              "#7201a8"
             ],
             [
              0.3333333333333333,
              "#9c179e"
             ],
             [
              0.4444444444444444,
              "#bd3786"
             ],
             [
              0.5555555555555556,
              "#d8576b"
             ],
             [
              0.6666666666666666,
              "#ed7953"
             ],
             [
              0.7777777777777778,
              "#fb9f3a"
             ],
             [
              0.8888888888888888,
              "#fdca26"
             ],
             [
              1,
              "#f0f921"
             ]
            ],
            "type": "heatmap"
           }
          ],
          "heatmapgl": [
           {
            "colorbar": {
             "outlinewidth": 0,
             "ticks": ""
            },
            "colorscale": [
             [
              0,
              "#0d0887"
             ],
             [
              0.1111111111111111,
              "#46039f"
             ],
             [
              0.2222222222222222,
              "#7201a8"
             ],
             [
              0.3333333333333333,
              "#9c179e"
             ],
             [
              0.4444444444444444,
              "#bd3786"
             ],
             [
              0.5555555555555556,
              "#d8576b"
             ],
             [
              0.6666666666666666,
              "#ed7953"
             ],
             [
              0.7777777777777778,
              "#fb9f3a"
             ],
             [
              0.8888888888888888,
              "#fdca26"
             ],
             [
              1,
              "#f0f921"
             ]
            ],
            "type": "heatmapgl"
           }
          ],
          "histogram": [
           {
            "marker": {
             "pattern": {
              "fillmode": "overlay",
              "size": 10,
              "solidity": 0.2
             }
            },
            "type": "histogram"
           }
          ],
          "histogram2d": [
           {
            "colorbar": {
             "outlinewidth": 0,
             "ticks": ""
            },
            "colorscale": [
             [
              0,
              "#0d0887"
             ],
             [
              0.1111111111111111,
              "#46039f"
             ],
             [
              0.2222222222222222,
              "#7201a8"
             ],
             [
              0.3333333333333333,
              "#9c179e"
             ],
             [
              0.4444444444444444,
              "#bd3786"
             ],
             [
              0.5555555555555556,
              "#d8576b"
             ],
             [
              0.6666666666666666,
              "#ed7953"
             ],
             [
              0.7777777777777778,
              "#fb9f3a"
             ],
             [
              0.8888888888888888,
              "#fdca26"
             ],
             [
              1,
              "#f0f921"
             ]
            ],
            "type": "histogram2d"
           }
          ],
          "histogram2dcontour": [
           {
            "colorbar": {
             "outlinewidth": 0,
             "ticks": ""
            },
            "colorscale": [
             [
              0,
              "#0d0887"
             ],
             [
              0.1111111111111111,
              "#46039f"
             ],
             [
              0.2222222222222222,
              "#7201a8"
             ],
             [
              0.3333333333333333,
              "#9c179e"
             ],
             [
              0.4444444444444444,
              "#bd3786"
             ],
             [
              0.5555555555555556,
              "#d8576b"
             ],
             [
              0.6666666666666666,
              "#ed7953"
             ],
             [
              0.7777777777777778,
              "#fb9f3a"
             ],
             [
              0.8888888888888888,
              "#fdca26"
             ],
             [
              1,
              "#f0f921"
             ]
            ],
            "type": "histogram2dcontour"
           }
          ],
          "mesh3d": [
           {
            "colorbar": {
             "outlinewidth": 0,
             "ticks": ""
            },
            "type": "mesh3d"
           }
          ],
          "parcoords": [
           {
            "line": {
             "colorbar": {
              "outlinewidth": 0,
              "ticks": ""
             }
            },
            "type": "parcoords"
           }
          ],
          "pie": [
           {
            "automargin": true,
            "type": "pie"
           }
          ],
          "scatter": [
           {
            "marker": {
             "colorbar": {
              "outlinewidth": 0,
              "ticks": ""
             }
            },
            "type": "scatter"
           }
          ],
          "scatter3d": [
           {
            "line": {
             "colorbar": {
              "outlinewidth": 0,
              "ticks": ""
             }
            },
            "marker": {
             "colorbar": {
              "outlinewidth": 0,
              "ticks": ""
             }
            },
            "type": "scatter3d"
           }
          ],
          "scattercarpet": [
           {
            "marker": {
             "colorbar": {
              "outlinewidth": 0,
              "ticks": ""
             }
            },
            "type": "scattercarpet"
           }
          ],
          "scattergeo": [
           {
            "marker": {
             "colorbar": {
              "outlinewidth": 0,
              "ticks": ""
             }
            },
            "type": "scattergeo"
           }
          ],
          "scattergl": [
           {
            "marker": {
             "colorbar": {
              "outlinewidth": 0,
              "ticks": ""
             }
            },
            "type": "scattergl"
           }
          ],
          "scattermapbox": [
           {
            "marker": {
             "colorbar": {
              "outlinewidth": 0,
              "ticks": ""
             }
            },
            "type": "scattermapbox"
           }
          ],
          "scatterpolar": [
           {
            "marker": {
             "colorbar": {
              "outlinewidth": 0,
              "ticks": ""
             }
            },
            "type": "scatterpolar"
           }
          ],
          "scatterpolargl": [
           {
            "marker": {
             "colorbar": {
              "outlinewidth": 0,
              "ticks": ""
             }
            },
            "type": "scatterpolargl"
           }
          ],
          "scatterternary": [
           {
            "marker": {
             "colorbar": {
              "outlinewidth": 0,
              "ticks": ""
             }
            },
            "type": "scatterternary"
           }
          ],
          "surface": [
           {
            "colorbar": {
             "outlinewidth": 0,
             "ticks": ""
            },
            "colorscale": [
             [
              0,
              "#0d0887"
             ],
             [
              0.1111111111111111,
              "#46039f"
             ],
             [
              0.2222222222222222,
              "#7201a8"
             ],
             [
              0.3333333333333333,
              "#9c179e"
             ],
             [
              0.4444444444444444,
              "#bd3786"
             ],
             [
              0.5555555555555556,
              "#d8576b"
             ],
             [
              0.6666666666666666,
              "#ed7953"
             ],
             [
              0.7777777777777778,
              "#fb9f3a"
             ],
             [
              0.8888888888888888,
              "#fdca26"
             ],
             [
              1,
              "#f0f921"
             ]
            ],
            "type": "surface"
           }
          ],
          "table": [
           {
            "cells": {
             "fill": {
              "color": "#EBF0F8"
             },
             "line": {
              "color": "white"
             }
            },
            "header": {
             "fill": {
              "color": "#C8D4E3"
             },
             "line": {
              "color": "white"
             }
            },
            "type": "table"
           }
          ]
         },
         "layout": {
          "annotationdefaults": {
           "arrowcolor": "#2a3f5f",
           "arrowhead": 0,
           "arrowwidth": 1
          },
          "autotypenumbers": "strict",
          "coloraxis": {
           "colorbar": {
            "outlinewidth": 0,
            "ticks": ""
           }
          },
          "colorscale": {
           "diverging": [
            [
             0,
             "#8e0152"
            ],
            [
             0.1,
             "#c51b7d"
            ],
            [
             0.2,
             "#de77ae"
            ],
            [
             0.3,
             "#f1b6da"
            ],
            [
             0.4,
             "#fde0ef"
            ],
            [
             0.5,
             "#f7f7f7"
            ],
            [
             0.6,
             "#e6f5d0"
            ],
            [
             0.7,
             "#b8e186"
            ],
            [
             0.8,
             "#7fbc41"
            ],
            [
             0.9,
             "#4d9221"
            ],
            [
             1,
             "#276419"
            ]
           ],
           "sequential": [
            [
             0,
             "#0d0887"
            ],
            [
             0.1111111111111111,
             "#46039f"
            ],
            [
             0.2222222222222222,
             "#7201a8"
            ],
            [
             0.3333333333333333,
             "#9c179e"
            ],
            [
             0.4444444444444444,
             "#bd3786"
            ],
            [
             0.5555555555555556,
             "#d8576b"
            ],
            [
             0.6666666666666666,
             "#ed7953"
            ],
            [
             0.7777777777777778,
             "#fb9f3a"
            ],
            [
             0.8888888888888888,
             "#fdca26"
            ],
            [
             1,
             "#f0f921"
            ]
           ],
           "sequentialminus": [
            [
             0,
             "#0d0887"
            ],
            [
             0.1111111111111111,
             "#46039f"
            ],
            [
             0.2222222222222222,
             "#7201a8"
            ],
            [
             0.3333333333333333,
             "#9c179e"
            ],
            [
             0.4444444444444444,
             "#bd3786"
            ],
            [
             0.5555555555555556,
             "#d8576b"
            ],
            [
             0.6666666666666666,
             "#ed7953"
            ],
            [
             0.7777777777777778,
             "#fb9f3a"
            ],
            [
             0.8888888888888888,
             "#fdca26"
            ],
            [
             1,
             "#f0f921"
            ]
           ]
          },
          "colorway": [
           "#636efa",
           "#EF553B",
           "#00cc96",
           "#ab63fa",
           "#FFA15A",
           "#19d3f3",
           "#FF6692",
           "#B6E880",
           "#FF97FF",
           "#FECB52"
          ],
          "font": {
           "color": "#2a3f5f"
          },
          "geo": {
           "bgcolor": "white",
           "lakecolor": "white",
           "landcolor": "#E5ECF6",
           "showlakes": true,
           "showland": true,
           "subunitcolor": "white"
          },
          "hoverlabel": {
           "align": "left"
          },
          "hovermode": "closest",
          "mapbox": {
           "style": "light"
          },
          "paper_bgcolor": "white",
          "plot_bgcolor": "#E5ECF6",
          "polar": {
           "angularaxis": {
            "gridcolor": "white",
            "linecolor": "white",
            "ticks": ""
           },
           "bgcolor": "#E5ECF6",
           "radialaxis": {
            "gridcolor": "white",
            "linecolor": "white",
            "ticks": ""
           }
          },
          "scene": {
           "xaxis": {
            "backgroundcolor": "#E5ECF6",
            "gridcolor": "white",
            "gridwidth": 2,
            "linecolor": "white",
            "showbackground": true,
            "ticks": "",
            "zerolinecolor": "white"
           },
           "yaxis": {
            "backgroundcolor": "#E5ECF6",
            "gridcolor": "white",
            "gridwidth": 2,
            "linecolor": "white",
            "showbackground": true,
            "ticks": "",
            "zerolinecolor": "white"
           },
           "zaxis": {
            "backgroundcolor": "#E5ECF6",
            "gridcolor": "white",
            "gridwidth": 2,
            "linecolor": "white",
            "showbackground": true,
            "ticks": "",
            "zerolinecolor": "white"
           }
          },
          "shapedefaults": {
           "line": {
            "color": "#2a3f5f"
           }
          },
          "ternary": {
           "aaxis": {
            "gridcolor": "white",
            "linecolor": "white",
            "ticks": ""
           },
           "baxis": {
            "gridcolor": "white",
            "linecolor": "white",
            "ticks": ""
           },
           "bgcolor": "#E5ECF6",
           "caxis": {
            "gridcolor": "white",
            "linecolor": "white",
            "ticks": ""
           }
          },
          "title": {
           "x": 0.05
          },
          "xaxis": {
           "automargin": true,
           "gridcolor": "white",
           "linecolor": "white",
           "ticks": "",
           "title": {
            "standoff": 15
           },
           "zerolinecolor": "white",
           "zerolinewidth": 2
          },
          "yaxis": {
           "automargin": true,
           "gridcolor": "white",
           "linecolor": "white",
           "ticks": "",
           "title": {
            "standoff": 15
           },
           "zerolinecolor": "white",
           "zerolinewidth": 2
          }
         }
        },
        "title": {
         "text": "Document Distribution by Topics"
        },
        "xaxis": {
         "anchor": "y",
         "domain": [
          0,
          1
         ],
         "title": {
          "text": "Topic"
         }
        },
        "yaxis": {
         "anchor": "x",
         "domain": [
          0,
          1
         ],
         "title": {
          "text": "Documents"
         }
        }
       }
      },
      "text/html": [
       "<div>                            <div id=\"038d1405-2d08-48ae-9067-31b126b2b0ea\" class=\"plotly-graph-div\" style=\"height:525px; width:100%;\"></div>            <script type=\"text/javascript\">                require([\"plotly\"], function(Plotly) {                    window.PLOTLYENV=window.PLOTLYENV || {};                                    if (document.getElementById(\"038d1405-2d08-48ae-9067-31b126b2b0ea\")) {                    Plotly.newPlot(                        \"038d1405-2d08-48ae-9067-31b126b2b0ea\",                        [{\"alignmentgroup\":\"True\",\"customdata\":[[\"business, sell, community, loan, child, year, woman, small, entrepreneur, buy\"],[\"business, loan, sell, year, work, product, child, home, make, help\"],[\"loan, business, child, school, year, buy, able, group, sell, family\"],[\"rice, loan, farmer, also, use, land, small, area, sector, many\"]],\"hovertemplate\":\"Topic=%{x}<br>Documents=%{y}<br>Keyword=%{customdata[0]}<extra></extra>\",\"legendgroup\":\"\",\"marker\":{\"color\":\"#636efa\",\"pattern\":{\"shape\":\"\"}},\"name\":\"\",\"offsetgroup\":\"\",\"orientation\":\"v\",\"showlegend\":false,\"textposition\":\"auto\",\"type\":\"bar\",\"x\":[\"Topic 0\",\"Topic 1\",\"Topic 2\",\"Topic 3\"],\"xaxis\":\"x\",\"y\":[204,311,457,28],\"yaxis\":\"y\"}],                        {\"barmode\":\"relative\",\"legend\":{\"tracegroupgap\":0},\"template\":{\"data\":{\"bar\":[{\"error_x\":{\"color\":\"#2a3f5f\"},\"error_y\":{\"color\":\"#2a3f5f\"},\"marker\":{\"line\":{\"color\":\"#E5ECF6\",\"width\":0.5},\"pattern\":{\"fillmode\":\"overlay\",\"size\":10,\"solidity\":0.2}},\"type\":\"bar\"}],\"barpolar\":[{\"marker\":{\"line\":{\"color\":\"#E5ECF6\",\"width\":0.5},\"pattern\":{\"fillmode\":\"overlay\",\"size\":10,\"solidity\":0.2}},\"type\":\"barpolar\"}],\"carpet\":[{\"aaxis\":{\"endlinecolor\":\"#2a3f5f\",\"gridcolor\":\"white\",\"linecolor\":\"white\",\"minorgridcolor\":\"white\",\"startlinecolor\":\"#2a3f5f\"},\"baxis\":{\"endlinecolor\":\"#2a3f5f\",\"gridcolor\":\"white\",\"linecolor\":\"white\",\"minorgridcolor\":\"white\",\"startlinecolor\":\"#2a3f5f\"},\"type\":\"carpet\"}],\"choropleth\":[{\"colorbar\":{\"outlinewidth\":0,\"ticks\":\"\"},\"type\":\"choropleth\"}],\"contour\":[{\"colorbar\":{\"outlinewidth\":0,\"ticks\":\"\"},\"colorscale\":[[0.0,\"#0d0887\"],[0.1111111111111111,\"#46039f\"],[0.2222222222222222,\"#7201a8\"],[0.3333333333333333,\"#9c179e\"],[0.4444444444444444,\"#bd3786\"],[0.5555555555555556,\"#d8576b\"],[0.6666666666666666,\"#ed7953\"],[0.7777777777777778,\"#fb9f3a\"],[0.8888888888888888,\"#fdca26\"],[1.0,\"#f0f921\"]],\"type\":\"contour\"}],\"contourcarpet\":[{\"colorbar\":{\"outlinewidth\":0,\"ticks\":\"\"},\"type\":\"contourcarpet\"}],\"heatmap\":[{\"colorbar\":{\"outlinewidth\":0,\"ticks\":\"\"},\"colorscale\":[[0.0,\"#0d0887\"],[0.1111111111111111,\"#46039f\"],[0.2222222222222222,\"#7201a8\"],[0.3333333333333333,\"#9c179e\"],[0.4444444444444444,\"#bd3786\"],[0.5555555555555556,\"#d8576b\"],[0.6666666666666666,\"#ed7953\"],[0.7777777777777778,\"#fb9f3a\"],[0.8888888888888888,\"#fdca26\"],[1.0,\"#f0f921\"]],\"type\":\"heatmap\"}],\"heatmapgl\":[{\"colorbar\":{\"outlinewidth\":0,\"ticks\":\"\"},\"colorscale\":[[0.0,\"#0d0887\"],[0.1111111111111111,\"#46039f\"],[0.2222222222222222,\"#7201a8\"],[0.3333333333333333,\"#9c179e\"],[0.4444444444444444,\"#bd3786\"],[0.5555555555555556,\"#d8576b\"],[0.6666666666666666,\"#ed7953\"],[0.7777777777777778,\"#fb9f3a\"],[0.8888888888888888,\"#fdca26\"],[1.0,\"#f0f921\"]],\"type\":\"heatmapgl\"}],\"histogram\":[{\"marker\":{\"pattern\":{\"fillmode\":\"overlay\",\"size\":10,\"solidity\":0.2}},\"type\":\"histogram\"}],\"histogram2d\":[{\"colorbar\":{\"outlinewidth\":0,\"ticks\":\"\"},\"colorscale\":[[0.0,\"#0d0887\"],[0.1111111111111111,\"#46039f\"],[0.2222222222222222,\"#7201a8\"],[0.3333333333333333,\"#9c179e\"],[0.4444444444444444,\"#bd3786\"],[0.5555555555555556,\"#d8576b\"],[0.6666666666666666,\"#ed7953\"],[0.7777777777777778,\"#fb9f3a\"],[0.8888888888888888,\"#fdca26\"],[1.0,\"#f0f921\"]],\"type\":\"histogram2d\"}],\"histogram2dcontour\":[{\"colorbar\":{\"outlinewidth\":0,\"ticks\":\"\"},\"colorscale\":[[0.0,\"#0d0887\"],[0.1111111111111111,\"#46039f\"],[0.2222222222222222,\"#7201a8\"],[0.3333333333333333,\"#9c179e\"],[0.4444444444444444,\"#bd3786\"],[0.5555555555555556,\"#d8576b\"],[0.6666666666666666,\"#ed7953\"],[0.7777777777777778,\"#fb9f3a\"],[0.8888888888888888,\"#fdca26\"],[1.0,\"#f0f921\"]],\"type\":\"histogram2dcontour\"}],\"mesh3d\":[{\"colorbar\":{\"outlinewidth\":0,\"ticks\":\"\"},\"type\":\"mesh3d\"}],\"parcoords\":[{\"line\":{\"colorbar\":{\"outlinewidth\":0,\"ticks\":\"\"}},\"type\":\"parcoords\"}],\"pie\":[{\"automargin\":true,\"type\":\"pie\"}],\"scatter\":[{\"marker\":{\"colorbar\":{\"outlinewidth\":0,\"ticks\":\"\"}},\"type\":\"scatter\"}],\"scatter3d\":[{\"line\":{\"colorbar\":{\"outlinewidth\":0,\"ticks\":\"\"}},\"marker\":{\"colorbar\":{\"outlinewidth\":0,\"ticks\":\"\"}},\"type\":\"scatter3d\"}],\"scattercarpet\":[{\"marker\":{\"colorbar\":{\"outlinewidth\":0,\"ticks\":\"\"}},\"type\":\"scattercarpet\"}],\"scattergeo\":[{\"marker\":{\"colorbar\":{\"outlinewidth\":0,\"ticks\":\"\"}},\"type\":\"scattergeo\"}],\"scattergl\":[{\"marker\":{\"colorbar\":{\"outlinewidth\":0,\"ticks\":\"\"}},\"type\":\"scattergl\"}],\"scattermapbox\":[{\"marker\":{\"colorbar\":{\"outlinewidth\":0,\"ticks\":\"\"}},\"type\":\"scattermapbox\"}],\"scatterpolar\":[{\"marker\":{\"colorbar\":{\"outlinewidth\":0,\"ticks\":\"\"}},\"type\":\"scatterpolar\"}],\"scatterpolargl\":[{\"marker\":{\"colorbar\":{\"outlinewidth\":0,\"ticks\":\"\"}},\"type\":\"scatterpolargl\"}],\"scatterternary\":[{\"marker\":{\"colorbar\":{\"outlinewidth\":0,\"ticks\":\"\"}},\"type\":\"scatterternary\"}],\"surface\":[{\"colorbar\":{\"outlinewidth\":0,\"ticks\":\"\"},\"colorscale\":[[0.0,\"#0d0887\"],[0.1111111111111111,\"#46039f\"],[0.2222222222222222,\"#7201a8\"],[0.3333333333333333,\"#9c179e\"],[0.4444444444444444,\"#bd3786\"],[0.5555555555555556,\"#d8576b\"],[0.6666666666666666,\"#ed7953\"],[0.7777777777777778,\"#fb9f3a\"],[0.8888888888888888,\"#fdca26\"],[1.0,\"#f0f921\"]],\"type\":\"surface\"}],\"table\":[{\"cells\":{\"fill\":{\"color\":\"#EBF0F8\"},\"line\":{\"color\":\"white\"}},\"header\":{\"fill\":{\"color\":\"#C8D4E3\"},\"line\":{\"color\":\"white\"}},\"type\":\"table\"}]},\"layout\":{\"annotationdefaults\":{\"arrowcolor\":\"#2a3f5f\",\"arrowhead\":0,\"arrowwidth\":1},\"autotypenumbers\":\"strict\",\"coloraxis\":{\"colorbar\":{\"outlinewidth\":0,\"ticks\":\"\"}},\"colorscale\":{\"diverging\":[[0,\"#8e0152\"],[0.1,\"#c51b7d\"],[0.2,\"#de77ae\"],[0.3,\"#f1b6da\"],[0.4,\"#fde0ef\"],[0.5,\"#f7f7f7\"],[0.6,\"#e6f5d0\"],[0.7,\"#b8e186\"],[0.8,\"#7fbc41\"],[0.9,\"#4d9221\"],[1,\"#276419\"]],\"sequential\":[[0.0,\"#0d0887\"],[0.1111111111111111,\"#46039f\"],[0.2222222222222222,\"#7201a8\"],[0.3333333333333333,\"#9c179e\"],[0.4444444444444444,\"#bd3786\"],[0.5555555555555556,\"#d8576b\"],[0.6666666666666666,\"#ed7953\"],[0.7777777777777778,\"#fb9f3a\"],[0.8888888888888888,\"#fdca26\"],[1.0,\"#f0f921\"]],\"sequentialminus\":[[0.0,\"#0d0887\"],[0.1111111111111111,\"#46039f\"],[0.2222222222222222,\"#7201a8\"],[0.3333333333333333,\"#9c179e\"],[0.4444444444444444,\"#bd3786\"],[0.5555555555555556,\"#d8576b\"],[0.6666666666666666,\"#ed7953\"],[0.7777777777777778,\"#fb9f3a\"],[0.8888888888888888,\"#fdca26\"],[1.0,\"#f0f921\"]]},\"colorway\":[\"#636efa\",\"#EF553B\",\"#00cc96\",\"#ab63fa\",\"#FFA15A\",\"#19d3f3\",\"#FF6692\",\"#B6E880\",\"#FF97FF\",\"#FECB52\"],\"font\":{\"color\":\"#2a3f5f\"},\"geo\":{\"bgcolor\":\"white\",\"lakecolor\":\"white\",\"landcolor\":\"#E5ECF6\",\"showlakes\":true,\"showland\":true,\"subunitcolor\":\"white\"},\"hoverlabel\":{\"align\":\"left\"},\"hovermode\":\"closest\",\"mapbox\":{\"style\":\"light\"},\"paper_bgcolor\":\"white\",\"plot_bgcolor\":\"#E5ECF6\",\"polar\":{\"angularaxis\":{\"gridcolor\":\"white\",\"linecolor\":\"white\",\"ticks\":\"\"},\"bgcolor\":\"#E5ECF6\",\"radialaxis\":{\"gridcolor\":\"white\",\"linecolor\":\"white\",\"ticks\":\"\"}},\"scene\":{\"xaxis\":{\"backgroundcolor\":\"#E5ECF6\",\"gridcolor\":\"white\",\"gridwidth\":2,\"linecolor\":\"white\",\"showbackground\":true,\"ticks\":\"\",\"zerolinecolor\":\"white\"},\"yaxis\":{\"backgroundcolor\":\"#E5ECF6\",\"gridcolor\":\"white\",\"gridwidth\":2,\"linecolor\":\"white\",\"showbackground\":true,\"ticks\":\"\",\"zerolinecolor\":\"white\"},\"zaxis\":{\"backgroundcolor\":\"#E5ECF6\",\"gridcolor\":\"white\",\"gridwidth\":2,\"linecolor\":\"white\",\"showbackground\":true,\"ticks\":\"\",\"zerolinecolor\":\"white\"}},\"shapedefaults\":{\"line\":{\"color\":\"#2a3f5f\"}},\"ternary\":{\"aaxis\":{\"gridcolor\":\"white\",\"linecolor\":\"white\",\"ticks\":\"\"},\"baxis\":{\"gridcolor\":\"white\",\"linecolor\":\"white\",\"ticks\":\"\"},\"bgcolor\":\"#E5ECF6\",\"caxis\":{\"gridcolor\":\"white\",\"linecolor\":\"white\",\"ticks\":\"\"}},\"title\":{\"x\":0.05},\"xaxis\":{\"automargin\":true,\"gridcolor\":\"white\",\"linecolor\":\"white\",\"ticks\":\"\",\"title\":{\"standoff\":15},\"zerolinecolor\":\"white\",\"zerolinewidth\":2},\"yaxis\":{\"automargin\":true,\"gridcolor\":\"white\",\"linecolor\":\"white\",\"ticks\":\"\",\"title\":{\"standoff\":15},\"zerolinecolor\":\"white\",\"zerolinewidth\":2}}},\"title\":{\"text\":\"Document Distribution by Topics\"},\"xaxis\":{\"anchor\":\"y\",\"domain\":[0.0,1.0],\"title\":{\"text\":\"Topic\"}},\"yaxis\":{\"anchor\":\"x\",\"domain\":[0.0,1.0],\"title\":{\"text\":\"Documents\"}}},                        {\"responsive\": true}                    ).then(function(){\n",
       "                            \n",
       "var gd = document.getElementById('038d1405-2d08-48ae-9067-31b126b2b0ea');\n",
       "var x = new MutationObserver(function (mutations, observer) {{\n",
       "        var display = window.getComputedStyle(gd).display;\n",
       "        if (!display || display === 'none') {{\n",
       "            console.log([gd, 'removed!']);\n",
       "            Plotly.purge(gd);\n",
       "            observer.disconnect();\n",
       "        }}\n",
       "}});\n",
       "\n",
       "// Listen for the removal of the full notebook cells\n",
       "var notebookContainer = gd.closest('#notebook-container');\n",
       "if (notebookContainer) {{\n",
       "    x.observe(notebookContainer, {childList: true});\n",
       "}}\n",
       "\n",
       "// Listen for the clearing of the current output cell\n",
       "var outputEl = gd.closest('.output');\n",
       "if (outputEl) {{\n",
       "    x.observe(outputEl, {childList: true});\n",
       "}}\n",
       "\n",
       "                        })                };                });            </script>        </div>"
      ]
     },
     "metadata": {},
     "output_type": "display_data"
    }
   ],
   "source": [
    "plot_model(lda, plot = 'topic_distribution')"
   ]
  },
  {
   "cell_type": "markdown",
   "metadata": {},
   "source": [
    "### T-distributed Stochastic Neighbor Embedding (t-SNE)"
   ]
  },
  {
   "cell_type": "code",
   "execution_count": 12,
   "metadata": {},
   "outputs": [
    {
     "data": {
      "text/html": [
       "        <script type=\"text/javascript\">\n",
       "        window.PlotlyConfig = {MathJaxConfig: 'local'};\n",
       "        if (window.MathJax) {MathJax.Hub.Config({SVG: {font: \"STIX-Web\"}});}\n",
       "        if (typeof require !== 'undefined') {\n",
       "        require.undef(\"plotly\");\n",
       "        requirejs.config({\n",
       "            paths: {\n",
       "                'plotly': ['https://cdn.plot.ly/plotly-2.4.2.min']\n",
       "            }\n",
       "        });\n",
       "        require(['plotly'], function(Plotly) {\n",
       "            window._Plotly = Plotly;\n",
       "        });\n",
       "        }\n",
       "        </script>\n",
       "        "
      ]
     },
     "metadata": {},
     "output_type": "display_data"
    },
    {
     "data": {
      "application/vnd.plotly.v1+json": {
       "config": {
        "plotlyServerURL": "https://plot.ly"
       },
       "data": [
        {
         "hovertemplate": "Dominant_Topic=Topic 0<br>0=%{x}<br>1=%{y}<br>2=%{z}<extra></extra>",
         "legendgroup": "Topic 0",
         "marker": {
          "color": "#636efa",
          "opacity": 0.7,
          "symbol": "circle"
         },
         "mode": "markers",
         "name": "Topic 0",
         "scene": "scene",
         "showlegend": true,
         "type": "scatter3d",
         "x": [
          -1.1730691194534302,
          0.9946126341819763,
          -2.5883853435516357,
          -1.868861198425293,
          -2.4987587928771973,
          2.2624709606170654,
          1.1446298360824585,
          -0.08241564780473709,
          -2.698110580444336,
          1.2337278127670288,
          1.3701598644256592,
          0.21446722745895386,
          1.5045297145843506,
          -0.013693610206246376,
          -2.344310998916626,
          3.8121612071990967,
          3.8307878971099854,
          -1.440593957901001,
          -2.3293731212615967,
          -2.8907856941223145,
          1.2946794033050537,
          -2.0224592685699463,
          0.7527921795845032,
          3.2151408195495605,
          2.3189988136291504,
          5.0762457847595215,
          2.1281940937042236,
          -2.6838481426239014,
          -2.5888888835906982,
          0.8678577542304993,
          -1.6671415567398071,
          -2.061035394668579,
          -1.9039589166641235,
          6.16288948059082,
          0.5791561603546143,
          -1.3171827793121338,
          -2.1006810665130615,
          -1.3064337968826294,
          -2.5807747840881348,
          4.072227954864502,
          1.4409282207489014,
          3.243530035018921,
          -2.2636845111846924,
          2.4863765239715576,
          -2.2307872772216797,
          -0.4497608542442322,
          -2.4599666595458984,
          4.973729133605957,
          0.4624783992767334,
          0.9123446345329285,
          1.1658554077148438,
          -2.081308603286743,
          -2.0920822620391846,
          3.4325339794158936,
          -2.2658450603485107,
          -2.893138885498047,
          -2.2690651416778564,
          2.816535711288452,
          1.0345250368118286,
          -2.3076889514923096,
          0.7111825942993164,
          1.237022042274475,
          -1.1815335750579834,
          -2.7801239490509033,
          0.8476079702377319,
          5.872689723968506,
          0.8453657627105713,
          0.7268702387809753,
          0.015584870241582394,
          0.742091178894043,
          -1.096142053604126,
          2.5480895042419434,
          -2.415647506713867,
          -2.427180290222168,
          -1.2230148315429688,
          0.8898240327835083,
          4.156353950500488,
          1.5146796703338623,
          -2.5896687507629395,
          -0.18462543189525604,
          4.100550651550293,
          0.030009625479578972,
          0.7133916020393372,
          0.287243515253067,
          -1.1617376804351807,
          1.2555042505264282,
          -0.06666015833616257,
          -1.8669815063476562,
          -1.2428553104400635,
          2.5491623878479004,
          -2.5053977966308594,
          -2.5419578552246094,
          3.6195266246795654,
          3.301661968231201,
          3.4481914043426514,
          1.448677897453308,
          -1.4695522785186768,
          -1.1860560178756714,
          0.08690641820430756,
          0.5101171135902405,
          -1.1833316087722778,
          2.429574966430664,
          1.373962640762329,
          3.2119288444519043,
          0.6272236704826355,
          -2.498960494995117,
          -0.19510291516780853,
          3.401545286178589,
          1.5370181798934937,
          4.874205589294434,
          1.8656959533691406,
          1.5611399412155151,
          1.2166764736175537,
          -0.7779371738433838,
          -0.9474979043006897,
          -1.7385125160217285,
          0.47048813104629517,
          3.125718832015991,
          3.505502223968506,
          -2.6446545124053955,
          0.7137499451637268,
          3.6249661445617676,
          2.3129022121429443,
          -2.644017457962036,
          0.2087181955575943,
          -1.1843026876449585,
          1.8685107231140137,
          -0.7312309741973877,
          -2.1701407432556152,
          2.677394390106201,
          3.9318666458129883,
          -2.6489880084991455,
          -2.564908266067505,
          0.6437852382659912,
          2.726254463195801,
          1.2089234590530396,
          3.9844634532928467,
          3.627851724624634,
          4.955993175506592,
          -2.22422194480896,
          -2.480189561843872,
          1.9221563339233398,
          2.5597519874572754,
          1.7548413276672363,
          1.4990068674087524,
          3.006035804748535,
          1.4055074453353882,
          4.62764310836792,
          1.2659175395965576,
          0.6205357909202576,
          -2.5572636127471924,
          -2.0809483528137207,
          -2.0361247062683105,
          -2.590938091278076,
          -2.606524705886841,
          2.301454782485962,
          -2.6110148429870605,
          -0.8235880136489868,
          -2.2697081565856934,
          3.4591126441955566,
          -2.4458184242248535,
          -1.2932934761047363,
          -0.4933938980102539,
          -2.1040704250335693,
          -2.58019757270813,
          2.6177308559417725,
          -1.5052976608276367,
          -1.191712737083435,
          1.0882816314697266,
          1.1660912036895752,
          -2.5777742862701416,
          0.8704750537872314,
          2.3487906455993652,
          -2.3970859050750732,
          2.032327175140381,
          1.486415982246399,
          5.741314888000488,
          2.822110176086426,
          3.9038493633270264,
          2.0334668159484863,
          -2.590106964111328,
          1.3780418634414673,
          1.0078661441802979,
          -2.5850305557250977,
          0.0017751639243215322,
          2.732146978378296,
          -0.9309706687927246,
          -0.5139040350914001,
          1.762171983718872,
          0.7779696583747864,
          0.8408756852149963,
          -2.1792638301849365,
          6.332617282867432,
          -2.526827812194824,
          -2.580065965652466,
          4.336122989654541,
          2.7927215099334717,
          -1.5075949430465698,
          1.228212594985962,
          -2.5643084049224854,
          -2.538832664489746,
          -1.581894874572754,
          1.3670730590820312,
          1.3821386098861694
         ],
         "y": [
          3.612199068069458,
          2.5327272415161133,
          2.5457653999328613,
          6.061553478240967,
          4.988483428955078,
          1.9810330867767334,
          6.193926811218262,
          1.160101294517517,
          0.4171527922153473,
          5.355269432067871,
          1.6525883674621582,
          4.874383449554443,
          1.7166796922683716,
          5.007643222808838,
          5.310623645782471,
          3.159072160720825,
          3.992037296295166,
          5.629122257232666,
          1.012516736984253,
          0.9032911062240601,
          5.845109462738037,
          0.6695603728294373,
          6.017208099365234,
          2.383443593978882,
          5.1020002365112305,
          2.8978934288024902,
          4.3670172691345215,
          0.9860309362411499,
          2.295931577682495,
          6.321001052856445,
          0.9360391497612,
          5.883419513702393,
          6.047278881072998,
          2.082453489303589,
          6.0745158195495605,
          6.826674461364746,
          0.7419137954711914,
          6.740285396575928,
          4.390002250671387,
          3.357269763946533,
          3.3994479179382324,
          4.308039665222168,
          3.564469337463379,
          4.805877685546875,
          0.6993797421455383,
          1.0964800119400024,
          4.4639573097229,
          2.8504693508148193,
          3.5435047149658203,
          1.5468093156814575,
          3.7251534461975098,
          1.057251214981079,
          5.824813365936279,
          4.360772132873535,
          5.495917320251465,
          0.8468988537788391,
          1.210954189300537,
          4.400028228759766,
          1.4877930879592896,
          1.2263576984405518,
          1.3819003105163574,
          6.086945056915283,
          7.123824119567871,
          1.0642292499542236,
          6.433440685272217,
          2.1874492168426514,
          6.410456657409668,
          2.8199565410614014,
          1.17790949344635,
          3.7290074825286865,
          5.227520942687988,
          2.108759641647339,
          5.418801784515381,
          5.203976154327393,
          7.022144794464111,
          6.366057395935059,
          3.1271023750305176,
          1.7429677248001099,
          4.643244743347168,
          6.334560871124268,
          3.875972270965576,
          4.833749294281006,
          1.3670469522476196,
          4.862949371337891,
          7.201279163360596,
          1.619592547416687,
          5.2396345138549805,
          6.146219730377197,
          4.821564197540283,
          2.0947108268737793,
          3.585031747817993,
          0.4865965247154236,
          2.594557046890259,
          4.143385887145996,
          4.146157741546631,
          5.742013454437256,
          3.5234947204589844,
          7.096059799194336,
          6.1096320152282715,
          3.3008675575256348,
          7.1651153564453125,
          2.0723536014556885,
          5.866605758666992,
          4.484703063964844,
          6.6224822998046875,
          4.037084579467773,
          7.005124092102051,
          4.434170246124268,
          5.884897232055664,
          2.5662949085235596,
          1.916469693183899,
          1.7503175735473633,
          3.108741044998169,
          6.9440507888793945,
          7.128871917724609,
          5.330445289611816,
          3.9280126094818115,
          2.390986204147339,
          2.523822784423828,
          0.6660885214805603,
          1.3637583255767822,
          4.2441840171813965,
          5.39188289642334,
          0.7315773367881775,
          5.197652339935303,
          6.977017879486084,
          5.217164516448975,
          1.06208074092865,
          5.517820835113525,
          2.179450511932373,
          3.372823476791382,
          0.6417464017868042,
          0.8419393301010132,
          6.536960601806641,
          2.213751792907715,
          1.5707825422286987,
          3.3838441371917725,
          3.3491504192352295,
          3.0014548301696777,
          5.490768909454346,
          5.216882228851318,
          5.3613176345825195,
          2.1854023933410645,
          5.7542009353637695,
          5.097176551818848,
          2.2995645999908447,
          1.7646684646606445,
          3.0880162715911865,
          4.19724178314209,
          6.085385322570801,
          4.987914085388184,
          5.8092360496521,
          0.8777197003364563,
          3.685319185256958,
          3.298588991165161,
          4.670889854431152,
          3.7886266708374023,
          7.059564113616943,
          0.43158066272735596,
          2.5034189224243164,
          0.4070386290550232,
          6.904165267944336,
          1.0932419300079346,
          5.847289562225342,
          1.91075599193573,
          4.898726463317871,
          6.629138946533203,
          7.137145042419434,
          3.561098337173462,
          4.014884948730469,
          1.8220634460449219,
          5.78947114944458,
          2.494493246078491,
          0.9650744795799255,
          5.322122573852539,
          5.293440818786621,
          2.2490930557250977,
          2.3129162788391113,
          2.7964067459106445,
          5.578001976013184,
          3.529423475265503,
          5.989436626434326,
          4.358083248138428,
          4.5620269775390625,
          6.844895362854004,
          4.697385311126709,
          5.287629127502441,
          6.955203533172607,
          5.516401767730713,
          1.3763946294784546,
          1.4403057098388672,
          1.1701534986495972,
          1.9405732154846191,
          2.23148512840271,
          2.3549699783325195,
          2.730078935623169,
          2.229548931121826,
          6.601655006408691,
          5.798750877380371,
          3.783686637878418,
          4.988889217376709,
          3.6195292472839355,
          5.314859867095947,
          3.693108320236206
         ],
         "z": [
          10.726311683654785,
          10.528863906860352,
          12.256153106689453,
          8.267135620117188,
          10.025389671325684,
          10.167954444885254,
          3.266190528869629,
          12.228267669677734,
          13.615886688232422,
          6.2993316650390625,
          11.072887420654297,
          8.469161033630371,
          10.933130264282227,
          8.470043182373047,
          9.606877326965332,
          6.8267903327941895,
          4.304965972900391,
          8.657946586608887,
          13.935121536254883,
          13.717966079711914,
          4.6652116775512695,
          13.39763069152832,
          5.380854606628418,
          8.847285270690918,
          4.668727397918701,
          5.2028656005859375,
          6.9618096351623535,
          13.922870635986328,
          12.452468872070312,
          3.6466832160949707,
          13.121004104614258,
          8.687804222106934,
          8.315779685974121,
          5.584081649780273,
          5.733119010925293,
          6.377936363220215,
          13.815476417541504,
          6.536942958831787,
          10.663342475891113,
          5.973581790924072,
          9.35732650756836,
          4.948190689086914,
          10.919957160949707,
          5.270142078399658,
          13.93002986907959,
          12.444559097290039,
          10.53233814239502,
          5.653253078460693,
          9.889419555664062,
          11.433085441589355,
          9.198570251464844,
          13.24394416809082,
          8.796002388000488,
          4.013624668121338,
          9.345707893371582,
          13.583841323852539,
          13.701994895935059,
          5.712677955627441,
          11.412801742553711,
          13.686824798583984,
          11.670546531677246,
          3.597661018371582,
          5.5335493087768555,
          13.6652193069458,
          2.8653879165649414,
          5.938111305236816,
          3.1059727668762207,
          10.428546905517578,
          12.167364120483398,
          9.511764526367188,
          8.97763729095459,
          9.833683967590332,
          9.516142845153809,
          9.769914627075195,
          5.842906475067139,
          3.239581823348999,
          6.385463714599609,
          10.904996871948242,
          10.4212064743042,
          6.08892822265625,
          3.724191427230835,
          8.68176555633545,
          11.679426193237305,
          8.418878555297852,
          5.290658950805664,
          11.176141738891602,
          8.139921188354492,
          8.116693496704102,
          9.555419921875,
          9.838639259338379,
          11.381556510925293,
          13.896866798400879,
          8.060145378112793,
          5.364570617675781,
          4.949641227722168,
          4.6584792137146,
          10.961823463439941,
          5.610428333282471,
          6.2456464767456055,
          10.1034517288208,
          5.432419776916504,
          9.955758094787598,
          4.314332008361816,
          4.280704975128174,
          2.3231987953186035,
          10.969593048095703,
          3.4007866382598877,
          3.6998844146728516,
          3.528632164001465,
          6.5863776206970215,
          10.555253982543945,
          10.868203163146973,
          9.826963424682617,
          5.348588943481445,
          5.061824798583984,
          9.256869316101074,
          9.472225189208984,
          8.940799713134766,
          8.308855056762695,
          13.203170776367188,
          11.682348251342773,
          3.7957115173339844,
          2.338521718978882,
          13.21580982208252,
          7.921853065490723,
          5.961748123168945,
          5.437752723693848,
          12.596674919128418,
          9.263810157775879,
          9.645018577575684,
          6.1881537437438965,
          13.940635681152344,
          13.175243377685547,
          3.116689920425415,
          9.567530632019043,
          11.245429992675781,
          6.066272258758545,
          6.728311061859131,
          5.104725360870361,
          9.330368995666504,
          9.780448913574219,
          4.827869892120361,
          9.73386001586914,
          3.2948806285858154,
          6.452541351318359,
          9.180607795715332,
          10.977778434753418,
          5.637209892272949,
          8.442244529724121,
          5.43287992477417,
          10.051389694213867,
          8.80875015258789,
          13.244921684265137,
          11.334003448486328,
          11.664225578308105,
          6.031084060668945,
          11.254901885986328,
          5.035397529602051,
          13.555018424987793,
          8.392742156982422,
          13.411178588867188,
          6.191821098327637,
          12.466300964355469,
          8.770455360412598,
          12.748745918273926,
          4.5349249839782715,
          6.943669319152832,
          5.517886638641357,
          9.446144104003906,
          8.82548713684082,
          12.830927848815918,
          5.829109191894531,
          9.606043815612793,
          13.115323066711426,
          4.6507649421691895,
          6.01700496673584,
          6.011224746704102,
          9.383976936340332,
          7.368539333343506,
          2.920205593109131,
          11.466692924499512,
          3.5929551124572754,
          8.473771095275879,
          10.498238563537598,
          3.6415395736694336,
          4.999703884124756,
          8.780257225036621,
          4.687446594238281,
          4.666388034820557,
          11.640188217163086,
          11.556417465209961,
          13.594640731811523,
          5.709428787231445,
          12.464494705200195,
          12.402888298034668,
          6.959388732910156,
          9.485987663269043,
          6.996077537536621,
          5.035253047943115,
          11.235140800476074,
          10.04682445526123,
          10.901042938232422,
          6.177720546722412,
          9.057391166687012
         ]
        },
        {
         "hovertemplate": "Dominant_Topic=Topic 1<br>0=%{x}<br>1=%{y}<br>2=%{z}<extra></extra>",
         "legendgroup": "Topic 1",
         "marker": {
          "color": "#EF553B",
          "opacity": 0.7,
          "symbol": "circle"
         },
         "mode": "markers",
         "name": "Topic 1",
         "scene": "scene",
         "showlegend": true,
         "type": "scatter3d",
         "x": [
          0.4539441168308258,
          -6.095643043518066,
          1.6098085641860962,
          2.2875685691833496,
          2.311417818069458,
          0.08793845027685165,
          -2.248303174972534,
          -11.120519638061523,
          -8.324716567993164,
          0.518682062625885,
          1.3951281309127808,
          -8.782483100891113,
          -4.813889026641846,
          -3.003645658493042,
          -0.8920149207115173,
          -8.679549217224121,
          -6.6224188804626465,
          -6.174464225769043,
          -6.6227192878723145,
          -6.928518295288086,
          -0.15164633095264435,
          0.6533894538879395,
          -3.8769404888153076,
          -11.225528717041016,
          -11.370390892028809,
          -12.585318565368652,
          -3.932969093322754,
          1.315590262413025,
          -8.232666015625,
          -0.650152325630188,
          -1.7894675731658936,
          -6.484165668487549,
          -14.02320384979248,
          -9.969585418701172,
          -12.14529800415039,
          -1.4127177000045776,
          -10.504342079162598,
          -10.9941987991333,
          -8.754091262817383,
          -7.899529457092285,
          -13.308906555175781,
          -0.966116189956665,
          -8.095410346984863,
          -10.274600982666016,
          -2.3736796379089355,
          -1.7893657684326172,
          -11.48525333404541,
          -1.8345037698745728,
          -5.19555139541626,
          -2.7044804096221924,
          1.930463194847107,
          -13.512903213500977,
          -3.6197612285614014,
          -0.29735833406448364,
          -6.651172161102295,
          0.3433491587638855,
          -0.8682452440261841,
          -14.268929481506348,
          1.8698012828826904,
          -10.646368026733398,
          -3.268667459487915,
          -5.863048076629639,
          2.305053949356079,
          -1.6661235094070435,
          -0.8134979605674744,
          -4.525077819824219,
          -12.294564247131348,
          -7.843782424926758,
          -2.9575095176696777,
          -0.968051016330719,
          -9.82571029663086,
          -10.515064239501953,
          -4.579028129577637,
          -2.4855239391326904,
          -8.59893798828125,
          -9.038909912109375,
          -13.648624420166016,
          -9.410650253295898,
          1.5425398349761963,
          -10.880369186401367,
          -2.1215250492095947,
          -11.897269248962402,
          -9.167750358581543,
          1.4039961099624634,
          -8.081303596496582,
          -3.1721348762512207,
          0.295182466506958,
          -8.49503231048584,
          -5.92213773727417,
          -11.413744926452637,
          -7.662271499633789,
          -8.991658210754395,
          -13.900981903076172,
          -14.261506080627441,
          -1.2439744472503662,
          -9.701813697814941,
          -3.939157247543335,
          -7.206782817840576,
          0.022379610687494278,
          -9.812051773071289,
          -5.271440505981445,
          -4.9578857421875,
          -1.4723281860351562,
          -12.16983699798584,
          -5.9775238037109375,
          -1.6307518482208252,
          -11.43639087677002,
          -3.2642295360565186,
          -4.699528694152832,
          -0.31354162096977234,
          0.4381978213787079,
          -9.846049308776855,
          -6.805595874786377,
          -3.0374128818511963,
          -4.215697765350342,
          -14.056232452392578,
          1.4826178550720215,
          -11.64390754699707,
          -4.416276931762695,
          2.720386266708374,
          -11.988687515258789,
          -7.285062789916992,
          -6.77018928527832,
          1.1566596031188965,
          -0.9752434492111206,
          -5.751691818237305,
          -5.516399383544922,
          -9.458511352539062,
          -9.287158012390137,
          -5.104959011077881,
          -13.852609634399414,
          -4.188823223114014,
          -1.9176119565963745,
          -11.223383903503418,
          -1.4333429336547852,
          0.2611289918422699,
          -1.9959532022476196,
          -2.561129093170166,
          3.014153242111206,
          -2.4982192516326904,
          -6.991781711578369,
          -10.502850532531738,
          -3.288909435272217,
          -3.659331798553467,
          -6.613185882568359,
          -3.3775923252105713,
          0.6988874077796936,
          -10.30965518951416,
          -6.329851150512695,
          -3.3661611080169678,
          -3.9123659133911133,
          -6.436513900756836,
          1.1617558002471924,
          -0.9318360686302185,
          -10.920363426208496,
          0.2920931875705719,
          -10.074692726135254,
          -8.796009063720703,
          -9.614641189575195,
          -2.1656131744384766,
          2.1599931716918945,
          -1.4710476398468018,
          -2.5708744525909424,
          0.42367950081825256,
          -2.1441121101379395,
          -7.194830894470215,
          -8.009597778320312,
          -5.598776817321777,
          -1.7287161350250244,
          -13.949578285217285,
          -7.110675811767578,
          -4.830423831939697,
          2.620271682739258,
          -1.6659153699874878,
          -10.272919654846191,
          -13.9569730758667,
          -6.629204273223877,
          -5.850903034210205,
          -2.063476800918579,
          -4.934197425842285,
          -4.589126110076904,
          0.7020684480667114,
          -5.708045482635498,
          -1.3933571577072144,
          0.041183922439813614,
          0.21206524968147278,
          -6.908187389373779,
          -7.289388179779053,
          -1.9661102294921875,
          -9.899856567382812,
          -3.5617833137512207,
          0.9563186764717102,
          -0.49393317103385925,
          -13.910075187683105,
          -2.7402024269104004,
          -5.012345314025879,
          -0.09416187554597855,
          -4.708469390869141,
          -12.64193344116211,
          -13.37121868133545,
          -10.15376091003418,
          -2.6091065406799316,
          -4.252796649932861,
          -0.9218414425849915,
          -13.468750953674316,
          0.24442701041698456,
          -6.506338119506836,
          2.7011687755584717,
          -14.058345794677734,
          1.7603198289871216,
          -5.234195232391357,
          1.9087355136871338,
          -5.079191207885742,
          -1.6769517660140991,
          -13.9066162109375,
          -2.532687187194824,
          -7.887027740478516,
          -6.600489139556885,
          -7.708416938781738,
          -6.500808238983154,
          -14.301177978515625,
          -9.823099136352539,
          -1.3955157995224,
          0.20211295783519745,
          -13.408978462219238,
          -6.1356329917907715,
          -0.750607430934906,
          -2.645406484603882,
          -3.906463623046875,
          -5.536581516265869,
          -11.908913612365723,
          -3.415785551071167,
          -3.382007598876953,
          -13.568604469299316,
          1.6117706298828125,
          -10.690180778503418,
          -7.8395233154296875,
          -7.626864433288574,
          -5.127198219299316,
          -0.5051577687263489,
          -3.119121551513672,
          0.43420156836509705,
          -2.8269731998443604,
          -13.91209888458252,
          -7.681722164154053,
          -1.4807164669036865,
          -6.723387718200684,
          -11.823005676269531,
          -6.451694965362549,
          -12.963642120361328,
          0.318897545337677,
          -3.6921775341033936,
          -6.527463436126709,
          -3.3186519145965576,
          1.3059990406036377,
          -1.0597054958343506,
          1.5273710489273071,
          -2.2558109760284424,
          1.117380976676941,
          -1.7651009559631348,
          -2.4242963790893555,
          -3.31441593170166,
          -7.679140567779541,
          -7.950920581817627,
          3.56437349319458,
          -4.496000289916992,
          -5.706644535064697,
          -8.482293128967285,
          -0.7163829803466797,
          -5.798447608947754,
          -13.73613452911377,
          0.6226667165756226,
          -8.727938652038574,
          -5.869132041931152,
          -11.556666374206543,
          -4.453700065612793,
          -10.560922622680664,
          -10.697044372558594,
          -6.899723052978516,
          -11.693819999694824,
          -7.690954208374023,
          -8.745902061462402,
          0.8375456929206848,
          -10.22010326385498,
          -4.408085346221924,
          -0.34601446986198425,
          -4.554482936859131,
          -5.991013050079346,
          -3.119342088699341,
          0.06285446137189865,
          -11.931553840637207,
          -7.146399974822998,
          -13.30201244354248,
          -9.838434219360352,
          -4.841346263885498,
          -2.98842453956604,
          -9.705143928527832,
          -13.275045394897461,
          -8.796754837036133,
          -0.6090693473815918,
          -0.1895475834608078,
          1.1064133644104004,
          -7.799004077911377,
          -8.83695125579834,
          -4.999176025390625,
          -0.1695243865251541,
          1.3545901775360107,
          -12.761199951171875,
          -2.465982675552368,
          -3.2290120124816895,
          -1.7891571521759033
         ],
         "y": [
          5.862056732177734,
          6.257916450500488,
          5.861286640167236,
          5.1817946434021,
          4.899507999420166,
          7.0937700271606445,
          7.483933448791504,
          4.909051418304443,
          5.628520965576172,
          5.824605941772461,
          6.079297065734863,
          5.496382236480713,
          8.451093673706055,
          8.52419662475586,
          10.411603927612305,
          5.565182209014893,
          9.227874755859375,
          9.278286933898926,
          9.058271408081055,
          6.028754234313965,
          6.638883113861084,
          6.609508991241455,
          7.603419780731201,
          6.859160900115967,
          6.759469032287598,
          5.519540309906006,
          6.4655985832214355,
          5.789809226989746,
          5.6929826736450195,
          7.151771068572998,
          7.478332996368408,
          8.83141040802002,
          4.3572678565979,
          7.825011730194092,
          6.001374244689941,
          7.600943088531494,
          5.031230926513672,
          7.098585605621338,
          8.506467819213867,
          5.7706732749938965,
          4.512825965881348,
          10.37131404876709,
          8.056012153625488,
          7.584850311279297,
          8.75468921661377,
          7.324602127075195,
          6.5785627365112305,
          6.3473076820373535,
          9.224189758300781,
          7.5367021560668945,
          5.46988582611084,
          3.8706371784210205,
          8.672183990478516,
          6.38104248046875,
          8.093429565429688,
          6.711167335510254,
          10.421857833862305,
          4.236560344696045,
          5.615610599517822,
          7.389895439147949,
          9.061708450317383,
          9.292182922363281,
          5.1748270988464355,
          6.379051208496094,
          6.258363723754883,
          8.399975776672363,
          5.812065601348877,
          5.8043341636657715,
          6.435851097106934,
          6.2336015701293945,
          7.92546272277832,
          7.481717586517334,
          8.317983627319336,
          8.809491157531738,
          6.2246294021606445,
          5.434737682342529,
          3.953718423843384,
          8.167149543762207,
          5.957435607910156,
          4.941553592681885,
          8.023666381835938,
          6.2280097007751465,
          8.274240493774414,
          5.736142158508301,
          8.728851318359375,
          9.039510726928711,
          7.291881561279297,
          8.641617774963379,
          8.156618118286133,
          4.829068660736084,
          8.123517990112305,
          6.162436485290527,
          3.9800961017608643,
          3.9079675674438477,
          8.039363861083984,
          5.242741107940674,
          7.210907936096191,
          7.929890155792236,
          7.114535331726074,
          7.5134406089782715,
          9.22739028930664,
          6.422940731048584,
          6.492010116577148,
          4.641149520874023,
          8.636628150939941,
          6.67520809173584,
          5.095118522644043,
          6.4589948654174805,
          7.105282306671143,
          6.307229518890381,
          5.961088180541992,
          4.581523418426514,
          8.127099990844727,
          8.462478637695312,
          8.769610404968262,
          4.207112789154053,
          6.001361846923828,
          4.781345367431641,
          7.245687484741211,
          4.622529983520508,
          6.1611552238464355,
          8.925156593322754,
          8.145904541015625,
          5.599653244018555,
          6.500588417053223,
          8.237323760986328,
          6.360973358154297,
          7.704063892364502,
          7.602829933166504,
          6.832496643066406,
          3.7856216430664062,
          7.686022758483887,
          7.7742719650268555,
          4.883891582489014,
          8.15337085723877,
          6.877630710601807,
          8.41205883026123,
          8.586387634277344,
          4.402020454406738,
          8.81431770324707,
          6.033112049102783,
          7.492359161376953,
          6.484029769897461,
          7.659310340881348,
          9.237122535705566,
          9.08736515045166,
          6.678920269012451,
          5.088438987731934,
          8.569680213928223,
          9.070401191711426,
          6.4826459884643555,
          6.1791276931762695,
          6.2225728034973145,
          6.213719844818115,
          7.134732723236084,
          6.150362491607666,
          5.153103351593018,
          8.07360553741455,
          8.09147834777832,
          7.556331157684326,
          5.309567451477051,
          8.04270076751709,
          8.405817985534668,
          6.4792160987854,
          8.401095390319824,
          9.13382625579834,
          8.866277694702148,
          9.305291175842285,
          8.290143013000488,
          4.574306011199951,
          6.030876636505127,
          7.678808212280273,
          4.689561367034912,
          8.24765396118164,
          7.672290802001953,
          4.502018928527832,
          6.122637748718262,
          6.295762538909912,
          8.401130676269531,
          7.013065814971924,
          6.452533721923828,
          5.816701889038086,
          8.112507820129395,
          8.046213150024414,
          7.450192451477051,
          6.979559898376465,
          8.705945014953613,
          6.625759124755859,
          7.401707172393799,
          7.8821282386779785,
          6.4620680809021,
          6.484196186065674,
          7.202834606170654,
          3.7257583141326904,
          6.419079780578613,
          9.27479362487793,
          7.267031192779541,
          9.232990264892578,
          5.4332594871521,
          3.9722049236297607,
          5.127929210662842,
          8.547754287719727,
          7.974764347076416,
          6.217809677124023,
          4.5533342361450195,
          6.200320720672607,
          7.615307331085205,
          6.896472930908203,
          4.0361199378967285,
          5.522587776184082,
          6.380134105682373,
          5.573905944824219,
          9.282340049743652,
          8.300265312194824,
          4.60651969909668,
          6.408546447753906,
          6.598349571228027,
          8.598051071166992,
          7.955414772033691,
          9.247457504272461,
          4.137848854064941,
          7.8531036376953125,
          7.442361831665039,
          6.945151329040527,
          4.381202220916748,
          8.256060600280762,
          7.7071990966796875,
          8.870579719543457,
          8.98685359954834,
          6.350297451019287,
          6.2350544929504395,
          6.463170051574707,
          9.025558471679688,
          4.1492180824279785,
          5.870590686798096,
          7.311278820037842,
          8.922948837280273,
          8.704704284667969,
          6.866387844085693,
          6.131130218505859,
          8.963445663452148,
          6.815160751342773,
          8.932679176330566,
          3.9843618869781494,
          8.95010757446289,
          6.298656463623047,
          6.503020286560059,
          6.319793701171875,
          8.419361114501953,
          4.4740214347839355,
          5.887035369873047,
          8.898558616638184,
          9.004405975341797,
          6.694437503814697,
          5.499776363372803,
          7.918288707733154,
          5.741992950439453,
          8.354429244995117,
          5.589438438415527,
          8.175003051757812,
          6.3956427574157715,
          6.461784839630127,
          7.848956108093262,
          5.747581958770752,
          6.593876361846924,
          8.484003067016602,
          8.596914291381836,
          8.645872116088867,
          6.174261569976807,
          9.295868873596191,
          4.54453706741333,
          5.983725547790527,
          5.5245490074157715,
          6.309228897094727,
          6.5964508056640625,
          6.461446285247803,
          5.034280300140381,
          4.994831562042236,
          9.10538387298584,
          4.804648399353027,
          5.816901206970215,
          5.5239739418029785,
          5.7261857986450195,
          5.817267894744873,
          7.828141689300537,
          7.26481294631958,
          7.020504951477051,
          7.53317403793335,
          7.8556437492370605,
          5.9707183837890625,
          6.202608108520508,
          9.102773666381836,
          4.508662223815918,
          5.220672607421875,
          6.423211097717285,
          8.583788871765137,
          5.2465949058532715,
          4.285618305206299,
          5.485256195068359,
          6.664961338043213,
          6.985625743865967,
          6.267665863037109,
          8.86651611328125,
          5.485884189605713,
          9.224310874938965,
          7.206524848937988,
          6.110073566436768,
          4.490938186645508,
          8.80065631866455,
          6.460874080657959,
          7.214881420135498
         ],
         "z": [
          -5.93141508102417,
          -8.66210651397705,
          -2.0419790744781494,
          -2.240662097930908,
          -4.412138938903809,
          -1.940206527709961,
          -4.622034072875977,
          -8.51613712310791,
          -9.10651683807373,
          -5.927548885345459,
          -1.9135369062423706,
          -9.098182678222656,
          -3.798553466796875,
          -1.9497902393341064,
          -2.993098497390747,
          -9.039467811584473,
          -1.7274940013885498,
          -1.441051959991455,
          -2.465801954269409,
          -8.891083717346191,
          -4.358595371246338,
          2.2478420734405518,
          -5.796810150146484,
          -5.173775672912598,
          -5.239279747009277,
          -6.257229328155518,
          -8.21644115447998,
          -3.844871997833252,
          -9.042786598205566,
          -3.3365044593811035,
          -4.057504177093506,
          -3.2021372318267822,
          -7.609372615814209,
          -4.25169563293457,
          -5.879933834075928,
          -2.99674391746521,
          -8.791080474853516,
          -4.926027774810791,
          -3.2863705158233643,
          -9.038010597229004,
          -7.20684814453125,
          -2.8044321537017822,
          -4.726832389831543,
          -4.540633678436279,
          1.6161847114562988,
          -4.607021808624268,
          -5.463168621063232,
          -7.370100975036621,
          -1.1997158527374268,
          -4.887274742126465,
          -2.6025891304016113,
          -7.182240009307861,
          -2.0661299228668213,
          -5.603872776031494,
          -5.052968502044678,
          -2.841407537460327,
          -3.0460944175720215,
          -7.109210014343262,
          -1.2455365657806396,
          -4.6580023765563965,
          0.4895375370979309,
          -1.2801525592803955,
          -2.116814136505127,
          -7.247503757476807,
          -6.653755187988281,
          -3.7929587364196777,
          -6.050012588500977,
          -9.006647109985352,
          -7.930893898010254,
          -6.890178680419922,
          -4.109993934631348,
          -4.576060771942139,
          -4.061891555786133,
          1.4337843656539917,
          -7.946938514709473,
          -9.047514915466309,
          -7.6132378578186035,
          -3.7881810665130615,
          -1.3675413131713867,
          -8.651288986206055,
          -2.5666675567626953,
          -5.721166133880615,
          -3.661623001098633,
          -3.7875561714172363,
          -3.0393552780151367,
          0.62115877866745,
          -1.7176063060760498,
          -3.0618598461151123,
          -4.921615123748779,
          -8.416536331176758,
          -4.740702152252197,
          -7.827634811401367,
          -7.619942665100098,
          -7.119156837463379,
          0.19189119338989258,
          -8.970521926879883,
          -6.624822616577148,
          -5.302640438079834,
          1.0523653030395508,
          -5.027210235595703,
          -1.2636533975601196,
          -8.428810119628906,
          -6.757927894592285,
          -8.056392669677734,
          -3.7102975845336914,
          -6.4369683265686035,
          -7.96069860458374,
          -8.027434349060059,
          -7.073517799377441,
          -5.856389999389648,
          -5.970000267028809,
          -8.734864234924316,
          -4.9584503173828125,
          -2.217750310897827,
          -2.255652666091919,
          -6.866336822509766,
          -0.7458836436271667,
          -8.297539710998535,
          -6.695001125335693,
          -4.175780773162842,
          -5.754636764526367,
          -2.8118245601654053,
          -4.921887397766113,
          -5.302084922790527,
          -6.1841511726379395,
          -4.7060227394104,
          -8.538727760314941,
          -4.842468738555908,
          -5.150628566741943,
          -7.671657562255859,
          -7.022221088409424,
          -5.54269552230835,
          -3.1740732192993164,
          -8.478002548217773,
          -0.007748680654913187,
          2.1679086685180664,
          -0.5746188163757324,
          -0.9838316440582275,
          -4.091856956481934,
          1.4108840227127075,
          -8.868268013000488,
          -4.567572116851807,
          -7.988364219665527,
          -5.290102958679199,
          -1.6876881122589111,
          0.3992060422897339,
          -0.5755137801170349,
          -8.828909873962402,
          -3.9476511478424072,
          0.3021838068962097,
          -8.180017471313477,
          -8.738713264465332,
          -2.328063488006592,
          -6.900400638580322,
          -4.920628547668457,
          -5.322573184967041,
          -8.875844955444336,
          -4.358014106750488,
          -3.852418899536133,
          -4.282127380371094,
          -1.9297641515731812,
          -1.3494035005569458,
          -1.8202104568481445,
          -3.5773000717163086,
          -1.0875940322875977,
          -2.0143487453460693,
          -2.652480125427246,
          -1.1064119338989258,
          -0.47769927978515625,
          -7.160833358764648,
          -8.84251880645752,
          -5.787059783935547,
          -4.244901657104492,
          -0.588522732257843,
          -4.3640522956848145,
          -7.012026786804199,
          -8.805595397949219,
          -8.625218391418457,
          -0.8896990418434143,
          -7.303781032562256,
          -8.346914291381836,
          -5.599637031555176,
          -4.987186431884766,
          -1.1012009382247925,
          -1.523661732673645,
          -2.094503879547119,
          -3.5160529613494873,
          -7.7464399337768555,
          -4.572357654571533,
          -4.164493560791016,
          -8.129680633544922,
          -1.1454696655273438,
          -2.8523590564727783,
          -7.317737579345703,
          -7.84145975112915,
          -0.8228155970573425,
          -1.5545493364334106,
          -0.6977160573005676,
          -6.347386837005615,
          -7.240936756134033,
          -8.875134468078613,
          -1.2642117738723755,
          -4.807579517364502,
          -6.878565311431885,
          -7.525469779968262,
          -5.242748260498047,
          -6.040966510772705,
          -2.1376476287841797,
          -7.585180282592773,
          -3.399663209915161,
          -8.51357364654541,
          -1.3326297998428345,
          -0.8442941308021545,
          0.14221353828907013,
          -7.36594820022583,
          -7.733825206756592,
          -7.594097137451172,
          -3.8620693683624268,
          -5.103501319885254,
          -1.6374863386154175,
          -7.311336040496826,
          -4.28617525100708,
          -3.5620028972625732,
          1.8496519327163696,
          -6.988716125488281,
          -4.7151031494140625,
          -1.0778318643569946,
          1.2194231748580933,
          -0.9861356019973755,
          -8.558402061462402,
          -5.69896936416626,
          -8.079248428344727,
          -0.011972619220614433,
          -6.881638050079346,
          -2.1378865242004395,
          -4.770808696746826,
          -2.547821521759033,
          -3.3121330738067627,
          -7.6052374839782715,
          -6.612533092498779,
          0.1397952288389206,
          1.0186030864715576,
          0.9948114156723022,
          -6.8575005531311035,
          -2.5172009468078613,
          -7.198531627655029,
          -8.116877555847168,
          -5.630976676940918,
          -4.329529762268066,
          -7.587645053863525,
          -6.082790374755859,
          -1.1543623208999634,
          -2.654778003692627,
          -7.568843364715576,
          -5.204568862915039,
          0.11326542496681213,
          -3.2398741245269775,
          -1.5329082012176514,
          -5.407999038696289,
          -1.383914589881897,
          -7.6868414878845215,
          -8.042815208435059,
          -5.334207534790039,
          -9.052142143249512,
          -2.430036783218384,
          -3.504620313644409,
          -3.744061231613159,
          -3.0539236068725586,
          -6.758758544921875,
          -1.2380590438842773,
          -7.576076984405518,
          -5.17923641204834,
          -9.079526901245117,
          -8.599994659423828,
          -5.375915050506592,
          -8.31321907043457,
          -8.722040176391602,
          -8.693182945251465,
          -2.2268691062927246,
          -8.218423843383789,
          -9.028067588806152,
          -9.070385932922363,
          -5.605234146118164,
          -7.603275775909424,
          -5.278687000274658,
          -2.3285653591156006,
          -7.228660583496094,
          -6.237112522125244,
          -4.274136543273926,
          -6.256556987762451,
          -5.735286235809326,
          -2.1597957611083984,
          -7.212048530578613,
          -8.902982711791992,
          -8.423186302185059,
          -1.686509370803833,
          -8.951292037963867,
          -7.540698528289795,
          -9.1112699508667,
          -5.125143051147461,
          -3.052767515182495,
          -2.320542573928833,
          -2.756068706512451,
          -9.087343215942383,
          -1.0407516956329346,
          -2.170358419418335,
          0.07303585112094879,
          -7.768892765045166,
          1.442970871925354,
          -8.008885383605957,
          -4.972300052642822
         ]
        },
        {
         "hovertemplate": "Dominant_Topic=Topic 2<br>0=%{x}<br>1=%{y}<br>2=%{z}<extra></extra>",
         "legendgroup": "Topic 2",
         "marker": {
          "color": "#00cc96",
          "opacity": 0.7,
          "symbol": "circle"
         },
         "mode": "markers",
         "name": "Topic 2",
         "scene": "scene",
         "showlegend": true,
         "type": "scatter3d",
         "x": [
          10.036126136779785,
          2.8303024768829346,
          -2.407313585281372,
          3.4905056953430176,
          6.06639289855957,
          6.6171135902404785,
          9.443440437316895,
          5.793589115142822,
          5.161633014678955,
          6.087707996368408,
          2.2010786533355713,
          6.072364807128906,
          1.3133633136749268,
          6.408970355987549,
          7.677793502807617,
          6.242640495300293,
          6.8363847732543945,
          6.4880266189575195,
          -3.6989481449127197,
          4.0022664070129395,
          6.627964973449707,
          -1.0468978881835938,
          9.132122993469238,
          9.93447208404541,
          -8.692877769470215,
          6.43278694152832,
          -0.8521773219108582,
          6.433511734008789,
          5.5901780128479,
          2.1622567176818848,
          8.566962242126465,
          7.979040622711182,
          6.419192790985107,
          4.837469100952148,
          -4.859137535095215,
          10.062226295471191,
          6.670833110809326,
          10.029458045959473,
          10.07393741607666,
          1.6150968074798584,
          10.07878589630127,
          -0.6094977259635925,
          7.651552677154541,
          1.3539787530899048,
          6.9516730308532715,
          8.423259735107422,
          5.77793550491333,
          4.20192813873291,
          5.957996845245361,
          2.0620086193084717,
          6.801239490509033,
          10.02602767944336,
          2.971327066421509,
          -7.1850714683532715,
          -1.7365270853042603,
          6.328153610229492,
          6.05534029006958,
          -6.461889266967773,
          6.181780815124512,
          -4.099519729614258,
          -1.7457321882247925,
          7.19159460067749,
          -6.558456897735596,
          3.617469072341919,
          8.956683158874512,
          3.2881722450256348,
          10.037313461303711,
          -2.610034704208374,
          4.455843448638916,
          6.366000652313232,
          -6.241709232330322,
          10.200423240661621,
          6.43471622467041,
          5.72216796875,
          5.376827239990234,
          4.63914680480957,
          6.510860919952393,
          6.048887252807617,
          1.4651827812194824,
          3.7759242057800293,
          5.06731653213501,
          -2.8277647495269775,
          3.871687650680542,
          4.418376445770264,
          8.70101261138916,
          7.747480869293213,
          6.913796424865723,
          9.372983932495117,
          -4.780730247497559,
          8.583948135375977,
          -2.0513768196105957,
          -8.11693286895752,
          4.561946868896484,
          2.820744514465332,
          1.9668740034103394,
          3.554837703704834,
          5.200648307800293,
          7.015027046203613,
          8.249913215637207,
          6.069857120513916,
          0.7221466302871704,
          -2.244915008544922,
          6.462112903594971,
          4.8641767501831055,
          6.327281475067139,
          8.4708251953125,
          5.2677693367004395,
          9.527825355529785,
          6.123180866241455,
          4.405608654022217,
          9.126994132995605,
          -3.727811813354492,
          7.281900882720947,
          7.911843776702881,
          8.860033988952637,
          8.27073860168457,
          5.272927284240723,
          6.841915130615234,
          10.108705520629883,
          3.6697981357574463,
          6.300752639770508,
          6.841868877410889,
          6.336329936981201,
          7.839382648468018,
          5.651348114013672,
          7.02108097076416,
          5.75156831741333,
          7.168124675750732,
          7.953718185424805,
          3.5108277797698975,
          4.238168716430664,
          10.027320861816406,
          9.273548126220703,
          -7.5006842613220215,
          7.6657538414001465,
          4.033220291137695,
          -4.03810977935791,
          6.4880146980285645,
          6.4172868728637695,
          5.197015285491943,
          8.044257164001465,
          -6.681331157684326,
          5.868715763092041,
          -7.814537525177002,
          3.473799705505371,
          -9.205092430114746,
          7.613328456878662,
          -5.341709613800049,
          6.543400764465332,
          5.373492240905762,
          4.472020149230957,
          -8.251908302307129,
          10.11020278930664,
          4.919517517089844,
          10.077528953552246,
          -9.169072151184082,
          8.077058792114258,
          6.678707599639893,
          -6.107065200805664,
          -3.5838303565979004,
          5.367568492889404,
          0.9980863928794861,
          7.30475378036499,
          5.964211940765381,
          5.364804267883301,
          2.6578240394592285,
          -7.070637226104736,
          -0.10612209886312485,
          7.671823978424072,
          8.013785362243652,
          8.528511047363281,
          -9.317963600158691,
          8.041316032409668,
          5.7639851570129395,
          6.077188491821289,
          6.779358386993408,
          -4.562253952026367,
          3.84844970703125,
          6.191752910614014,
          6.435202121734619,
          1.900405764579773,
          6.410216808319092,
          6.801517963409424,
          6.804737091064453,
          7.942596912384033,
          -5.863008975982666,
          -6.0998005867004395,
          6.554496765136719,
          10.093083381652832,
          -8.44265365600586,
          5.910050868988037,
          9.99681568145752,
          7.759860038757324,
          6.54597282409668,
          7.920810222625732,
          -1.1101393699645996,
          -6.919774055480957,
          6.022190570831299,
          6.982311248779297,
          8.912810325622559,
          7.140242099761963,
          6.059334754943848,
          7.599628925323486,
          6.818592071533203,
          10.004911422729492,
          6.6612958908081055,
          8.05220890045166,
          5.854671478271484,
          6.436774253845215,
          8.44640827178955,
          8.73886489868164,
          2.8128743171691895,
          9.393052101135254,
          -4.835443019866943,
          1.9139035940170288,
          -4.048244476318359,
          5.0528244972229,
          -8.555237770080566,
          8.143611907958984,
          7.602659225463867,
          3.249896764755249,
          1.677782416343689,
          -5.440115451812744,
          8.054709434509277,
          6.990578651428223,
          9.563068389892578,
          6.483621120452881,
          4.778814315795898,
          3.1943907737731934,
          6.062042236328125,
          0.6775502562522888,
          7.048655986785889,
          6.521090507507324,
          7.380085468292236,
          -4.002959728240967,
          3.8767452239990234,
          4.506186485290527,
          6.711252212524414,
          2.7940757274627686,
          6.736937522888184,
          6.1996684074401855,
          3.724973440170288,
          6.195858955383301,
          10.034308433532715,
          9.27113151550293,
          7.853333950042725,
          4.705575942993164,
          6.3770856857299805,
          -1.58777916431427,
          5.2047953605651855,
          5.892920970916748,
          6.744855880737305,
          7.174871921539307,
          -5.192715644836426,
          4.856283664703369,
          7.651003837585449,
          9.722796440124512,
          -9.044881820678711,
          6.33351993560791,
          7.701942443847656,
          -9.05922794342041,
          2.634742021560669,
          8.216763496398926,
          -1.9773856401443481,
          6.38413667678833,
          5.767228603363037,
          5.922834873199463,
          3.9598388671875,
          -7.584780693054199,
          8.244994163513184,
          7.001376628875732,
          8.357860565185547,
          5.8018293380737305,
          6.773839473724365,
          6.026978492736816,
          9.910714149475098,
          -6.321380138397217,
          5.519418239593506,
          4.805904865264893,
          6.565720081329346,
          -6.452884197235107,
          2.8168537616729736,
          3.760441541671753,
          9.139907836914062,
          9.860968589782715,
          7.319649696350098,
          -6.729750633239746,
          6.557611465454102,
          4.967449188232422,
          9.835253715515137,
          -7.047271251678467,
          5.389286518096924,
          -6.453783988952637,
          -1.7135769128799438,
          -5.964966773986816,
          9.200594902038574,
          -6.894693374633789,
          9.351231575012207,
          3.6784305572509766,
          1.1970081329345703,
          -1.8261905908584595,
          6.377463340759277,
          6.231645107269287,
          3.677473783493042,
          7.3252081871032715,
          9.398329734802246,
          9.960043907165527,
          4.8218607902526855,
          -2.450639247894287,
          6.193568229675293,
          3.0804007053375244,
          8.3502779006958,
          -8.63304615020752,
          -4.036143779754639,
          -1.7998697757720947,
          1.482248306274414,
          -3.78395676612854,
          8.938133239746094,
          3.340972661972046,
          7.452984809875488,
          -5.544869422912598,
          9.437016487121582,
          5.6554789543151855,
          4.948209285736084,
          7.830996036529541,
          5.161662578582764,
          5.233126163482666,
          4.377617835998535,
          8.547207832336426,
          3.1109962463378906,
          9.879920959472656,
          8.934965133666992,
          5.2214555740356445,
          8.151037216186523,
          8.382208824157715,
          5.808529376983643,
          9.697833061218262,
          6.811304092407227,
          2.3185677528381348,
          2.8325767517089844,
          9.972344398498535,
          3.4151885509490967,
          8.76471996307373,
          6.241179466247559,
          5.91713285446167,
          -3.357285976409912,
          8.362802505493164,
          5.324551582336426,
          7.40083646774292,
          8.33847713470459,
          6.731696128845215,
          3.188284158706665,
          7.09095573425293,
          5.012755870819092,
          5.585060119628906,
          -7.433767318725586,
          8.866458892822266,
          7.655150413513184,
          5.121904373168945,
          3.2200863361358643,
          8.463462829589844,
          2.657236337661743,
          1.817092776298523,
          5.211083889007568,
          8.058004379272461,
          3.009418487548828,
          6.398036003112793,
          6.300954341888428,
          6.055238246917725,
          10.107921600341797,
          8.774659156799316,
          1.3058180809020996,
          7.633304119110107,
          7.085881233215332,
          5.639047145843506,
          3.1780638694763184,
          7.379766464233398,
          6.335748672485352,
          -0.45986270904541016,
          8.389249801635742,
          -6.245587348937988,
          6.698455333709717,
          6.671899795532227,
          9.128024101257324,
          5.747681617736816,
          8.40952205657959,
          6.040708541870117,
          3.191070795059204,
          9.597372055053711,
          7.537113189697266,
          9.879088401794434,
          6.683333873748779,
          7.899545669555664,
          8.827747344970703,
          3.563406467437744,
          8.778353691101074,
          -7.658451557159424,
          6.514890670776367,
          -3.1788125038146973,
          -3.957453966140747,
          2.995720386505127,
          6.385861396789551,
          6.636422157287598,
          6.889510154724121,
          8.93712043762207,
          9.279727935791016,
          9.999131202697754,
          7.1211018562316895,
          8.696382522583008,
          3.397061347961426,
          8.365357398986816,
          8.989561080932617,
          6.191272258758545,
          4.015715599060059,
          5.679881572723389,
          6.059164524078369,
          7.008913040161133,
          5.836169719696045,
          2.6745569705963135,
          8.45455265045166,
          8.524040222167969,
          -6.969405651092529,
          6.2622857093811035,
          2.693175792694092,
          1.4540019035339355,
          2.329317808151245,
          7.393369197845459,
          8.251489639282227,
          6.134890556335449,
          1.5341089963912964,
          7.216489791870117,
          4.604910373687744,
          4.841021537780762,
          6.422748565673828,
          4.427159309387207,
          2.3856499195098877,
          6.464301109313965,
          0.7905881404876709,
          3.623405933380127,
          6.483430862426758,
          -4.931948661804199,
          10.088899612426758,
          5.199517726898193,
          7.516104698181152,
          8.677713394165039,
          6.31255578994751,
          4.046761989593506,
          7.848755359649658,
          5.901664733886719,
          2.9620680809020996,
          6.72840690612793,
          -1.609117031097412,
          2.281263589859009,
          2.6806623935699463,
          6.473923206329346,
          3.2934677600860596,
          6.44340705871582
         ],
         "y": [
          -3.0503106117248535,
          -6.6053571701049805,
          -11.875752449035645,
          -9.590361595153809,
          -0.07278705388307571,
          -6.247082233428955,
          -7.037335395812988,
          0.7541680932044983,
          2.5951240062713623,
          -6.245882034301758,
          -11.742387771606445,
          -0.09498913586139679,
          -11.893549919128418,
          1.9330929517745972,
          -0.9534167647361755,
          -0.7584602236747742,
          -7.680569648742676,
          -10.301422119140625,
          -11.293966293334961,
          3.5872228145599365,
          1.888201117515564,
          -12.205599784851074,
          -0.875291109085083,
          -5.777562618255615,
          -8.434348106384277,
          -3.1619160175323486,
          -12.800366401672363,
          -2.235638380050659,
          -10.993204116821289,
          -10.62045955657959,
          -1.9349480867385864,
          -9.105177879333496,
          -1.5225424766540527,
          -11.392251968383789,
          -10.668924331665039,
          -4.929328918457031,
          -0.4994226098060608,
          -5.054215431213379,
          -4.756224155426025,
          -11.826984405517578,
          -4.787053108215332,
          -12.222046852111816,
          -0.9373390078544617,
          -11.854938507080078,
          1.6467103958129883,
          -1.150877833366394,
          -10.881135940551758,
          6.1621551513671875,
          -5.978992938995361,
          -11.776448249816895,
          -5.603485107421875,
          -3.008854866027832,
          -10.110965728759766,
          -9.107003211975098,
          -12.094564437866211,
          -1.2431892156600952,
          2.12795352935791,
          -9.816974639892578,
          -5.200552940368652,
          -11.060349464416504,
          -12.080009460449219,
          -9.808801651000977,
          -9.647442817687988,
          -11.09856128692627,
          -6.787428379058838,
          -9.790736198425293,
          -5.110235214233398,
          -11.78271770477295,
          3.669029951095581,
          -3.8725879192352295,
          -10.082291603088379,
          -3.2371580600738525,
          2.0657334327697754,
          0.9819020628929138,
          2.9438300132751465,
          2.927151918411255,
          1.804385781288147,
          -5.703418254852295,
          -11.877645492553711,
          -10.82363510131836,
          -7.61325216293335,
          -11.693946838378906,
          -7.877012729644775,
          3.720905065536499,
          -0.2568697929382324,
          -2.774121046066284,
          1.6309267282485962,
          -7.1262078285217285,
          -10.716100692749023,
          -1.5892958641052246,
          -11.997937202453613,
          -8.515397071838379,
          3.5874991416931152,
          -12.046083450317383,
          -11.791211128234863,
          -9.51148796081543,
          2.1231629848480225,
          -9.938284873962402,
          -1.260717749595642,
          2.260341167449951,
          -9.595634460449219,
          -11.93208122253418,
          -3.811756134033203,
          -7.910781383514404,
          -1.2346035242080688,
          -1.0167220830917358,
          -7.309321403503418,
          -1.604899287223816,
          0.8316742181777954,
          -8.505636215209961,
          -7.696820259094238,
          -11.287527084350586,
          -4.311465263366699,
          -3.444633960723877,
          -7.703814506530762,
          -5.2248663902282715,
          1.989158272743225,
          -5.672618865966797,
          -3.8855834007263184,
          3.893336057662964,
          -4.345334529876709,
          1.612037181854248,
          -5.610320091247559,
          -2.6957294940948486,
          1.9236220121383667,
          1.4767165184020996,
          -6.524787902832031,
          -5.163170337677002,
          -9.149657249450684,
          -5.364987850189209,
          3.3582687377929688,
          -3.002439498901367,
          -1.1052759885787964,
          -8.880722045898438,
          -1.2413158416748047,
          3.5584161281585693,
          -11.155837059020996,
          1.7964754104614258,
          -1.8421915769577026,
          -7.411039352416992,
          -3.9236018657684326,
          -9.430034637451172,
          2.4777419567108154,
          -8.665648460388184,
          -11.198229789733887,
          -8.550966262817383,
          -9.461708068847656,
          -10.390746116638184,
          2.011772871017456,
          2.2283542156219482,
          -11.54955005645752,
          -8.47645378112793,
          -3.848982095718384,
          -11.371109008789062,
          -3.3041610717773438,
          -8.53926944732666,
          -3.127157688140869,
          -1.8695560693740845,
          -9.702892303466797,
          -11.356544494628906,
          1.7898757457733154,
          -9.27831745147705,
          -3.8918955326080322,
          0.26036593317985535,
          1.811983585357666,
          4.904434680938721,
          -9.484735488891602,
          -10.885581016540527,
          -4.197554588317871,
          -3.154658555984497,
          -6.885293006896973,
          -8.590736389160156,
          0.5415894985198975,
          2.603134870529175,
          -5.799595832824707,
          1.8057667016983032,
          -10.836593627929688,
          -8.16012954711914,
          -5.421187877655029,
          -3.062657117843628,
          -11.821455955505371,
          -3.4442412853240967,
          -7.864721298217773,
          -7.477243900299072,
          -9.14493465423584,
          -10.069366455078125,
          -9.66762638092041,
          1.8126970529556274,
          -3.4669032096862793,
          -8.436152458190918,
          2.472820281982422,
          -2.8683087825775146,
          -4.11706018447876,
          -2.235502004623413,
          -9.167206764221191,
          -12.231841087341309,
          -9.47496509552002,
          1.2111948728561401,
          1.3954507112503052,
          -0.5481926798820496,
          1.4715065956115723,
          2.2954251766204834,
          -0.8341687321662903,
          -2.905318021774292,
          -2.8959336280822754,
          -6.03987455368042,
          -4.266635417938232,
          -10.74143123626709,
          0.4620465040206909,
          -1.5801807641983032,
          -0.3078067898750305,
          -10.215200424194336,
          -7.0069122314453125,
          -10.682577133178711,
          -11.797820091247559,
          -11.123655319213867,
          -11.290502548217773,
          -8.430765151977539,
          -6.6634721755981445,
          -0.8186028003692627,
          -5.241067409515381,
          -10.97119426727295,
          -10.316202163696289,
          0.5271275043487549,
          1.5066555738449097,
          -6.764323711395264,
          -10.272994041442871,
          3.4463930130004883,
          -11.969767570495605,
          -0.057266123592853546,
          -9.62696361541748,
          1.561104416847229,
          1.7608704566955566,
          -0.3947078585624695,
          -11.157576560974121,
          -6.091805934906006,
          -8.351822853088379,
          1.4633688926696777,
          -6.6974663734436035,
          -8.938772201538086,
          0.6584146618843079,
          -11.824745178222656,
          -5.468584060668945,
          -5.308695316314697,
          -6.317605018615723,
          0.7385141253471375,
          -8.58597183227539,
          1.0310122966766357,
          -12.101522445678711,
          -7.402885437011719,
          -6.193522930145264,
          -6.75014591217041,
          -9.827940940856934,
          -10.467629432678223,
          3.381143569946289,
          0.934765636920929,
          -6.448704719543457,
          -8.501460075378418,
          -5.626266002655029,
          -1.785869836807251,
          -8.505499839782715,
          -10.367108345031738,
          -4.928843975067139,
          -12.008928298950195,
          1.1966111660003662,
          1.1975115537643433,
          2.43216609954834,
          -9.048246383666992,
          -8.837779998779297,
          -2.4360897541046143,
          -0.48552700877189636,
          -1.6664506196975708,
          -5.352601528167725,
          -8.64968490600586,
          -6.002537727355957,
          -5.9010090827941895,
          -10.039276123046875,
          1.4960085153579712,
          -7.947149753570557,
          1.8198875188827515,
          -9.704691886901855,
          -6.649715900421143,
          -11.062089920043945,
          -7.431224822998047,
          -6.074985980987549,
          -3.0260863304138184,
          -9.363541603088379,
          -10.214008331298828,
          2.4989683628082275,
          -6.06740140914917,
          -9.180830001831055,
          2.376985788345337,
          -9.798728942871094,
          -12.095712661743164,
          -10.06270694732666,
          -7.334336280822754,
          -9.176405906677246,
          -1.2411260604858398,
          -9.821374893188477,
          -11.902486801147461,
          -11.988396644592285,
          -3.7682645320892334,
          -10.599187850952148,
          -9.435835838317871,
          -9.674639701843262,
          -1.331993818283081,
          -5.707315921783447,
          -7.9337358474731445,
          -11.848990440368652,
          0.5743668079376221,
          -11.98582935333252,
          0.19209350645542145,
          -8.431330680847168,
          -11.214277267456055,
          -12.078873634338379,
          -11.872653007507324,
          -11.250099182128906,
          -6.814736366271973,
          -11.933000564575195,
          1.1171931028366089,
          -10.253242492675781,
          -1.412201166152954,
          1.6151001453399658,
          2.8585093021392822,
          -0.4410032033920288,
          2.595062494277954,
          2.053941249847412,
          3.7486610412597656,
          -7.0104241371154785,
          -6.1744890213012695,
          -6.011069297790527,
          -6.81923246383667,
          -7.3786492347717285,
          -2.917290687561035,
          0.15303707122802734,
          2.429893970489502,
          -2.002695083618164,
          -8.045462608337402,
          -11.733866691589355,
          -6.619953632354736,
          -2.78947377204895,
          -6.024443626403809,
          -8.047513961791992,
          -4.745744705200195,
          -10.616064071655273,
          -11.460846900939941,
          -8.639549255371094,
          -7.221238613128662,
          -0.6426870822906494,
          -2.2448863983154297,
          1.6928973197937012,
          -9.962790489196777,
          1.4236936569213867,
          -7.704022407531738,
          -10.99764347076416,
          -8.976641654968262,
          -1.7035505771636963,
          0.93034428358078,
          -11.255030632019043,
          4.290326118469238,
          -8.540556907653809,
          -10.303502082824707,
          -11.853755950927734,
          -11.207066535949707,
          -6.478625774383545,
          -5.87455940246582,
          -3.6439504623413086,
          1.963287591934204,
          -10.637537002563477,
          -3.461479425430298,
          -8.101593971252441,
          -11.888467788696289,
          -2.5695083141326904,
          0.06731607019901276,
          -6.702167987823486,
          -11.41180419921875,
          -9.658273696899414,
          -10.543622970581055,
          -10.776679039001465,
          -2.0258219242095947,
          -9.390992164611816,
          -10.186983108520508,
          1.7274929285049438,
          -7.640979290008545,
          2.6353046894073486,
          -8.570453643798828,
          1.0983102321624756,
          -11.367596626281738,
          -1.7694268226623535,
          -9.538002014160156,
          -2.4770283699035645,
          1.7178057432174683,
          -9.672744750976562,
          -7.5037946701049805,
          3.9673919677734375,
          -5.988443851470947,
          -8.764924049377441,
          -2.1395435333251953,
          -11.54054069519043,
          -11.148139953613281,
          -10.057374000549316,
          -0.22425150871276855,
          -10.136164665222168,
          -10.041479110717773,
          -7.8456597328186035,
          -1.1163477897644043,
          -5.377830982208252,
          -2.5456016063690186,
          -1.8787091970443726,
          4.108541011810303,
          0.17397823929786682,
          -5.488670349121094,
          2.188527822494507,
          -11.729626655578613,
          -10.967904090881348,
          -5.921548843383789,
          -5.889913558959961,
          -10.785795211791992,
          -10.29212760925293,
          -1.6254478693008423,
          -1.9811922311782837,
          -9.796299934387207,
          -0.8535370826721191,
          -11.580375671386719,
          -11.887845993041992,
          -10.60472583770752,
          -0.6471485495567322,
          -8.739813804626465,
          -5.434155464172363,
          -11.080684661865234,
          -2.404444694519043,
          -11.813488006591797,
          -7.920027256011963,
          1.8530775308609009,
          3.155609607696533,
          5.1103925704956055,
          -1.7718989849090576,
          -11.970932960510254,
          -9.516655921936035,
          0.8457579016685486,
          -10.617990493774414,
          -3.4389123916625977,
          2.121882438659668,
          -2.8298470973968506,
          -8.1070556640625,
          1.685033917427063,
          -11.719319343566895,
          -6.530269145965576,
          2.432178258895874,
          -5.759578704833984,
          1.851226568222046,
          -12.106267929077148,
          -11.73989200592041,
          -10.275288581848145,
          -1.7436082363128662,
          -5.439992904663086,
          -1.4563188552856445
         ],
         "z": [
          3.9310715198516846,
          -2.283586263656616,
          -1.4656250476837158,
          -5.949498653411865,
          -4.64204740524292,
          -3.369180202484131,
          2.4608404636383057,
          -4.570030689239502,
          -3.551143169403076,
          -4.638967514038086,
          -3.8973379135131836,
          -4.645287990570068,
          -3.313124895095825,
          0.7109696865081787,
          -0.732048511505127,
          -4.686248302459717,
          -2.000453233718872,
          -0.2581501007080078,
          -1.1344075202941895,
          -3.9994349479675293,
          4.455329895019531,
          -2.022292375564575,
          4.257307052612305,
          3.2622976303100586,
          -0.6527467370033264,
          -4.869405269622803,
          -1.7906992435455322,
          -4.789636611938477,
          -0.5288395285606384,
          -5.592994213104248,
          0.5788542628288269,
          0.8653802871704102,
          -4.639013290405273,
          -0.8179266452789307,
          -0.9065951704978943,
          3.6267683506011963,
          -3.1511263847351074,
          3.5896754264831543,
          3.6713149547576904,
          -3.614715814590454,
          3.6668286323547363,
          -2.2193350791931152,
          -0.7882912755012512,
          -3.4383301734924316,
          3.4122097492218018,
          0.8915502429008484,
          -0.4625794589519501,
          -2.422459363937378,
          -5.161802768707275,
          -3.816615343093872,
          -3.23043155670166,
          3.9493234157562256,
          -5.897104740142822,
          -0.6647274494171143,
          -1.6839845180511475,
          -4.753655433654785,
          -0.6635378003120422,
          -0.5027760863304138,
          -5.002756118774414,
          -1.0581766366958618,
          -1.6669776439666748,
          0.19123712182044983,
          -0.9572545289993286,
          -4.722692966461182,
          1.753251314163208,
          -5.96240758895874,
          3.57063627243042,
          -1.4194220304489136,
          3.0977587699890137,
          -4.961246013641357,
          -0.7834367752075195,
          3.9161553382873535,
          4.158839225769043,
          -4.505636215209961,
          1.7484335899353027,
          -4.088409900665283,
          0.6870569586753845,
          -5.125098705291748,
          -3.41695499420166,
          -4.918285369873047,
          -5.601883888244629,
          -1.362687349319458,
          -4.932166576385498,
          2.797241687774658,
          4.38904333114624,
          -1.3688374757766724,
          4.7145843505859375,
          2.382617950439453,
          -0.9170026779174805,
          0.851448655128479,
          -1.5605344772338867,
          -0.6971924901008606,
          3.08282470703125,
          -1.6844552755355835,
          -3.77303147315979,
          -5.9531331062316895,
          -4.338776588439941,
          0.05334587022662163,
          0.33219558000564575,
          4.892025470733643,
          -2.340928554534912,
          -1.5300302505493164,
          -4.71049165725708,
          -5.6526780128479,
          -4.743092060089111,
          1.1916015148162842,
          -5.551024436950684,
          4.084848880767822,
          -3.5059897899627686,
          -5.7892985343933105,
          2.125201463699341,
          -1.1240109205245972,
          -2.4128167629241943,
          -1.0532934665679932,
          1.7647780179977417,
          -0.1074184998869896,
          -4.380716800689697,
          -3.098524808883667,
          3.843055248260498,
          -3.9513967037200928,
          -4.986445903778076,
          2.0224361419677734,
          -4.373357772827148,
          -1.1428940296173096,
          -3.279334306716919,
          5.307908058166504,
          -5.170690059661865,
          -2.4781718254089355,
          0.8603610396385193,
          -2.4144554138183594,
          -4.027586936950684,
          3.9599530696868896,
          4.1852617263793945,
          -0.7455757856369019,
          -0.9280737638473511,
          -4.001362323760986,
          -1.0408761501312256,
          0.5100324749946594,
          -4.825231552124023,
          -5.609894275665283,
          -0.7609809637069702,
          -0.4595039486885071,
          -0.1621514856815338,
          -0.7160744667053223,
          -4.638803482055664,
          -0.5992496013641357,
          0.515781581401825,
          -0.8342962265014648,
          3.4320905208587646,
          -3.664034366607666,
          -0.968143105506897,
          -0.6890406608581543,
          3.863952398300171,
          -0.7978911995887756,
          3.886643171310425,
          -0.6034771800041199,
          -0.6929141283035278,
          -4.049253463745117,
          -0.6939626336097717,
          -1.1587679386138916,
          -4.440906524658203,
          -2.3598108291625977,
          -2.4286320209503174,
          -4.616844177246094,
          -4.413458347320557,
          -2.393582820892334,
          -0.75783371925354,
          -2.49865460395813,
          -1.5521211624145508,
          -0.8295610547065735,
          0.8969829678535461,
          -0.58725506067276,
          4.646303176879883,
          -0.20411784946918488,
          -4.964627742767334,
          3.529353141784668,
          -0.9555011987686157,
          -5.121053218841553,
          -4.87736177444458,
          -4.862292289733887,
          -3.6929779052734375,
          -4.919616222381592,
          -1.937710165977478,
          -2.1954193115234375,
          0.831483781337738,
          -0.7622247338294983,
          -0.7505463361740112,
          5.549783706665039,
          3.944533109664917,
          -0.6792650818824768,
          0.7012723088264465,
          3.9898293018341064,
          -1.3454939126968384,
          -4.510888576507568,
          0.7963477373123169,
          -1.9704033136367798,
          -0.495650053024292,
          -3.2653253078460693,
          1.7767865657806396,
          4.340595722198486,
          3.5139458179473877,
          0.3114156723022461,
          -0.83149254322052,
          -3.847957134246826,
          3.9462826251983643,
          -3.3749048709869385,
          -0.7190978527069092,
          -0.5256762504577637,
          -2.9093849658966064,
          0.5430601835250854,
          4.399084091186523,
          -5.875907897949219,
          2.4034807682037354,
          -0.9055880308151245,
          -3.7548837661743164,
          -1.05209219455719,
          -0.7325014472007751,
          -0.666537344455719,
          3.009972333908081,
          -0.807532012462616,
          -1.9700509309768677,
          -5.170835971832275,
          -0.8149131536483765,
          4.639188766479492,
          5.274316310882568,
          2.6063568592071533,
          -0.2874242067337036,
          2.3079416751861572,
          -1.540615200996399,
          -4.639812469482422,
          -2.3331711292266846,
          3.6874639987945557,
          0.5484104156494141,
          -0.9464102983474731,
          -1.060241460800171,
          -3.1735072135925293,
          -5.8167643547058105,
          0.4864077866077423,
          -2.3055481910705566,
          -1.17845618724823,
          -3.4802730083465576,
          -1.3137997388839722,
          -4.842001438140869,
          3.505936861038208,
          2.167741537094116,
          4.704144477844238,
          -5.293874740600586,
          -2.1648197174072266,
          -1.7103995084762573,
          -5.611679553985596,
          -5.136098861694336,
          -2.775041103363037,
          0.18525131046772003,
          -0.8506482839584351,
          2.3544280529022217,
          4.863497257232666,
          2.8314321041107178,
          -0.615880012512207,
          -4.3733720779418945,
          -1.1036181449890137,
          -0.6144189834594727,
          -5.79115104675293,
          -0.28130558133125305,
          -1.5467188358306885,
          -1.7322745323181152,
          -4.126589775085449,
          4.371861934661865,
          -5.896338939666748,
          -0.7664804458618164,
          -0.23647364974021912,
          -2.15740966796875,
          0.28060394525527954,
          -4.5894269943237305,
          -1.3689595460891724,
          -4.940287113189697,
          3.185865640640259,
          -0.676301896572113,
          -4.430863857269287,
          -5.781063079833984,
          5.45909309387207,
          -0.9596369862556458,
          -2.299194097518921,
          -4.715872764587402,
          2.116976261138916,
          3.0743730068206787,
          -2.4625158309936523,
          -0.8785173296928406,
          -0.2523697316646576,
          -4.222329139709473,
          3.0595107078552246,
          -0.5750628709793091,
          -3.2919936180114746,
          -0.49035370349884033,
          -1.6840391159057617,
          -0.7452818155288696,
          2.185798168182373,
          -0.7600539326667786,
          4.162327289581299,
          -5.673806667327881,
          -3.246558666229248,
          -1.184970498085022,
          -4.955459117889404,
          -0.26163265109062195,
          -5.893055438995361,
          0.2230047583580017,
          4.1379218101501465,
          3.3083269596099854,
          -5.74343729019165,
          -1.484034538269043,
          -3.6024186611175537,
          -1.6264406442642212,
          4.528181076049805,
          -0.6592652797698975,
          -1.0161832571029663,
          -1.661688208580017,
          -3.436126947402954,
          -1.1157947778701782,
          1.7264716625213623,
          -1.4767130613327026,
          4.9741010665893555,
          -0.7990216016769409,
          4.119924545288086,
          -3.8606679439544678,
          -3.5691134929656982,
          0.3092620372772217,
          -3.5511317253112793,
          -4.374712944030762,
          2.8655147552490234,
          0.9764550924301147,
          -2.365445852279663,
          3.1254050731658936,
          1.7217308282852173,
          -5.576751708984375,
          -0.5207523107528687,
          4.514001846313477,
          -0.8804637789726257,
          4.028993129730225,
          -1.787415623664856,
          -3.9131879806518555,
          -2.2965481281280518,
          3.9003374576568604,
          -2.6424641609191895,
          1.6975218057632446,
          -5.013655185699463,
          -0.5778321623802185,
          -1.2129544019699097,
          1.2624354362487793,
          -5.532701015472412,
          -1.1654815673828125,
          -0.0012002830626443028,
          5.46353816986084,
          -5.901566028594971,
          5.2461256980896,
          -5.600428581237793,
          -0.5316532254219055,
          -0.6694372296333313,
          1.4801379442214966,
          4.865371227264404,
          -0.7102022171020508,
          -3.7941932678222656,
          1.3813670873641968,
          -5.846190452575684,
          -3.5882701873779297,
          -0.6905686259269714,
          3.2311482429504395,
          -1.922937035560608,
          -4.923510551452637,
          0.12183718383312225,
          -0.4057088792324066,
          3.4213204383850098,
          1.7282187938690186,
          -3.324570655822754,
          -1.589428424835205,
          -1.191715955734253,
          -5.300618648529053,
          -4.400164604187012,
          0.31752970814704895,
          -0.18840301036834717,
          -2.3285272121429443,
          0.17584460973739624,
          -0.5639163255691528,
          -0.12136325240135193,
          5.537354469299316,
          2.121831178665161,
          0.5047357082366943,
          1.3115339279174805,
          -3.3925108909606934,
          -4.465117931365967,
          4.048911094665527,
          0.4710084795951843,
          3.9757797718048096,
          1.4298776388168335,
          -0.4846510887145996,
          1.6720774173736572,
          -4.000463008880615,
          3.4701080322265625,
          -0.7307075262069702,
          -4.573901176452637,
          -1.2720348834991455,
          -1.0905641317367554,
          -5.931717872619629,
          -3.8117611408233643,
          -0.2385229766368866,
          -0.008200793527066708,
          1.9019678831100464,
          4.184805393218994,
          3.473541498184204,
          -2.9622607231140137,
          0.8947805762290955,
          -3.9908103942871094,
          4.52516508102417,
          3.772582530975342,
          0.8280401229858398,
          -1.1748590469360352,
          -0.4686921238899231,
          -4.918603897094727,
          -2.591402769088745,
          -0.5032433271408081,
          -5.853278636932373,
          0.5278114080429077,
          0.4656978249549866,
          -0.7889477014541626,
          -4.68925666809082,
          -4.186254978179932,
          -3.3805654048919678,
          -5.588638782501221,
          -1.1907728910446167,
          1.139269232749939,
          -5.034494400024414,
          -5.0042724609375,
          -2.647514820098877,
          -0.85332852602005,
          -5.705591678619385,
          0.3620009422302246,
          -4.067070007324219,
          -2.1427314281463623,
          -4.616205215454102,
          -2.9723122119903564,
          -5.887869358062744,
          -2.097543716430664,
          -0.8943211436271667,
          3.9355483055114746,
          -4.347438335418701,
          -1.945366382598877,
          1.5870774984359741,
          -0.7241867184638977,
          -1.1589980125427246,
          3.2437214851379395,
          -0.18725278973579407,
          -1.9123886823654175,
          3.5203464031219482,
          -1.7074172496795654,
          -3.9137110710144043,
          -5.868928909301758,
          -4.582079887390137,
          -2.133301019668579,
          -4.541679382324219
         ]
        },
        {
         "hovertemplate": "Dominant_Topic=Topic 3<br>0=%{x}<br>1=%{y}<br>2=%{z}<extra></extra>",
         "legendgroup": "Topic 3",
         "marker": {
          "color": "#ab63fa",
          "opacity": 0.7,
          "symbol": "circle"
         },
         "mode": "markers",
         "name": "Topic 3",
         "scene": "scene",
         "showlegend": true,
         "type": "scatter3d",
         "x": [
          7.379753589630127,
          6.939888954162598,
          7.568171501159668,
          7.79146671295166,
          6.874382495880127,
          7.576940059661865,
          7.390923023223877,
          7.940580368041992,
          7.22349739074707,
          7.236220836639404,
          6.785567283630371,
          7.842845916748047,
          7.634762287139893,
          7.510976791381836,
          7.204817295074463,
          7.820603370666504,
          7.525538921356201,
          7.2001447677612305,
          7.640382766723633,
          7.130137920379639,
          4.3160080909729,
          6.960474491119385,
          7.61614990234375,
          7.660000324249268,
          7.772916316986084,
          7.1881208419799805,
          7.911196231842041,
          7.089433193206787
         ],
         "y": [
          12.09614372253418,
          12.33773136138916,
          13.124194145202637,
          12.282651901245117,
          12.616523742675781,
          12.932738304138184,
          12.309976577758789,
          12.595372200012207,
          12.524086952209473,
          12.850384712219238,
          12.213789939880371,
          12.332606315612793,
          13.073772430419922,
          12.074605941772461,
          12.025871276855469,
          12.781569480895996,
          12.883395195007324,
          13.013565063476562,
          12.699577331542969,
          12.778847694396973,
          6.367720603942871,
          12.736074447631836,
          12.363993644714355,
          12.4428129196167,
          12.884395599365234,
          12.743364334106445,
          12.743680000305176,
          12.174468994140625
         ],
         "z": [
          -4.027585029602051,
          -4.055935382843018,
          -4.178251266479492,
          -4.381981372833252,
          -4.298104763031006,
          -4.547592639923096,
          -4.598281383514404,
          -4.296006202697754,
          -4.634798526763916,
          -4.548474311828613,
          -4.3212127685546875,
          -4.092892169952393,
          -4.257715225219727,
          -4.418716907501221,
          -4.320695400238037,
          -3.8701655864715576,
          -3.759376049041748,
          -4.162612438201904,
          -4.635772705078125,
          -3.861475944519043,
          -2.4010255336761475,
          -4.315834999084473,
          -3.7458698749542236,
          -3.752408504486084,
          -3.9234278202056885,
          -3.804492473602295,
          -4.399440765380859,
          -4.011834144592285
         ]
        }
       ],
       "layout": {
        "height": 800,
        "legend": {
         "title": {
          "text": "Dominant_Topic"
         },
         "tracegroupgap": 0
        },
        "scene": {
         "domain": {
          "x": [
           0,
           1
          ],
          "y": [
           0,
           1
          ]
         },
         "xaxis": {
          "title": {
           "text": "0"
          }
         },
         "yaxis": {
          "title": {
           "text": "1"
          }
         },
         "zaxis": {
          "title": {
           "text": "2"
          }
         }
        },
        "template": {
         "data": {
          "bar": [
           {
            "error_x": {
             "color": "#2a3f5f"
            },
            "error_y": {
             "color": "#2a3f5f"
            },
            "marker": {
             "line": {
              "color": "#E5ECF6",
              "width": 0.5
             },
             "pattern": {
              "fillmode": "overlay",
              "size": 10,
              "solidity": 0.2
             }
            },
            "type": "bar"
           }
          ],
          "barpolar": [
           {
            "marker": {
             "line": {
              "color": "#E5ECF6",
              "width": 0.5
             },
             "pattern": {
              "fillmode": "overlay",
              "size": 10,
              "solidity": 0.2
             }
            },
            "type": "barpolar"
           }
          ],
          "carpet": [
           {
            "aaxis": {
             "endlinecolor": "#2a3f5f",
             "gridcolor": "white",
             "linecolor": "white",
             "minorgridcolor": "white",
             "startlinecolor": "#2a3f5f"
            },
            "baxis": {
             "endlinecolor": "#2a3f5f",
             "gridcolor": "white",
             "linecolor": "white",
             "minorgridcolor": "white",
             "startlinecolor": "#2a3f5f"
            },
            "type": "carpet"
           }
          ],
          "choropleth": [
           {
            "colorbar": {
             "outlinewidth": 0,
             "ticks": ""
            },
            "type": "choropleth"
           }
          ],
          "contour": [
           {
            "colorbar": {
             "outlinewidth": 0,
             "ticks": ""
            },
            "colorscale": [
             [
              0,
              "#0d0887"
             ],
             [
              0.1111111111111111,
              "#46039f"
             ],
             [
              0.2222222222222222,
              "#7201a8"
             ],
             [
              0.3333333333333333,
              "#9c179e"
             ],
             [
              0.4444444444444444,
              "#bd3786"
             ],
             [
              0.5555555555555556,
              "#d8576b"
             ],
             [
              0.6666666666666666,
              "#ed7953"
             ],
             [
              0.7777777777777778,
              "#fb9f3a"
             ],
             [
              0.8888888888888888,
              "#fdca26"
             ],
             [
              1,
              "#f0f921"
             ]
            ],
            "type": "contour"
           }
          ],
          "contourcarpet": [
           {
            "colorbar": {
             "outlinewidth": 0,
             "ticks": ""
            },
            "type": "contourcarpet"
           }
          ],
          "heatmap": [
           {
            "colorbar": {
             "outlinewidth": 0,
             "ticks": ""
            },
            "colorscale": [
             [
              0,
              "#0d0887"
             ],
             [
              0.1111111111111111,
              "#46039f"
             ],
             [
              0.2222222222222222,
              "#7201a8"
             ],
             [
              0.3333333333333333,
              "#9c179e"
             ],
             [
              0.4444444444444444,
              "#bd3786"
             ],
             [
              0.5555555555555556,
              "#d8576b"
             ],
             [
              0.6666666666666666,
              "#ed7953"
             ],
             [
              0.7777777777777778,
              "#fb9f3a"
             ],
             [
              0.8888888888888888,
              "#fdca26"
             ],
             [
              1,
              "#f0f921"
             ]
            ],
            "type": "heatmap"
           }
          ],
          "heatmapgl": [
           {
            "colorbar": {
             "outlinewidth": 0,
             "ticks": ""
            },
            "colorscale": [
             [
              0,
              "#0d0887"
             ],
             [
              0.1111111111111111,
              "#46039f"
             ],
             [
              0.2222222222222222,
              "#7201a8"
             ],
             [
              0.3333333333333333,
              "#9c179e"
             ],
             [
              0.4444444444444444,
              "#bd3786"
             ],
             [
              0.5555555555555556,
              "#d8576b"
             ],
             [
              0.6666666666666666,
              "#ed7953"
             ],
             [
              0.7777777777777778,
              "#fb9f3a"
             ],
             [
              0.8888888888888888,
              "#fdca26"
             ],
             [
              1,
              "#f0f921"
             ]
            ],
            "type": "heatmapgl"
           }
          ],
          "histogram": [
           {
            "marker": {
             "pattern": {
              "fillmode": "overlay",
              "size": 10,
              "solidity": 0.2
             }
            },
            "type": "histogram"
           }
          ],
          "histogram2d": [
           {
            "colorbar": {
             "outlinewidth": 0,
             "ticks": ""
            },
            "colorscale": [
             [
              0,
              "#0d0887"
             ],
             [
              0.1111111111111111,
              "#46039f"
             ],
             [
              0.2222222222222222,
              "#7201a8"
             ],
             [
              0.3333333333333333,
              "#9c179e"
             ],
             [
              0.4444444444444444,
              "#bd3786"
             ],
             [
              0.5555555555555556,
              "#d8576b"
             ],
             [
              0.6666666666666666,
              "#ed7953"
             ],
             [
              0.7777777777777778,
              "#fb9f3a"
             ],
             [
              0.8888888888888888,
              "#fdca26"
             ],
             [
              1,
              "#f0f921"
             ]
            ],
            "type": "histogram2d"
           }
          ],
          "histogram2dcontour": [
           {
            "colorbar": {
             "outlinewidth": 0,
             "ticks": ""
            },
            "colorscale": [
             [
              0,
              "#0d0887"
             ],
             [
              0.1111111111111111,
              "#46039f"
             ],
             [
              0.2222222222222222,
              "#7201a8"
             ],
             [
              0.3333333333333333,
              "#9c179e"
             ],
             [
              0.4444444444444444,
              "#bd3786"
             ],
             [
              0.5555555555555556,
              "#d8576b"
             ],
             [
              0.6666666666666666,
              "#ed7953"
             ],
             [
              0.7777777777777778,
              "#fb9f3a"
             ],
             [
              0.8888888888888888,
              "#fdca26"
             ],
             [
              1,
              "#f0f921"
             ]
            ],
            "type": "histogram2dcontour"
           }
          ],
          "mesh3d": [
           {
            "colorbar": {
             "outlinewidth": 0,
             "ticks": ""
            },
            "type": "mesh3d"
           }
          ],
          "parcoords": [
           {
            "line": {
             "colorbar": {
              "outlinewidth": 0,
              "ticks": ""
             }
            },
            "type": "parcoords"
           }
          ],
          "pie": [
           {
            "automargin": true,
            "type": "pie"
           }
          ],
          "scatter": [
           {
            "marker": {
             "colorbar": {
              "outlinewidth": 0,
              "ticks": ""
             }
            },
            "type": "scatter"
           }
          ],
          "scatter3d": [
           {
            "line": {
             "colorbar": {
              "outlinewidth": 0,
              "ticks": ""
             }
            },
            "marker": {
             "colorbar": {
              "outlinewidth": 0,
              "ticks": ""
             }
            },
            "type": "scatter3d"
           }
          ],
          "scattercarpet": [
           {
            "marker": {
             "colorbar": {
              "outlinewidth": 0,
              "ticks": ""
             }
            },
            "type": "scattercarpet"
           }
          ],
          "scattergeo": [
           {
            "marker": {
             "colorbar": {
              "outlinewidth": 0,
              "ticks": ""
             }
            },
            "type": "scattergeo"
           }
          ],
          "scattergl": [
           {
            "marker": {
             "colorbar": {
              "outlinewidth": 0,
              "ticks": ""
             }
            },
            "type": "scattergl"
           }
          ],
          "scattermapbox": [
           {
            "marker": {
             "colorbar": {
              "outlinewidth": 0,
              "ticks": ""
             }
            },
            "type": "scattermapbox"
           }
          ],
          "scatterpolar": [
           {
            "marker": {
             "colorbar": {
              "outlinewidth": 0,
              "ticks": ""
             }
            },
            "type": "scatterpolar"
           }
          ],
          "scatterpolargl": [
           {
            "marker": {
             "colorbar": {
              "outlinewidth": 0,
              "ticks": ""
             }
            },
            "type": "scatterpolargl"
           }
          ],
          "scatterternary": [
           {
            "marker": {
             "colorbar": {
              "outlinewidth": 0,
              "ticks": ""
             }
            },
            "type": "scatterternary"
           }
          ],
          "surface": [
           {
            "colorbar": {
             "outlinewidth": 0,
             "ticks": ""
            },
            "colorscale": [
             [
              0,
              "#0d0887"
             ],
             [
              0.1111111111111111,
              "#46039f"
             ],
             [
              0.2222222222222222,
              "#7201a8"
             ],
             [
              0.3333333333333333,
              "#9c179e"
             ],
             [
              0.4444444444444444,
              "#bd3786"
             ],
             [
              0.5555555555555556,
              "#d8576b"
             ],
             [
              0.6666666666666666,
              "#ed7953"
             ],
             [
              0.7777777777777778,
              "#fb9f3a"
             ],
             [
              0.8888888888888888,
              "#fdca26"
             ],
             [
              1,
              "#f0f921"
             ]
            ],
            "type": "surface"
           }
          ],
          "table": [
           {
            "cells": {
             "fill": {
              "color": "#EBF0F8"
             },
             "line": {
              "color": "white"
             }
            },
            "header": {
             "fill": {
              "color": "#C8D4E3"
             },
             "line": {
              "color": "white"
             }
            },
            "type": "table"
           }
          ]
         },
         "layout": {
          "annotationdefaults": {
           "arrowcolor": "#2a3f5f",
           "arrowhead": 0,
           "arrowwidth": 1
          },
          "autotypenumbers": "strict",
          "coloraxis": {
           "colorbar": {
            "outlinewidth": 0,
            "ticks": ""
           }
          },
          "colorscale": {
           "diverging": [
            [
             0,
             "#8e0152"
            ],
            [
             0.1,
             "#c51b7d"
            ],
            [
             0.2,
             "#de77ae"
            ],
            [
             0.3,
             "#f1b6da"
            ],
            [
             0.4,
             "#fde0ef"
            ],
            [
             0.5,
             "#f7f7f7"
            ],
            [
             0.6,
             "#e6f5d0"
            ],
            [
             0.7,
             "#b8e186"
            ],
            [
             0.8,
             "#7fbc41"
            ],
            [
             0.9,
             "#4d9221"
            ],
            [
             1,
             "#276419"
            ]
           ],
           "sequential": [
            [
             0,
             "#0d0887"
            ],
            [
             0.1111111111111111,
             "#46039f"
            ],
            [
             0.2222222222222222,
             "#7201a8"
            ],
            [
             0.3333333333333333,
             "#9c179e"
            ],
            [
             0.4444444444444444,
             "#bd3786"
            ],
            [
             0.5555555555555556,
             "#d8576b"
            ],
            [
             0.6666666666666666,
             "#ed7953"
            ],
            [
             0.7777777777777778,
             "#fb9f3a"
            ],
            [
             0.8888888888888888,
             "#fdca26"
            ],
            [
             1,
             "#f0f921"
            ]
           ],
           "sequentialminus": [
            [
             0,
             "#0d0887"
            ],
            [
             0.1111111111111111,
             "#46039f"
            ],
            [
             0.2222222222222222,
             "#7201a8"
            ],
            [
             0.3333333333333333,
             "#9c179e"
            ],
            [
             0.4444444444444444,
             "#bd3786"
            ],
            [
             0.5555555555555556,
             "#d8576b"
            ],
            [
             0.6666666666666666,
             "#ed7953"
            ],
            [
             0.7777777777777778,
             "#fb9f3a"
            ],
            [
             0.8888888888888888,
             "#fdca26"
            ],
            [
             1,
             "#f0f921"
            ]
           ]
          },
          "colorway": [
           "#636efa",
           "#EF553B",
           "#00cc96",
           "#ab63fa",
           "#FFA15A",
           "#19d3f3",
           "#FF6692",
           "#B6E880",
           "#FF97FF",
           "#FECB52"
          ],
          "font": {
           "color": "#2a3f5f"
          },
          "geo": {
           "bgcolor": "white",
           "lakecolor": "white",
           "landcolor": "#E5ECF6",
           "showlakes": true,
           "showland": true,
           "subunitcolor": "white"
          },
          "hoverlabel": {
           "align": "left"
          },
          "hovermode": "closest",
          "mapbox": {
           "style": "light"
          },
          "paper_bgcolor": "white",
          "plot_bgcolor": "#E5ECF6",
          "polar": {
           "angularaxis": {
            "gridcolor": "white",
            "linecolor": "white",
            "ticks": ""
           },
           "bgcolor": "#E5ECF6",
           "radialaxis": {
            "gridcolor": "white",
            "linecolor": "white",
            "ticks": ""
           }
          },
          "scene": {
           "xaxis": {
            "backgroundcolor": "#E5ECF6",
            "gridcolor": "white",
            "gridwidth": 2,
            "linecolor": "white",
            "showbackground": true,
            "ticks": "",
            "zerolinecolor": "white"
           },
           "yaxis": {
            "backgroundcolor": "#E5ECF6",
            "gridcolor": "white",
            "gridwidth": 2,
            "linecolor": "white",
            "showbackground": true,
            "ticks": "",
            "zerolinecolor": "white"
           },
           "zaxis": {
            "backgroundcolor": "#E5ECF6",
            "gridcolor": "white",
            "gridwidth": 2,
            "linecolor": "white",
            "showbackground": true,
            "ticks": "",
            "zerolinecolor": "white"
           }
          },
          "shapedefaults": {
           "line": {
            "color": "#2a3f5f"
           }
          },
          "ternary": {
           "aaxis": {
            "gridcolor": "white",
            "linecolor": "white",
            "ticks": ""
           },
           "baxis": {
            "gridcolor": "white",
            "linecolor": "white",
            "ticks": ""
           },
           "bgcolor": "#E5ECF6",
           "caxis": {
            "gridcolor": "white",
            "linecolor": "white",
            "ticks": ""
           }
          },
          "title": {
           "x": 0.05
          },
          "xaxis": {
           "automargin": true,
           "gridcolor": "white",
           "linecolor": "white",
           "ticks": "",
           "title": {
            "standoff": 15
           },
           "zerolinecolor": "white",
           "zerolinewidth": 2
          },
          "yaxis": {
           "automargin": true,
           "gridcolor": "white",
           "linecolor": "white",
           "ticks": "",
           "title": {
            "standoff": 15
           },
           "zerolinecolor": "white",
           "zerolinewidth": 2
          }
         }
        },
        "title": {
         "text": "3d TSNE Plot for Topic Model"
        },
        "width": 900
       }
      },
      "text/html": [
       "<div>                            <div id=\"d0fa93e4-25c9-4f2f-a826-9a9408e6b2d5\" class=\"plotly-graph-div\" style=\"height:800px; width:900px;\"></div>            <script type=\"text/javascript\">                require([\"plotly\"], function(Plotly) {                    window.PLOTLYENV=window.PLOTLYENV || {};                                    if (document.getElementById(\"d0fa93e4-25c9-4f2f-a826-9a9408e6b2d5\")) {                    Plotly.newPlot(                        \"d0fa93e4-25c9-4f2f-a826-9a9408e6b2d5\",                        [{\"hovertemplate\":\"Dominant_Topic=Topic 0<br>0=%{x}<br>1=%{y}<br>2=%{z}<extra></extra>\",\"legendgroup\":\"Topic 0\",\"marker\":{\"color\":\"#636efa\",\"opacity\":0.7,\"symbol\":\"circle\"},\"mode\":\"markers\",\"name\":\"Topic 0\",\"scene\":\"scene\",\"showlegend\":true,\"type\":\"scatter3d\",\"x\":[-1.1730691194534302,0.9946126341819763,-2.5883853435516357,-1.868861198425293,-2.4987587928771973,2.2624709606170654,1.1446298360824585,-0.08241564780473709,-2.698110580444336,1.2337278127670288,1.3701598644256592,0.21446722745895386,1.5045297145843506,-0.013693610206246376,-2.344310998916626,3.8121612071990967,3.8307878971099854,-1.440593957901001,-2.3293731212615967,-2.8907856941223145,1.2946794033050537,-2.0224592685699463,0.7527921795845032,3.2151408195495605,2.3189988136291504,5.0762457847595215,2.1281940937042236,-2.6838481426239014,-2.5888888835906982,0.8678577542304993,-1.6671415567398071,-2.061035394668579,-1.9039589166641235,6.16288948059082,0.5791561603546143,-1.3171827793121338,-2.1006810665130615,-1.3064337968826294,-2.5807747840881348,4.072227954864502,1.4409282207489014,3.243530035018921,-2.2636845111846924,2.4863765239715576,-2.2307872772216797,-0.4497608542442322,-2.4599666595458984,4.973729133605957,0.4624783992767334,0.9123446345329285,1.1658554077148438,-2.081308603286743,-2.0920822620391846,3.4325339794158936,-2.2658450603485107,-2.893138885498047,-2.2690651416778564,2.816535711288452,1.0345250368118286,-2.3076889514923096,0.7111825942993164,1.237022042274475,-1.1815335750579834,-2.7801239490509033,0.8476079702377319,5.872689723968506,0.8453657627105713,0.7268702387809753,0.015584870241582394,0.742091178894043,-1.096142053604126,2.5480895042419434,-2.415647506713867,-2.427180290222168,-1.2230148315429688,0.8898240327835083,4.156353950500488,1.5146796703338623,-2.5896687507629395,-0.18462543189525604,4.100550651550293,0.030009625479578972,0.7133916020393372,0.287243515253067,-1.1617376804351807,1.2555042505264282,-0.06666015833616257,-1.8669815063476562,-1.2428553104400635,2.5491623878479004,-2.5053977966308594,-2.5419578552246094,3.6195266246795654,3.301661968231201,3.4481914043426514,1.448677897453308,-1.4695522785186768,-1.1860560178756714,0.08690641820430756,0.5101171135902405,-1.1833316087722778,2.429574966430664,1.373962640762329,3.2119288444519043,0.6272236704826355,-2.498960494995117,-0.19510291516780853,3.401545286178589,1.5370181798934937,4.874205589294434,1.8656959533691406,1.5611399412155151,1.2166764736175537,-0.7779371738433838,-0.9474979043006897,-1.7385125160217285,0.47048813104629517,3.125718832015991,3.505502223968506,-2.6446545124053955,0.7137499451637268,3.6249661445617676,2.3129022121429443,-2.644017457962036,0.2087181955575943,-1.1843026876449585,1.8685107231140137,-0.7312309741973877,-2.1701407432556152,2.677394390106201,3.9318666458129883,-2.6489880084991455,-2.564908266067505,0.6437852382659912,2.726254463195801,1.2089234590530396,3.9844634532928467,3.627851724624634,4.955993175506592,-2.22422194480896,-2.480189561843872,1.9221563339233398,2.5597519874572754,1.7548413276672363,1.4990068674087524,3.006035804748535,1.4055074453353882,4.62764310836792,1.2659175395965576,0.6205357909202576,-2.5572636127471924,-2.0809483528137207,-2.0361247062683105,-2.590938091278076,-2.606524705886841,2.301454782485962,-2.6110148429870605,-0.8235880136489868,-2.2697081565856934,3.4591126441955566,-2.4458184242248535,-1.2932934761047363,-0.4933938980102539,-2.1040704250335693,-2.58019757270813,2.6177308559417725,-1.5052976608276367,-1.191712737083435,1.0882816314697266,1.1660912036895752,-2.5777742862701416,0.8704750537872314,2.3487906455993652,-2.3970859050750732,2.032327175140381,1.486415982246399,5.741314888000488,2.822110176086426,3.9038493633270264,2.0334668159484863,-2.590106964111328,1.3780418634414673,1.0078661441802979,-2.5850305557250977,0.0017751639243215322,2.732146978378296,-0.9309706687927246,-0.5139040350914001,1.762171983718872,0.7779696583747864,0.8408756852149963,-2.1792638301849365,6.332617282867432,-2.526827812194824,-2.580065965652466,4.336122989654541,2.7927215099334717,-1.5075949430465698,1.228212594985962,-2.5643084049224854,-2.538832664489746,-1.581894874572754,1.3670730590820312,1.3821386098861694],\"y\":[3.612199068069458,2.5327272415161133,2.5457653999328613,6.061553478240967,4.988483428955078,1.9810330867767334,6.193926811218262,1.160101294517517,0.4171527922153473,5.355269432067871,1.6525883674621582,4.874383449554443,1.7166796922683716,5.007643222808838,5.310623645782471,3.159072160720825,3.992037296295166,5.629122257232666,1.012516736984253,0.9032911062240601,5.845109462738037,0.6695603728294373,6.017208099365234,2.383443593978882,5.1020002365112305,2.8978934288024902,4.3670172691345215,0.9860309362411499,2.295931577682495,6.321001052856445,0.9360391497612,5.883419513702393,6.047278881072998,2.082453489303589,6.0745158195495605,6.826674461364746,0.7419137954711914,6.740285396575928,4.390002250671387,3.357269763946533,3.3994479179382324,4.308039665222168,3.564469337463379,4.805877685546875,0.6993797421455383,1.0964800119400024,4.4639573097229,2.8504693508148193,3.5435047149658203,1.5468093156814575,3.7251534461975098,1.057251214981079,5.824813365936279,4.360772132873535,5.495917320251465,0.8468988537788391,1.210954189300537,4.400028228759766,1.4877930879592896,1.2263576984405518,1.3819003105163574,6.086945056915283,7.123824119567871,1.0642292499542236,6.433440685272217,2.1874492168426514,6.410456657409668,2.8199565410614014,1.17790949344635,3.7290074825286865,5.227520942687988,2.108759641647339,5.418801784515381,5.203976154327393,7.022144794464111,6.366057395935059,3.1271023750305176,1.7429677248001099,4.643244743347168,6.334560871124268,3.875972270965576,4.833749294281006,1.3670469522476196,4.862949371337891,7.201279163360596,1.619592547416687,5.2396345138549805,6.146219730377197,4.821564197540283,2.0947108268737793,3.585031747817993,0.4865965247154236,2.594557046890259,4.143385887145996,4.146157741546631,5.742013454437256,3.5234947204589844,7.096059799194336,6.1096320152282715,3.3008675575256348,7.1651153564453125,2.0723536014556885,5.866605758666992,4.484703063964844,6.6224822998046875,4.037084579467773,7.005124092102051,4.434170246124268,5.884897232055664,2.5662949085235596,1.916469693183899,1.7503175735473633,3.108741044998169,6.9440507888793945,7.128871917724609,5.330445289611816,3.9280126094818115,2.390986204147339,2.523822784423828,0.6660885214805603,1.3637583255767822,4.2441840171813965,5.39188289642334,0.7315773367881775,5.197652339935303,6.977017879486084,5.217164516448975,1.06208074092865,5.517820835113525,2.179450511932373,3.372823476791382,0.6417464017868042,0.8419393301010132,6.536960601806641,2.213751792907715,1.5707825422286987,3.3838441371917725,3.3491504192352295,3.0014548301696777,5.490768909454346,5.216882228851318,5.3613176345825195,2.1854023933410645,5.7542009353637695,5.097176551818848,2.2995645999908447,1.7646684646606445,3.0880162715911865,4.19724178314209,6.085385322570801,4.987914085388184,5.8092360496521,0.8777197003364563,3.685319185256958,3.298588991165161,4.670889854431152,3.7886266708374023,7.059564113616943,0.43158066272735596,2.5034189224243164,0.4070386290550232,6.904165267944336,1.0932419300079346,5.847289562225342,1.91075599193573,4.898726463317871,6.629138946533203,7.137145042419434,3.561098337173462,4.014884948730469,1.8220634460449219,5.78947114944458,2.494493246078491,0.9650744795799255,5.322122573852539,5.293440818786621,2.2490930557250977,2.3129162788391113,2.7964067459106445,5.578001976013184,3.529423475265503,5.989436626434326,4.358083248138428,4.5620269775390625,6.844895362854004,4.697385311126709,5.287629127502441,6.955203533172607,5.516401767730713,1.3763946294784546,1.4403057098388672,1.1701534986495972,1.9405732154846191,2.23148512840271,2.3549699783325195,2.730078935623169,2.229548931121826,6.601655006408691,5.798750877380371,3.783686637878418,4.988889217376709,3.6195292472839355,5.314859867095947,3.693108320236206],\"z\":[10.726311683654785,10.528863906860352,12.256153106689453,8.267135620117188,10.025389671325684,10.167954444885254,3.266190528869629,12.228267669677734,13.615886688232422,6.2993316650390625,11.072887420654297,8.469161033630371,10.933130264282227,8.470043182373047,9.606877326965332,6.8267903327941895,4.304965972900391,8.657946586608887,13.935121536254883,13.717966079711914,4.6652116775512695,13.39763069152832,5.380854606628418,8.847285270690918,4.668727397918701,5.2028656005859375,6.9618096351623535,13.922870635986328,12.452468872070312,3.6466832160949707,13.121004104614258,8.687804222106934,8.315779685974121,5.584081649780273,5.733119010925293,6.377936363220215,13.815476417541504,6.536942958831787,10.663342475891113,5.973581790924072,9.35732650756836,4.948190689086914,10.919957160949707,5.270142078399658,13.93002986907959,12.444559097290039,10.53233814239502,5.653253078460693,9.889419555664062,11.433085441589355,9.198570251464844,13.24394416809082,8.796002388000488,4.013624668121338,9.345707893371582,13.583841323852539,13.701994895935059,5.712677955627441,11.412801742553711,13.686824798583984,11.670546531677246,3.597661018371582,5.5335493087768555,13.6652193069458,2.8653879165649414,5.938111305236816,3.1059727668762207,10.428546905517578,12.167364120483398,9.511764526367188,8.97763729095459,9.833683967590332,9.516142845153809,9.769914627075195,5.842906475067139,3.239581823348999,6.385463714599609,10.904996871948242,10.4212064743042,6.08892822265625,3.724191427230835,8.68176555633545,11.679426193237305,8.418878555297852,5.290658950805664,11.176141738891602,8.139921188354492,8.116693496704102,9.555419921875,9.838639259338379,11.381556510925293,13.896866798400879,8.060145378112793,5.364570617675781,4.949641227722168,4.6584792137146,10.961823463439941,5.610428333282471,6.2456464767456055,10.1034517288208,5.432419776916504,9.955758094787598,4.314332008361816,4.280704975128174,2.3231987953186035,10.969593048095703,3.4007866382598877,3.6998844146728516,3.528632164001465,6.5863776206970215,10.555253982543945,10.868203163146973,9.826963424682617,5.348588943481445,5.061824798583984,9.256869316101074,9.472225189208984,8.940799713134766,8.308855056762695,13.203170776367188,11.682348251342773,3.7957115173339844,2.338521718978882,13.21580982208252,7.921853065490723,5.961748123168945,5.437752723693848,12.596674919128418,9.263810157775879,9.645018577575684,6.1881537437438965,13.940635681152344,13.175243377685547,3.116689920425415,9.567530632019043,11.245429992675781,6.066272258758545,6.728311061859131,5.104725360870361,9.330368995666504,9.780448913574219,4.827869892120361,9.73386001586914,3.2948806285858154,6.452541351318359,9.180607795715332,10.977778434753418,5.637209892272949,8.442244529724121,5.43287992477417,10.051389694213867,8.80875015258789,13.244921684265137,11.334003448486328,11.664225578308105,6.031084060668945,11.254901885986328,5.035397529602051,13.555018424987793,8.392742156982422,13.411178588867188,6.191821098327637,12.466300964355469,8.770455360412598,12.748745918273926,4.5349249839782715,6.943669319152832,5.517886638641357,9.446144104003906,8.82548713684082,12.830927848815918,5.829109191894531,9.606043815612793,13.115323066711426,4.6507649421691895,6.01700496673584,6.011224746704102,9.383976936340332,7.368539333343506,2.920205593109131,11.466692924499512,3.5929551124572754,8.473771095275879,10.498238563537598,3.6415395736694336,4.999703884124756,8.780257225036621,4.687446594238281,4.666388034820557,11.640188217163086,11.556417465209961,13.594640731811523,5.709428787231445,12.464494705200195,12.402888298034668,6.959388732910156,9.485987663269043,6.996077537536621,5.035253047943115,11.235140800476074,10.04682445526123,10.901042938232422,6.177720546722412,9.057391166687012]},{\"hovertemplate\":\"Dominant_Topic=Topic 1<br>0=%{x}<br>1=%{y}<br>2=%{z}<extra></extra>\",\"legendgroup\":\"Topic 1\",\"marker\":{\"color\":\"#EF553B\",\"opacity\":0.7,\"symbol\":\"circle\"},\"mode\":\"markers\",\"name\":\"Topic 1\",\"scene\":\"scene\",\"showlegend\":true,\"type\":\"scatter3d\",\"x\":[0.4539441168308258,-6.095643043518066,1.6098085641860962,2.2875685691833496,2.311417818069458,0.08793845027685165,-2.248303174972534,-11.120519638061523,-8.324716567993164,0.518682062625885,1.3951281309127808,-8.782483100891113,-4.813889026641846,-3.003645658493042,-0.8920149207115173,-8.679549217224121,-6.6224188804626465,-6.174464225769043,-6.6227192878723145,-6.928518295288086,-0.15164633095264435,0.6533894538879395,-3.8769404888153076,-11.225528717041016,-11.370390892028809,-12.585318565368652,-3.932969093322754,1.315590262413025,-8.232666015625,-0.650152325630188,-1.7894675731658936,-6.484165668487549,-14.02320384979248,-9.969585418701172,-12.14529800415039,-1.4127177000045776,-10.504342079162598,-10.9941987991333,-8.754091262817383,-7.899529457092285,-13.308906555175781,-0.966116189956665,-8.095410346984863,-10.274600982666016,-2.3736796379089355,-1.7893657684326172,-11.48525333404541,-1.8345037698745728,-5.19555139541626,-2.7044804096221924,1.930463194847107,-13.512903213500977,-3.6197612285614014,-0.29735833406448364,-6.651172161102295,0.3433491587638855,-0.8682452440261841,-14.268929481506348,1.8698012828826904,-10.646368026733398,-3.268667459487915,-5.863048076629639,2.305053949356079,-1.6661235094070435,-0.8134979605674744,-4.525077819824219,-12.294564247131348,-7.843782424926758,-2.9575095176696777,-0.968051016330719,-9.82571029663086,-10.515064239501953,-4.579028129577637,-2.4855239391326904,-8.59893798828125,-9.038909912109375,-13.648624420166016,-9.410650253295898,1.5425398349761963,-10.880369186401367,-2.1215250492095947,-11.897269248962402,-9.167750358581543,1.4039961099624634,-8.081303596496582,-3.1721348762512207,0.295182466506958,-8.49503231048584,-5.92213773727417,-11.413744926452637,-7.662271499633789,-8.991658210754395,-13.900981903076172,-14.261506080627441,-1.2439744472503662,-9.701813697814941,-3.939157247543335,-7.206782817840576,0.022379610687494278,-9.812051773071289,-5.271440505981445,-4.9578857421875,-1.4723281860351562,-12.16983699798584,-5.9775238037109375,-1.6307518482208252,-11.43639087677002,-3.2642295360565186,-4.699528694152832,-0.31354162096977234,0.4381978213787079,-9.846049308776855,-6.805595874786377,-3.0374128818511963,-4.215697765350342,-14.056232452392578,1.4826178550720215,-11.64390754699707,-4.416276931762695,2.720386266708374,-11.988687515258789,-7.285062789916992,-6.77018928527832,1.1566596031188965,-0.9752434492111206,-5.751691818237305,-5.516399383544922,-9.458511352539062,-9.287158012390137,-5.104959011077881,-13.852609634399414,-4.188823223114014,-1.9176119565963745,-11.223383903503418,-1.4333429336547852,0.2611289918422699,-1.9959532022476196,-2.561129093170166,3.014153242111206,-2.4982192516326904,-6.991781711578369,-10.502850532531738,-3.288909435272217,-3.659331798553467,-6.613185882568359,-3.3775923252105713,0.6988874077796936,-10.30965518951416,-6.329851150512695,-3.3661611080169678,-3.9123659133911133,-6.436513900756836,1.1617558002471924,-0.9318360686302185,-10.920363426208496,0.2920931875705719,-10.074692726135254,-8.796009063720703,-9.614641189575195,-2.1656131744384766,2.1599931716918945,-1.4710476398468018,-2.5708744525909424,0.42367950081825256,-2.1441121101379395,-7.194830894470215,-8.009597778320312,-5.598776817321777,-1.7287161350250244,-13.949578285217285,-7.110675811767578,-4.830423831939697,2.620271682739258,-1.6659153699874878,-10.272919654846191,-13.9569730758667,-6.629204273223877,-5.850903034210205,-2.063476800918579,-4.934197425842285,-4.589126110076904,0.7020684480667114,-5.708045482635498,-1.3933571577072144,0.041183922439813614,0.21206524968147278,-6.908187389373779,-7.289388179779053,-1.9661102294921875,-9.899856567382812,-3.5617833137512207,0.9563186764717102,-0.49393317103385925,-13.910075187683105,-2.7402024269104004,-5.012345314025879,-0.09416187554597855,-4.708469390869141,-12.64193344116211,-13.37121868133545,-10.15376091003418,-2.6091065406799316,-4.252796649932861,-0.9218414425849915,-13.468750953674316,0.24442701041698456,-6.506338119506836,2.7011687755584717,-14.058345794677734,1.7603198289871216,-5.234195232391357,1.9087355136871338,-5.079191207885742,-1.6769517660140991,-13.9066162109375,-2.532687187194824,-7.887027740478516,-6.600489139556885,-7.708416938781738,-6.500808238983154,-14.301177978515625,-9.823099136352539,-1.3955157995224,0.20211295783519745,-13.408978462219238,-6.1356329917907715,-0.750607430934906,-2.645406484603882,-3.906463623046875,-5.536581516265869,-11.908913612365723,-3.415785551071167,-3.382007598876953,-13.568604469299316,1.6117706298828125,-10.690180778503418,-7.8395233154296875,-7.626864433288574,-5.127198219299316,-0.5051577687263489,-3.119121551513672,0.43420156836509705,-2.8269731998443604,-13.91209888458252,-7.681722164154053,-1.4807164669036865,-6.723387718200684,-11.823005676269531,-6.451694965362549,-12.963642120361328,0.318897545337677,-3.6921775341033936,-6.527463436126709,-3.3186519145965576,1.3059990406036377,-1.0597054958343506,1.5273710489273071,-2.2558109760284424,1.117380976676941,-1.7651009559631348,-2.4242963790893555,-3.31441593170166,-7.679140567779541,-7.950920581817627,3.56437349319458,-4.496000289916992,-5.706644535064697,-8.482293128967285,-0.7163829803466797,-5.798447608947754,-13.73613452911377,0.6226667165756226,-8.727938652038574,-5.869132041931152,-11.556666374206543,-4.453700065612793,-10.560922622680664,-10.697044372558594,-6.899723052978516,-11.693819999694824,-7.690954208374023,-8.745902061462402,0.8375456929206848,-10.22010326385498,-4.408085346221924,-0.34601446986198425,-4.554482936859131,-5.991013050079346,-3.119342088699341,0.06285446137189865,-11.931553840637207,-7.146399974822998,-13.30201244354248,-9.838434219360352,-4.841346263885498,-2.98842453956604,-9.705143928527832,-13.275045394897461,-8.796754837036133,-0.6090693473815918,-0.1895475834608078,1.1064133644104004,-7.799004077911377,-8.83695125579834,-4.999176025390625,-0.1695243865251541,1.3545901775360107,-12.761199951171875,-2.465982675552368,-3.2290120124816895,-1.7891571521759033],\"y\":[5.862056732177734,6.257916450500488,5.861286640167236,5.1817946434021,4.899507999420166,7.0937700271606445,7.483933448791504,4.909051418304443,5.628520965576172,5.824605941772461,6.079297065734863,5.496382236480713,8.451093673706055,8.52419662475586,10.411603927612305,5.565182209014893,9.227874755859375,9.278286933898926,9.058271408081055,6.028754234313965,6.638883113861084,6.609508991241455,7.603419780731201,6.859160900115967,6.759469032287598,5.519540309906006,6.4655985832214355,5.789809226989746,5.6929826736450195,7.151771068572998,7.478332996368408,8.83141040802002,4.3572678565979,7.825011730194092,6.001374244689941,7.600943088531494,5.031230926513672,7.098585605621338,8.506467819213867,5.7706732749938965,4.512825965881348,10.37131404876709,8.056012153625488,7.584850311279297,8.75468921661377,7.324602127075195,6.5785627365112305,6.3473076820373535,9.224189758300781,7.5367021560668945,5.46988582611084,3.8706371784210205,8.672183990478516,6.38104248046875,8.093429565429688,6.711167335510254,10.421857833862305,4.236560344696045,5.615610599517822,7.389895439147949,9.061708450317383,9.292182922363281,5.1748270988464355,6.379051208496094,6.258363723754883,8.399975776672363,5.812065601348877,5.8043341636657715,6.435851097106934,6.2336015701293945,7.92546272277832,7.481717586517334,8.317983627319336,8.809491157531738,6.2246294021606445,5.434737682342529,3.953718423843384,8.167149543762207,5.957435607910156,4.941553592681885,8.023666381835938,6.2280097007751465,8.274240493774414,5.736142158508301,8.728851318359375,9.039510726928711,7.291881561279297,8.641617774963379,8.156618118286133,4.829068660736084,8.123517990112305,6.162436485290527,3.9800961017608643,3.9079675674438477,8.039363861083984,5.242741107940674,7.210907936096191,7.929890155792236,7.114535331726074,7.5134406089782715,9.22739028930664,6.422940731048584,6.492010116577148,4.641149520874023,8.636628150939941,6.67520809173584,5.095118522644043,6.4589948654174805,7.105282306671143,6.307229518890381,5.961088180541992,4.581523418426514,8.127099990844727,8.462478637695312,8.769610404968262,4.207112789154053,6.001361846923828,4.781345367431641,7.245687484741211,4.622529983520508,6.1611552238464355,8.925156593322754,8.145904541015625,5.599653244018555,6.500588417053223,8.237323760986328,6.360973358154297,7.704063892364502,7.602829933166504,6.832496643066406,3.7856216430664062,7.686022758483887,7.7742719650268555,4.883891582489014,8.15337085723877,6.877630710601807,8.41205883026123,8.586387634277344,4.402020454406738,8.81431770324707,6.033112049102783,7.492359161376953,6.484029769897461,7.659310340881348,9.237122535705566,9.08736515045166,6.678920269012451,5.088438987731934,8.569680213928223,9.070401191711426,6.4826459884643555,6.1791276931762695,6.2225728034973145,6.213719844818115,7.134732723236084,6.150362491607666,5.153103351593018,8.07360553741455,8.09147834777832,7.556331157684326,5.309567451477051,8.04270076751709,8.405817985534668,6.4792160987854,8.401095390319824,9.13382625579834,8.866277694702148,9.305291175842285,8.290143013000488,4.574306011199951,6.030876636505127,7.678808212280273,4.689561367034912,8.24765396118164,7.672290802001953,4.502018928527832,6.122637748718262,6.295762538909912,8.401130676269531,7.013065814971924,6.452533721923828,5.816701889038086,8.112507820129395,8.046213150024414,7.450192451477051,6.979559898376465,8.705945014953613,6.625759124755859,7.401707172393799,7.8821282386779785,6.4620680809021,6.484196186065674,7.202834606170654,3.7257583141326904,6.419079780578613,9.27479362487793,7.267031192779541,9.232990264892578,5.4332594871521,3.9722049236297607,5.127929210662842,8.547754287719727,7.974764347076416,6.217809677124023,4.5533342361450195,6.200320720672607,7.615307331085205,6.896472930908203,4.0361199378967285,5.522587776184082,6.380134105682373,5.573905944824219,9.282340049743652,8.300265312194824,4.60651969909668,6.408546447753906,6.598349571228027,8.598051071166992,7.955414772033691,9.247457504272461,4.137848854064941,7.8531036376953125,7.442361831665039,6.945151329040527,4.381202220916748,8.256060600280762,7.7071990966796875,8.870579719543457,8.98685359954834,6.350297451019287,6.2350544929504395,6.463170051574707,9.025558471679688,4.1492180824279785,5.870590686798096,7.311278820037842,8.922948837280273,8.704704284667969,6.866387844085693,6.131130218505859,8.963445663452148,6.815160751342773,8.932679176330566,3.9843618869781494,8.95010757446289,6.298656463623047,6.503020286560059,6.319793701171875,8.419361114501953,4.4740214347839355,5.887035369873047,8.898558616638184,9.004405975341797,6.694437503814697,5.499776363372803,7.918288707733154,5.741992950439453,8.354429244995117,5.589438438415527,8.175003051757812,6.3956427574157715,6.461784839630127,7.848956108093262,5.747581958770752,6.593876361846924,8.484003067016602,8.596914291381836,8.645872116088867,6.174261569976807,9.295868873596191,4.54453706741333,5.983725547790527,5.5245490074157715,6.309228897094727,6.5964508056640625,6.461446285247803,5.034280300140381,4.994831562042236,9.10538387298584,4.804648399353027,5.816901206970215,5.5239739418029785,5.7261857986450195,5.817267894744873,7.828141689300537,7.26481294631958,7.020504951477051,7.53317403793335,7.8556437492370605,5.9707183837890625,6.202608108520508,9.102773666381836,4.508662223815918,5.220672607421875,6.423211097717285,8.583788871765137,5.2465949058532715,4.285618305206299,5.485256195068359,6.664961338043213,6.985625743865967,6.267665863037109,8.86651611328125,5.485884189605713,9.224310874938965,7.206524848937988,6.110073566436768,4.490938186645508,8.80065631866455,6.460874080657959,7.214881420135498],\"z\":[-5.93141508102417,-8.66210651397705,-2.0419790744781494,-2.240662097930908,-4.412138938903809,-1.940206527709961,-4.622034072875977,-8.51613712310791,-9.10651683807373,-5.927548885345459,-1.9135369062423706,-9.098182678222656,-3.798553466796875,-1.9497902393341064,-2.993098497390747,-9.039467811584473,-1.7274940013885498,-1.441051959991455,-2.465801954269409,-8.891083717346191,-4.358595371246338,2.2478420734405518,-5.796810150146484,-5.173775672912598,-5.239279747009277,-6.257229328155518,-8.21644115447998,-3.844871997833252,-9.042786598205566,-3.3365044593811035,-4.057504177093506,-3.2021372318267822,-7.609372615814209,-4.25169563293457,-5.879933834075928,-2.99674391746521,-8.791080474853516,-4.926027774810791,-3.2863705158233643,-9.038010597229004,-7.20684814453125,-2.8044321537017822,-4.726832389831543,-4.540633678436279,1.6161847114562988,-4.607021808624268,-5.463168621063232,-7.370100975036621,-1.1997158527374268,-4.887274742126465,-2.6025891304016113,-7.182240009307861,-2.0661299228668213,-5.603872776031494,-5.052968502044678,-2.841407537460327,-3.0460944175720215,-7.109210014343262,-1.2455365657806396,-4.6580023765563965,0.4895375370979309,-1.2801525592803955,-2.116814136505127,-7.247503757476807,-6.653755187988281,-3.7929587364196777,-6.050012588500977,-9.006647109985352,-7.930893898010254,-6.890178680419922,-4.109993934631348,-4.576060771942139,-4.061891555786133,1.4337843656539917,-7.946938514709473,-9.047514915466309,-7.6132378578186035,-3.7881810665130615,-1.3675413131713867,-8.651288986206055,-2.5666675567626953,-5.721166133880615,-3.661623001098633,-3.7875561714172363,-3.0393552780151367,0.62115877866745,-1.7176063060760498,-3.0618598461151123,-4.921615123748779,-8.416536331176758,-4.740702152252197,-7.827634811401367,-7.619942665100098,-7.119156837463379,0.19189119338989258,-8.970521926879883,-6.624822616577148,-5.302640438079834,1.0523653030395508,-5.027210235595703,-1.2636533975601196,-8.428810119628906,-6.757927894592285,-8.056392669677734,-3.7102975845336914,-6.4369683265686035,-7.96069860458374,-8.027434349060059,-7.073517799377441,-5.856389999389648,-5.970000267028809,-8.734864234924316,-4.9584503173828125,-2.217750310897827,-2.255652666091919,-6.866336822509766,-0.7458836436271667,-8.297539710998535,-6.695001125335693,-4.175780773162842,-5.754636764526367,-2.8118245601654053,-4.921887397766113,-5.302084922790527,-6.1841511726379395,-4.7060227394104,-8.538727760314941,-4.842468738555908,-5.150628566741943,-7.671657562255859,-7.022221088409424,-5.54269552230835,-3.1740732192993164,-8.478002548217773,-0.007748680654913187,2.1679086685180664,-0.5746188163757324,-0.9838316440582275,-4.091856956481934,1.4108840227127075,-8.868268013000488,-4.567572116851807,-7.988364219665527,-5.290102958679199,-1.6876881122589111,0.3992060422897339,-0.5755137801170349,-8.828909873962402,-3.9476511478424072,0.3021838068962097,-8.180017471313477,-8.738713264465332,-2.328063488006592,-6.900400638580322,-4.920628547668457,-5.322573184967041,-8.875844955444336,-4.358014106750488,-3.852418899536133,-4.282127380371094,-1.9297641515731812,-1.3494035005569458,-1.8202104568481445,-3.5773000717163086,-1.0875940322875977,-2.0143487453460693,-2.652480125427246,-1.1064119338989258,-0.47769927978515625,-7.160833358764648,-8.84251880645752,-5.787059783935547,-4.244901657104492,-0.588522732257843,-4.3640522956848145,-7.012026786804199,-8.805595397949219,-8.625218391418457,-0.8896990418434143,-7.303781032562256,-8.346914291381836,-5.599637031555176,-4.987186431884766,-1.1012009382247925,-1.523661732673645,-2.094503879547119,-3.5160529613494873,-7.7464399337768555,-4.572357654571533,-4.164493560791016,-8.129680633544922,-1.1454696655273438,-2.8523590564727783,-7.317737579345703,-7.84145975112915,-0.8228155970573425,-1.5545493364334106,-0.6977160573005676,-6.347386837005615,-7.240936756134033,-8.875134468078613,-1.2642117738723755,-4.807579517364502,-6.878565311431885,-7.525469779968262,-5.242748260498047,-6.040966510772705,-2.1376476287841797,-7.585180282592773,-3.399663209915161,-8.51357364654541,-1.3326297998428345,-0.8442941308021545,0.14221353828907013,-7.36594820022583,-7.733825206756592,-7.594097137451172,-3.8620693683624268,-5.103501319885254,-1.6374863386154175,-7.311336040496826,-4.28617525100708,-3.5620028972625732,1.8496519327163696,-6.988716125488281,-4.7151031494140625,-1.0778318643569946,1.2194231748580933,-0.9861356019973755,-8.558402061462402,-5.69896936416626,-8.079248428344727,-0.011972619220614433,-6.881638050079346,-2.1378865242004395,-4.770808696746826,-2.547821521759033,-3.3121330738067627,-7.6052374839782715,-6.612533092498779,0.1397952288389206,1.0186030864715576,0.9948114156723022,-6.8575005531311035,-2.5172009468078613,-7.198531627655029,-8.116877555847168,-5.630976676940918,-4.329529762268066,-7.587645053863525,-6.082790374755859,-1.1543623208999634,-2.654778003692627,-7.568843364715576,-5.204568862915039,0.11326542496681213,-3.2398741245269775,-1.5329082012176514,-5.407999038696289,-1.383914589881897,-7.6868414878845215,-8.042815208435059,-5.334207534790039,-9.052142143249512,-2.430036783218384,-3.504620313644409,-3.744061231613159,-3.0539236068725586,-6.758758544921875,-1.2380590438842773,-7.576076984405518,-5.17923641204834,-9.079526901245117,-8.599994659423828,-5.375915050506592,-8.31321907043457,-8.722040176391602,-8.693182945251465,-2.2268691062927246,-8.218423843383789,-9.028067588806152,-9.070385932922363,-5.605234146118164,-7.603275775909424,-5.278687000274658,-2.3285653591156006,-7.228660583496094,-6.237112522125244,-4.274136543273926,-6.256556987762451,-5.735286235809326,-2.1597957611083984,-7.212048530578613,-8.902982711791992,-8.423186302185059,-1.686509370803833,-8.951292037963867,-7.540698528289795,-9.1112699508667,-5.125143051147461,-3.052767515182495,-2.320542573928833,-2.756068706512451,-9.087343215942383,-1.0407516956329346,-2.170358419418335,0.07303585112094879,-7.768892765045166,1.442970871925354,-8.008885383605957,-4.972300052642822]},{\"hovertemplate\":\"Dominant_Topic=Topic 2<br>0=%{x}<br>1=%{y}<br>2=%{z}<extra></extra>\",\"legendgroup\":\"Topic 2\",\"marker\":{\"color\":\"#00cc96\",\"opacity\":0.7,\"symbol\":\"circle\"},\"mode\":\"markers\",\"name\":\"Topic 2\",\"scene\":\"scene\",\"showlegend\":true,\"type\":\"scatter3d\",\"x\":[10.036126136779785,2.8303024768829346,-2.407313585281372,3.4905056953430176,6.06639289855957,6.6171135902404785,9.443440437316895,5.793589115142822,5.161633014678955,6.087707996368408,2.2010786533355713,6.072364807128906,1.3133633136749268,6.408970355987549,7.677793502807617,6.242640495300293,6.8363847732543945,6.4880266189575195,-3.6989481449127197,4.0022664070129395,6.627964973449707,-1.0468978881835938,9.132122993469238,9.93447208404541,-8.692877769470215,6.43278694152832,-0.8521773219108582,6.433511734008789,5.5901780128479,2.1622567176818848,8.566962242126465,7.979040622711182,6.419192790985107,4.837469100952148,-4.859137535095215,10.062226295471191,6.670833110809326,10.029458045959473,10.07393741607666,1.6150968074798584,10.07878589630127,-0.6094977259635925,7.651552677154541,1.3539787530899048,6.9516730308532715,8.423259735107422,5.77793550491333,4.20192813873291,5.957996845245361,2.0620086193084717,6.801239490509033,10.02602767944336,2.971327066421509,-7.1850714683532715,-1.7365270853042603,6.328153610229492,6.05534029006958,-6.461889266967773,6.181780815124512,-4.099519729614258,-1.7457321882247925,7.19159460067749,-6.558456897735596,3.617469072341919,8.956683158874512,3.2881722450256348,10.037313461303711,-2.610034704208374,4.455843448638916,6.366000652313232,-6.241709232330322,10.200423240661621,6.43471622467041,5.72216796875,5.376827239990234,4.63914680480957,6.510860919952393,6.048887252807617,1.4651827812194824,3.7759242057800293,5.06731653213501,-2.8277647495269775,3.871687650680542,4.418376445770264,8.70101261138916,7.747480869293213,6.913796424865723,9.372983932495117,-4.780730247497559,8.583948135375977,-2.0513768196105957,-8.11693286895752,4.561946868896484,2.820744514465332,1.9668740034103394,3.554837703704834,5.200648307800293,7.015027046203613,8.249913215637207,6.069857120513916,0.7221466302871704,-2.244915008544922,6.462112903594971,4.8641767501831055,6.327281475067139,8.4708251953125,5.2677693367004395,9.527825355529785,6.123180866241455,4.405608654022217,9.126994132995605,-3.727811813354492,7.281900882720947,7.911843776702881,8.860033988952637,8.27073860168457,5.272927284240723,6.841915130615234,10.108705520629883,3.6697981357574463,6.300752639770508,6.841868877410889,6.336329936981201,7.839382648468018,5.651348114013672,7.02108097076416,5.75156831741333,7.168124675750732,7.953718185424805,3.5108277797698975,4.238168716430664,10.027320861816406,9.273548126220703,-7.5006842613220215,7.6657538414001465,4.033220291137695,-4.03810977935791,6.4880146980285645,6.4172868728637695,5.197015285491943,8.044257164001465,-6.681331157684326,5.868715763092041,-7.814537525177002,3.473799705505371,-9.205092430114746,7.613328456878662,-5.341709613800049,6.543400764465332,5.373492240905762,4.472020149230957,-8.251908302307129,10.11020278930664,4.919517517089844,10.077528953552246,-9.169072151184082,8.077058792114258,6.678707599639893,-6.107065200805664,-3.5838303565979004,5.367568492889404,0.9980863928794861,7.30475378036499,5.964211940765381,5.364804267883301,2.6578240394592285,-7.070637226104736,-0.10612209886312485,7.671823978424072,8.013785362243652,8.528511047363281,-9.317963600158691,8.041316032409668,5.7639851570129395,6.077188491821289,6.779358386993408,-4.562253952026367,3.84844970703125,6.191752910614014,6.435202121734619,1.900405764579773,6.410216808319092,6.801517963409424,6.804737091064453,7.942596912384033,-5.863008975982666,-6.0998005867004395,6.554496765136719,10.093083381652832,-8.44265365600586,5.910050868988037,9.99681568145752,7.759860038757324,6.54597282409668,7.920810222625732,-1.1101393699645996,-6.919774055480957,6.022190570831299,6.982311248779297,8.912810325622559,7.140242099761963,6.059334754943848,7.599628925323486,6.818592071533203,10.004911422729492,6.6612958908081055,8.05220890045166,5.854671478271484,6.436774253845215,8.44640827178955,8.73886489868164,2.8128743171691895,9.393052101135254,-4.835443019866943,1.9139035940170288,-4.048244476318359,5.0528244972229,-8.555237770080566,8.143611907958984,7.602659225463867,3.249896764755249,1.677782416343689,-5.440115451812744,8.054709434509277,6.990578651428223,9.563068389892578,6.483621120452881,4.778814315795898,3.1943907737731934,6.062042236328125,0.6775502562522888,7.048655986785889,6.521090507507324,7.380085468292236,-4.002959728240967,3.8767452239990234,4.506186485290527,6.711252212524414,2.7940757274627686,6.736937522888184,6.1996684074401855,3.724973440170288,6.195858955383301,10.034308433532715,9.27113151550293,7.853333950042725,4.705575942993164,6.3770856857299805,-1.58777916431427,5.2047953605651855,5.892920970916748,6.744855880737305,7.174871921539307,-5.192715644836426,4.856283664703369,7.651003837585449,9.722796440124512,-9.044881820678711,6.33351993560791,7.701942443847656,-9.05922794342041,2.634742021560669,8.216763496398926,-1.9773856401443481,6.38413667678833,5.767228603363037,5.922834873199463,3.9598388671875,-7.584780693054199,8.244994163513184,7.001376628875732,8.357860565185547,5.8018293380737305,6.773839473724365,6.026978492736816,9.910714149475098,-6.321380138397217,5.519418239593506,4.805904865264893,6.565720081329346,-6.452884197235107,2.8168537616729736,3.760441541671753,9.139907836914062,9.860968589782715,7.319649696350098,-6.729750633239746,6.557611465454102,4.967449188232422,9.835253715515137,-7.047271251678467,5.389286518096924,-6.453783988952637,-1.7135769128799438,-5.964966773986816,9.200594902038574,-6.894693374633789,9.351231575012207,3.6784305572509766,1.1970081329345703,-1.8261905908584595,6.377463340759277,6.231645107269287,3.677473783493042,7.3252081871032715,9.398329734802246,9.960043907165527,4.8218607902526855,-2.450639247894287,6.193568229675293,3.0804007053375244,8.3502779006958,-8.63304615020752,-4.036143779754639,-1.7998697757720947,1.482248306274414,-3.78395676612854,8.938133239746094,3.340972661972046,7.452984809875488,-5.544869422912598,9.437016487121582,5.6554789543151855,4.948209285736084,7.830996036529541,5.161662578582764,5.233126163482666,4.377617835998535,8.547207832336426,3.1109962463378906,9.879920959472656,8.934965133666992,5.2214555740356445,8.151037216186523,8.382208824157715,5.808529376983643,9.697833061218262,6.811304092407227,2.3185677528381348,2.8325767517089844,9.972344398498535,3.4151885509490967,8.76471996307373,6.241179466247559,5.91713285446167,-3.357285976409912,8.362802505493164,5.324551582336426,7.40083646774292,8.33847713470459,6.731696128845215,3.188284158706665,7.09095573425293,5.012755870819092,5.585060119628906,-7.433767318725586,8.866458892822266,7.655150413513184,5.121904373168945,3.2200863361358643,8.463462829589844,2.657236337661743,1.817092776298523,5.211083889007568,8.058004379272461,3.009418487548828,6.398036003112793,6.300954341888428,6.055238246917725,10.107921600341797,8.774659156799316,1.3058180809020996,7.633304119110107,7.085881233215332,5.639047145843506,3.1780638694763184,7.379766464233398,6.335748672485352,-0.45986270904541016,8.389249801635742,-6.245587348937988,6.698455333709717,6.671899795532227,9.128024101257324,5.747681617736816,8.40952205657959,6.040708541870117,3.191070795059204,9.597372055053711,7.537113189697266,9.879088401794434,6.683333873748779,7.899545669555664,8.827747344970703,3.563406467437744,8.778353691101074,-7.658451557159424,6.514890670776367,-3.1788125038146973,-3.957453966140747,2.995720386505127,6.385861396789551,6.636422157287598,6.889510154724121,8.93712043762207,9.279727935791016,9.999131202697754,7.1211018562316895,8.696382522583008,3.397061347961426,8.365357398986816,8.989561080932617,6.191272258758545,4.015715599060059,5.679881572723389,6.059164524078369,7.008913040161133,5.836169719696045,2.6745569705963135,8.45455265045166,8.524040222167969,-6.969405651092529,6.2622857093811035,2.693175792694092,1.4540019035339355,2.329317808151245,7.393369197845459,8.251489639282227,6.134890556335449,1.5341089963912964,7.216489791870117,4.604910373687744,4.841021537780762,6.422748565673828,4.427159309387207,2.3856499195098877,6.464301109313965,0.7905881404876709,3.623405933380127,6.483430862426758,-4.931948661804199,10.088899612426758,5.199517726898193,7.516104698181152,8.677713394165039,6.31255578994751,4.046761989593506,7.848755359649658,5.901664733886719,2.9620680809020996,6.72840690612793,-1.609117031097412,2.281263589859009,2.6806623935699463,6.473923206329346,3.2934677600860596,6.44340705871582],\"y\":[-3.0503106117248535,-6.6053571701049805,-11.875752449035645,-9.590361595153809,-0.07278705388307571,-6.247082233428955,-7.037335395812988,0.7541680932044983,2.5951240062713623,-6.245882034301758,-11.742387771606445,-0.09498913586139679,-11.893549919128418,1.9330929517745972,-0.9534167647361755,-0.7584602236747742,-7.680569648742676,-10.301422119140625,-11.293966293334961,3.5872228145599365,1.888201117515564,-12.205599784851074,-0.875291109085083,-5.777562618255615,-8.434348106384277,-3.1619160175323486,-12.800366401672363,-2.235638380050659,-10.993204116821289,-10.62045955657959,-1.9349480867385864,-9.105177879333496,-1.5225424766540527,-11.392251968383789,-10.668924331665039,-4.929328918457031,-0.4994226098060608,-5.054215431213379,-4.756224155426025,-11.826984405517578,-4.787053108215332,-12.222046852111816,-0.9373390078544617,-11.854938507080078,1.6467103958129883,-1.150877833366394,-10.881135940551758,6.1621551513671875,-5.978992938995361,-11.776448249816895,-5.603485107421875,-3.008854866027832,-10.110965728759766,-9.107003211975098,-12.094564437866211,-1.2431892156600952,2.12795352935791,-9.816974639892578,-5.200552940368652,-11.060349464416504,-12.080009460449219,-9.808801651000977,-9.647442817687988,-11.09856128692627,-6.787428379058838,-9.790736198425293,-5.110235214233398,-11.78271770477295,3.669029951095581,-3.8725879192352295,-10.082291603088379,-3.2371580600738525,2.0657334327697754,0.9819020628929138,2.9438300132751465,2.927151918411255,1.804385781288147,-5.703418254852295,-11.877645492553711,-10.82363510131836,-7.61325216293335,-11.693946838378906,-7.877012729644775,3.720905065536499,-0.2568697929382324,-2.774121046066284,1.6309267282485962,-7.1262078285217285,-10.716100692749023,-1.5892958641052246,-11.997937202453613,-8.515397071838379,3.5874991416931152,-12.046083450317383,-11.791211128234863,-9.51148796081543,2.1231629848480225,-9.938284873962402,-1.260717749595642,2.260341167449951,-9.595634460449219,-11.93208122253418,-3.811756134033203,-7.910781383514404,-1.2346035242080688,-1.0167220830917358,-7.309321403503418,-1.604899287223816,0.8316742181777954,-8.505636215209961,-7.696820259094238,-11.287527084350586,-4.311465263366699,-3.444633960723877,-7.703814506530762,-5.2248663902282715,1.989158272743225,-5.672618865966797,-3.8855834007263184,3.893336057662964,-4.345334529876709,1.612037181854248,-5.610320091247559,-2.6957294940948486,1.9236220121383667,1.4767165184020996,-6.524787902832031,-5.163170337677002,-9.149657249450684,-5.364987850189209,3.3582687377929688,-3.002439498901367,-1.1052759885787964,-8.880722045898438,-1.2413158416748047,3.5584161281585693,-11.155837059020996,1.7964754104614258,-1.8421915769577026,-7.411039352416992,-3.9236018657684326,-9.430034637451172,2.4777419567108154,-8.665648460388184,-11.198229789733887,-8.550966262817383,-9.461708068847656,-10.390746116638184,2.011772871017456,2.2283542156219482,-11.54955005645752,-8.47645378112793,-3.848982095718384,-11.371109008789062,-3.3041610717773438,-8.53926944732666,-3.127157688140869,-1.8695560693740845,-9.702892303466797,-11.356544494628906,1.7898757457733154,-9.27831745147705,-3.8918955326080322,0.26036593317985535,1.811983585357666,4.904434680938721,-9.484735488891602,-10.885581016540527,-4.197554588317871,-3.154658555984497,-6.885293006896973,-8.590736389160156,0.5415894985198975,2.603134870529175,-5.799595832824707,1.8057667016983032,-10.836593627929688,-8.16012954711914,-5.421187877655029,-3.062657117843628,-11.821455955505371,-3.4442412853240967,-7.864721298217773,-7.477243900299072,-9.14493465423584,-10.069366455078125,-9.66762638092041,1.8126970529556274,-3.4669032096862793,-8.436152458190918,2.472820281982422,-2.8683087825775146,-4.11706018447876,-2.235502004623413,-9.167206764221191,-12.231841087341309,-9.47496509552002,1.2111948728561401,1.3954507112503052,-0.5481926798820496,1.4715065956115723,2.2954251766204834,-0.8341687321662903,-2.905318021774292,-2.8959336280822754,-6.03987455368042,-4.266635417938232,-10.74143123626709,0.4620465040206909,-1.5801807641983032,-0.3078067898750305,-10.215200424194336,-7.0069122314453125,-10.682577133178711,-11.797820091247559,-11.123655319213867,-11.290502548217773,-8.430765151977539,-6.6634721755981445,-0.8186028003692627,-5.241067409515381,-10.97119426727295,-10.316202163696289,0.5271275043487549,1.5066555738449097,-6.764323711395264,-10.272994041442871,3.4463930130004883,-11.969767570495605,-0.057266123592853546,-9.62696361541748,1.561104416847229,1.7608704566955566,-0.3947078585624695,-11.157576560974121,-6.091805934906006,-8.351822853088379,1.4633688926696777,-6.6974663734436035,-8.938772201538086,0.6584146618843079,-11.824745178222656,-5.468584060668945,-5.308695316314697,-6.317605018615723,0.7385141253471375,-8.58597183227539,1.0310122966766357,-12.101522445678711,-7.402885437011719,-6.193522930145264,-6.75014591217041,-9.827940940856934,-10.467629432678223,3.381143569946289,0.934765636920929,-6.448704719543457,-8.501460075378418,-5.626266002655029,-1.785869836807251,-8.505499839782715,-10.367108345031738,-4.928843975067139,-12.008928298950195,1.1966111660003662,1.1975115537643433,2.43216609954834,-9.048246383666992,-8.837779998779297,-2.4360897541046143,-0.48552700877189636,-1.6664506196975708,-5.352601528167725,-8.64968490600586,-6.002537727355957,-5.9010090827941895,-10.039276123046875,1.4960085153579712,-7.947149753570557,1.8198875188827515,-9.704691886901855,-6.649715900421143,-11.062089920043945,-7.431224822998047,-6.074985980987549,-3.0260863304138184,-9.363541603088379,-10.214008331298828,2.4989683628082275,-6.06740140914917,-9.180830001831055,2.376985788345337,-9.798728942871094,-12.095712661743164,-10.06270694732666,-7.334336280822754,-9.176405906677246,-1.2411260604858398,-9.821374893188477,-11.902486801147461,-11.988396644592285,-3.7682645320892334,-10.599187850952148,-9.435835838317871,-9.674639701843262,-1.331993818283081,-5.707315921783447,-7.9337358474731445,-11.848990440368652,0.5743668079376221,-11.98582935333252,0.19209350645542145,-8.431330680847168,-11.214277267456055,-12.078873634338379,-11.872653007507324,-11.250099182128906,-6.814736366271973,-11.933000564575195,1.1171931028366089,-10.253242492675781,-1.412201166152954,1.6151001453399658,2.8585093021392822,-0.4410032033920288,2.595062494277954,2.053941249847412,3.7486610412597656,-7.0104241371154785,-6.1744890213012695,-6.011069297790527,-6.81923246383667,-7.3786492347717285,-2.917290687561035,0.15303707122802734,2.429893970489502,-2.002695083618164,-8.045462608337402,-11.733866691589355,-6.619953632354736,-2.78947377204895,-6.024443626403809,-8.047513961791992,-4.745744705200195,-10.616064071655273,-11.460846900939941,-8.639549255371094,-7.221238613128662,-0.6426870822906494,-2.2448863983154297,1.6928973197937012,-9.962790489196777,1.4236936569213867,-7.704022407531738,-10.99764347076416,-8.976641654968262,-1.7035505771636963,0.93034428358078,-11.255030632019043,4.290326118469238,-8.540556907653809,-10.303502082824707,-11.853755950927734,-11.207066535949707,-6.478625774383545,-5.87455940246582,-3.6439504623413086,1.963287591934204,-10.637537002563477,-3.461479425430298,-8.101593971252441,-11.888467788696289,-2.5695083141326904,0.06731607019901276,-6.702167987823486,-11.41180419921875,-9.658273696899414,-10.543622970581055,-10.776679039001465,-2.0258219242095947,-9.390992164611816,-10.186983108520508,1.7274929285049438,-7.640979290008545,2.6353046894073486,-8.570453643798828,1.0983102321624756,-11.367596626281738,-1.7694268226623535,-9.538002014160156,-2.4770283699035645,1.7178057432174683,-9.672744750976562,-7.5037946701049805,3.9673919677734375,-5.988443851470947,-8.764924049377441,-2.1395435333251953,-11.54054069519043,-11.148139953613281,-10.057374000549316,-0.22425150871276855,-10.136164665222168,-10.041479110717773,-7.8456597328186035,-1.1163477897644043,-5.377830982208252,-2.5456016063690186,-1.8787091970443726,4.108541011810303,0.17397823929786682,-5.488670349121094,2.188527822494507,-11.729626655578613,-10.967904090881348,-5.921548843383789,-5.889913558959961,-10.785795211791992,-10.29212760925293,-1.6254478693008423,-1.9811922311782837,-9.796299934387207,-0.8535370826721191,-11.580375671386719,-11.887845993041992,-10.60472583770752,-0.6471485495567322,-8.739813804626465,-5.434155464172363,-11.080684661865234,-2.404444694519043,-11.813488006591797,-7.920027256011963,1.8530775308609009,3.155609607696533,5.1103925704956055,-1.7718989849090576,-11.970932960510254,-9.516655921936035,0.8457579016685486,-10.617990493774414,-3.4389123916625977,2.121882438659668,-2.8298470973968506,-8.1070556640625,1.685033917427063,-11.719319343566895,-6.530269145965576,2.432178258895874,-5.759578704833984,1.851226568222046,-12.106267929077148,-11.73989200592041,-10.275288581848145,-1.7436082363128662,-5.439992904663086,-1.4563188552856445],\"z\":[3.9310715198516846,-2.283586263656616,-1.4656250476837158,-5.949498653411865,-4.64204740524292,-3.369180202484131,2.4608404636383057,-4.570030689239502,-3.551143169403076,-4.638967514038086,-3.8973379135131836,-4.645287990570068,-3.313124895095825,0.7109696865081787,-0.732048511505127,-4.686248302459717,-2.000453233718872,-0.2581501007080078,-1.1344075202941895,-3.9994349479675293,4.455329895019531,-2.022292375564575,4.257307052612305,3.2622976303100586,-0.6527467370033264,-4.869405269622803,-1.7906992435455322,-4.789636611938477,-0.5288395285606384,-5.592994213104248,0.5788542628288269,0.8653802871704102,-4.639013290405273,-0.8179266452789307,-0.9065951704978943,3.6267683506011963,-3.1511263847351074,3.5896754264831543,3.6713149547576904,-3.614715814590454,3.6668286323547363,-2.2193350791931152,-0.7882912755012512,-3.4383301734924316,3.4122097492218018,0.8915502429008484,-0.4625794589519501,-2.422459363937378,-5.161802768707275,-3.816615343093872,-3.23043155670166,3.9493234157562256,-5.897104740142822,-0.6647274494171143,-1.6839845180511475,-4.753655433654785,-0.6635378003120422,-0.5027760863304138,-5.002756118774414,-1.0581766366958618,-1.6669776439666748,0.19123712182044983,-0.9572545289993286,-4.722692966461182,1.753251314163208,-5.96240758895874,3.57063627243042,-1.4194220304489136,3.0977587699890137,-4.961246013641357,-0.7834367752075195,3.9161553382873535,4.158839225769043,-4.505636215209961,1.7484335899353027,-4.088409900665283,0.6870569586753845,-5.125098705291748,-3.41695499420166,-4.918285369873047,-5.601883888244629,-1.362687349319458,-4.932166576385498,2.797241687774658,4.38904333114624,-1.3688374757766724,4.7145843505859375,2.382617950439453,-0.9170026779174805,0.851448655128479,-1.5605344772338867,-0.6971924901008606,3.08282470703125,-1.6844552755355835,-3.77303147315979,-5.9531331062316895,-4.338776588439941,0.05334587022662163,0.33219558000564575,4.892025470733643,-2.340928554534912,-1.5300302505493164,-4.71049165725708,-5.6526780128479,-4.743092060089111,1.1916015148162842,-5.551024436950684,4.084848880767822,-3.5059897899627686,-5.7892985343933105,2.125201463699341,-1.1240109205245972,-2.4128167629241943,-1.0532934665679932,1.7647780179977417,-0.1074184998869896,-4.380716800689697,-3.098524808883667,3.843055248260498,-3.9513967037200928,-4.986445903778076,2.0224361419677734,-4.373357772827148,-1.1428940296173096,-3.279334306716919,5.307908058166504,-5.170690059661865,-2.4781718254089355,0.8603610396385193,-2.4144554138183594,-4.027586936950684,3.9599530696868896,4.1852617263793945,-0.7455757856369019,-0.9280737638473511,-4.001362323760986,-1.0408761501312256,0.5100324749946594,-4.825231552124023,-5.609894275665283,-0.7609809637069702,-0.4595039486885071,-0.1621514856815338,-0.7160744667053223,-4.638803482055664,-0.5992496013641357,0.515781581401825,-0.8342962265014648,3.4320905208587646,-3.664034366607666,-0.968143105506897,-0.6890406608581543,3.863952398300171,-0.7978911995887756,3.886643171310425,-0.6034771800041199,-0.6929141283035278,-4.049253463745117,-0.6939626336097717,-1.1587679386138916,-4.440906524658203,-2.3598108291625977,-2.4286320209503174,-4.616844177246094,-4.413458347320557,-2.393582820892334,-0.75783371925354,-2.49865460395813,-1.5521211624145508,-0.8295610547065735,0.8969829678535461,-0.58725506067276,4.646303176879883,-0.20411784946918488,-4.964627742767334,3.529353141784668,-0.9555011987686157,-5.121053218841553,-4.87736177444458,-4.862292289733887,-3.6929779052734375,-4.919616222381592,-1.937710165977478,-2.1954193115234375,0.831483781337738,-0.7622247338294983,-0.7505463361740112,5.549783706665039,3.944533109664917,-0.6792650818824768,0.7012723088264465,3.9898293018341064,-1.3454939126968384,-4.510888576507568,0.7963477373123169,-1.9704033136367798,-0.495650053024292,-3.2653253078460693,1.7767865657806396,4.340595722198486,3.5139458179473877,0.3114156723022461,-0.83149254322052,-3.847957134246826,3.9462826251983643,-3.3749048709869385,-0.7190978527069092,-0.5256762504577637,-2.9093849658966064,0.5430601835250854,4.399084091186523,-5.875907897949219,2.4034807682037354,-0.9055880308151245,-3.7548837661743164,-1.05209219455719,-0.7325014472007751,-0.666537344455719,3.009972333908081,-0.807532012462616,-1.9700509309768677,-5.170835971832275,-0.8149131536483765,4.639188766479492,5.274316310882568,2.6063568592071533,-0.2874242067337036,2.3079416751861572,-1.540615200996399,-4.639812469482422,-2.3331711292266846,3.6874639987945557,0.5484104156494141,-0.9464102983474731,-1.060241460800171,-3.1735072135925293,-5.8167643547058105,0.4864077866077423,-2.3055481910705566,-1.17845618724823,-3.4802730083465576,-1.3137997388839722,-4.842001438140869,3.505936861038208,2.167741537094116,4.704144477844238,-5.293874740600586,-2.1648197174072266,-1.7103995084762573,-5.611679553985596,-5.136098861694336,-2.775041103363037,0.18525131046772003,-0.8506482839584351,2.3544280529022217,4.863497257232666,2.8314321041107178,-0.615880012512207,-4.3733720779418945,-1.1036181449890137,-0.6144189834594727,-5.79115104675293,-0.28130558133125305,-1.5467188358306885,-1.7322745323181152,-4.126589775085449,4.371861934661865,-5.896338939666748,-0.7664804458618164,-0.23647364974021912,-2.15740966796875,0.28060394525527954,-4.5894269943237305,-1.3689595460891724,-4.940287113189697,3.185865640640259,-0.676301896572113,-4.430863857269287,-5.781063079833984,5.45909309387207,-0.9596369862556458,-2.299194097518921,-4.715872764587402,2.116976261138916,3.0743730068206787,-2.4625158309936523,-0.8785173296928406,-0.2523697316646576,-4.222329139709473,3.0595107078552246,-0.5750628709793091,-3.2919936180114746,-0.49035370349884033,-1.6840391159057617,-0.7452818155288696,2.185798168182373,-0.7600539326667786,4.162327289581299,-5.673806667327881,-3.246558666229248,-1.184970498085022,-4.955459117889404,-0.26163265109062195,-5.893055438995361,0.2230047583580017,4.1379218101501465,3.3083269596099854,-5.74343729019165,-1.484034538269043,-3.6024186611175537,-1.6264406442642212,4.528181076049805,-0.6592652797698975,-1.0161832571029663,-1.661688208580017,-3.436126947402954,-1.1157947778701782,1.7264716625213623,-1.4767130613327026,4.9741010665893555,-0.7990216016769409,4.119924545288086,-3.8606679439544678,-3.5691134929656982,0.3092620372772217,-3.5511317253112793,-4.374712944030762,2.8655147552490234,0.9764550924301147,-2.365445852279663,3.1254050731658936,1.7217308282852173,-5.576751708984375,-0.5207523107528687,4.514001846313477,-0.8804637789726257,4.028993129730225,-1.787415623664856,-3.9131879806518555,-2.2965481281280518,3.9003374576568604,-2.6424641609191895,1.6975218057632446,-5.013655185699463,-0.5778321623802185,-1.2129544019699097,1.2624354362487793,-5.532701015472412,-1.1654815673828125,-0.0012002830626443028,5.46353816986084,-5.901566028594971,5.2461256980896,-5.600428581237793,-0.5316532254219055,-0.6694372296333313,1.4801379442214966,4.865371227264404,-0.7102022171020508,-3.7941932678222656,1.3813670873641968,-5.846190452575684,-3.5882701873779297,-0.6905686259269714,3.2311482429504395,-1.922937035560608,-4.923510551452637,0.12183718383312225,-0.4057088792324066,3.4213204383850098,1.7282187938690186,-3.324570655822754,-1.589428424835205,-1.191715955734253,-5.300618648529053,-4.400164604187012,0.31752970814704895,-0.18840301036834717,-2.3285272121429443,0.17584460973739624,-0.5639163255691528,-0.12136325240135193,5.537354469299316,2.121831178665161,0.5047357082366943,1.3115339279174805,-3.3925108909606934,-4.465117931365967,4.048911094665527,0.4710084795951843,3.9757797718048096,1.4298776388168335,-0.4846510887145996,1.6720774173736572,-4.000463008880615,3.4701080322265625,-0.7307075262069702,-4.573901176452637,-1.2720348834991455,-1.0905641317367554,-5.931717872619629,-3.8117611408233643,-0.2385229766368866,-0.008200793527066708,1.9019678831100464,4.184805393218994,3.473541498184204,-2.9622607231140137,0.8947805762290955,-3.9908103942871094,4.52516508102417,3.772582530975342,0.8280401229858398,-1.1748590469360352,-0.4686921238899231,-4.918603897094727,-2.591402769088745,-0.5032433271408081,-5.853278636932373,0.5278114080429077,0.4656978249549866,-0.7889477014541626,-4.68925666809082,-4.186254978179932,-3.3805654048919678,-5.588638782501221,-1.1907728910446167,1.139269232749939,-5.034494400024414,-5.0042724609375,-2.647514820098877,-0.85332852602005,-5.705591678619385,0.3620009422302246,-4.067070007324219,-2.1427314281463623,-4.616205215454102,-2.9723122119903564,-5.887869358062744,-2.097543716430664,-0.8943211436271667,3.9355483055114746,-4.347438335418701,-1.945366382598877,1.5870774984359741,-0.7241867184638977,-1.1589980125427246,3.2437214851379395,-0.18725278973579407,-1.9123886823654175,3.5203464031219482,-1.7074172496795654,-3.9137110710144043,-5.868928909301758,-4.582079887390137,-2.133301019668579,-4.541679382324219]},{\"hovertemplate\":\"Dominant_Topic=Topic 3<br>0=%{x}<br>1=%{y}<br>2=%{z}<extra></extra>\",\"legendgroup\":\"Topic 3\",\"marker\":{\"color\":\"#ab63fa\",\"opacity\":0.7,\"symbol\":\"circle\"},\"mode\":\"markers\",\"name\":\"Topic 3\",\"scene\":\"scene\",\"showlegend\":true,\"type\":\"scatter3d\",\"x\":[7.379753589630127,6.939888954162598,7.568171501159668,7.79146671295166,6.874382495880127,7.576940059661865,7.390923023223877,7.940580368041992,7.22349739074707,7.236220836639404,6.785567283630371,7.842845916748047,7.634762287139893,7.510976791381836,7.204817295074463,7.820603370666504,7.525538921356201,7.2001447677612305,7.640382766723633,7.130137920379639,4.3160080909729,6.960474491119385,7.61614990234375,7.660000324249268,7.772916316986084,7.1881208419799805,7.911196231842041,7.089433193206787],\"y\":[12.09614372253418,12.33773136138916,13.124194145202637,12.282651901245117,12.616523742675781,12.932738304138184,12.309976577758789,12.595372200012207,12.524086952209473,12.850384712219238,12.213789939880371,12.332606315612793,13.073772430419922,12.074605941772461,12.025871276855469,12.781569480895996,12.883395195007324,13.013565063476562,12.699577331542969,12.778847694396973,6.367720603942871,12.736074447631836,12.363993644714355,12.4428129196167,12.884395599365234,12.743364334106445,12.743680000305176,12.174468994140625],\"z\":[-4.027585029602051,-4.055935382843018,-4.178251266479492,-4.381981372833252,-4.298104763031006,-4.547592639923096,-4.598281383514404,-4.296006202697754,-4.634798526763916,-4.548474311828613,-4.3212127685546875,-4.092892169952393,-4.257715225219727,-4.418716907501221,-4.320695400238037,-3.8701655864715576,-3.759376049041748,-4.162612438201904,-4.635772705078125,-3.861475944519043,-2.4010255336761475,-4.315834999084473,-3.7458698749542236,-3.752408504486084,-3.9234278202056885,-3.804492473602295,-4.399440765380859,-4.011834144592285]}],                        {\"height\":800,\"legend\":{\"title\":{\"text\":\"Dominant_Topic\"},\"tracegroupgap\":0},\"scene\":{\"domain\":{\"x\":[0.0,1.0],\"y\":[0.0,1.0]},\"xaxis\":{\"title\":{\"text\":\"0\"}},\"yaxis\":{\"title\":{\"text\":\"1\"}},\"zaxis\":{\"title\":{\"text\":\"2\"}}},\"template\":{\"data\":{\"bar\":[{\"error_x\":{\"color\":\"#2a3f5f\"},\"error_y\":{\"color\":\"#2a3f5f\"},\"marker\":{\"line\":{\"color\":\"#E5ECF6\",\"width\":0.5},\"pattern\":{\"fillmode\":\"overlay\",\"size\":10,\"solidity\":0.2}},\"type\":\"bar\"}],\"barpolar\":[{\"marker\":{\"line\":{\"color\":\"#E5ECF6\",\"width\":0.5},\"pattern\":{\"fillmode\":\"overlay\",\"size\":10,\"solidity\":0.2}},\"type\":\"barpolar\"}],\"carpet\":[{\"aaxis\":{\"endlinecolor\":\"#2a3f5f\",\"gridcolor\":\"white\",\"linecolor\":\"white\",\"minorgridcolor\":\"white\",\"startlinecolor\":\"#2a3f5f\"},\"baxis\":{\"endlinecolor\":\"#2a3f5f\",\"gridcolor\":\"white\",\"linecolor\":\"white\",\"minorgridcolor\":\"white\",\"startlinecolor\":\"#2a3f5f\"},\"type\":\"carpet\"}],\"choropleth\":[{\"colorbar\":{\"outlinewidth\":0,\"ticks\":\"\"},\"type\":\"choropleth\"}],\"contour\":[{\"colorbar\":{\"outlinewidth\":0,\"ticks\":\"\"},\"colorscale\":[[0.0,\"#0d0887\"],[0.1111111111111111,\"#46039f\"],[0.2222222222222222,\"#7201a8\"],[0.3333333333333333,\"#9c179e\"],[0.4444444444444444,\"#bd3786\"],[0.5555555555555556,\"#d8576b\"],[0.6666666666666666,\"#ed7953\"],[0.7777777777777778,\"#fb9f3a\"],[0.8888888888888888,\"#fdca26\"],[1.0,\"#f0f921\"]],\"type\":\"contour\"}],\"contourcarpet\":[{\"colorbar\":{\"outlinewidth\":0,\"ticks\":\"\"},\"type\":\"contourcarpet\"}],\"heatmap\":[{\"colorbar\":{\"outlinewidth\":0,\"ticks\":\"\"},\"colorscale\":[[0.0,\"#0d0887\"],[0.1111111111111111,\"#46039f\"],[0.2222222222222222,\"#7201a8\"],[0.3333333333333333,\"#9c179e\"],[0.4444444444444444,\"#bd3786\"],[0.5555555555555556,\"#d8576b\"],[0.6666666666666666,\"#ed7953\"],[0.7777777777777778,\"#fb9f3a\"],[0.8888888888888888,\"#fdca26\"],[1.0,\"#f0f921\"]],\"type\":\"heatmap\"}],\"heatmapgl\":[{\"colorbar\":{\"outlinewidth\":0,\"ticks\":\"\"},\"colorscale\":[[0.0,\"#0d0887\"],[0.1111111111111111,\"#46039f\"],[0.2222222222222222,\"#7201a8\"],[0.3333333333333333,\"#9c179e\"],[0.4444444444444444,\"#bd3786\"],[0.5555555555555556,\"#d8576b\"],[0.6666666666666666,\"#ed7953\"],[0.7777777777777778,\"#fb9f3a\"],[0.8888888888888888,\"#fdca26\"],[1.0,\"#f0f921\"]],\"type\":\"heatmapgl\"}],\"histogram\":[{\"marker\":{\"pattern\":{\"fillmode\":\"overlay\",\"size\":10,\"solidity\":0.2}},\"type\":\"histogram\"}],\"histogram2d\":[{\"colorbar\":{\"outlinewidth\":0,\"ticks\":\"\"},\"colorscale\":[[0.0,\"#0d0887\"],[0.1111111111111111,\"#46039f\"],[0.2222222222222222,\"#7201a8\"],[0.3333333333333333,\"#9c179e\"],[0.4444444444444444,\"#bd3786\"],[0.5555555555555556,\"#d8576b\"],[0.6666666666666666,\"#ed7953\"],[0.7777777777777778,\"#fb9f3a\"],[0.8888888888888888,\"#fdca26\"],[1.0,\"#f0f921\"]],\"type\":\"histogram2d\"}],\"histogram2dcontour\":[{\"colorbar\":{\"outlinewidth\":0,\"ticks\":\"\"},\"colorscale\":[[0.0,\"#0d0887\"],[0.1111111111111111,\"#46039f\"],[0.2222222222222222,\"#7201a8\"],[0.3333333333333333,\"#9c179e\"],[0.4444444444444444,\"#bd3786\"],[0.5555555555555556,\"#d8576b\"],[0.6666666666666666,\"#ed7953\"],[0.7777777777777778,\"#fb9f3a\"],[0.8888888888888888,\"#fdca26\"],[1.0,\"#f0f921\"]],\"type\":\"histogram2dcontour\"}],\"mesh3d\":[{\"colorbar\":{\"outlinewidth\":0,\"ticks\":\"\"},\"type\":\"mesh3d\"}],\"parcoords\":[{\"line\":{\"colorbar\":{\"outlinewidth\":0,\"ticks\":\"\"}},\"type\":\"parcoords\"}],\"pie\":[{\"automargin\":true,\"type\":\"pie\"}],\"scatter\":[{\"marker\":{\"colorbar\":{\"outlinewidth\":0,\"ticks\":\"\"}},\"type\":\"scatter\"}],\"scatter3d\":[{\"line\":{\"colorbar\":{\"outlinewidth\":0,\"ticks\":\"\"}},\"marker\":{\"colorbar\":{\"outlinewidth\":0,\"ticks\":\"\"}},\"type\":\"scatter3d\"}],\"scattercarpet\":[{\"marker\":{\"colorbar\":{\"outlinewidth\":0,\"ticks\":\"\"}},\"type\":\"scattercarpet\"}],\"scattergeo\":[{\"marker\":{\"colorbar\":{\"outlinewidth\":0,\"ticks\":\"\"}},\"type\":\"scattergeo\"}],\"scattergl\":[{\"marker\":{\"colorbar\":{\"outlinewidth\":0,\"ticks\":\"\"}},\"type\":\"scattergl\"}],\"scattermapbox\":[{\"marker\":{\"colorbar\":{\"outlinewidth\":0,\"ticks\":\"\"}},\"type\":\"scattermapbox\"}],\"scatterpolar\":[{\"marker\":{\"colorbar\":{\"outlinewidth\":0,\"ticks\":\"\"}},\"type\":\"scatterpolar\"}],\"scatterpolargl\":[{\"marker\":{\"colorbar\":{\"outlinewidth\":0,\"ticks\":\"\"}},\"type\":\"scatterpolargl\"}],\"scatterternary\":[{\"marker\":{\"colorbar\":{\"outlinewidth\":0,\"ticks\":\"\"}},\"type\":\"scatterternary\"}],\"surface\":[{\"colorbar\":{\"outlinewidth\":0,\"ticks\":\"\"},\"colorscale\":[[0.0,\"#0d0887\"],[0.1111111111111111,\"#46039f\"],[0.2222222222222222,\"#7201a8\"],[0.3333333333333333,\"#9c179e\"],[0.4444444444444444,\"#bd3786\"],[0.5555555555555556,\"#d8576b\"],[0.6666666666666666,\"#ed7953\"],[0.7777777777777778,\"#fb9f3a\"],[0.8888888888888888,\"#fdca26\"],[1.0,\"#f0f921\"]],\"type\":\"surface\"}],\"table\":[{\"cells\":{\"fill\":{\"color\":\"#EBF0F8\"},\"line\":{\"color\":\"white\"}},\"header\":{\"fill\":{\"color\":\"#C8D4E3\"},\"line\":{\"color\":\"white\"}},\"type\":\"table\"}]},\"layout\":{\"annotationdefaults\":{\"arrowcolor\":\"#2a3f5f\",\"arrowhead\":0,\"arrowwidth\":1},\"autotypenumbers\":\"strict\",\"coloraxis\":{\"colorbar\":{\"outlinewidth\":0,\"ticks\":\"\"}},\"colorscale\":{\"diverging\":[[0,\"#8e0152\"],[0.1,\"#c51b7d\"],[0.2,\"#de77ae\"],[0.3,\"#f1b6da\"],[0.4,\"#fde0ef\"],[0.5,\"#f7f7f7\"],[0.6,\"#e6f5d0\"],[0.7,\"#b8e186\"],[0.8,\"#7fbc41\"],[0.9,\"#4d9221\"],[1,\"#276419\"]],\"sequential\":[[0.0,\"#0d0887\"],[0.1111111111111111,\"#46039f\"],[0.2222222222222222,\"#7201a8\"],[0.3333333333333333,\"#9c179e\"],[0.4444444444444444,\"#bd3786\"],[0.5555555555555556,\"#d8576b\"],[0.6666666666666666,\"#ed7953\"],[0.7777777777777778,\"#fb9f3a\"],[0.8888888888888888,\"#fdca26\"],[1.0,\"#f0f921\"]],\"sequentialminus\":[[0.0,\"#0d0887\"],[0.1111111111111111,\"#46039f\"],[0.2222222222222222,\"#7201a8\"],[0.3333333333333333,\"#9c179e\"],[0.4444444444444444,\"#bd3786\"],[0.5555555555555556,\"#d8576b\"],[0.6666666666666666,\"#ed7953\"],[0.7777777777777778,\"#fb9f3a\"],[0.8888888888888888,\"#fdca26\"],[1.0,\"#f0f921\"]]},\"colorway\":[\"#636efa\",\"#EF553B\",\"#00cc96\",\"#ab63fa\",\"#FFA15A\",\"#19d3f3\",\"#FF6692\",\"#B6E880\",\"#FF97FF\",\"#FECB52\"],\"font\":{\"color\":\"#2a3f5f\"},\"geo\":{\"bgcolor\":\"white\",\"lakecolor\":\"white\",\"landcolor\":\"#E5ECF6\",\"showlakes\":true,\"showland\":true,\"subunitcolor\":\"white\"},\"hoverlabel\":{\"align\":\"left\"},\"hovermode\":\"closest\",\"mapbox\":{\"style\":\"light\"},\"paper_bgcolor\":\"white\",\"plot_bgcolor\":\"#E5ECF6\",\"polar\":{\"angularaxis\":{\"gridcolor\":\"white\",\"linecolor\":\"white\",\"ticks\":\"\"},\"bgcolor\":\"#E5ECF6\",\"radialaxis\":{\"gridcolor\":\"white\",\"linecolor\":\"white\",\"ticks\":\"\"}},\"scene\":{\"xaxis\":{\"backgroundcolor\":\"#E5ECF6\",\"gridcolor\":\"white\",\"gridwidth\":2,\"linecolor\":\"white\",\"showbackground\":true,\"ticks\":\"\",\"zerolinecolor\":\"white\"},\"yaxis\":{\"backgroundcolor\":\"#E5ECF6\",\"gridcolor\":\"white\",\"gridwidth\":2,\"linecolor\":\"white\",\"showbackground\":true,\"ticks\":\"\",\"zerolinecolor\":\"white\"},\"zaxis\":{\"backgroundcolor\":\"#E5ECF6\",\"gridcolor\":\"white\",\"gridwidth\":2,\"linecolor\":\"white\",\"showbackground\":true,\"ticks\":\"\",\"zerolinecolor\":\"white\"}},\"shapedefaults\":{\"line\":{\"color\":\"#2a3f5f\"}},\"ternary\":{\"aaxis\":{\"gridcolor\":\"white\",\"linecolor\":\"white\",\"ticks\":\"\"},\"baxis\":{\"gridcolor\":\"white\",\"linecolor\":\"white\",\"ticks\":\"\"},\"bgcolor\":\"#E5ECF6\",\"caxis\":{\"gridcolor\":\"white\",\"linecolor\":\"white\",\"ticks\":\"\"}},\"title\":{\"x\":0.05},\"xaxis\":{\"automargin\":true,\"gridcolor\":\"white\",\"linecolor\":\"white\",\"ticks\":\"\",\"title\":{\"standoff\":15},\"zerolinecolor\":\"white\",\"zerolinewidth\":2},\"yaxis\":{\"automargin\":true,\"gridcolor\":\"white\",\"linecolor\":\"white\",\"ticks\":\"\",\"title\":{\"standoff\":15},\"zerolinecolor\":\"white\",\"zerolinewidth\":2}}},\"title\":{\"text\":\"3d TSNE Plot for Topic Model\"},\"width\":900},                        {\"responsive\": true}                    ).then(function(){\n",
       "                            \n",
       "var gd = document.getElementById('d0fa93e4-25c9-4f2f-a826-9a9408e6b2d5');\n",
       "var x = new MutationObserver(function (mutations, observer) {{\n",
       "        var display = window.getComputedStyle(gd).display;\n",
       "        if (!display || display === 'none') {{\n",
       "            console.log([gd, 'removed!']);\n",
       "            Plotly.purge(gd);\n",
       "            observer.disconnect();\n",
       "        }}\n",
       "}});\n",
       "\n",
       "// Listen for the removal of the full notebook cells\n",
       "var notebookContainer = gd.closest('#notebook-container');\n",
       "if (notebookContainer) {{\n",
       "    x.observe(notebookContainer, {childList: true});\n",
       "}}\n",
       "\n",
       "// Listen for the clearing of the current output cell\n",
       "var outputEl = gd.closest('.output');\n",
       "if (outputEl) {{\n",
       "    x.observe(outputEl, {childList: true});\n",
       "}}\n",
       "\n",
       "                        })                };                });            </script>        </div>"
      ]
     },
     "metadata": {},
     "output_type": "display_data"
    }
   ],
   "source": [
    "plot_model(lda, plot = 'tsne')"
   ]
  },
  {
   "cell_type": "markdown",
   "metadata": {},
   "source": [
    "### Uniform Manifold Approximation and Projection Plot"
   ]
  },
  {
   "cell_type": "code",
   "execution_count": 13,
   "metadata": {},
   "outputs": [
    {
     "data": {
      "text/html": [
       "        <script type=\"text/javascript\">\n",
       "        window.PlotlyConfig = {MathJaxConfig: 'local'};\n",
       "        if (window.MathJax) {MathJax.Hub.Config({SVG: {font: \"STIX-Web\"}});}\n",
       "        if (typeof require !== 'undefined') {\n",
       "        require.undef(\"plotly\");\n",
       "        requirejs.config({\n",
       "            paths: {\n",
       "                'plotly': ['https://cdn.plot.ly/plotly-2.4.2.min']\n",
       "            }\n",
       "        });\n",
       "        require(['plotly'], function(Plotly) {\n",
       "            window._Plotly = Plotly;\n",
       "        });\n",
       "        }\n",
       "        </script>\n",
       "        "
      ]
     },
     "metadata": {},
     "output_type": "display_data"
    },
    {
     "data": {
      "image/png": "[encoded data removed]",
      "text/plain": [
       "<Figure size 720x432 with 1 Axes>"
      ]
     },
     "metadata": {},
     "output_type": "display_data"
    }
   ],
   "source": [
    "plot_model(lda, plot = 'umap')"
   ]
  },
  {
   "cell_type": "markdown",
   "metadata": {},
   "source": [
    "### Evaluate Model"
   ]
  },
  {
   "cell_type": "code",
   "execution_count": 14,
   "metadata": {},
   "outputs": [
    {
     "data": {
      "application/vnd.jupyter.widget-view+json": {
       "model_id": "93adce2f1fc64a5aafe7cc707106fc40",
       "version_major": 2,
       "version_minor": 0
      },
      "text/plain": [
       "interactive(children=(ToggleButtons(description='Plot Type:', icons=('',), options=(('Frequency Plot', 'freque…"
      ]
     },
     "metadata": {},
     "output_type": "display_data"
    }
   ],
   "source": [
    "evaluate_model(lda)"
   ]
  },
  {
   "cell_type": "markdown",
   "metadata": {},
   "source": [
    "## Saving & loading the model"
   ]
  },
  {
   "cell_type": "code",
   "execution_count": 15,
   "metadata": {},
   "outputs": [
    {
     "name": "stdout",
     "output_type": "stream",
     "text": [
      "Model Succesfully Saved\n"
     ]
    },
    {
     "data": {
      "text/plain": [
       "(<gensim.models.ldamodel.LdaModel at 0x1f6d7e34c88>,\n",
       " 'Final LDA Model 08Feb2020.pkl')"
      ]
     },
     "execution_count": 15,
     "metadata": {},
     "output_type": "execute_result"
    }
   ],
   "source": [
    "save_model(lda,'Final LDA Model 08Feb2020')"
   ]
  },
  {
   "cell_type": "code",
   "execution_count": 16,
   "metadata": {},
   "outputs": [
    {
     "name": "stdout",
     "output_type": "stream",
     "text": [
      "Model Sucessfully Loaded\n"
     ]
    }
   ],
   "source": [
    "saved_lda = load_model('Final LDA Model 08Feb2020')"
   ]
  },
  {
   "cell_type": "code",
   "execution_count": 17,
   "metadata": {},
   "outputs": [
    {
     "name": "stdout",
     "output_type": "stream",
     "text": [
      "LdaModel(num_terms=4615, num_topics=4, decay=0.5, chunksize=100)\n"
     ]
    }
   ],
   "source": [
    "print(saved_lda)"
   ]
  },
  {
   "cell_type": "markdown",
   "metadata": {},
   "source": [
    "What we have covered in this tutorial is the entire workflow for Natural Language Processing experiment. Our task today was to create and analyze a topic model. We have performed several text pre-processing steps using setup() then we have created a topic model using create_model(), assigned topics to the dataset using assign_model() and analyze the results using plot_model(). All this was completed in less than 10 commands that are naturally constructed and very intuitive to remember. Re-creating the entire experiment without PyCaret would have taken well over 100 lines of code.\n",
    "\n",
    "In this tutorial, we have only covered basics of pycaret.nlp. In the next tutorial we will demonstrate the use of tune_model() to automatically select the number of topics for a topic model. We will also go deeper into few concepts and techniques such as custom_stopwords to improve the result of a topic model."
   ]
  },
  {
   "cell_type": "markdown",
   "metadata": {},
   "source": [
    "# Natural Language Processing Tutorial (NLP102) - Level Intermediate"
   ]
  },
  {
   "cell_type": "markdown",
   "metadata": {},
   "source": [
    "Welcome to Natural Language Processing Tutorial (NLP102). This tutorial assumes that you have completed Natural Language Processing Tutorial (NLP101) - Level Beginner. If you haven't we strongly recommend you to go back and progress through the beginner's tutorial as several key concepts that we aim to cover in this tutorial are inter-connected with Beginner's Tutorial.\n",
    "\n",
    "Building on the previous tutorial, we will learn the following in this tutorial:\n",
    "\n",
    "Custom Stopwords: How to define custom stopwords?\n",
    "\n",
    "Evaluate Topic Model: How to evaluate performance of a topic model?\n",
    "\n",
    "Hyperparameter Tuning: How to tune hyperparameter (# of topics) for a topic model?\n",
    "\n",
    "Experiment Logging: How to log experiments in PyCaret using MLFlow backend"
   ]
  },
  {
   "cell_type": "code",
   "execution_count": 18,
   "metadata": {},
   "outputs": [
    {
     "data": {
      "text/html": [
       "<style  type=\"text/css\" >\n",
       "</style><table id=\"T_4f341_\" ><thead>    <tr>        <th class=\"col_heading level0 col0\" >Description</th>        <th class=\"col_heading level0 col1\" >Value</th>    </tr></thead><tbody>\n",
       "                <tr>\n",
       "                                <td id=\"T_4f341_row0_col0\" class=\"data row0 col0\" >session_id</td>\n",
       "                        <td id=\"T_4f341_row0_col1\" class=\"data row0 col1\" >123</td>\n",
       "            </tr>\n",
       "            <tr>\n",
       "                                <td id=\"T_4f341_row1_col0\" class=\"data row1 col0\" >Documents</td>\n",
       "                        <td id=\"T_4f341_row1_col1\" class=\"data row1 col1\" >1000</td>\n",
       "            </tr>\n",
       "            <tr>\n",
       "                                <td id=\"T_4f341_row2_col0\" class=\"data row2 col0\" >Vocab Size</td>\n",
       "                        <td id=\"T_4f341_row2_col1\" class=\"data row2 col1\" >4636</td>\n",
       "            </tr>\n",
       "            <tr>\n",
       "                                <td id=\"T_4f341_row3_col0\" class=\"data row3 col0\" >Custom Stopwords</td>\n",
       "                        <td id=\"T_4f341_row3_col1\" class=\"data row3 col1\" >True</td>\n",
       "            </tr>\n",
       "    </tbody></table>"
      ],
      "text/plain": [
       "<pandas.io.formats.style.Styler at 0x1f689fe8748>"
      ]
     },
     "metadata": {},
     "output_type": "display_data"
    }
   ],
   "source": [
    "# This follows the first tutorial so loading data and importing module sis not being repeated\n",
    "exp_nlp102 = setup(data = data, target = 'en', session_id = 123,\n",
    "                   custom_stopwords = ['loan', 'income', 'usd', 'many', 'also', 'make', 'business', 'buy', \n",
    "                                       'sell', 'purchase','year', 'people', 'able', 'enable', 'old', 'woman',\n",
    "                                       'child', 'school'],\n",
    "                   log_experiment = True, experiment_name = 'kiva1')"
   ]
  },
  {
   "cell_type": "code",
   "execution_count": 20,
   "metadata": {},
   "outputs": [
    {
     "data": {
      "text/html": [
       "        <script type=\"text/javascript\">\n",
       "        window.PlotlyConfig = {MathJaxConfig: 'local'};\n",
       "        if (window.MathJax) {MathJax.Hub.Config({SVG: {font: \"STIX-Web\"}});}\n",
       "        if (typeof require !== 'undefined') {\n",
       "        require.undef(\"plotly\");\n",
       "        requirejs.config({\n",
       "            paths: {\n",
       "                'plotly': ['https://cdn.plot.ly/plotly-2.4.2.min']\n",
       "            }\n",
       "        });\n",
       "        require(['plotly'], function(Plotly) {\n",
       "            window._Plotly = Plotly;\n",
       "        });\n",
       "        }\n",
       "        </script>\n",
       "        "
      ]
     },
     "metadata": {},
     "output_type": "display_data"
    },
    {
     "data": {
      "application/vnd.plotly.v1+json": {
       "config": {
        "plotlyServerURL": "https://plot.ly"
       },
       "data": [
        {
         "alignmentgroup": "True",
         "customdata": [
          [
           "group, member, marry, pay, get, milk, vegetable, primary, start, small"
          ],
          [
           "product, help, hope, small, husband, store, home, work, use, community"
          ],
          [
           "family, work, use, request, increase, need, expand, start, customer, stock"
          ],
          [
           "rice, farmer, water, land, area, farm, crop, sector, use, small"
          ]
         ],
         "hovertemplate": "Topic=%{x}<br>Documents=%{y}<br>Keyword=%{customdata[0]}<extra></extra>",
         "legendgroup": "",
         "marker": {
          "color": "#636efa",
          "pattern": {
           "shape": ""
          }
         },
         "name": "",
         "offsetgroup": "",
         "orientation": "v",
         "showlegend": false,
         "textposition": "auto",
         "type": "bar",
         "x": [
          "Topic 0",
          "Topic 1",
          "Topic 2",
          "Topic 3"
         ],
         "xaxis": "x",
         "y": [
          214,
          349,
          420,
          17
         ],
         "yaxis": "y"
        }
       ],
       "layout": {
        "barmode": "relative",
        "legend": {
         "tracegroupgap": 0
        },
        "template": {
         "data": {
          "bar": [
           {
            "error_x": {
             "color": "#2a3f5f"
            },
            "error_y": {
             "color": "#2a3f5f"
            },
            "marker": {
             "line": {
              "color": "#E5ECF6",
              "width": 0.5
             },
             "pattern": {
              "fillmode": "overlay",
              "size": 10,
              "solidity": 0.2
             }
            },
            "type": "bar"
           }
          ],
          "barpolar": [
           {
            "marker": {
             "line": {
              "color": "#E5ECF6",
              "width": 0.5
             },
             "pattern": {
              "fillmode": "overlay",
              "size": 10,
              "solidity": 0.2
             }
            },
            "type": "barpolar"
           }
          ],
          "carpet": [
           {
            "aaxis": {
             "endlinecolor": "#2a3f5f",
             "gridcolor": "white",
             "linecolor": "white",
             "minorgridcolor": "white",
             "startlinecolor": "#2a3f5f"
            },
            "baxis": {
             "endlinecolor": "#2a3f5f",
             "gridcolor": "white",
             "linecolor": "white",
             "minorgridcolor": "white",
             "startlinecolor": "#2a3f5f"
            },
            "type": "carpet"
           }
          ],
          "choropleth": [
           {
            "colorbar": {
             "outlinewidth": 0,
             "ticks": ""
            },
            "type": "choropleth"
           }
          ],
          "contour": [
           {
            "colorbar": {
             "outlinewidth": 0,
             "ticks": ""
            },
            "colorscale": [
             [
              0,
              "#0d0887"
             ],
             [
              0.1111111111111111,
              "#46039f"
             ],
             [
              0.2222222222222222,
              "#7201a8"
             ],
             [
              0.3333333333333333,
              "#9c179e"
             ],
             [
              0.4444444444444444,
              "#bd3786"
             ],
             [
              0.5555555555555556,
              "#d8576b"
             ],
             [
              0.6666666666666666,
              "#ed7953"
             ],
             [
              0.7777777777777778,
              "#fb9f3a"
             ],
             [
              0.8888888888888888,
              "#fdca26"
             ],
             [
              1,
              "#f0f921"
             ]
            ],
            "type": "contour"
           }
          ],
          "contourcarpet": [
           {
            "colorbar": {
             "outlinewidth": 0,
             "ticks": ""
            },
            "type": "contourcarpet"
           }
          ],
          "heatmap": [
           {
            "colorbar": {
             "outlinewidth": 0,
             "ticks": ""
            },
            "colorscale": [
             [
              0,
              "#0d0887"
             ],
             [
              0.1111111111111111,
              "#46039f"
             ],
             [
              0.2222222222222222,
              "#7201a8"
             ],
             [
              0.3333333333333333,
              "#9c179e"
             ],
             [
              0.4444444444444444,
              "#bd3786"
             ],
             [
              0.5555555555555556,
              "#d8576b"
             ],
             [
              0.6666666666666666,
              "#ed7953"
             ],
             [
              0.7777777777777778,
              "#fb9f3a"
             ],
             [
              0.8888888888888888,
              "#fdca26"
             ],
             [
              1,
              "#f0f921"
             ]
            ],
            "type": "heatmap"
           }
          ],
          "heatmapgl": [
           {
            "colorbar": {
             "outlinewidth": 0,
             "ticks": ""
            },
            "colorscale": [
             [
              0,
              "#0d0887"
             ],
             [
              0.1111111111111111,
              "#46039f"
             ],
             [
              0.2222222222222222,
              "#7201a8"
             ],
             [
              0.3333333333333333,
              "#9c179e"
             ],
             [
              0.4444444444444444,
              "#bd3786"
             ],
             [
              0.5555555555555556,
              "#d8576b"
             ],
             [
              0.6666666666666666,
              "#ed7953"
             ],
             [
              0.7777777777777778,
              "#fb9f3a"
             ],
             [
              0.8888888888888888,
              "#fdca26"
             ],
             [
              1,
              "#f0f921"
             ]
            ],
            "type": "heatmapgl"
           }
          ],
          "histogram": [
           {
            "marker": {
             "pattern": {
              "fillmode": "overlay",
              "size": 10,
              "solidity": 0.2
             }
            },
            "type": "histogram"
           }
          ],
          "histogram2d": [
           {
            "colorbar": {
             "outlinewidth": 0,
             "ticks": ""
            },
            "colorscale": [
             [
              0,
              "#0d0887"
             ],
             [
              0.1111111111111111,
              "#46039f"
             ],
             [
              0.2222222222222222,
              "#7201a8"
             ],
             [
              0.3333333333333333,
              "#9c179e"
             ],
             [
              0.4444444444444444,
              "#bd3786"
             ],
             [
              0.5555555555555556,
              "#d8576b"
             ],
             [
              0.6666666666666666,
              "#ed7953"
             ],
             [
              0.7777777777777778,
              "#fb9f3a"
             ],
             [
              0.8888888888888888,
              "#fdca26"
             ],
             [
              1,
              "#f0f921"
             ]
            ],
            "type": "histogram2d"
           }
          ],
          "histogram2dcontour": [
           {
            "colorbar": {
             "outlinewidth": 0,
             "ticks": ""
            },
            "colorscale": [
             [
              0,
              "#0d0887"
             ],
             [
              0.1111111111111111,
              "#46039f"
             ],
             [
              0.2222222222222222,
              "#7201a8"
             ],
             [
              0.3333333333333333,
              "#9c179e"
             ],
             [
              0.4444444444444444,
              "#bd3786"
             ],
             [
              0.5555555555555556,
              "#d8576b"
             ],
             [
              0.6666666666666666,
              "#ed7953"
             ],
             [
              0.7777777777777778,
              "#fb9f3a"
             ],
             [
              0.8888888888888888,
              "#fdca26"
             ],
             [
              1,
              "#f0f921"
             ]
            ],
            "type": "histogram2dcontour"
           }
          ],
          "mesh3d": [
           {
            "colorbar": {
             "outlinewidth": 0,
             "ticks": ""
            },
            "type": "mesh3d"
           }
          ],
          "parcoords": [
           {
            "line": {
             "colorbar": {
              "outlinewidth": 0,
              "ticks": ""
             }
            },
            "type": "parcoords"
           }
          ],
          "pie": [
           {
            "automargin": true,
            "type": "pie"
           }
          ],
          "scatter": [
           {
            "marker": {
             "colorbar": {
              "outlinewidth": 0,
              "ticks": ""
             }
            },
            "type": "scatter"
           }
          ],
          "scatter3d": [
           {
            "line": {
             "colorbar": {
              "outlinewidth": 0,
              "ticks": ""
             }
            },
            "marker": {
             "colorbar": {
              "outlinewidth": 0,
              "ticks": ""
             }
            },
            "type": "scatter3d"
           }
          ],
          "scattercarpet": [
           {
            "marker": {
             "colorbar": {
              "outlinewidth": 0,
              "ticks": ""
             }
            },
            "type": "scattercarpet"
           }
          ],
          "scattergeo": [
           {
            "marker": {
             "colorbar": {
              "outlinewidth": 0,
              "ticks": ""
             }
            },
            "type": "scattergeo"
           }
          ],
          "scattergl": [
           {
            "marker": {
             "colorbar": {
              "outlinewidth": 0,
              "ticks": ""
             }
            },
            "type": "scattergl"
           }
          ],
          "scattermapbox": [
           {
            "marker": {
             "colorbar": {
              "outlinewidth": 0,
              "ticks": ""
             }
            },
            "type": "scattermapbox"
           }
          ],
          "scatterpolar": [
           {
            "marker": {
             "colorbar": {
              "outlinewidth": 0,
              "ticks": ""
             }
            },
            "type": "scatterpolar"
           }
          ],
          "scatterpolargl": [
           {
            "marker": {
             "colorbar": {
              "outlinewidth": 0,
              "ticks": ""
             }
            },
            "type": "scatterpolargl"
           }
          ],
          "scatterternary": [
           {
            "marker": {
             "colorbar": {
              "outlinewidth": 0,
              "ticks": ""
             }
            },
            "type": "scatterternary"
           }
          ],
          "surface": [
           {
            "colorbar": {
             "outlinewidth": 0,
             "ticks": ""
            },
            "colorscale": [
             [
              0,
              "#0d0887"
             ],
             [
              0.1111111111111111,
              "#46039f"
             ],
             [
              0.2222222222222222,
              "#7201a8"
             ],
             [
              0.3333333333333333,
              "#9c179e"
             ],
             [
              0.4444444444444444,
              "#bd3786"
             ],
             [
              0.5555555555555556,
              "#d8576b"
             ],
             [
              0.6666666666666666,
              "#ed7953"
             ],
             [
              0.7777777777777778,
              "#fb9f3a"
             ],
             [
              0.8888888888888888,
              "#fdca26"
             ],
             [
              1,
              "#f0f921"
             ]
            ],
            "type": "surface"
           }
          ],
          "table": [
           {
            "cells": {
             "fill": {
              "color": "#EBF0F8"
             },
             "line": {
              "color": "white"
             }
            },
            "header": {
             "fill": {
              "color": "#C8D4E3"
             },
             "line": {
              "color": "white"
             }
            },
            "type": "table"
           }
          ]
         },
         "layout": {
          "annotationdefaults": {
           "arrowcolor": "#2a3f5f",
           "arrowhead": 0,
           "arrowwidth": 1
          },
          "autotypenumbers": "strict",
          "coloraxis": {
           "colorbar": {
            "outlinewidth": 0,
            "ticks": ""
           }
          },
          "colorscale": {
           "diverging": [
            [
             0,
             "#8e0152"
            ],
            [
             0.1,
             "#c51b7d"
            ],
            [
             0.2,
             "#de77ae"
            ],
            [
             0.3,
             "#f1b6da"
            ],
            [
             0.4,
             "#fde0ef"
            ],
            [
             0.5,
             "#f7f7f7"
            ],
            [
             0.6,
             "#e6f5d0"
            ],
            [
             0.7,
             "#b8e186"
            ],
            [
             0.8,
             "#7fbc41"
            ],
            [
             0.9,
             "#4d9221"
            ],
            [
             1,
             "#276419"
            ]
           ],
           "sequential": [
            [
             0,
             "#0d0887"
            ],
            [
             0.1111111111111111,
             "#46039f"
            ],
            [
             0.2222222222222222,
             "#7201a8"
            ],
            [
             0.3333333333333333,
             "#9c179e"
            ],
            [
             0.4444444444444444,
             "#bd3786"
            ],
            [
             0.5555555555555556,
             "#d8576b"
            ],
            [
             0.6666666666666666,
             "#ed7953"
            ],
            [
             0.7777777777777778,
             "#fb9f3a"
            ],
            [
             0.8888888888888888,
             "#fdca26"
            ],
            [
             1,
             "#f0f921"
            ]
           ],
           "sequentialminus": [
            [
             0,
             "#0d0887"
            ],
            [
             0.1111111111111111,
             "#46039f"
            ],
            [
             0.2222222222222222,
             "#7201a8"
            ],
            [
             0.3333333333333333,
             "#9c179e"
            ],
            [
             0.4444444444444444,
             "#bd3786"
            ],
            [
             0.5555555555555556,
             "#d8576b"
            ],
            [
             0.6666666666666666,
             "#ed7953"
            ],
            [
             0.7777777777777778,
             "#fb9f3a"
            ],
            [
             0.8888888888888888,
             "#fdca26"
            ],
            [
             1,
             "#f0f921"
            ]
           ]
          },
          "colorway": [
           "#636efa",
           "#EF553B",
           "#00cc96",
           "#ab63fa",
           "#FFA15A",
           "#19d3f3",
           "#FF6692",
           "#B6E880",
           "#FF97FF",
           "#FECB52"
          ],
          "font": {
           "color": "#2a3f5f"
          },
          "geo": {
           "bgcolor": "white",
           "lakecolor": "white",
           "landcolor": "#E5ECF6",
           "showlakes": true,
           "showland": true,
           "subunitcolor": "white"
          },
          "hoverlabel": {
           "align": "left"
          },
          "hovermode": "closest",
          "mapbox": {
           "style": "light"
          },
          "paper_bgcolor": "white",
          "plot_bgcolor": "#E5ECF6",
          "polar": {
           "angularaxis": {
            "gridcolor": "white",
            "linecolor": "white",
            "ticks": ""
           },
           "bgcolor": "#E5ECF6",
           "radialaxis": {
            "gridcolor": "white",
            "linecolor": "white",
            "ticks": ""
           }
          },
          "scene": {
           "xaxis": {
            "backgroundcolor": "#E5ECF6",
            "gridcolor": "white",
            "gridwidth": 2,
            "linecolor": "white",
            "showbackground": true,
            "ticks": "",
            "zerolinecolor": "white"
           },
           "yaxis": {
            "backgroundcolor": "#E5ECF6",
            "gridcolor": "white",
            "gridwidth": 2,
            "linecolor": "white",
            "showbackground": true,
            "ticks": "",
            "zerolinecolor": "white"
           },
           "zaxis": {
            "backgroundcolor": "#E5ECF6",
            "gridcolor": "white",
            "gridwidth": 2,
            "linecolor": "white",
            "showbackground": true,
            "ticks": "",
            "zerolinecolor": "white"
           }
          },
          "shapedefaults": {
           "line": {
            "color": "#2a3f5f"
           }
          },
          "ternary": {
           "aaxis": {
            "gridcolor": "white",
            "linecolor": "white",
            "ticks": ""
           },
           "baxis": {
            "gridcolor": "white",
            "linecolor": "white",
            "ticks": ""
           },
           "bgcolor": "#E5ECF6",
           "caxis": {
            "gridcolor": "white",
            "linecolor": "white",
            "ticks": ""
           }
          },
          "title": {
           "x": 0.05
          },
          "xaxis": {
           "automargin": true,
           "gridcolor": "white",
           "linecolor": "white",
           "ticks": "",
           "title": {
            "standoff": 15
           },
           "zerolinecolor": "white",
           "zerolinewidth": 2
          },
          "yaxis": {
           "automargin": true,
           "gridcolor": "white",
           "linecolor": "white",
           "ticks": "",
           "title": {
            "standoff": 15
           },
           "zerolinecolor": "white",
           "zerolinewidth": 2
          }
         }
        },
        "title": {
         "text": "Document Distribution by Topics"
        },
        "xaxis": {
         "anchor": "y",
         "domain": [
          0,
          1
         ],
         "title": {
          "text": "Topic"
         }
        },
        "yaxis": {
         "anchor": "x",
         "domain": [
          0,
          1
         ],
         "title": {
          "text": "Documents"
         }
        }
       }
      },
      "text/html": [
       "<div>                            <div id=\"2ca726d2-953d-4bfd-bb19-d64f6b6fa657\" class=\"plotly-graph-div\" style=\"height:525px; width:100%;\"></div>            <script type=\"text/javascript\">                require([\"plotly\"], function(Plotly) {                    window.PLOTLYENV=window.PLOTLYENV || {};                                    if (document.getElementById(\"2ca726d2-953d-4bfd-bb19-d64f6b6fa657\")) {                    Plotly.newPlot(                        \"2ca726d2-953d-4bfd-bb19-d64f6b6fa657\",                        [{\"alignmentgroup\":\"True\",\"customdata\":[[\"group, member, marry, pay, get, milk, vegetable, primary, start, small\"],[\"product, help, hope, small, husband, store, home, work, use, community\"],[\"family, work, use, request, increase, need, expand, start, customer, stock\"],[\"rice, farmer, water, land, area, farm, crop, sector, use, small\"]],\"hovertemplate\":\"Topic=%{x}<br>Documents=%{y}<br>Keyword=%{customdata[0]}<extra></extra>\",\"legendgroup\":\"\",\"marker\":{\"color\":\"#636efa\",\"pattern\":{\"shape\":\"\"}},\"name\":\"\",\"offsetgroup\":\"\",\"orientation\":\"v\",\"showlegend\":false,\"textposition\":\"auto\",\"type\":\"bar\",\"x\":[\"Topic 0\",\"Topic 1\",\"Topic 2\",\"Topic 3\"],\"xaxis\":\"x\",\"y\":[214,349,420,17],\"yaxis\":\"y\"}],                        {\"barmode\":\"relative\",\"legend\":{\"tracegroupgap\":0},\"template\":{\"data\":{\"bar\":[{\"error_x\":{\"color\":\"#2a3f5f\"},\"error_y\":{\"color\":\"#2a3f5f\"},\"marker\":{\"line\":{\"color\":\"#E5ECF6\",\"width\":0.5},\"pattern\":{\"fillmode\":\"overlay\",\"size\":10,\"solidity\":0.2}},\"type\":\"bar\"}],\"barpolar\":[{\"marker\":{\"line\":{\"color\":\"#E5ECF6\",\"width\":0.5},\"pattern\":{\"fillmode\":\"overlay\",\"size\":10,\"solidity\":0.2}},\"type\":\"barpolar\"}],\"carpet\":[{\"aaxis\":{\"endlinecolor\":\"#2a3f5f\",\"gridcolor\":\"white\",\"linecolor\":\"white\",\"minorgridcolor\":\"white\",\"startlinecolor\":\"#2a3f5f\"},\"baxis\":{\"endlinecolor\":\"#2a3f5f\",\"gridcolor\":\"white\",\"linecolor\":\"white\",\"minorgridcolor\":\"white\",\"startlinecolor\":\"#2a3f5f\"},\"type\":\"carpet\"}],\"choropleth\":[{\"colorbar\":{\"outlinewidth\":0,\"ticks\":\"\"},\"type\":\"choropleth\"}],\"contour\":[{\"colorbar\":{\"outlinewidth\":0,\"ticks\":\"\"},\"colorscale\":[[0.0,\"#0d0887\"],[0.1111111111111111,\"#46039f\"],[0.2222222222222222,\"#7201a8\"],[0.3333333333333333,\"#9c179e\"],[0.4444444444444444,\"#bd3786\"],[0.5555555555555556,\"#d8576b\"],[0.6666666666666666,\"#ed7953\"],[0.7777777777777778,\"#fb9f3a\"],[0.8888888888888888,\"#fdca26\"],[1.0,\"#f0f921\"]],\"type\":\"contour\"}],\"contourcarpet\":[{\"colorbar\":{\"outlinewidth\":0,\"ticks\":\"\"},\"type\":\"contourcarpet\"}],\"heatmap\":[{\"colorbar\":{\"outlinewidth\":0,\"ticks\":\"\"},\"colorscale\":[[0.0,\"#0d0887\"],[0.1111111111111111,\"#46039f\"],[0.2222222222222222,\"#7201a8\"],[0.3333333333333333,\"#9c179e\"],[0.4444444444444444,\"#bd3786\"],[0.5555555555555556,\"#d8576b\"],[0.6666666666666666,\"#ed7953\"],[0.7777777777777778,\"#fb9f3a\"],[0.8888888888888888,\"#fdca26\"],[1.0,\"#f0f921\"]],\"type\":\"heatmap\"}],\"heatmapgl\":[{\"colorbar\":{\"outlinewidth\":0,\"ticks\":\"\"},\"colorscale\":[[0.0,\"#0d0887\"],[0.1111111111111111,\"#46039f\"],[0.2222222222222222,\"#7201a8\"],[0.3333333333333333,\"#9c179e\"],[0.4444444444444444,\"#bd3786\"],[0.5555555555555556,\"#d8576b\"],[0.6666666666666666,\"#ed7953\"],[0.7777777777777778,\"#fb9f3a\"],[0.8888888888888888,\"#fdca26\"],[1.0,\"#f0f921\"]],\"type\":\"heatmapgl\"}],\"histogram\":[{\"marker\":{\"pattern\":{\"fillmode\":\"overlay\",\"size\":10,\"solidity\":0.2}},\"type\":\"histogram\"}],\"histogram2d\":[{\"colorbar\":{\"outlinewidth\":0,\"ticks\":\"\"},\"colorscale\":[[0.0,\"#0d0887\"],[0.1111111111111111,\"#46039f\"],[0.2222222222222222,\"#7201a8\"],[0.3333333333333333,\"#9c179e\"],[0.4444444444444444,\"#bd3786\"],[0.5555555555555556,\"#d8576b\"],[0.6666666666666666,\"#ed7953\"],[0.7777777777777778,\"#fb9f3a\"],[0.8888888888888888,\"#fdca26\"],[1.0,\"#f0f921\"]],\"type\":\"histogram2d\"}],\"histogram2dcontour\":[{\"colorbar\":{\"outlinewidth\":0,\"ticks\":\"\"},\"colorscale\":[[0.0,\"#0d0887\"],[0.1111111111111111,\"#46039f\"],[0.2222222222222222,\"#7201a8\"],[0.3333333333333333,\"#9c179e\"],[0.4444444444444444,\"#bd3786\"],[0.5555555555555556,\"#d8576b\"],[0.6666666666666666,\"#ed7953\"],[0.7777777777777778,\"#fb9f3a\"],[0.8888888888888888,\"#fdca26\"],[1.0,\"#f0f921\"]],\"type\":\"histogram2dcontour\"}],\"mesh3d\":[{\"colorbar\":{\"outlinewidth\":0,\"ticks\":\"\"},\"type\":\"mesh3d\"}],\"parcoords\":[{\"line\":{\"colorbar\":{\"outlinewidth\":0,\"ticks\":\"\"}},\"type\":\"parcoords\"}],\"pie\":[{\"automargin\":true,\"type\":\"pie\"}],\"scatter\":[{\"marker\":{\"colorbar\":{\"outlinewidth\":0,\"ticks\":\"\"}},\"type\":\"scatter\"}],\"scatter3d\":[{\"line\":{\"colorbar\":{\"outlinewidth\":0,\"ticks\":\"\"}},\"marker\":{\"colorbar\":{\"outlinewidth\":0,\"ticks\":\"\"}},\"type\":\"scatter3d\"}],\"scattercarpet\":[{\"marker\":{\"colorbar\":{\"outlinewidth\":0,\"ticks\":\"\"}},\"type\":\"scattercarpet\"}],\"scattergeo\":[{\"marker\":{\"colorbar\":{\"outlinewidth\":0,\"ticks\":\"\"}},\"type\":\"scattergeo\"}],\"scattergl\":[{\"marker\":{\"colorbar\":{\"outlinewidth\":0,\"ticks\":\"\"}},\"type\":\"scattergl\"}],\"scattermapbox\":[{\"marker\":{\"colorbar\":{\"outlinewidth\":0,\"ticks\":\"\"}},\"type\":\"scattermapbox\"}],\"scatterpolar\":[{\"marker\":{\"colorbar\":{\"outlinewidth\":0,\"ticks\":\"\"}},\"type\":\"scatterpolar\"}],\"scatterpolargl\":[{\"marker\":{\"colorbar\":{\"outlinewidth\":0,\"ticks\":\"\"}},\"type\":\"scatterpolargl\"}],\"scatterternary\":[{\"marker\":{\"colorbar\":{\"outlinewidth\":0,\"ticks\":\"\"}},\"type\":\"scatterternary\"}],\"surface\":[{\"colorbar\":{\"outlinewidth\":0,\"ticks\":\"\"},\"colorscale\":[[0.0,\"#0d0887\"],[0.1111111111111111,\"#46039f\"],[0.2222222222222222,\"#7201a8\"],[0.3333333333333333,\"#9c179e\"],[0.4444444444444444,\"#bd3786\"],[0.5555555555555556,\"#d8576b\"],[0.6666666666666666,\"#ed7953\"],[0.7777777777777778,\"#fb9f3a\"],[0.8888888888888888,\"#fdca26\"],[1.0,\"#f0f921\"]],\"type\":\"surface\"}],\"table\":[{\"cells\":{\"fill\":{\"color\":\"#EBF0F8\"},\"line\":{\"color\":\"white\"}},\"header\":{\"fill\":{\"color\":\"#C8D4E3\"},\"line\":{\"color\":\"white\"}},\"type\":\"table\"}]},\"layout\":{\"annotationdefaults\":{\"arrowcolor\":\"#2a3f5f\",\"arrowhead\":0,\"arrowwidth\":1},\"autotypenumbers\":\"strict\",\"coloraxis\":{\"colorbar\":{\"outlinewidth\":0,\"ticks\":\"\"}},\"colorscale\":{\"diverging\":[[0,\"#8e0152\"],[0.1,\"#c51b7d\"],[0.2,\"#de77ae\"],[0.3,\"#f1b6da\"],[0.4,\"#fde0ef\"],[0.5,\"#f7f7f7\"],[0.6,\"#e6f5d0\"],[0.7,\"#b8e186\"],[0.8,\"#7fbc41\"],[0.9,\"#4d9221\"],[1,\"#276419\"]],\"sequential\":[[0.0,\"#0d0887\"],[0.1111111111111111,\"#46039f\"],[0.2222222222222222,\"#7201a8\"],[0.3333333333333333,\"#9c179e\"],[0.4444444444444444,\"#bd3786\"],[0.5555555555555556,\"#d8576b\"],[0.6666666666666666,\"#ed7953\"],[0.7777777777777778,\"#fb9f3a\"],[0.8888888888888888,\"#fdca26\"],[1.0,\"#f0f921\"]],\"sequentialminus\":[[0.0,\"#0d0887\"],[0.1111111111111111,\"#46039f\"],[0.2222222222222222,\"#7201a8\"],[0.3333333333333333,\"#9c179e\"],[0.4444444444444444,\"#bd3786\"],[0.5555555555555556,\"#d8576b\"],[0.6666666666666666,\"#ed7953\"],[0.7777777777777778,\"#fb9f3a\"],[0.8888888888888888,\"#fdca26\"],[1.0,\"#f0f921\"]]},\"colorway\":[\"#636efa\",\"#EF553B\",\"#00cc96\",\"#ab63fa\",\"#FFA15A\",\"#19d3f3\",\"#FF6692\",\"#B6E880\",\"#FF97FF\",\"#FECB52\"],\"font\":{\"color\":\"#2a3f5f\"},\"geo\":{\"bgcolor\":\"white\",\"lakecolor\":\"white\",\"landcolor\":\"#E5ECF6\",\"showlakes\":true,\"showland\":true,\"subunitcolor\":\"white\"},\"hoverlabel\":{\"align\":\"left\"},\"hovermode\":\"closest\",\"mapbox\":{\"style\":\"light\"},\"paper_bgcolor\":\"white\",\"plot_bgcolor\":\"#E5ECF6\",\"polar\":{\"angularaxis\":{\"gridcolor\":\"white\",\"linecolor\":\"white\",\"ticks\":\"\"},\"bgcolor\":\"#E5ECF6\",\"radialaxis\":{\"gridcolor\":\"white\",\"linecolor\":\"white\",\"ticks\":\"\"}},\"scene\":{\"xaxis\":{\"backgroundcolor\":\"#E5ECF6\",\"gridcolor\":\"white\",\"gridwidth\":2,\"linecolor\":\"white\",\"showbackground\":true,\"ticks\":\"\",\"zerolinecolor\":\"white\"},\"yaxis\":{\"backgroundcolor\":\"#E5ECF6\",\"gridcolor\":\"white\",\"gridwidth\":2,\"linecolor\":\"white\",\"showbackground\":true,\"ticks\":\"\",\"zerolinecolor\":\"white\"},\"zaxis\":{\"backgroundcolor\":\"#E5ECF6\",\"gridcolor\":\"white\",\"gridwidth\":2,\"linecolor\":\"white\",\"showbackground\":true,\"ticks\":\"\",\"zerolinecolor\":\"white\"}},\"shapedefaults\":{\"line\":{\"color\":\"#2a3f5f\"}},\"ternary\":{\"aaxis\":{\"gridcolor\":\"white\",\"linecolor\":\"white\",\"ticks\":\"\"},\"baxis\":{\"gridcolor\":\"white\",\"linecolor\":\"white\",\"ticks\":\"\"},\"bgcolor\":\"#E5ECF6\",\"caxis\":{\"gridcolor\":\"white\",\"linecolor\":\"white\",\"ticks\":\"\"}},\"title\":{\"x\":0.05},\"xaxis\":{\"automargin\":true,\"gridcolor\":\"white\",\"linecolor\":\"white\",\"ticks\":\"\",\"title\":{\"standoff\":15},\"zerolinecolor\":\"white\",\"zerolinewidth\":2},\"yaxis\":{\"automargin\":true,\"gridcolor\":\"white\",\"linecolor\":\"white\",\"ticks\":\"\",\"title\":{\"standoff\":15},\"zerolinecolor\":\"white\",\"zerolinewidth\":2}}},\"title\":{\"text\":\"Document Distribution by Topics\"},\"xaxis\":{\"anchor\":\"y\",\"domain\":[0.0,1.0],\"title\":{\"text\":\"Topic\"}},\"yaxis\":{\"anchor\":\"x\",\"domain\":[0.0,1.0],\"title\":{\"text\":\"Documents\"}}},                        {\"responsive\": true}                    ).then(function(){\n",
       "                            \n",
       "var gd = document.getElementById('2ca726d2-953d-4bfd-bb19-d64f6b6fa657');\n",
       "var x = new MutationObserver(function (mutations, observer) {{\n",
       "        var display = window.getComputedStyle(gd).display;\n",
       "        if (!display || display === 'none') {{\n",
       "            console.log([gd, 'removed!']);\n",
       "            Plotly.purge(gd);\n",
       "            observer.disconnect();\n",
       "        }}\n",
       "}});\n",
       "\n",
       "// Listen for the removal of the full notebook cells\n",
       "var notebookContainer = gd.closest('#notebook-container');\n",
       "if (notebookContainer) {{\n",
       "    x.observe(notebookContainer, {childList: true});\n",
       "}}\n",
       "\n",
       "// Listen for the clearing of the current output cell\n",
       "var outputEl = gd.closest('.output');\n",
       "if (outputEl) {{\n",
       "    x.observe(outputEl, {childList: true});\n",
       "}}\n",
       "\n",
       "                        })                };                });            </script>        </div>"
      ]
     },
     "metadata": {},
     "output_type": "display_data"
    }
   ],
   "source": [
    "lda = create_model('lda')\n",
    "plot_model(lda, plot = 'topic_distribution')"
   ]
  },
  {
   "cell_type": "markdown",
   "metadata": {},
   "source": [
    "## Intrinsic Evaluation using Coherence Value"
   ]
  },
  {
   "cell_type": "code",
   "execution_count": 21,
   "metadata": {},
   "outputs": [
    {
     "data": {
      "application/vnd.jupyter.widget-view+json": {
       "model_id": "2d73a5a369c94d27886e1b7006d4c5ef",
       "version_major": 2,
       "version_minor": 0
      },
      "text/plain": [
       "IntProgress(value=0, description='Processing: ', max=25)"
      ]
     },
     "metadata": {},
     "output_type": "display_data"
    },
    {
     "data": {
      "application/vnd.jupyter.widget-view+json": {
       "model_id": "4b8a97ab3cd6472da1fa52cbccd6fcaa",
       "version_major": 2,
       "version_minor": 0
      },
      "text/plain": [
       "Output()"
      ]
     },
     "metadata": {},
     "output_type": "display_data"
    },
    {
     "data": {
      "text/html": [
       "        <script type=\"text/javascript\">\n",
       "        window.PlotlyConfig = {MathJaxConfig: 'local'};\n",
       "        if (window.MathJax) {MathJax.Hub.Config({SVG: {font: \"STIX-Web\"}});}\n",
       "        if (typeof require !== 'undefined') {\n",
       "        require.undef(\"plotly\");\n",
       "        requirejs.config({\n",
       "            paths: {\n",
       "                'plotly': ['https://cdn.plot.ly/plotly-2.4.2.min']\n",
       "            }\n",
       "        });\n",
       "        require(['plotly'], function(Plotly) {\n",
       "            window._Plotly = Plotly;\n",
       "        });\n",
       "        }\n",
       "        </script>\n",
       "        "
      ]
     },
     "metadata": {},
     "output_type": "display_data"
    },
    {
     "data": {
      "application/vnd.plotly.v1+json": {
       "config": {
        "plotlyServerURL": "https://plot.ly"
       },
       "data": [
        {
         "hovertemplate": "Metric=Coherence<br># Topics=%{x}<br>Score=%{y}<extra></extra>",
         "legendgroup": "Coherence",
         "line": {
          "color": "#636efa",
          "dash": "solid",
          "shape": "linear"
         },
         "marker": {
          "symbol": "circle"
         },
         "mode": "lines",
         "name": "Coherence",
         "orientation": "v",
         "showlegend": true,
         "type": "scatter",
         "x": [
          2,
          4,
          8,
          16,
          32,
          64,
          100,
          200,
          300,
          400
         ],
         "xaxis": "x",
         "y": [
          0.4014459906696447,
          0.40390116647767826,
          0.45713985575141347,
          0.4603032085470705,
          0.44736872017646945,
          0.43677229026682673,
          0.4172982590128479,
          0.43719961963795273,
          0.46606996080556656,
          0.48601656498496887
         ],
         "yaxis": "y"
        }
       ],
       "layout": {
        "legend": {
         "title": {
          "text": "Metric"
         },
         "tracegroupgap": 0
        },
        "plot_bgcolor": "rgb(245,245,245)",
        "template": {
         "data": {
          "bar": [
           {
            "error_x": {
             "color": "#2a3f5f"
            },
            "error_y": {
             "color": "#2a3f5f"
            },
            "marker": {
             "line": {
              "color": "#E5ECF6",
              "width": 0.5
             },
             "pattern": {
              "fillmode": "overlay",
              "size": 10,
              "solidity": 0.2
             }
            },
            "type": "bar"
           }
          ],
          "barpolar": [
           {
            "marker": {
             "line": {
              "color": "#E5ECF6",
              "width": 0.5
             },
             "pattern": {
              "fillmode": "overlay",
              "size": 10,
              "solidity": 0.2
             }
            },
            "type": "barpolar"
           }
          ],
          "carpet": [
           {
            "aaxis": {
             "endlinecolor": "#2a3f5f",
             "gridcolor": "white",
             "linecolor": "white",
             "minorgridcolor": "white",
             "startlinecolor": "#2a3f5f"
            },
            "baxis": {
             "endlinecolor": "#2a3f5f",
             "gridcolor": "white",
             "linecolor": "white",
             "minorgridcolor": "white",
             "startlinecolor": "#2a3f5f"
            },
            "type": "carpet"
           }
          ],
          "choropleth": [
           {
            "colorbar": {
             "outlinewidth": 0,
             "ticks": ""
            },
            "type": "choropleth"
           }
          ],
          "contour": [
           {
            "colorbar": {
             "outlinewidth": 0,
             "ticks": ""
            },
            "colorscale": [
             [
              0,
              "#0d0887"
             ],
             [
              0.1111111111111111,
              "#46039f"
             ],
             [
              0.2222222222222222,
              "#7201a8"
             ],
             [
              0.3333333333333333,
              "#9c179e"
             ],
             [
              0.4444444444444444,
              "#bd3786"
             ],
             [
              0.5555555555555556,
              "#d8576b"
             ],
             [
              0.6666666666666666,
              "#ed7953"
             ],
             [
              0.7777777777777778,
              "#fb9f3a"
             ],
             [
              0.8888888888888888,
              "#fdca26"
             ],
             [
              1,
              "#f0f921"
             ]
            ],
            "type": "contour"
           }
          ],
          "contourcarpet": [
           {
            "colorbar": {
             "outlinewidth": 0,
             "ticks": ""
            },
            "type": "contourcarpet"
           }
          ],
          "heatmap": [
           {
            "colorbar": {
             "outlinewidth": 0,
             "ticks": ""
            },
            "colorscale": [
             [
              0,
              "#0d0887"
             ],
             [
              0.1111111111111111,
              "#46039f"
             ],
             [
              0.2222222222222222,
              "#7201a8"
             ],
             [
              0.3333333333333333,
              "#9c179e"
             ],
             [
              0.4444444444444444,
              "#bd3786"
             ],
             [
              0.5555555555555556,
              "#d8576b"
             ],
             [
              0.6666666666666666,
              "#ed7953"
             ],
             [
              0.7777777777777778,
              "#fb9f3a"
             ],
             [
              0.8888888888888888,
              "#fdca26"
             ],
             [
              1,
              "#f0f921"
             ]
            ],
            "type": "heatmap"
           }
          ],
          "heatmapgl": [
           {
            "colorbar": {
             "outlinewidth": 0,
             "ticks": ""
            },
            "colorscale": [
             [
              0,
              "#0d0887"
             ],
             [
              0.1111111111111111,
              "#46039f"
             ],
             [
              0.2222222222222222,
              "#7201a8"
             ],
             [
              0.3333333333333333,
              "#9c179e"
             ],
             [
              0.4444444444444444,
              "#bd3786"
             ],
             [
              0.5555555555555556,
              "#d8576b"
             ],
             [
              0.6666666666666666,
              "#ed7953"
             ],
             [
              0.7777777777777778,
              "#fb9f3a"
             ],
             [
              0.8888888888888888,
              "#fdca26"
             ],
             [
              1,
              "#f0f921"
             ]
            ],
            "type": "heatmapgl"
           }
          ],
          "histogram": [
           {
            "marker": {
             "pattern": {
              "fillmode": "overlay",
              "size": 10,
              "solidity": 0.2
             }
            },
            "type": "histogram"
           }
          ],
          "histogram2d": [
           {
            "colorbar": {
             "outlinewidth": 0,
             "ticks": ""
            },
            "colorscale": [
             [
              0,
              "#0d0887"
             ],
             [
              0.1111111111111111,
              "#46039f"
             ],
             [
              0.2222222222222222,
              "#7201a8"
             ],
             [
              0.3333333333333333,
              "#9c179e"
             ],
             [
              0.4444444444444444,
              "#bd3786"
             ],
             [
              0.5555555555555556,
              "#d8576b"
             ],
             [
              0.6666666666666666,
              "#ed7953"
             ],
             [
              0.7777777777777778,
              "#fb9f3a"
             ],
             [
              0.8888888888888888,
              "#fdca26"
             ],
             [
              1,
              "#f0f921"
             ]
            ],
            "type": "histogram2d"
           }
          ],
          "histogram2dcontour": [
           {
            "colorbar": {
             "outlinewidth": 0,
             "ticks": ""
            },
            "colorscale": [
             [
              0,
              "#0d0887"
             ],
             [
              0.1111111111111111,
              "#46039f"
             ],
             [
              0.2222222222222222,
              "#7201a8"
             ],
             [
              0.3333333333333333,
              "#9c179e"
             ],
             [
              0.4444444444444444,
              "#bd3786"
             ],
             [
              0.5555555555555556,
              "#d8576b"
             ],
             [
              0.6666666666666666,
              "#ed7953"
             ],
             [
              0.7777777777777778,
              "#fb9f3a"
             ],
             [
              0.8888888888888888,
              "#fdca26"
             ],
             [
              1,
              "#f0f921"
             ]
            ],
            "type": "histogram2dcontour"
           }
          ],
          "mesh3d": [
           {
            "colorbar": {
             "outlinewidth": 0,
             "ticks": ""
            },
            "type": "mesh3d"
           }
          ],
          "parcoords": [
           {
            "line": {
             "colorbar": {
              "outlinewidth": 0,
              "ticks": ""
             }
            },
            "type": "parcoords"
           }
          ],
          "pie": [
           {
            "automargin": true,
            "type": "pie"
           }
          ],
          "scatter": [
           {
            "marker": {
             "colorbar": {
              "outlinewidth": 0,
              "ticks": ""
             }
            },
            "type": "scatter"
           }
          ],
          "scatter3d": [
           {
            "line": {
             "colorbar": {
              "outlinewidth": 0,
              "ticks": ""
             }
            },
            "marker": {
             "colorbar": {
              "outlinewidth": 0,
              "ticks": ""
             }
            },
            "type": "scatter3d"
           }
          ],
          "scattercarpet": [
           {
            "marker": {
             "colorbar": {
              "outlinewidth": 0,
              "ticks": ""
             }
            },
            "type": "scattercarpet"
           }
          ],
          "scattergeo": [
           {
            "marker": {
             "colorbar": {
              "outlinewidth": 0,
              "ticks": ""
             }
            },
            "type": "scattergeo"
           }
          ],
          "scattergl": [
           {
            "marker": {
             "colorbar": {
              "outlinewidth": 0,
              "ticks": ""
             }
            },
            "type": "scattergl"
           }
          ],
          "scattermapbox": [
           {
            "marker": {
             "colorbar": {
              "outlinewidth": 0,
              "ticks": ""
             }
            },
            "type": "scattermapbox"
           }
          ],
          "scatterpolar": [
           {
            "marker": {
             "colorbar": {
              "outlinewidth": 0,
              "ticks": ""
             }
            },
            "type": "scatterpolar"
           }
          ],
          "scatterpolargl": [
           {
            "marker": {
             "colorbar": {
              "outlinewidth": 0,
              "ticks": ""
             }
            },
            "type": "scatterpolargl"
           }
          ],
          "scatterternary": [
           {
            "marker": {
             "colorbar": {
              "outlinewidth": 0,
              "ticks": ""
             }
            },
            "type": "scatterternary"
           }
          ],
          "surface": [
           {
            "colorbar": {
             "outlinewidth": 0,
             "ticks": ""
            },
            "colorscale": [
             [
              0,
              "#0d0887"
             ],
             [
              0.1111111111111111,
              "#46039f"
             ],
             [
              0.2222222222222222,
              "#7201a8"
             ],
             [
              0.3333333333333333,
              "#9c179e"
             ],
             [
              0.4444444444444444,
              "#bd3786"
             ],
             [
              0.5555555555555556,
              "#d8576b"
             ],
             [
              0.6666666666666666,
              "#ed7953"
             ],
             [
              0.7777777777777778,
              "#fb9f3a"
             ],
             [
              0.8888888888888888,
              "#fdca26"
             ],
             [
              1,
              "#f0f921"
             ]
            ],
            "type": "surface"
           }
          ],
          "table": [
           {
            "cells": {
             "fill": {
              "color": "#EBF0F8"
             },
             "line": {
              "color": "white"
             }
            },
            "header": {
             "fill": {
              "color": "#C8D4E3"
             },
             "line": {
              "color": "white"
             }
            },
            "type": "table"
           }
          ]
         },
         "layout": {
          "annotationdefaults": {
           "arrowcolor": "#2a3f5f",
           "arrowhead": 0,
           "arrowwidth": 1
          },
          "autotypenumbers": "strict",
          "coloraxis": {
           "colorbar": {
            "outlinewidth": 0,
            "ticks": ""
           }
          },
          "colorscale": {
           "diverging": [
            [
             0,
             "#8e0152"
            ],
            [
             0.1,
             "#c51b7d"
            ],
            [
             0.2,
             "#de77ae"
            ],
            [
             0.3,
             "#f1b6da"
            ],
            [
             0.4,
             "#fde0ef"
            ],
            [
             0.5,
             "#f7f7f7"
            ],
            [
             0.6,
             "#e6f5d0"
            ],
            [
             0.7,
             "#b8e186"
            ],
            [
             0.8,
             "#7fbc41"
            ],
            [
             0.9,
             "#4d9221"
            ],
            [
             1,
             "#276419"
            ]
           ],
           "sequential": [
            [
             0,
             "#0d0887"
            ],
            [
             0.1111111111111111,
             "#46039f"
            ],
            [
             0.2222222222222222,
             "#7201a8"
            ],
            [
             0.3333333333333333,
             "#9c179e"
            ],
            [
             0.4444444444444444,
             "#bd3786"
            ],
            [
             0.5555555555555556,
             "#d8576b"
            ],
            [
             0.6666666666666666,
             "#ed7953"
            ],
            [
             0.7777777777777778,
             "#fb9f3a"
            ],
            [
             0.8888888888888888,
             "#fdca26"
            ],
            [
             1,
             "#f0f921"
            ]
           ],
           "sequentialminus": [
            [
             0,
             "#0d0887"
            ],
            [
             0.1111111111111111,
             "#46039f"
            ],
            [
             0.2222222222222222,
             "#7201a8"
            ],
            [
             0.3333333333333333,
             "#9c179e"
            ],
            [
             0.4444444444444444,
             "#bd3786"
            ],
            [
             0.5555555555555556,
             "#d8576b"
            ],
            [
             0.6666666666666666,
             "#ed7953"
            ],
            [
             0.7777777777777778,
             "#fb9f3a"
            ],
            [
             0.8888888888888888,
             "#fdca26"
            ],
            [
             1,
             "#f0f921"
            ]
           ]
          },
          "colorway": [
           "#636efa",
           "#EF553B",
           "#00cc96",
           "#ab63fa",
           "#FFA15A",
           "#19d3f3",
           "#FF6692",
           "#B6E880",
           "#FF97FF",
           "#FECB52"
          ],
          "font": {
           "color": "#2a3f5f"
          },
          "geo": {
           "bgcolor": "white",
           "lakecolor": "white",
           "landcolor": "#E5ECF6",
           "showlakes": true,
           "showland": true,
           "subunitcolor": "white"
          },
          "hoverlabel": {
           "align": "left"
          },
          "hovermode": "closest",
          "mapbox": {
           "style": "light"
          },
          "paper_bgcolor": "white",
          "plot_bgcolor": "#E5ECF6",
          "polar": {
           "angularaxis": {
            "gridcolor": "white",
            "linecolor": "white",
            "ticks": ""
           },
           "bgcolor": "#E5ECF6",
           "radialaxis": {
            "gridcolor": "white",
            "linecolor": "white",
            "ticks": ""
           }
          },
          "scene": {
           "xaxis": {
            "backgroundcolor": "#E5ECF6",
            "gridcolor": "white",
            "gridwidth": 2,
            "linecolor": "white",
            "showbackground": true,
            "ticks": "",
            "zerolinecolor": "white"
           },
           "yaxis": {
            "backgroundcolor": "#E5ECF6",
            "gridcolor": "white",
            "gridwidth": 2,
            "linecolor": "white",
            "showbackground": true,
            "ticks": "",
            "zerolinecolor": "white"
           },
           "zaxis": {
            "backgroundcolor": "#E5ECF6",
            "gridcolor": "white",
            "gridwidth": 2,
            "linecolor": "white",
            "showbackground": true,
            "ticks": "",
            "zerolinecolor": "white"
           }
          },
          "shapedefaults": {
           "line": {
            "color": "#2a3f5f"
           }
          },
          "ternary": {
           "aaxis": {
            "gridcolor": "white",
            "linecolor": "white",
            "ticks": ""
           },
           "baxis": {
            "gridcolor": "white",
            "linecolor": "white",
            "ticks": ""
           },
           "bgcolor": "#E5ECF6",
           "caxis": {
            "gridcolor": "white",
            "linecolor": "white",
            "ticks": ""
           }
          },
          "title": {
           "x": 0.05
          },
          "xaxis": {
           "automargin": true,
           "gridcolor": "white",
           "linecolor": "white",
           "ticks": "",
           "title": {
            "standoff": 15
           },
           "zerolinecolor": "white",
           "zerolinewidth": 2
          },
          "yaxis": {
           "automargin": true,
           "gridcolor": "white",
           "linecolor": "white",
           "ticks": "",
           "title": {
            "standoff": 15
           },
           "zerolinecolor": "white",
           "zerolinewidth": 2
          }
         }
        },
        "title": {
         "text": "Coherence Value and # of Topics"
        },
        "xaxis": {
         "anchor": "y",
         "domain": [
          0,
          1
         ],
         "title": {
          "text": "# Topics"
         }
        },
        "yaxis": {
         "anchor": "x",
         "domain": [
          0,
          1
         ],
         "title": {
          "text": "Score"
         }
        }
       }
      },
      "text/html": [
       "<div>                            <div id=\"353e4ea0-08a7-4614-a5f7-bfea6c1afa96\" class=\"plotly-graph-div\" style=\"height:525px; width:100%;\"></div>            <script type=\"text/javascript\">                require([\"plotly\"], function(Plotly) {                    window.PLOTLYENV=window.PLOTLYENV || {};                                    if (document.getElementById(\"353e4ea0-08a7-4614-a5f7-bfea6c1afa96\")) {                    Plotly.newPlot(                        \"353e4ea0-08a7-4614-a5f7-bfea6c1afa96\",                        [{\"hovertemplate\":\"Metric=Coherence<br># Topics=%{x}<br>Score=%{y}<extra></extra>\",\"legendgroup\":\"Coherence\",\"line\":{\"color\":\"#636efa\",\"dash\":\"solid\",\"shape\":\"linear\"},\"marker\":{\"symbol\":\"circle\"},\"mode\":\"lines\",\"name\":\"Coherence\",\"orientation\":\"v\",\"showlegend\":true,\"type\":\"scatter\",\"x\":[2,4,8,16,32,64,100,200,300,400],\"xaxis\":\"x\",\"y\":[0.4014459906696447,0.40390116647767826,0.45713985575141347,0.4603032085470705,0.44736872017646945,0.43677229026682673,0.4172982590128479,0.43719961963795273,0.46606996080556656,0.48601656498496887],\"yaxis\":\"y\"}],                        {\"legend\":{\"title\":{\"text\":\"Metric\"},\"tracegroupgap\":0},\"plot_bgcolor\":\"rgb(245,245,245)\",\"template\":{\"data\":{\"bar\":[{\"error_x\":{\"color\":\"#2a3f5f\"},\"error_y\":{\"color\":\"#2a3f5f\"},\"marker\":{\"line\":{\"color\":\"#E5ECF6\",\"width\":0.5},\"pattern\":{\"fillmode\":\"overlay\",\"size\":10,\"solidity\":0.2}},\"type\":\"bar\"}],\"barpolar\":[{\"marker\":{\"line\":{\"color\":\"#E5ECF6\",\"width\":0.5},\"pattern\":{\"fillmode\":\"overlay\",\"size\":10,\"solidity\":0.2}},\"type\":\"barpolar\"}],\"carpet\":[{\"aaxis\":{\"endlinecolor\":\"#2a3f5f\",\"gridcolor\":\"white\",\"linecolor\":\"white\",\"minorgridcolor\":\"white\",\"startlinecolor\":\"#2a3f5f\"},\"baxis\":{\"endlinecolor\":\"#2a3f5f\",\"gridcolor\":\"white\",\"linecolor\":\"white\",\"minorgridcolor\":\"white\",\"startlinecolor\":\"#2a3f5f\"},\"type\":\"carpet\"}],\"choropleth\":[{\"colorbar\":{\"outlinewidth\":0,\"ticks\":\"\"},\"type\":\"choropleth\"}],\"contour\":[{\"colorbar\":{\"outlinewidth\":0,\"ticks\":\"\"},\"colorscale\":[[0.0,\"#0d0887\"],[0.1111111111111111,\"#46039f\"],[0.2222222222222222,\"#7201a8\"],[0.3333333333333333,\"#9c179e\"],[0.4444444444444444,\"#bd3786\"],[0.5555555555555556,\"#d8576b\"],[0.6666666666666666,\"#ed7953\"],[0.7777777777777778,\"#fb9f3a\"],[0.8888888888888888,\"#fdca26\"],[1.0,\"#f0f921\"]],\"type\":\"contour\"}],\"contourcarpet\":[{\"colorbar\":{\"outlinewidth\":0,\"ticks\":\"\"},\"type\":\"contourcarpet\"}],\"heatmap\":[{\"colorbar\":{\"outlinewidth\":0,\"ticks\":\"\"},\"colorscale\":[[0.0,\"#0d0887\"],[0.1111111111111111,\"#46039f\"],[0.2222222222222222,\"#7201a8\"],[0.3333333333333333,\"#9c179e\"],[0.4444444444444444,\"#bd3786\"],[0.5555555555555556,\"#d8576b\"],[0.6666666666666666,\"#ed7953\"],[0.7777777777777778,\"#fb9f3a\"],[0.8888888888888888,\"#fdca26\"],[1.0,\"#f0f921\"]],\"type\":\"heatmap\"}],\"heatmapgl\":[{\"colorbar\":{\"outlinewidth\":0,\"ticks\":\"\"},\"colorscale\":[[0.0,\"#0d0887\"],[0.1111111111111111,\"#46039f\"],[0.2222222222222222,\"#7201a8\"],[0.3333333333333333,\"#9c179e\"],[0.4444444444444444,\"#bd3786\"],[0.5555555555555556,\"#d8576b\"],[0.6666666666666666,\"#ed7953\"],[0.7777777777777778,\"#fb9f3a\"],[0.8888888888888888,\"#fdca26\"],[1.0,\"#f0f921\"]],\"type\":\"heatmapgl\"}],\"histogram\":[{\"marker\":{\"pattern\":{\"fillmode\":\"overlay\",\"size\":10,\"solidity\":0.2}},\"type\":\"histogram\"}],\"histogram2d\":[{\"colorbar\":{\"outlinewidth\":0,\"ticks\":\"\"},\"colorscale\":[[0.0,\"#0d0887\"],[0.1111111111111111,\"#46039f\"],[0.2222222222222222,\"#7201a8\"],[0.3333333333333333,\"#9c179e\"],[0.4444444444444444,\"#bd3786\"],[0.5555555555555556,\"#d8576b\"],[0.6666666666666666,\"#ed7953\"],[0.7777777777777778,\"#fb9f3a\"],[0.8888888888888888,\"#fdca26\"],[1.0,\"#f0f921\"]],\"type\":\"histogram2d\"}],\"histogram2dcontour\":[{\"colorbar\":{\"outlinewidth\":0,\"ticks\":\"\"},\"colorscale\":[[0.0,\"#0d0887\"],[0.1111111111111111,\"#46039f\"],[0.2222222222222222,\"#7201a8\"],[0.3333333333333333,\"#9c179e\"],[0.4444444444444444,\"#bd3786\"],[0.5555555555555556,\"#d8576b\"],[0.6666666666666666,\"#ed7953\"],[0.7777777777777778,\"#fb9f3a\"],[0.8888888888888888,\"#fdca26\"],[1.0,\"#f0f921\"]],\"type\":\"histogram2dcontour\"}],\"mesh3d\":[{\"colorbar\":{\"outlinewidth\":0,\"ticks\":\"\"},\"type\":\"mesh3d\"}],\"parcoords\":[{\"line\":{\"colorbar\":{\"outlinewidth\":0,\"ticks\":\"\"}},\"type\":\"parcoords\"}],\"pie\":[{\"automargin\":true,\"type\":\"pie\"}],\"scatter\":[{\"marker\":{\"colorbar\":{\"outlinewidth\":0,\"ticks\":\"\"}},\"type\":\"scatter\"}],\"scatter3d\":[{\"line\":{\"colorbar\":{\"outlinewidth\":0,\"ticks\":\"\"}},\"marker\":{\"colorbar\":{\"outlinewidth\":0,\"ticks\":\"\"}},\"type\":\"scatter3d\"}],\"scattercarpet\":[{\"marker\":{\"colorbar\":{\"outlinewidth\":0,\"ticks\":\"\"}},\"type\":\"scattercarpet\"}],\"scattergeo\":[{\"marker\":{\"colorbar\":{\"outlinewidth\":0,\"ticks\":\"\"}},\"type\":\"scattergeo\"}],\"scattergl\":[{\"marker\":{\"colorbar\":{\"outlinewidth\":0,\"ticks\":\"\"}},\"type\":\"scattergl\"}],\"scattermapbox\":[{\"marker\":{\"colorbar\":{\"outlinewidth\":0,\"ticks\":\"\"}},\"type\":\"scattermapbox\"}],\"scatterpolar\":[{\"marker\":{\"colorbar\":{\"outlinewidth\":0,\"ticks\":\"\"}},\"type\":\"scatterpolar\"}],\"scatterpolargl\":[{\"marker\":{\"colorbar\":{\"outlinewidth\":0,\"ticks\":\"\"}},\"type\":\"scatterpolargl\"}],\"scatterternary\":[{\"marker\":{\"colorbar\":{\"outlinewidth\":0,\"ticks\":\"\"}},\"type\":\"scatterternary\"}],\"surface\":[{\"colorbar\":{\"outlinewidth\":0,\"ticks\":\"\"},\"colorscale\":[[0.0,\"#0d0887\"],[0.1111111111111111,\"#46039f\"],[0.2222222222222222,\"#7201a8\"],[0.3333333333333333,\"#9c179e\"],[0.4444444444444444,\"#bd3786\"],[0.5555555555555556,\"#d8576b\"],[0.6666666666666666,\"#ed7953\"],[0.7777777777777778,\"#fb9f3a\"],[0.8888888888888888,\"#fdca26\"],[1.0,\"#f0f921\"]],\"type\":\"surface\"}],\"table\":[{\"cells\":{\"fill\":{\"color\":\"#EBF0F8\"},\"line\":{\"color\":\"white\"}},\"header\":{\"fill\":{\"color\":\"#C8D4E3\"},\"line\":{\"color\":\"white\"}},\"type\":\"table\"}]},\"layout\":{\"annotationdefaults\":{\"arrowcolor\":\"#2a3f5f\",\"arrowhead\":0,\"arrowwidth\":1},\"autotypenumbers\":\"strict\",\"coloraxis\":{\"colorbar\":{\"outlinewidth\":0,\"ticks\":\"\"}},\"colorscale\":{\"diverging\":[[0,\"#8e0152\"],[0.1,\"#c51b7d\"],[0.2,\"#de77ae\"],[0.3,\"#f1b6da\"],[0.4,\"#fde0ef\"],[0.5,\"#f7f7f7\"],[0.6,\"#e6f5d0\"],[0.7,\"#b8e186\"],[0.8,\"#7fbc41\"],[0.9,\"#4d9221\"],[1,\"#276419\"]],\"sequential\":[[0.0,\"#0d0887\"],[0.1111111111111111,\"#46039f\"],[0.2222222222222222,\"#7201a8\"],[0.3333333333333333,\"#9c179e\"],[0.4444444444444444,\"#bd3786\"],[0.5555555555555556,\"#d8576b\"],[0.6666666666666666,\"#ed7953\"],[0.7777777777777778,\"#fb9f3a\"],[0.8888888888888888,\"#fdca26\"],[1.0,\"#f0f921\"]],\"sequentialminus\":[[0.0,\"#0d0887\"],[0.1111111111111111,\"#46039f\"],[0.2222222222222222,\"#7201a8\"],[0.3333333333333333,\"#9c179e\"],[0.4444444444444444,\"#bd3786\"],[0.5555555555555556,\"#d8576b\"],[0.6666666666666666,\"#ed7953\"],[0.7777777777777778,\"#fb9f3a\"],[0.8888888888888888,\"#fdca26\"],[1.0,\"#f0f921\"]]},\"colorway\":[\"#636efa\",\"#EF553B\",\"#00cc96\",\"#ab63fa\",\"#FFA15A\",\"#19d3f3\",\"#FF6692\",\"#B6E880\",\"#FF97FF\",\"#FECB52\"],\"font\":{\"color\":\"#2a3f5f\"},\"geo\":{\"bgcolor\":\"white\",\"lakecolor\":\"white\",\"landcolor\":\"#E5ECF6\",\"showlakes\":true,\"showland\":true,\"subunitcolor\":\"white\"},\"hoverlabel\":{\"align\":\"left\"},\"hovermode\":\"closest\",\"mapbox\":{\"style\":\"light\"},\"paper_bgcolor\":\"white\",\"plot_bgcolor\":\"#E5ECF6\",\"polar\":{\"angularaxis\":{\"gridcolor\":\"white\",\"linecolor\":\"white\",\"ticks\":\"\"},\"bgcolor\":\"#E5ECF6\",\"radialaxis\":{\"gridcolor\":\"white\",\"linecolor\":\"white\",\"ticks\":\"\"}},\"scene\":{\"xaxis\":{\"backgroundcolor\":\"#E5ECF6\",\"gridcolor\":\"white\",\"gridwidth\":2,\"linecolor\":\"white\",\"showbackground\":true,\"ticks\":\"\",\"zerolinecolor\":\"white\"},\"yaxis\":{\"backgroundcolor\":\"#E5ECF6\",\"gridcolor\":\"white\",\"gridwidth\":2,\"linecolor\":\"white\",\"showbackground\":true,\"ticks\":\"\",\"zerolinecolor\":\"white\"},\"zaxis\":{\"backgroundcolor\":\"#E5ECF6\",\"gridcolor\":\"white\",\"gridwidth\":2,\"linecolor\":\"white\",\"showbackground\":true,\"ticks\":\"\",\"zerolinecolor\":\"white\"}},\"shapedefaults\":{\"line\":{\"color\":\"#2a3f5f\"}},\"ternary\":{\"aaxis\":{\"gridcolor\":\"white\",\"linecolor\":\"white\",\"ticks\":\"\"},\"baxis\":{\"gridcolor\":\"white\",\"linecolor\":\"white\",\"ticks\":\"\"},\"bgcolor\":\"#E5ECF6\",\"caxis\":{\"gridcolor\":\"white\",\"linecolor\":\"white\",\"ticks\":\"\"}},\"title\":{\"x\":0.05},\"xaxis\":{\"automargin\":true,\"gridcolor\":\"white\",\"linecolor\":\"white\",\"ticks\":\"\",\"title\":{\"standoff\":15},\"zerolinecolor\":\"white\",\"zerolinewidth\":2},\"yaxis\":{\"automargin\":true,\"gridcolor\":\"white\",\"linecolor\":\"white\",\"ticks\":\"\",\"title\":{\"standoff\":15},\"zerolinecolor\":\"white\",\"zerolinewidth\":2}}},\"title\":{\"text\":\"Coherence Value and # of Topics\"},\"xaxis\":{\"anchor\":\"y\",\"domain\":[0.0,1.0],\"title\":{\"text\":\"# Topics\"}},\"yaxis\":{\"anchor\":\"x\",\"domain\":[0.0,1.0],\"title\":{\"text\":\"Score\"}}},                        {\"responsive\": true}                    ).then(function(){\n",
       "                            \n",
       "var gd = document.getElementById('353e4ea0-08a7-4614-a5f7-bfea6c1afa96');\n",
       "var x = new MutationObserver(function (mutations, observer) {{\n",
       "        var display = window.getComputedStyle(gd).display;\n",
       "        if (!display || display === 'none') {{\n",
       "            console.log([gd, 'removed!']);\n",
       "            Plotly.purge(gd);\n",
       "            observer.disconnect();\n",
       "        }}\n",
       "}});\n",
       "\n",
       "// Listen for the removal of the full notebook cells\n",
       "var notebookContainer = gd.closest('#notebook-container');\n",
       "if (notebookContainer) {{\n",
       "    x.observe(notebookContainer, {childList: true});\n",
       "}}\n",
       "\n",
       "// Listen for the clearing of the current output cell\n",
       "var outputEl = gd.closest('.output');\n",
       "if (outputEl) {{\n",
       "    x.observe(outputEl, {childList: true});\n",
       "}}\n",
       "\n",
       "                        })                };                });            </script>        </div>"
      ]
     },
     "metadata": {},
     "output_type": "display_data"
    },
    {
     "name": "stdout",
     "output_type": "stream",
     "text": [
      "Best Model: Latent Dirichlet Allocation | # Topics: 400 | Coherence: 0.486\n"
     ]
    }
   ],
   "source": [
    "tuned_unsupervised = tune_model(model = 'lda', multi_core = True)"
   ]
  },
  {
   "cell_type": "markdown",
   "metadata": {},
   "source": [
    "## Extrinsic Evaluation using Classifier"
   ]
  },
  {
   "cell_type": "code",
   "execution_count": 22,
   "metadata": {},
   "outputs": [
    {
     "data": {
      "application/vnd.jupyter.widget-view+json": {
       "model_id": "28067172ab5d4345880325a53501f1d7",
       "version_major": 2,
       "version_minor": 0
      },
      "text/plain": [
       "IntProgress(value=0, description='Processing: ', max=25)"
      ]
     },
     "metadata": {},
     "output_type": "display_data"
    },
    {
     "data": {
      "application/vnd.jupyter.widget-view+json": {
       "model_id": "56df30058cb9467fa6aff09746d4b28b",
       "version_major": 2,
       "version_minor": 0
      },
      "text/plain": [
       "Output()"
      ]
     },
     "metadata": {},
     "output_type": "display_data"
    },
    {
     "data": {
      "text/html": [
       "        <script type=\"text/javascript\">\n",
       "        window.PlotlyConfig = {MathJaxConfig: 'local'};\n",
       "        if (window.MathJax) {MathJax.Hub.Config({SVG: {font: \"STIX-Web\"}});}\n",
       "        if (typeof require !== 'undefined') {\n",
       "        require.undef(\"plotly\");\n",
       "        requirejs.config({\n",
       "            paths: {\n",
       "                'plotly': ['https://cdn.plot.ly/plotly-2.4.2.min']\n",
       "            }\n",
       "        });\n",
       "        require(['plotly'], function(Plotly) {\n",
       "            window._Plotly = Plotly;\n",
       "        });\n",
       "        }\n",
       "        </script>\n",
       "        "
      ]
     },
     "metadata": {},
     "output_type": "display_data"
    },
    {
     "data": {
      "application/vnd.plotly.v1+json": {
       "config": {
        "plotlyServerURL": "https://plot.ly"
       },
       "data": [
        {
         "hovertemplate": "Metric=Accuracy<br># Topics=%{x}<br>Score=%{y}<extra></extra>",
         "legendgroup": "Accuracy",
         "line": {
          "color": "#636efa",
          "dash": "solid",
          "shape": "linear"
         },
         "marker": {
          "symbol": "circle"
         },
         "mode": "lines",
         "name": "Accuracy",
         "orientation": "v",
         "showlegend": true,
         "type": "scatter",
         "x": [
          2,
          4,
          8,
          16,
          32,
          64,
          100,
          200,
          300,
          400
         ],
         "xaxis": "x",
         "y": [
          0.864,
          0.862,
          0.863,
          0.856,
          0.86,
          0.86,
          0.866,
          0.854,
          0.856,
          0.859
         ],
         "yaxis": "y"
        },
        {
         "hovertemplate": "Metric=AUC<br># Topics=%{x}<br>Score=%{y}<extra></extra>",
         "legendgroup": "AUC",
         "line": {
          "color": "#EF553B",
          "dash": "solid",
          "shape": "linear"
         },
         "marker": {
          "symbol": "circle"
         },
         "mode": "lines",
         "name": "AUC",
         "orientation": "v",
         "showlegend": true,
         "type": "scatter",
         "x": [
          2,
          4,
          8,
          16,
          32,
          64,
          100,
          200,
          300,
          400
         ],
         "xaxis": "x",
         "y": [
          0.9115943420378905,
          0.9239551331285203,
          0.9369239631336405,
          0.9242671530977983,
          0.9284554211469533,
          0.9266553059395801,
          0.9136144713261648,
          0.9059219790066564,
          0.9148345494111624,
          0.9152225742447517
         ],
         "yaxis": "y"
        },
        {
         "hovertemplate": "Metric=Recall<br># Topics=%{x}<br>Score=%{y}<extra></extra>",
         "legendgroup": "Recall",
         "line": {
          "color": "#00cc96",
          "dash": "solid",
          "shape": "linear"
         },
         "marker": {
          "symbol": "circle"
         },
         "mode": "lines",
         "name": "Recall",
         "orientation": "v",
         "showlegend": true,
         "type": "scatter",
         "x": [
          2,
          4,
          8,
          16,
          32,
          64,
          100,
          200,
          300,
          400
         ],
         "xaxis": "x",
         "y": [
          0.8508064516129032,
          0.8387096774193549,
          0.8568548387096774,
          0.8366935483870968,
          0.8528225806451613,
          0.844758064516129,
          0.844758064516129,
          0.8326612903225806,
          0.8306451612903226,
          0.8266129032258065
         ],
         "yaxis": "y"
        },
        {
         "hovertemplate": "Metric=Precision<br># Topics=%{x}<br>Score=%{y}<extra></extra>",
         "legendgroup": "Precision",
         "line": {
          "color": "#ab63fa",
          "dash": "solid",
          "shape": "linear"
         },
         "marker": {
          "symbol": "circle"
         },
         "mode": "lines",
         "name": "Precision",
         "orientation": "v",
         "showlegend": true,
         "type": "scatter",
         "x": [
          2,
          4,
          8,
          16,
          32,
          64,
          100,
          200,
          300,
          400
         ],
         "xaxis": "x",
         "y": [
          0.871900826446281,
          0.8776371308016878,
          0.8655804480651731,
          0.8682008368200836,
          0.863265306122449,
          0.8692946058091287,
          0.8802521008403361,
          0.8676470588235294,
          0.8728813559322034,
          0.8817204301075269
         ],
         "yaxis": "y"
        },
        {
         "hovertemplate": "Metric=F1<br># Topics=%{x}<br>Score=%{y}<extra></extra>",
         "legendgroup": "F1",
         "line": {
          "color": "#FFA15A",
          "dash": "solid",
          "shape": "linear"
         },
         "marker": {
          "symbol": "circle"
         },
         "mode": "lines",
         "name": "F1",
         "orientation": "v",
         "showlegend": true,
         "type": "scatter",
         "x": [
          2,
          4,
          8,
          16,
          32,
          64,
          100,
          200,
          300,
          400
         ],
         "xaxis": "x",
         "y": [
          0.8612244897959183,
          0.8577319587628867,
          0.8611955420466059,
          0.8521560574948666,
          0.8580121703853955,
          0.8568507157464212,
          0.8621399176954732,
          0.8497942386831275,
          0.8512396694214875,
          0.8532778355879291
         ],
         "yaxis": "y"
        },
        {
         "hovertemplate": "Metric=Kappa<br># Topics=%{x}<br>Score=%{y}<extra></extra>",
         "legendgroup": "Kappa",
         "line": {
          "color": "#19d3f3",
          "dash": "solid",
          "shape": "linear"
         },
         "marker": {
          "symbol": "circle"
         },
         "mode": "lines",
         "name": "Kappa",
         "orientation": "v",
         "showlegend": true,
         "type": "scatter",
         "x": [
          2,
          4,
          8,
          16,
          32,
          64,
          100,
          200,
          300,
          400
         ],
         "xaxis": "x",
         "y": [
          0.7279303501696435,
          0.7238851362166662,
          0.7259605383175177,
          0.7118985883030826,
          0.719955192830853,
          0.7199193367689894,
          0.7318970484666112,
          0.7078878289263077,
          0.7118709181713407,
          0.7178419915152485
         ],
         "yaxis": "y"
        }
       ],
       "layout": {
        "legend": {
         "title": {
          "text": "Metric"
         },
         "tracegroupgap": 0
        },
        "margin": {
         "t": 60
        },
        "plot_bgcolor": "rgb(245,245,245)",
        "template": {
         "data": {
          "bar": [
           {
            "error_x": {
             "color": "#2a3f5f"
            },
            "error_y": {
             "color": "#2a3f5f"
            },
            "marker": {
             "line": {
              "color": "#E5ECF6",
              "width": 0.5
             },
             "pattern": {
              "fillmode": "overlay",
              "size": 10,
              "solidity": 0.2
             }
            },
            "type": "bar"
           }
          ],
          "barpolar": [
           {
            "marker": {
             "line": {
              "color": "#E5ECF6",
              "width": 0.5
             },
             "pattern": {
              "fillmode": "overlay",
              "size": 10,
              "solidity": 0.2
             }
            },
            "type": "barpolar"
           }
          ],
          "carpet": [
           {
            "aaxis": {
             "endlinecolor": "#2a3f5f",
             "gridcolor": "white",
             "linecolor": "white",
             "minorgridcolor": "white",
             "startlinecolor": "#2a3f5f"
            },
            "baxis": {
             "endlinecolor": "#2a3f5f",
             "gridcolor": "white",
             "linecolor": "white",
             "minorgridcolor": "white",
             "startlinecolor": "#2a3f5f"
            },
            "type": "carpet"
           }
          ],
          "choropleth": [
           {
            "colorbar": {
             "outlinewidth": 0,
             "ticks": ""
            },
            "type": "choropleth"
           }
          ],
          "contour": [
           {
            "colorbar": {
             "outlinewidth": 0,
             "ticks": ""
            },
            "colorscale": [
             [
              0,
              "#0d0887"
             ],
             [
              0.1111111111111111,
              "#46039f"
             ],
             [
              0.2222222222222222,
              "#7201a8"
             ],
             [
              0.3333333333333333,
              "#9c179e"
             ],
             [
              0.4444444444444444,
              "#bd3786"
             ],
             [
              0.5555555555555556,
              "#d8576b"
             ],
             [
              0.6666666666666666,
              "#ed7953"
             ],
             [
              0.7777777777777778,
              "#fb9f3a"
             ],
             [
              0.8888888888888888,
              "#fdca26"
             ],
             [
              1,
              "#f0f921"
             ]
            ],
            "type": "contour"
           }
          ],
          "contourcarpet": [
           {
            "colorbar": {
             "outlinewidth": 0,
             "ticks": ""
            },
            "type": "contourcarpet"
           }
          ],
          "heatmap": [
           {
            "colorbar": {
             "outlinewidth": 0,
             "ticks": ""
            },
            "colorscale": [
             [
              0,
              "#0d0887"
             ],
             [
              0.1111111111111111,
              "#46039f"
             ],
             [
              0.2222222222222222,
              "#7201a8"
             ],
             [
              0.3333333333333333,
              "#9c179e"
             ],
             [
              0.4444444444444444,
              "#bd3786"
             ],
             [
              0.5555555555555556,
              "#d8576b"
             ],
             [
              0.6666666666666666,
              "#ed7953"
             ],
             [
              0.7777777777777778,
              "#fb9f3a"
             ],
             [
              0.8888888888888888,
              "#fdca26"
             ],
             [
              1,
              "#f0f921"
             ]
            ],
            "type": "heatmap"
           }
          ],
          "heatmapgl": [
           {
            "colorbar": {
             "outlinewidth": 0,
             "ticks": ""
            },
            "colorscale": [
             [
              0,
              "#0d0887"
             ],
             [
              0.1111111111111111,
              "#46039f"
             ],
             [
              0.2222222222222222,
              "#7201a8"
             ],
             [
              0.3333333333333333,
              "#9c179e"
             ],
             [
              0.4444444444444444,
              "#bd3786"
             ],
             [
              0.5555555555555556,
              "#d8576b"
             ],
             [
              0.6666666666666666,
              "#ed7953"
             ],
             [
              0.7777777777777778,
              "#fb9f3a"
             ],
             [
              0.8888888888888888,
              "#fdca26"
             ],
             [
              1,
              "#f0f921"
             ]
            ],
            "type": "heatmapgl"
           }
          ],
          "histogram": [
           {
            "marker": {
             "pattern": {
              "fillmode": "overlay",
              "size": 10,
              "solidity": 0.2
             }
            },
            "type": "histogram"
           }
          ],
          "histogram2d": [
           {
            "colorbar": {
             "outlinewidth": 0,
             "ticks": ""
            },
            "colorscale": [
             [
              0,
              "#0d0887"
             ],
             [
              0.1111111111111111,
              "#46039f"
             ],
             [
              0.2222222222222222,
              "#7201a8"
             ],
             [
              0.3333333333333333,
              "#9c179e"
             ],
             [
              0.4444444444444444,
              "#bd3786"
             ],
             [
              0.5555555555555556,
              "#d8576b"
             ],
             [
              0.6666666666666666,
              "#ed7953"
             ],
             [
              0.7777777777777778,
              "#fb9f3a"
             ],
             [
              0.8888888888888888,
              "#fdca26"
             ],
             [
              1,
              "#f0f921"
             ]
            ],
            "type": "histogram2d"
           }
          ],
          "histogram2dcontour": [
           {
            "colorbar": {
             "outlinewidth": 0,
             "ticks": ""
            },
            "colorscale": [
             [
              0,
              "#0d0887"
             ],
             [
              0.1111111111111111,
              "#46039f"
             ],
             [
              0.2222222222222222,
              "#7201a8"
             ],
             [
              0.3333333333333333,
              "#9c179e"
             ],
             [
              0.4444444444444444,
              "#bd3786"
             ],
             [
              0.5555555555555556,
              "#d8576b"
             ],
             [
              0.6666666666666666,
              "#ed7953"
             ],
             [
              0.7777777777777778,
              "#fb9f3a"
             ],
             [
              0.8888888888888888,
              "#fdca26"
             ],
             [
              1,
              "#f0f921"
             ]
            ],
            "type": "histogram2dcontour"
           }
          ],
          "mesh3d": [
           {
            "colorbar": {
             "outlinewidth": 0,
             "ticks": ""
            },
            "type": "mesh3d"
           }
          ],
          "parcoords": [
           {
            "line": {
             "colorbar": {
              "outlinewidth": 0,
              "ticks": ""
             }
            },
            "type": "parcoords"
           }
          ],
          "pie": [
           {
            "automargin": true,
            "type": "pie"
           }
          ],
          "scatter": [
           {
            "marker": {
             "colorbar": {
              "outlinewidth": 0,
              "ticks": ""
             }
            },
            "type": "scatter"
           }
          ],
          "scatter3d": [
           {
            "line": {
             "colorbar": {
              "outlinewidth": 0,
              "ticks": ""
             }
            },
            "marker": {
             "colorbar": {
              "outlinewidth": 0,
              "ticks": ""
             }
            },
            "type": "scatter3d"
           }
          ],
          "scattercarpet": [
           {
            "marker": {
             "colorbar": {
              "outlinewidth": 0,
              "ticks": ""
             }
            },
            "type": "scattercarpet"
           }
          ],
          "scattergeo": [
           {
            "marker": {
             "colorbar": {
              "outlinewidth": 0,
              "ticks": ""
             }
            },
            "type": "scattergeo"
           }
          ],
          "scattergl": [
           {
            "marker": {
             "colorbar": {
              "outlinewidth": 0,
              "ticks": ""
             }
            },
            "type": "scattergl"
           }
          ],
          "scattermapbox": [
           {
            "marker": {
             "colorbar": {
              "outlinewidth": 0,
              "ticks": ""
             }
            },
            "type": "scattermapbox"
           }
          ],
          "scatterpolar": [
           {
            "marker": {
             "colorbar": {
              "outlinewidth": 0,
              "ticks": ""
             }
            },
            "type": "scatterpolar"
           }
          ],
          "scatterpolargl": [
           {
            "marker": {
             "colorbar": {
              "outlinewidth": 0,
              "ticks": ""
             }
            },
            "type": "scatterpolargl"
           }
          ],
          "scatterternary": [
           {
            "marker": {
             "colorbar": {
              "outlinewidth": 0,
              "ticks": ""
             }
            },
            "type": "scatterternary"
           }
          ],
          "surface": [
           {
            "colorbar": {
             "outlinewidth": 0,
             "ticks": ""
            },
            "colorscale": [
             [
              0,
              "#0d0887"
             ],
             [
              0.1111111111111111,
              "#46039f"
             ],
             [
              0.2222222222222222,
              "#7201a8"
             ],
             [
              0.3333333333333333,
              "#9c179e"
             ],
             [
              0.4444444444444444,
              "#bd3786"
             ],
             [
              0.5555555555555556,
              "#d8576b"
             ],
             [
              0.6666666666666666,
              "#ed7953"
             ],
             [
              0.7777777777777778,
              "#fb9f3a"
             ],
             [
              0.8888888888888888,
              "#fdca26"
             ],
             [
              1,
              "#f0f921"
             ]
            ],
            "type": "surface"
           }
          ],
          "table": [
           {
            "cells": {
             "fill": {
              "color": "#EBF0F8"
             },
             "line": {
              "color": "white"
             }
            },
            "header": {
             "fill": {
              "color": "#C8D4E3"
             },
             "line": {
              "color": "white"
             }
            },
            "type": "table"
           }
          ]
         },
         "layout": {
          "annotationdefaults": {
           "arrowcolor": "#2a3f5f",
           "arrowhead": 0,
           "arrowwidth": 1
          },
          "autotypenumbers": "strict",
          "coloraxis": {
           "colorbar": {
            "outlinewidth": 0,
            "ticks": ""
           }
          },
          "colorscale": {
           "diverging": [
            [
             0,
             "#8e0152"
            ],
            [
             0.1,
             "#c51b7d"
            ],
            [
             0.2,
             "#de77ae"
            ],
            [
             0.3,
             "#f1b6da"
            ],
            [
             0.4,
             "#fde0ef"
            ],
            [
             0.5,
             "#f7f7f7"
            ],
            [
             0.6,
             "#e6f5d0"
            ],
            [
             0.7,
             "#b8e186"
            ],
            [
             0.8,
             "#7fbc41"
            ],
            [
             0.9,
             "#4d9221"
            ],
            [
             1,
             "#276419"
            ]
           ],
           "sequential": [
            [
             0,
             "#0d0887"
            ],
            [
             0.1111111111111111,
             "#46039f"
            ],
            [
             0.2222222222222222,
             "#7201a8"
            ],
            [
             0.3333333333333333,
             "#9c179e"
            ],
            [
             0.4444444444444444,
             "#bd3786"
            ],
            [
             0.5555555555555556,
             "#d8576b"
            ],
            [
             0.6666666666666666,
             "#ed7953"
            ],
            [
             0.7777777777777778,
             "#fb9f3a"
            ],
            [
             0.8888888888888888,
             "#fdca26"
            ],
            [
             1,
             "#f0f921"
            ]
           ],
           "sequentialminus": [
            [
             0,
             "#0d0887"
            ],
            [
             0.1111111111111111,
             "#46039f"
            ],
            [
             0.2222222222222222,
             "#7201a8"
            ],
            [
             0.3333333333333333,
             "#9c179e"
            ],
            [
             0.4444444444444444,
             "#bd3786"
            ],
            [
             0.5555555555555556,
             "#d8576b"
            ],
            [
             0.6666666666666666,
             "#ed7953"
            ],
            [
             0.7777777777777778,
             "#fb9f3a"
            ],
            [
             0.8888888888888888,
             "#fdca26"
            ],
            [
             1,
             "#f0f921"
            ]
           ]
          },
          "colorway": [
           "#636efa",
           "#EF553B",
           "#00cc96",
           "#ab63fa",
           "#FFA15A",
           "#19d3f3",
           "#FF6692",
           "#B6E880",
           "#FF97FF",
           "#FECB52"
          ],
          "font": {
           "color": "#2a3f5f"
          },
          "geo": {
           "bgcolor": "white",
           "lakecolor": "white",
           "landcolor": "#E5ECF6",
           "showlakes": true,
           "showland": true,
           "subunitcolor": "white"
          },
          "hoverlabel": {
           "align": "left"
          },
          "hovermode": "closest",
          "mapbox": {
           "style": "light"
          },
          "paper_bgcolor": "white",
          "plot_bgcolor": "#E5ECF6",
          "polar": {
           "angularaxis": {
            "gridcolor": "white",
            "linecolor": "white",
            "ticks": ""
           },
           "bgcolor": "#E5ECF6",
           "radialaxis": {
            "gridcolor": "white",
            "linecolor": "white",
            "ticks": ""
           }
          },
          "scene": {
           "xaxis": {
            "backgroundcolor": "#E5ECF6",
            "gridcolor": "white",
            "gridwidth": 2,
            "linecolor": "white",
            "showbackground": true,
            "ticks": "",
            "zerolinecolor": "white"
           },
           "yaxis": {
            "backgroundcolor": "#E5ECF6",
            "gridcolor": "white",
            "gridwidth": 2,
            "linecolor": "white",
            "showbackground": true,
            "ticks": "",
            "zerolinecolor": "white"
           },
           "zaxis": {
            "backgroundcolor": "#E5ECF6",
            "gridcolor": "white",
            "gridwidth": 2,
            "linecolor": "white",
            "showbackground": true,
            "ticks": "",
            "zerolinecolor": "white"
           }
          },
          "shapedefaults": {
           "line": {
            "color": "#2a3f5f"
           }
          },
          "ternary": {
           "aaxis": {
            "gridcolor": "white",
            "linecolor": "white",
            "ticks": ""
           },
           "baxis": {
            "gridcolor": "white",
            "linecolor": "white",
            "ticks": ""
           },
           "bgcolor": "#E5ECF6",
           "caxis": {
            "gridcolor": "white",
            "linecolor": "white",
            "ticks": ""
           }
          },
          "title": {
           "x": 0.05
          },
          "xaxis": {
           "automargin": true,
           "gridcolor": "white",
           "linecolor": "white",
           "ticks": "",
           "title": {
            "standoff": 15
           },
           "zerolinecolor": "white",
           "zerolinewidth": 2
          },
          "yaxis": {
           "automargin": true,
           "gridcolor": "white",
           "linecolor": "white",
           "ticks": "",
           "title": {
            "standoff": 15
           },
           "zerolinecolor": "white",
           "zerolinewidth": 2
          }
         }
        },
        "title": {
         "text": "Logistic Regression Metrics and # of Topics",
         "x": 0.45,
         "xanchor": "center",
         "y": 0.95,
         "yanchor": "top"
        },
        "xaxis": {
         "anchor": "y",
         "domain": [
          0,
          1
         ],
         "title": {
          "text": "# Topics"
         }
        },
        "yaxis": {
         "anchor": "x",
         "domain": [
          0,
          1
         ],
         "range": [
          0,
          1
         ],
         "title": {
          "text": "Score"
         }
        }
       }
      },
      "text/html": [
       "<div>                            <div id=\"aa666b98-81d8-4259-a80e-def36566f4a5\" class=\"plotly-graph-div\" style=\"height:525px; width:100%;\"></div>            <script type=\"text/javascript\">                require([\"plotly\"], function(Plotly) {                    window.PLOTLYENV=window.PLOTLYENV || {};                                    if (document.getElementById(\"aa666b98-81d8-4259-a80e-def36566f4a5\")) {                    Plotly.newPlot(                        \"aa666b98-81d8-4259-a80e-def36566f4a5\",                        [{\"hovertemplate\":\"Metric=Accuracy<br># Topics=%{x}<br>Score=%{y}<extra></extra>\",\"legendgroup\":\"Accuracy\",\"line\":{\"color\":\"#636efa\",\"dash\":\"solid\",\"shape\":\"linear\"},\"marker\":{\"symbol\":\"circle\"},\"mode\":\"lines\",\"name\":\"Accuracy\",\"orientation\":\"v\",\"showlegend\":true,\"type\":\"scatter\",\"x\":[2,4,8,16,32,64,100,200,300,400],\"xaxis\":\"x\",\"y\":[0.864,0.862,0.863,0.856,0.86,0.86,0.866,0.854,0.856,0.859],\"yaxis\":\"y\"},{\"hovertemplate\":\"Metric=AUC<br># Topics=%{x}<br>Score=%{y}<extra></extra>\",\"legendgroup\":\"AUC\",\"line\":{\"color\":\"#EF553B\",\"dash\":\"solid\",\"shape\":\"linear\"},\"marker\":{\"symbol\":\"circle\"},\"mode\":\"lines\",\"name\":\"AUC\",\"orientation\":\"v\",\"showlegend\":true,\"type\":\"scatter\",\"x\":[2,4,8,16,32,64,100,200,300,400],\"xaxis\":\"x\",\"y\":[0.9115943420378905,0.9239551331285203,0.9369239631336405,0.9242671530977983,0.9284554211469533,0.9266553059395801,0.9136144713261648,0.9059219790066564,0.9148345494111624,0.9152225742447517],\"yaxis\":\"y\"},{\"hovertemplate\":\"Metric=Recall<br># Topics=%{x}<br>Score=%{y}<extra></extra>\",\"legendgroup\":\"Recall\",\"line\":{\"color\":\"#00cc96\",\"dash\":\"solid\",\"shape\":\"linear\"},\"marker\":{\"symbol\":\"circle\"},\"mode\":\"lines\",\"name\":\"Recall\",\"orientation\":\"v\",\"showlegend\":true,\"type\":\"scatter\",\"x\":[2,4,8,16,32,64,100,200,300,400],\"xaxis\":\"x\",\"y\":[0.8508064516129032,0.8387096774193549,0.8568548387096774,0.8366935483870968,0.8528225806451613,0.844758064516129,0.844758064516129,0.8326612903225806,0.8306451612903226,0.8266129032258065],\"yaxis\":\"y\"},{\"hovertemplate\":\"Metric=Precision<br># Topics=%{x}<br>Score=%{y}<extra></extra>\",\"legendgroup\":\"Precision\",\"line\":{\"color\":\"#ab63fa\",\"dash\":\"solid\",\"shape\":\"linear\"},\"marker\":{\"symbol\":\"circle\"},\"mode\":\"lines\",\"name\":\"Precision\",\"orientation\":\"v\",\"showlegend\":true,\"type\":\"scatter\",\"x\":[2,4,8,16,32,64,100,200,300,400],\"xaxis\":\"x\",\"y\":[0.871900826446281,0.8776371308016878,0.8655804480651731,0.8682008368200836,0.863265306122449,0.8692946058091287,0.8802521008403361,0.8676470588235294,0.8728813559322034,0.8817204301075269],\"yaxis\":\"y\"},{\"hovertemplate\":\"Metric=F1<br># Topics=%{x}<br>Score=%{y}<extra></extra>\",\"legendgroup\":\"F1\",\"line\":{\"color\":\"#FFA15A\",\"dash\":\"solid\",\"shape\":\"linear\"},\"marker\":{\"symbol\":\"circle\"},\"mode\":\"lines\",\"name\":\"F1\",\"orientation\":\"v\",\"showlegend\":true,\"type\":\"scatter\",\"x\":[2,4,8,16,32,64,100,200,300,400],\"xaxis\":\"x\",\"y\":[0.8612244897959183,0.8577319587628867,0.8611955420466059,0.8521560574948666,0.8580121703853955,0.8568507157464212,0.8621399176954732,0.8497942386831275,0.8512396694214875,0.8532778355879291],\"yaxis\":\"y\"},{\"hovertemplate\":\"Metric=Kappa<br># Topics=%{x}<br>Score=%{y}<extra></extra>\",\"legendgroup\":\"Kappa\",\"line\":{\"color\":\"#19d3f3\",\"dash\":\"solid\",\"shape\":\"linear\"},\"marker\":{\"symbol\":\"circle\"},\"mode\":\"lines\",\"name\":\"Kappa\",\"orientation\":\"v\",\"showlegend\":true,\"type\":\"scatter\",\"x\":[2,4,8,16,32,64,100,200,300,400],\"xaxis\":\"x\",\"y\":[0.7279303501696435,0.7238851362166662,0.7259605383175177,0.7118985883030826,0.719955192830853,0.7199193367689894,0.7318970484666112,0.7078878289263077,0.7118709181713407,0.7178419915152485],\"yaxis\":\"y\"}],                        {\"legend\":{\"title\":{\"text\":\"Metric\"},\"tracegroupgap\":0},\"margin\":{\"t\":60},\"plot_bgcolor\":\"rgb(245,245,245)\",\"template\":{\"data\":{\"bar\":[{\"error_x\":{\"color\":\"#2a3f5f\"},\"error_y\":{\"color\":\"#2a3f5f\"},\"marker\":{\"line\":{\"color\":\"#E5ECF6\",\"width\":0.5},\"pattern\":{\"fillmode\":\"overlay\",\"size\":10,\"solidity\":0.2}},\"type\":\"bar\"}],\"barpolar\":[{\"marker\":{\"line\":{\"color\":\"#E5ECF6\",\"width\":0.5},\"pattern\":{\"fillmode\":\"overlay\",\"size\":10,\"solidity\":0.2}},\"type\":\"barpolar\"}],\"carpet\":[{\"aaxis\":{\"endlinecolor\":\"#2a3f5f\",\"gridcolor\":\"white\",\"linecolor\":\"white\",\"minorgridcolor\":\"white\",\"startlinecolor\":\"#2a3f5f\"},\"baxis\":{\"endlinecolor\":\"#2a3f5f\",\"gridcolor\":\"white\",\"linecolor\":\"white\",\"minorgridcolor\":\"white\",\"startlinecolor\":\"#2a3f5f\"},\"type\":\"carpet\"}],\"choropleth\":[{\"colorbar\":{\"outlinewidth\":0,\"ticks\":\"\"},\"type\":\"choropleth\"}],\"contour\":[{\"colorbar\":{\"outlinewidth\":0,\"ticks\":\"\"},\"colorscale\":[[0.0,\"#0d0887\"],[0.1111111111111111,\"#46039f\"],[0.2222222222222222,\"#7201a8\"],[0.3333333333333333,\"#9c179e\"],[0.4444444444444444,\"#bd3786\"],[0.5555555555555556,\"#d8576b\"],[0.6666666666666666,\"#ed7953\"],[0.7777777777777778,\"#fb9f3a\"],[0.8888888888888888,\"#fdca26\"],[1.0,\"#f0f921\"]],\"type\":\"contour\"}],\"contourcarpet\":[{\"colorbar\":{\"outlinewidth\":0,\"ticks\":\"\"},\"type\":\"contourcarpet\"}],\"heatmap\":[{\"colorbar\":{\"outlinewidth\":0,\"ticks\":\"\"},\"colorscale\":[[0.0,\"#0d0887\"],[0.1111111111111111,\"#46039f\"],[0.2222222222222222,\"#7201a8\"],[0.3333333333333333,\"#9c179e\"],[0.4444444444444444,\"#bd3786\"],[0.5555555555555556,\"#d8576b\"],[0.6666666666666666,\"#ed7953\"],[0.7777777777777778,\"#fb9f3a\"],[0.8888888888888888,\"#fdca26\"],[1.0,\"#f0f921\"]],\"type\":\"heatmap\"}],\"heatmapgl\":[{\"colorbar\":{\"outlinewidth\":0,\"ticks\":\"\"},\"colorscale\":[[0.0,\"#0d0887\"],[0.1111111111111111,\"#46039f\"],[0.2222222222222222,\"#7201a8\"],[0.3333333333333333,\"#9c179e\"],[0.4444444444444444,\"#bd3786\"],[0.5555555555555556,\"#d8576b\"],[0.6666666666666666,\"#ed7953\"],[0.7777777777777778,\"#fb9f3a\"],[0.8888888888888888,\"#fdca26\"],[1.0,\"#f0f921\"]],\"type\":\"heatmapgl\"}],\"histogram\":[{\"marker\":{\"pattern\":{\"fillmode\":\"overlay\",\"size\":10,\"solidity\":0.2}},\"type\":\"histogram\"}],\"histogram2d\":[{\"colorbar\":{\"outlinewidth\":0,\"ticks\":\"\"},\"colorscale\":[[0.0,\"#0d0887\"],[0.1111111111111111,\"#46039f\"],[0.2222222222222222,\"#7201a8\"],[0.3333333333333333,\"#9c179e\"],[0.4444444444444444,\"#bd3786\"],[0.5555555555555556,\"#d8576b\"],[0.6666666666666666,\"#ed7953\"],[0.7777777777777778,\"#fb9f3a\"],[0.8888888888888888,\"#fdca26\"],[1.0,\"#f0f921\"]],\"type\":\"histogram2d\"}],\"histogram2dcontour\":[{\"colorbar\":{\"outlinewidth\":0,\"ticks\":\"\"},\"colorscale\":[[0.0,\"#0d0887\"],[0.1111111111111111,\"#46039f\"],[0.2222222222222222,\"#7201a8\"],[0.3333333333333333,\"#9c179e\"],[0.4444444444444444,\"#bd3786\"],[0.5555555555555556,\"#d8576b\"],[0.6666666666666666,\"#ed7953\"],[0.7777777777777778,\"#fb9f3a\"],[0.8888888888888888,\"#fdca26\"],[1.0,\"#f0f921\"]],\"type\":\"histogram2dcontour\"}],\"mesh3d\":[{\"colorbar\":{\"outlinewidth\":0,\"ticks\":\"\"},\"type\":\"mesh3d\"}],\"parcoords\":[{\"line\":{\"colorbar\":{\"outlinewidth\":0,\"ticks\":\"\"}},\"type\":\"parcoords\"}],\"pie\":[{\"automargin\":true,\"type\":\"pie\"}],\"scatter\":[{\"marker\":{\"colorbar\":{\"outlinewidth\":0,\"ticks\":\"\"}},\"type\":\"scatter\"}],\"scatter3d\":[{\"line\":{\"colorbar\":{\"outlinewidth\":0,\"ticks\":\"\"}},\"marker\":{\"colorbar\":{\"outlinewidth\":0,\"ticks\":\"\"}},\"type\":\"scatter3d\"}],\"scattercarpet\":[{\"marker\":{\"colorbar\":{\"outlinewidth\":0,\"ticks\":\"\"}},\"type\":\"scattercarpet\"}],\"scattergeo\":[{\"marker\":{\"colorbar\":{\"outlinewidth\":0,\"ticks\":\"\"}},\"type\":\"scattergeo\"}],\"scattergl\":[{\"marker\":{\"colorbar\":{\"outlinewidth\":0,\"ticks\":\"\"}},\"type\":\"scattergl\"}],\"scattermapbox\":[{\"marker\":{\"colorbar\":{\"outlinewidth\":0,\"ticks\":\"\"}},\"type\":\"scattermapbox\"}],\"scatterpolar\":[{\"marker\":{\"colorbar\":{\"outlinewidth\":0,\"ticks\":\"\"}},\"type\":\"scatterpolar\"}],\"scatterpolargl\":[{\"marker\":{\"colorbar\":{\"outlinewidth\":0,\"ticks\":\"\"}},\"type\":\"scatterpolargl\"}],\"scatterternary\":[{\"marker\":{\"colorbar\":{\"outlinewidth\":0,\"ticks\":\"\"}},\"type\":\"scatterternary\"}],\"surface\":[{\"colorbar\":{\"outlinewidth\":0,\"ticks\":\"\"},\"colorscale\":[[0.0,\"#0d0887\"],[0.1111111111111111,\"#46039f\"],[0.2222222222222222,\"#7201a8\"],[0.3333333333333333,\"#9c179e\"],[0.4444444444444444,\"#bd3786\"],[0.5555555555555556,\"#d8576b\"],[0.6666666666666666,\"#ed7953\"],[0.7777777777777778,\"#fb9f3a\"],[0.8888888888888888,\"#fdca26\"],[1.0,\"#f0f921\"]],\"type\":\"surface\"}],\"table\":[{\"cells\":{\"fill\":{\"color\":\"#EBF0F8\"},\"line\":{\"color\":\"white\"}},\"header\":{\"fill\":{\"color\":\"#C8D4E3\"},\"line\":{\"color\":\"white\"}},\"type\":\"table\"}]},\"layout\":{\"annotationdefaults\":{\"arrowcolor\":\"#2a3f5f\",\"arrowhead\":0,\"arrowwidth\":1},\"autotypenumbers\":\"strict\",\"coloraxis\":{\"colorbar\":{\"outlinewidth\":0,\"ticks\":\"\"}},\"colorscale\":{\"diverging\":[[0,\"#8e0152\"],[0.1,\"#c51b7d\"],[0.2,\"#de77ae\"],[0.3,\"#f1b6da\"],[0.4,\"#fde0ef\"],[0.5,\"#f7f7f7\"],[0.6,\"#e6f5d0\"],[0.7,\"#b8e186\"],[0.8,\"#7fbc41\"],[0.9,\"#4d9221\"],[1,\"#276419\"]],\"sequential\":[[0.0,\"#0d0887\"],[0.1111111111111111,\"#46039f\"],[0.2222222222222222,\"#7201a8\"],[0.3333333333333333,\"#9c179e\"],[0.4444444444444444,\"#bd3786\"],[0.5555555555555556,\"#d8576b\"],[0.6666666666666666,\"#ed7953\"],[0.7777777777777778,\"#fb9f3a\"],[0.8888888888888888,\"#fdca26\"],[1.0,\"#f0f921\"]],\"sequentialminus\":[[0.0,\"#0d0887\"],[0.1111111111111111,\"#46039f\"],[0.2222222222222222,\"#7201a8\"],[0.3333333333333333,\"#9c179e\"],[0.4444444444444444,\"#bd3786\"],[0.5555555555555556,\"#d8576b\"],[0.6666666666666666,\"#ed7953\"],[0.7777777777777778,\"#fb9f3a\"],[0.8888888888888888,\"#fdca26\"],[1.0,\"#f0f921\"]]},\"colorway\":[\"#636efa\",\"#EF553B\",\"#00cc96\",\"#ab63fa\",\"#FFA15A\",\"#19d3f3\",\"#FF6692\",\"#B6E880\",\"#FF97FF\",\"#FECB52\"],\"font\":{\"color\":\"#2a3f5f\"},\"geo\":{\"bgcolor\":\"white\",\"lakecolor\":\"white\",\"landcolor\":\"#E5ECF6\",\"showlakes\":true,\"showland\":true,\"subunitcolor\":\"white\"},\"hoverlabel\":{\"align\":\"left\"},\"hovermode\":\"closest\",\"mapbox\":{\"style\":\"light\"},\"paper_bgcolor\":\"white\",\"plot_bgcolor\":\"#E5ECF6\",\"polar\":{\"angularaxis\":{\"gridcolor\":\"white\",\"linecolor\":\"white\",\"ticks\":\"\"},\"bgcolor\":\"#E5ECF6\",\"radialaxis\":{\"gridcolor\":\"white\",\"linecolor\":\"white\",\"ticks\":\"\"}},\"scene\":{\"xaxis\":{\"backgroundcolor\":\"#E5ECF6\",\"gridcolor\":\"white\",\"gridwidth\":2,\"linecolor\":\"white\",\"showbackground\":true,\"ticks\":\"\",\"zerolinecolor\":\"white\"},\"yaxis\":{\"backgroundcolor\":\"#E5ECF6\",\"gridcolor\":\"white\",\"gridwidth\":2,\"linecolor\":\"white\",\"showbackground\":true,\"ticks\":\"\",\"zerolinecolor\":\"white\"},\"zaxis\":{\"backgroundcolor\":\"#E5ECF6\",\"gridcolor\":\"white\",\"gridwidth\":2,\"linecolor\":\"white\",\"showbackground\":true,\"ticks\":\"\",\"zerolinecolor\":\"white\"}},\"shapedefaults\":{\"line\":{\"color\":\"#2a3f5f\"}},\"ternary\":{\"aaxis\":{\"gridcolor\":\"white\",\"linecolor\":\"white\",\"ticks\":\"\"},\"baxis\":{\"gridcolor\":\"white\",\"linecolor\":\"white\",\"ticks\":\"\"},\"bgcolor\":\"#E5ECF6\",\"caxis\":{\"gridcolor\":\"white\",\"linecolor\":\"white\",\"ticks\":\"\"}},\"title\":{\"x\":0.05},\"xaxis\":{\"automargin\":true,\"gridcolor\":\"white\",\"linecolor\":\"white\",\"ticks\":\"\",\"title\":{\"standoff\":15},\"zerolinecolor\":\"white\",\"zerolinewidth\":2},\"yaxis\":{\"automargin\":true,\"gridcolor\":\"white\",\"linecolor\":\"white\",\"ticks\":\"\",\"title\":{\"standoff\":15},\"zerolinecolor\":\"white\",\"zerolinewidth\":2}}},\"title\":{\"text\":\"Logistic Regression Metrics and # of Topics\",\"x\":0.45,\"xanchor\":\"center\",\"y\":0.95,\"yanchor\":\"top\"},\"xaxis\":{\"anchor\":\"y\",\"domain\":[0.0,1.0],\"title\":{\"text\":\"# Topics\"}},\"yaxis\":{\"anchor\":\"x\",\"domain\":[0.0,1.0],\"range\":[0,1],\"title\":{\"text\":\"Score\"}}},                        {\"responsive\": true}                    ).then(function(){\n",
       "                            \n",
       "var gd = document.getElementById('aa666b98-81d8-4259-a80e-def36566f4a5');\n",
       "var x = new MutationObserver(function (mutations, observer) {{\n",
       "        var display = window.getComputedStyle(gd).display;\n",
       "        if (!display || display === 'none') {{\n",
       "            console.log([gd, 'removed!']);\n",
       "            Plotly.purge(gd);\n",
       "            observer.disconnect();\n",
       "        }}\n",
       "}});\n",
       "\n",
       "// Listen for the removal of the full notebook cells\n",
       "var notebookContainer = gd.closest('#notebook-container');\n",
       "if (notebookContainer) {{\n",
       "    x.observe(notebookContainer, {childList: true});\n",
       "}}\n",
       "\n",
       "// Listen for the clearing of the current output cell\n",
       "var outputEl = gd.closest('.output');\n",
       "if (outputEl) {{\n",
       "    x.observe(outputEl, {childList: true});\n",
       "}}\n",
       "\n",
       "                        })                };                });            </script>        </div>"
      ]
     },
     "metadata": {},
     "output_type": "display_data"
    },
    {
     "name": "stdout",
     "output_type": "stream",
     "text": [
      "Best Model: Latent Dirichlet Allocation | # Topics: 100 | Accuracy : 0.866\n"
     ]
    }
   ],
   "source": [
    "tuned_classification = tune_model(model = 'lda', multi_core = True, supervised_target = 'status')"
   ]
  },
  {
   "cell_type": "markdown",
   "metadata": {},
   "source": [
    "We have covered several key concepts in this tutorial such as model evaluation using intrinsic and extrinsic technique. In next tutorial. We have performed several text pre-processing steps including removal of custom_stopwords using setup() then we have created a topic model and compared the results with the one we created in last tutorial. We have also talked about different ways to evaluate topic model and have used tune_model() to evaluate coherence value of a LDA model. We have also used tune_model() to evaluate number of topics in a supervised setting (in this case we have used it to build a classifier to predict loan status)."
   ]
  }
 ],
 "metadata": {
  "interpreter": {
   "hash": "6d529639a3043f15ea50218449268f84f9ab6e6d9f9b2bbc7e080e4513256e12"
  },
  "kernelspec": {
   "display_name": "Python 3.7.10 64-bit ('montVenv': conda)",
   "name": "python3"
  },
  "language_info": {
   "codemirror_mode": {
    "name": "ipython",
    "version": 3
   },
   "file_extension": ".py",
   "mimetype": "text/x-python",
   "name": "python",
   "nbconvert_exporter": "python",
   "pygments_lexer": "ipython3",
   "version": "3.7.10"
  },
  "orig_nbformat": 4
 },
 "nbformat": 4,
 "nbformat_minor": 2
}
